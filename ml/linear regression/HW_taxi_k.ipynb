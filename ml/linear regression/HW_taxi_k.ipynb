{
 "cells": [
  {
   "cell_type": "code",
   "execution_count": 1,
   "id": "f785e95c-c234-4093-8987-cb9177d5f8ff",
   "metadata": {},
   "outputs": [],
   "source": [
    "import pandas as pd\n",
    "import numpy as np\n",
    "from sklearn.linear_model import LinearRegression"
   ]
  },
  {
   "cell_type": "code",
   "execution_count": 2,
   "id": "a4460481-2fcd-4e10-932a-acd72f983a38",
   "metadata": {},
   "outputs": [
    {
     "data": {
      "text/html": [
       "<div>\n",
       "<style scoped>\n",
       "    .dataframe tbody tr th:only-of-type {\n",
       "        vertical-align: middle;\n",
       "    }\n",
       "\n",
       "    .dataframe tbody tr th {\n",
       "        vertical-align: top;\n",
       "    }\n",
       "\n",
       "    .dataframe thead th {\n",
       "        text-align: right;\n",
       "    }\n",
       "</style>\n",
       "<table border=\"1\" class=\"dataframe\">\n",
       "  <thead>\n",
       "    <tr style=\"text-align: right;\">\n",
       "      <th></th>\n",
       "      <th>vendor_id</th>\n",
       "      <th>pickup_datetime</th>\n",
       "      <th>dropoff_datetime</th>\n",
       "      <th>passenger_count</th>\n",
       "      <th>pickup_longitude</th>\n",
       "      <th>pickup_latitude</th>\n",
       "      <th>dropoff_longitude</th>\n",
       "      <th>dropoff_latitude</th>\n",
       "      <th>store_and_fwd_flag</th>\n",
       "      <th>trip_duration</th>\n",
       "    </tr>\n",
       "    <tr>\n",
       "      <th>id</th>\n",
       "      <th></th>\n",
       "      <th></th>\n",
       "      <th></th>\n",
       "      <th></th>\n",
       "      <th></th>\n",
       "      <th></th>\n",
       "      <th></th>\n",
       "      <th></th>\n",
       "      <th></th>\n",
       "      <th></th>\n",
       "    </tr>\n",
       "  </thead>\n",
       "  <tbody>\n",
       "    <tr>\n",
       "      <th>id2875421</th>\n",
       "      <td>2</td>\n",
       "      <td>2016-03-14 17:24:55</td>\n",
       "      <td>2016-03-14 17:32:30</td>\n",
       "      <td>1</td>\n",
       "      <td>-73.982155</td>\n",
       "      <td>40.767937</td>\n",
       "      <td>-73.964630</td>\n",
       "      <td>40.765602</td>\n",
       "      <td>N</td>\n",
       "      <td>455.0</td>\n",
       "    </tr>\n",
       "    <tr>\n",
       "      <th>id2377394</th>\n",
       "      <td>1</td>\n",
       "      <td>2016-06-12 00:43:35</td>\n",
       "      <td>2016-06-12 00:54:38</td>\n",
       "      <td>1</td>\n",
       "      <td>-73.980415</td>\n",
       "      <td>40.738564</td>\n",
       "      <td>-73.999481</td>\n",
       "      <td>40.731152</td>\n",
       "      <td>N</td>\n",
       "      <td>663.0</td>\n",
       "    </tr>\n",
       "    <tr>\n",
       "      <th>id3858529</th>\n",
       "      <td>2</td>\n",
       "      <td>2016-01-19 11:35:24</td>\n",
       "      <td>2016-01-19 12:10:48</td>\n",
       "      <td>1</td>\n",
       "      <td>-73.979027</td>\n",
       "      <td>40.763939</td>\n",
       "      <td>-74.005333</td>\n",
       "      <td>40.710087</td>\n",
       "      <td>N</td>\n",
       "      <td>2124.0</td>\n",
       "    </tr>\n",
       "    <tr>\n",
       "      <th>id3504673</th>\n",
       "      <td>2</td>\n",
       "      <td>2016-04-06 19:32:31</td>\n",
       "      <td>2016-04-06 19:39:40</td>\n",
       "      <td>1</td>\n",
       "      <td>-74.010040</td>\n",
       "      <td>40.719971</td>\n",
       "      <td>-74.012268</td>\n",
       "      <td>40.706718</td>\n",
       "      <td>N</td>\n",
       "      <td>429.0</td>\n",
       "    </tr>\n",
       "    <tr>\n",
       "      <th>id2181028</th>\n",
       "      <td>2</td>\n",
       "      <td>2016-03-26 13:30:55</td>\n",
       "      <td>2016-03-26 13:38:10</td>\n",
       "      <td>1</td>\n",
       "      <td>-73.973053</td>\n",
       "      <td>40.793209</td>\n",
       "      <td>-73.972923</td>\n",
       "      <td>40.782520</td>\n",
       "      <td>N</td>\n",
       "      <td>435.0</td>\n",
       "    </tr>\n",
       "  </tbody>\n",
       "</table>\n",
       "</div>"
      ],
      "text/plain": [
       "           vendor_id      pickup_datetime     dropoff_datetime  \\\n",
       "id                                                               \n",
       "id2875421          2  2016-03-14 17:24:55  2016-03-14 17:32:30   \n",
       "id2377394          1  2016-06-12 00:43:35  2016-06-12 00:54:38   \n",
       "id3858529          2  2016-01-19 11:35:24  2016-01-19 12:10:48   \n",
       "id3504673          2  2016-04-06 19:32:31  2016-04-06 19:39:40   \n",
       "id2181028          2  2016-03-26 13:30:55  2016-03-26 13:38:10   \n",
       "\n",
       "           passenger_count  pickup_longitude  pickup_latitude  \\\n",
       "id                                                              \n",
       "id2875421                1        -73.982155        40.767937   \n",
       "id2377394                1        -73.980415        40.738564   \n",
       "id3858529                1        -73.979027        40.763939   \n",
       "id3504673                1        -74.010040        40.719971   \n",
       "id2181028                1        -73.973053        40.793209   \n",
       "\n",
       "           dropoff_longitude  dropoff_latitude store_and_fwd_flag  \\\n",
       "id                                                                  \n",
       "id2875421         -73.964630         40.765602                  N   \n",
       "id2377394         -73.999481         40.731152                  N   \n",
       "id3858529         -74.005333         40.710087                  N   \n",
       "id3504673         -74.012268         40.706718                  N   \n",
       "id2181028         -73.972923         40.782520                  N   \n",
       "\n",
       "           trip_duration  \n",
       "id                        \n",
       "id2875421          455.0  \n",
       "id2377394          663.0  \n",
       "id3858529         2124.0  \n",
       "id3504673          429.0  \n",
       "id2181028          435.0  "
      ]
     },
     "execution_count": 2,
     "metadata": {},
     "output_type": "execute_result"
    }
   ],
   "source": [
    "df = pd.read_csv('1 дз taxi_dataset.csv')\n",
    "df2 = pd.read_csv('2 ДЗ taxi_dataset_with_predictions.csv')[['id', 'trip_duration']]\n",
    "df = df.merge(df2, on='id').set_index('id')\n",
    "df.head()"
   ]
  },
  {
   "cell_type": "markdown",
   "id": "1b8ce66d-4eff-4444-a7a9-0c515f64250c",
   "metadata": {},
   "source": [
    "Описание данных:\n",
    "- id - ID поездки\n",
    "- vendor_id - ID компании, осуществляющей перевозку\n",
    "- pickup_datetime - Таймкод начала поездки\n",
    "- dropoff_datetime - Таймкод конца поездки\n",
    "- passenger_count - Количество пассажиров\n",
    "- pickup_longitude - Долгота точки, в которой началась поездка\n",
    "- pickup_latitude - Широта точки, в которой началась поездка\n",
    "- dropoff_longitude - Долгота точки, в которой закончилась поездка\n",
    "- dropoff_latitude - Широта точки, в которой закончилась поездка\n",
    "- store_and_fwd_flag- Yes/No: Была ли информация сохранена в памяти транспортного средства из-за потери соединения с сервером\n"
   ]
  },
  {
   "cell_type": "markdown",
   "id": "130b6f91-b28a-4366-8520-b5d02ae4f91a",
   "metadata": {},
   "source": [
    "Попробуем построить модель Линейной Регрессии!\n",
    "\n",
    "В качестве Выборки используйте таргетную колонку (*trip_duration*) и все признаки, кроме времени начала заказа (*pikcup_datetime*)\n"
   ]
  },
  {
   "cell_type": "code",
   "execution_count": 3,
   "id": "8a5743c3-e8d0-49c9-9c84-fced53be1088",
   "metadata": {},
   "outputs": [
    {
     "data": {
      "text/html": [
       "<style>#sk-container-id-1 {color: black;background-color: white;}#sk-container-id-1 pre{padding: 0;}#sk-container-id-1 div.sk-toggleable {background-color: white;}#sk-container-id-1 label.sk-toggleable__label {cursor: pointer;display: block;width: 100%;margin-bottom: 0;padding: 0.3em;box-sizing: border-box;text-align: center;}#sk-container-id-1 label.sk-toggleable__label-arrow:before {content: \"▸\";float: left;margin-right: 0.25em;color: #696969;}#sk-container-id-1 label.sk-toggleable__label-arrow:hover:before {color: black;}#sk-container-id-1 div.sk-estimator:hover label.sk-toggleable__label-arrow:before {color: black;}#sk-container-id-1 div.sk-toggleable__content {max-height: 0;max-width: 0;overflow: hidden;text-align: left;background-color: #f0f8ff;}#sk-container-id-1 div.sk-toggleable__content pre {margin: 0.2em;color: black;border-radius: 0.25em;background-color: #f0f8ff;}#sk-container-id-1 input.sk-toggleable__control:checked~div.sk-toggleable__content {max-height: 200px;max-width: 100%;overflow: auto;}#sk-container-id-1 input.sk-toggleable__control:checked~label.sk-toggleable__label-arrow:before {content: \"▾\";}#sk-container-id-1 div.sk-estimator input.sk-toggleable__control:checked~label.sk-toggleable__label {background-color: #d4ebff;}#sk-container-id-1 div.sk-label input.sk-toggleable__control:checked~label.sk-toggleable__label {background-color: #d4ebff;}#sk-container-id-1 input.sk-hidden--visually {border: 0;clip: rect(1px 1px 1px 1px);clip: rect(1px, 1px, 1px, 1px);height: 1px;margin: -1px;overflow: hidden;padding: 0;position: absolute;width: 1px;}#sk-container-id-1 div.sk-estimator {font-family: monospace;background-color: #f0f8ff;border: 1px dotted black;border-radius: 0.25em;box-sizing: border-box;margin-bottom: 0.5em;}#sk-container-id-1 div.sk-estimator:hover {background-color: #d4ebff;}#sk-container-id-1 div.sk-parallel-item::after {content: \"\";width: 100%;border-bottom: 1px solid gray;flex-grow: 1;}#sk-container-id-1 div.sk-label:hover label.sk-toggleable__label {background-color: #d4ebff;}#sk-container-id-1 div.sk-serial::before {content: \"\";position: absolute;border-left: 1px solid gray;box-sizing: border-box;top: 0;bottom: 0;left: 50%;z-index: 0;}#sk-container-id-1 div.sk-serial {display: flex;flex-direction: column;align-items: center;background-color: white;padding-right: 0.2em;padding-left: 0.2em;position: relative;}#sk-container-id-1 div.sk-item {position: relative;z-index: 1;}#sk-container-id-1 div.sk-parallel {display: flex;align-items: stretch;justify-content: center;background-color: white;position: relative;}#sk-container-id-1 div.sk-item::before, #sk-container-id-1 div.sk-parallel-item::before {content: \"\";position: absolute;border-left: 1px solid gray;box-sizing: border-box;top: 0;bottom: 0;left: 50%;z-index: -1;}#sk-container-id-1 div.sk-parallel-item {display: flex;flex-direction: column;z-index: 1;position: relative;background-color: white;}#sk-container-id-1 div.sk-parallel-item:first-child::after {align-self: flex-end;width: 50%;}#sk-container-id-1 div.sk-parallel-item:last-child::after {align-self: flex-start;width: 50%;}#sk-container-id-1 div.sk-parallel-item:only-child::after {width: 0;}#sk-container-id-1 div.sk-dashed-wrapped {border: 1px dashed gray;margin: 0 0.4em 0.5em 0.4em;box-sizing: border-box;padding-bottom: 0.4em;background-color: white;}#sk-container-id-1 div.sk-label label {font-family: monospace;font-weight: bold;display: inline-block;line-height: 1.2em;}#sk-container-id-1 div.sk-label-container {text-align: center;}#sk-container-id-1 div.sk-container {/* jupyter's `normalize.less` sets `[hidden] { display: none; }` but bootstrap.min.css set `[hidden] { display: none !important; }` so we also need the `!important` here to be able to override the default hidden behavior on the sphinx rendered scikit-learn.org. See: https://github.com/scikit-learn/scikit-learn/issues/21755 */display: inline-block !important;position: relative;}#sk-container-id-1 div.sk-text-repr-fallback {display: none;}</style><div id=\"sk-container-id-1\" class=\"sk-top-container\"><div class=\"sk-text-repr-fallback\"><pre>LinearRegression()</pre><b>In a Jupyter environment, please rerun this cell to show the HTML representation or trust the notebook. <br />On GitHub, the HTML representation is unable to render, please try loading this page with nbviewer.org.</b></div><div class=\"sk-container\" hidden><div class=\"sk-item\"><div class=\"sk-estimator sk-toggleable\"><input class=\"sk-toggleable__control sk-hidden--visually\" id=\"sk-estimator-id-1\" type=\"checkbox\" checked><label for=\"sk-estimator-id-1\" class=\"sk-toggleable__label sk-toggleable__label-arrow\">LinearRegression</label><div class=\"sk-toggleable__content\"><pre>LinearRegression()</pre></div></div></div></div></div>"
      ],
      "text/plain": [
       "LinearRegression()"
      ]
     },
     "execution_count": 3,
     "metadata": {},
     "output_type": "execute_result"
    }
   ],
   "source": [
    "model = LinearRegression()\n",
    "model.fit(df.drop(['pickup_datetime', \n",
    "                   'dropoff_datetime', \n",
    "                   'trip_duration', \n",
    "                   'store_and_fwd_flag'], axis=1), \n",
    "          df['trip_duration'])"
   ]
  },
  {
   "cell_type": "code",
   "execution_count": 4,
   "id": "a594c239-59eb-4624-9165-e712b3544254",
   "metadata": {},
   "outputs": [
    {
     "data": {
      "text/plain": [
       "array([  203.40290932,    10.65643273,  2557.33580766, -3707.27380547,\n",
       "        -618.70312991, -1705.04256923])"
      ]
     },
     "execution_count": 4,
     "metadata": {},
     "output_type": "execute_result"
    }
   ],
   "source": [
    "# коэффициенты beta\n",
    "model.coef_"
   ]
  },
  {
   "cell_type": "code",
   "execution_count": 5,
   "id": "2fec0360-8b6e-4646-83f1-62eeb415b1ec",
   "metadata": {},
   "outputs": [
    {
     "data": {
      "text/plain": [
       "364595.3769216642"
      ]
     },
     "execution_count": 5,
     "metadata": {},
     "output_type": "execute_result"
    }
   ],
   "source": [
    "# b0\n",
    "model.intercept_"
   ]
  },
  {
   "cell_type": "markdown",
   "id": "fdc9f079-6dc5-43a9-8c6e-57e3347771d0",
   "metadata": {},
   "source": [
    "Теперь реализуйте функцию LinearRegressionByMatrix, которая будет принимать на вход 3 параметра:\n",
    "\n",
    "Матрицу объект-признак **(X)**, вектор с ответами **(Y)**, булевый параметр **fit_intercept**, цель которого - добавить константный признак (состоящий из единичек), если True, и ничего не делать, если False.\n",
    "\n",
    "Функция должна вернуть одномерный np.array объект с оцененными **$\\beta_1, ..., \\beta_n, \\beta_0$**\n",
    "\n",
    "Реализуйте решение через аналитическое решение в матрицах из лекции и практики:\n",
    "\n",
    "$$\n",
    "\\beta^* = (X^T \\cdot X)^{-1} \\cdot X^T \\cdot Y\n",
    "$$"
   ]
  },
  {
   "cell_type": "code",
   "execution_count": 29,
   "id": "adaa52be-7791-45f5-b446-0a2683927f98",
   "metadata": {},
   "outputs": [],
   "source": [
    "def LinearRegressionByMatrix(X, Y, fit_intercept=True):\n",
    "    def round_3(x):\n",
    "        return round(x, 3)\n",
    "    if fit_intercept == True:\n",
    "        X['const'] = 1\n",
    "    X, Y = X.values, Y.values\n",
    "    x_t_x = np.dot(X.T, X)\n",
    "    betas = np.dot(np.dot(np.linalg.inv(x_t_x), X.T), Y)\n",
    "    return list(map(round_3, betas.tolist()))"
   ]
  },
  {
   "cell_type": "code",
   "execution_count": 30,
   "id": "2c042d54-3a28-479c-884a-7484f9528b0a",
   "metadata": {},
   "outputs": [
    {
     "data": {
      "text/plain": [
       "[203.403, 10.656, 2557.336, -3707.274, -618.703, -1705.043, 364595.376]"
      ]
     },
     "execution_count": 30,
     "metadata": {},
     "output_type": "execute_result"
    }
   ],
   "source": [
    "LinearRegressionByMatrix(df.drop(['pickup_datetime', \n",
    "                                   'dropoff_datetime', \n",
    "                                   'trip_duration', \n",
    "                                   'store_and_fwd_flag'], axis=1), \n",
    "                         df['trip_duration']\n",
    "                        )"
   ]
  },
  {
   "cell_type": "code",
   "execution_count": 31,
   "id": "a16c485f-2b2a-4b92-afd9-27f3d58afd87",
   "metadata": {},
   "outputs": [],
   "source": [
    "betas = LinearRegressionByMatrix(df.drop(['pickup_datetime', \n",
    "                                   'dropoff_datetime', \n",
    "                                   'trip_duration', \n",
    "                                   'store_and_fwd_flag'], axis=1), \n",
    "                         df['trip_duration']\n",
    "                        )"
   ]
  },
  {
   "cell_type": "code",
   "execution_count": 38,
   "id": "ba549c9a-5b70-4dbc-be04-f3026fbe0f35",
   "metadata": {},
   "outputs": [],
   "source": [
    "df['conts'] = 1\n",
    "X = df.drop(['pickup_datetime', \n",
    "            'dropoff_datetime', \n",
    "            'trip_duration', \n",
    "            'store_and_fwd_flag'], axis=1).values"
   ]
  },
  {
   "cell_type": "markdown",
   "id": "32a2e690-07b5-4aca-a4f3-3569925a510a",
   "metadata": {},
   "source": [
    "Имея коэффициенты модели, можно восстановить предсказания для каждого объекта!\n",
    "\n",
    "Сделайте это через операцию матричного произведения матрицы **X** и полученных коэффициентов (как результат работы *LinearRegressionByMatrix*)"
   ]
  },
  {
   "cell_type": "code",
   "execution_count": 39,
   "id": "73deec08-1348-4983-8c65-2ada23cdd560",
   "metadata": {},
   "outputs": [
    {
     "data": {
      "text/plain": [
       "array([ 932.73230035,  922.97427775, 1075.39164201, ..., 1112.33307194,\n",
       "        820.17291492,  647.27693969])"
      ]
     },
     "execution_count": 39,
     "metadata": {},
     "output_type": "execute_result"
    }
   ],
   "source": [
    "np.dot(X, np.array(betas))"
   ]
  },
  {
   "cell_type": "code",
   "execution_count": null,
   "id": "8d2c61dc-fa27-46e1-9ea7-2dd97dc47f52",
   "metadata": {},
   "outputs": [],
   "source": []
  }
 ],
 "metadata": {
  "kernelspec": {
   "display_name": "start_ml",
   "language": "python",
   "name": "myenv"
  },
  "language_info": {
   "codemirror_mode": {
    "name": "ipython",
    "version": 3
   },
   "file_extension": ".py",
   "mimetype": "text/x-python",
   "name": "python",
   "nbconvert_exporter": "python",
   "pygments_lexer": "ipython3",
   "version": "3.10.4"
  }
 },
 "nbformat": 4,
 "nbformat_minor": 5
}
