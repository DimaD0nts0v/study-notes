{
 "cells": [
  {
   "cell_type": "code",
   "execution_count": 3,
   "id": "e01e9558-01bc-4c24-86db-bfb57bb06dfa",
   "metadata": {},
   "outputs": [],
   "source": [
    "import numpy as np"
   ]
  },
  {
   "cell_type": "markdown",
   "id": "2aeb6493-7cc6-4adb-852a-1b85f815dab5",
   "metadata": {},
   "source": [
    "- Матрицы - форма хранения чисел в математике.\n",
    "- Матрицы с 1 строкой или 1 столбцом называют векторами\n",
    "- Матрица с `n` строками и `m` колонками это матрица размером `n*m`"
   ]
  },
  {
   "cell_type": "code",
   "execution_count": 4,
   "id": "e8947679-f4e4-473a-bcb0-742ef93040b5",
   "metadata": {},
   "outputs": [
    {
     "data": {
      "text/plain": [
       "array([1.+0.j, 2.+0.j, 3.+0.j])"
      ]
     },
     "execution_count": 4,
     "metadata": {},
     "output_type": "execute_result"
    }
   ],
   "source": [
    "A = np.array([1, 2, 3], dtype=complex)\n",
    "A"
   ]
  },
  {
   "cell_type": "markdown",
   "id": "cdbf2cc3-ecc4-455d-9033-47510b9ace89",
   "metadata": {},
   "source": [
    "### Сложение/вычитание\n",
    "Складывать и вычитать можно матрица только одного размера. Операция происходит поэлементно"
   ]
  },
  {
   "cell_type": "code",
   "execution_count": 5,
   "id": "7ad781a2-0f29-433f-958d-b3f29b183ba8",
   "metadata": {},
   "outputs": [
    {
     "data": {
      "text/plain": [
       "array([0, 0, 0], dtype=int16)"
      ]
     },
     "execution_count": 5,
     "metadata": {},
     "output_type": "execute_result"
    }
   ],
   "source": [
    "# вектора\n",
    "A = np.array([1, 2, 3], dtype=np.int16)\n",
    "B = np.array([1, 2, 3], dtype=np.int16)\n",
    "# выведет новый массив\n",
    "A - B"
   ]
  },
  {
   "cell_type": "code",
   "execution_count": 6,
   "id": "8a4f486d-d680-44a2-9af4-2637f0ecaf92",
   "metadata": {},
   "outputs": [
    {
     "data": {
      "text/plain": [
       "array([[2],\n",
       "       [4],\n",
       "       [6]])"
      ]
     },
     "execution_count": 6,
     "metadata": {},
     "output_type": "execute_result"
    }
   ],
   "source": [
    "A = np.array([[1], [2], [3]])\n",
    "B = np.array([[1], [2], [3]])\n",
    "# выведет новый массив\n",
    "A + B"
   ]
  },
  {
   "cell_type": "code",
   "execution_count": 7,
   "id": "3da44d30-9003-4c53-ace0-a77592defa7d",
   "metadata": {},
   "outputs": [
    {
     "data": {
      "text/plain": [
       "array([[ 2,  4,  6],\n",
       "       [ 8, 10, 12]])"
      ]
     },
     "execution_count": 7,
     "metadata": {},
     "output_type": "execute_result"
    }
   ],
   "source": [
    "# матрицы 2 * 3\n",
    "C = np.array([[1, 2, 3],\n",
    "             [4, 5, 6]])\n",
    "D = np.array([[1, 2, 3], \n",
    "             [4, 5, 6]])\n",
    "# выведет новый массив\n",
    "C + D"
   ]
  },
  {
   "cell_type": "markdown",
   "id": "c34f49db-9860-4aa7-8238-9b85f25e1e0a",
   "metadata": {},
   "source": [
    "### Умножение\n",
    "умножение матриц будет производиться при условии:\n",
    "- кол-во столбцов в левой матрице == кол-во строк в правой матрице\n",
    "- в результате  произвденеия матриц размером `n*k` и `k*m` получается матрица размером `n*m`"
   ]
  },
  {
   "cell_type": "code",
   "execution_count": 7,
   "id": "3ff32e1f-8673-40ba-9d10-a38a4a2bf490",
   "metadata": {},
   "outputs": [
    {
     "data": {
      "text/plain": [
       "array([14])"
      ]
     },
     "execution_count": 7,
     "metadata": {},
     "output_type": "execute_result"
    }
   ],
   "source": [
    "A = np.array([1, 2, 3])\n",
    "B = np.array([[1], [2], [3]])\n",
    "# А матрица 1*3, В матрица 3*1\n",
    "np.dot(A, B)"
   ]
  },
  {
   "cell_type": "markdown",
   "id": "0468d286-03a1-4aab-ba71-e3dc076866b2",
   "metadata": {},
   "source": [
    "### Транспонирование\n",
    "Повернуть матрицу на бок: столбцы будут строками, строки - столбцами"
   ]
  },
  {
   "cell_type": "code",
   "execution_count": 11,
   "id": "f08a2979-b044-4ffc-b1db-d72d363097ea",
   "metadata": {},
   "outputs": [
    {
     "data": {
      "text/plain": [
       "array([[1, 2, 3]])"
      ]
     },
     "execution_count": 11,
     "metadata": {},
     "output_type": "execute_result"
    }
   ],
   "source": [
    "A = np.array([[1], \n",
    "              [2], \n",
    "              [3]])\n",
    "A.T"
   ]
  },
  {
   "cell_type": "markdown",
   "id": "ab3ba6ca-d956-49ab-9bbc-be55c2f53d7d",
   "metadata": {},
   "source": [
    "### Единичная матрица \n",
    "Единичная матрица Е - это квадратная (n*n) матрица, где диагональ матрицы состоит из 1, а остальные элементы 0"
   ]
  },
  {
   "cell_type": "code",
   "execution_count": 12,
   "id": "a805f5a2-23f8-4643-829c-e40d6a288dc8",
   "metadata": {},
   "outputs": [
    {
     "data": {
      "text/plain": [
       "array([[1., 0., 0., 0.],\n",
       "       [0., 1., 0., 0.],\n",
       "       [0., 0., 1., 0.],\n",
       "       [0., 0., 0., 1.]])"
      ]
     },
     "execution_count": 12,
     "metadata": {},
     "output_type": "execute_result"
    }
   ],
   "source": [
    "np.eye(4)"
   ]
  },
  {
   "cell_type": "markdown",
   "id": "e3d06855-8d7f-402a-a99d-ccba67fd5a9d",
   "metadata": {},
   "source": [
    "### Обратные матрицы\n",
    "Если умножить матрицу на матрицу, обратную ей, то получаем единичную матрицу. При этом не у всех матриц есть обратная матрица (как и у 0 нет обратного числа). Чтобы получить обратную матрицу"
   ]
  },
  {
   "cell_type": "code",
   "execution_count": 13,
   "id": "9585e4e6-d5e7-466b-93ed-819279a99b25",
   "metadata": {},
   "outputs": [
    {
     "data": {
      "text/plain": [
       "array([[ 0.4  ,  1.   , -1.   ],\n",
       "       [-0.1  , -1.   ,  0.875],\n",
       "       [-0.1  ,  0.   ,  0.125]])"
      ]
     },
     "execution_count": 13,
     "metadata": {},
     "output_type": "execute_result"
    }
   ],
   "source": [
    "A = np.array([[5, 5, 5], [3, 2, 10], [4, 4, 12]])\n",
    "np.linalg.inv(A)"
   ]
  },
  {
   "cell_type": "code",
   "execution_count": 14,
   "id": "17ca3ef2-70e9-468c-a76d-d165d5309689",
   "metadata": {},
   "outputs": [
    {
     "data": {
      "text/plain": [
       "array([[ 1.00000000e+00,  4.44089210e-16, -4.44089210e-16],\n",
       "       [-1.66533454e-16,  1.00000000e+00,  0.00000000e+00],\n",
       "       [-1.11022302e-16,  4.44089210e-16,  1.00000000e+00]])"
      ]
     },
     "execution_count": 14,
     "metadata": {},
     "output_type": "execute_result"
    }
   ],
   "source": [
    "np.dot(A, np.linalg.inv(A))"
   ]
  },
  {
   "cell_type": "markdown",
   "id": "2a9a7314-ba17-4a6a-bf0a-90dcd6b8d2d2",
   "metadata": {},
   "source": [
    "Рассмотрим теперь на примере лин. регрессии использование numpy. Формула для нахождении коэффициентов бета в случае, если в качестве функционала качества указана MSE\n",
    "## $\\beta^* = (X^T \\cdot X)^{-1}\\cdot X^T \\cdot Y$"
   ]
  },
  {
   "cell_type": "code",
   "execution_count": 8,
   "id": "f0ed7a81-13c7-434f-9271-7a3b56855fef",
   "metadata": {},
   "outputs": [],
   "source": [
    "X = np.array([[23, 0.5, 1],\n",
    "              [35, 1, 1],\n",
    "              [18, 0, 1]])\n",
    "\n",
    "Y = np.array([55, 100, 45])"
   ]
  },
  {
   "cell_type": "code",
   "execution_count": 10,
   "id": "b10ae718-b610-46ba-8aa9-1e9373c449bc",
   "metadata": {},
   "outputs": [
    {
     "data": {
      "text/plain": [
       "array([  5., -30., -45.])"
      ]
     },
     "execution_count": 10,
     "metadata": {},
     "output_type": "execute_result"
    }
   ],
   "source": [
    "# найдем первое произведение\n",
    "x_t_x = np.dot(X.T, X)\n",
    "\n",
    "# найдем произведение в скобках\n",
    "x_t_x_inv = np.linalg.inv(x_t_x)\n",
    "\n",
    "# домножим на X трансп\n",
    "x_t_x_inv_x_t = np.dot(x_t_x_inv, X.T)\n",
    "\n",
    "# домножим на Y\n",
    "np.dot(x_t_x_inv_x_t, Y)"
   ]
  },
  {
   "cell_type": "markdown",
   "id": "9b84f189-3f11-4185-ad75-31f15a99b903",
   "metadata": {},
   "source": [
    "Теперь рассмотрим реальный датафрейм"
   ]
  },
  {
   "cell_type": "code",
   "execution_count": 1,
   "id": "50787a2e-346e-4df6-a44f-2469e1122c08",
   "metadata": {},
   "outputs": [],
   "source": [
    "import pandas as pd\n",
    "pd.set_option('display.max_columns', None)"
   ]
  },
  {
   "cell_type": "code",
   "execution_count": 2,
   "id": "ca4eceef-5db5-448d-9e26-b7a46ef8acae",
   "metadata": {},
   "outputs": [],
   "source": [
    "X = pd.read_csv('5 x.csv')\n",
    "Y = pd.read_csv('5 y.csv')"
   ]
  },
  {
   "cell_type": "code",
   "execution_count": 3,
   "id": "17c62c47-2240-4451-84cb-577c6e0a3f6b",
   "metadata": {},
   "outputs": [],
   "source": [
    "from sklearn.linear_model import LinearRegression"
   ]
  },
  {
   "cell_type": "code",
   "execution_count": null,
   "id": "a3225201-2bff-4300-876c-14ca4d9cee78",
   "metadata": {},
   "outputs": [],
   "source": [
    "model.predict()"
   ]
  },
  {
   "cell_type": "code",
   "execution_count": null,
   "id": "448a383d-1e02-4a44-a69a-6fdd2ba4929c",
   "metadata": {},
   "outputs": [],
   "source": []
  },
  {
   "cell_type": "code",
   "execution_count": 4,
   "id": "36f035c7-15c2-4587-95f9-771852a74294",
   "metadata": {},
   "outputs": [
    {
     "name": "stdout",
     "output_type": "stream",
     "text": [
      "Категория: 0.05945428299863225\n",
      "Цель в долларах: -9.83429425846713e-05\n",
      "Срок: -24.597061348529245\n",
      "Год публикации: 1221.0995817633564\n",
      "Close_brent: -66.02604546209356\n",
      "CAD: 3381.4807718927655\n",
      "CHF: -1422.0385044052744\n",
      "DKK: -1613.8189651556413\n",
      "EUR: 1645.538598958308\n",
      "GBP: 2689.3504971362813\n",
      "HKD: -3.3107065308161556\n",
      "JPY: 4458.769514067821\n",
      "MXN: 4751.963472475479\n",
      "NOK: -3444.9760549177286\n",
      "NZD: 171.42700409235334\n",
      "SEK: 4294.981819089444\n",
      "SGD: -1202.3987696218262\n",
      "USD: 2261.7015300485127\n",
      "Art: -538.5493093282292\n",
      "Comics: 1991.1932202870867\n",
      "Crafts: -374.05066917509805\n",
      "Dance: -1645.0038732321489\n",
      "Design: -49.01100009545121\n",
      "Fashion: -335.52475504077825\n",
      "Film & Video: -163.5537125352722\n",
      "Food: 353.4324627606835\n",
      "Journalism: -688.4274074262464\n",
      "Music: 862.5544476758503\n",
      "Photography: 54.98245390740902\n",
      "Publishing: 218.0089077578588\n",
      "Technology: -183.69451901253058\n",
      "Theater: 1302.8696135019884\n",
      "b0 = [-2449444.93973283]\n"
     ]
    }
   ],
   "source": [
    "model = LinearRegression()\n",
    "model.fit(X, Y) # обучение модели, оно же нахождение оптимальных значений beta\n",
    "\n",
    "# значение коэффициентов для каждого признака\n",
    "for column, beta in zip(X.columns, model.coef_[0]):\n",
    "    print(f'{column}: {beta}')\n",
    "\n",
    "print(f'b0 = {model.intercept_}')"
   ]
  },
  {
   "cell_type": "markdown",
   "id": "bfed6a88-a774-40b4-a239-7b9001489974",
   "metadata": {},
   "source": [
    "**Проведем такой трюк через numpy:**"
   ]
  },
  {
   "cell_type": "code",
   "execution_count": 20,
   "id": "53cfa995-dd81-44af-a012-458c604bd061",
   "metadata": {},
   "outputs": [],
   "source": [
    "# добавим константу для b0\n",
    "X['constant'] = 1"
   ]
  },
  {
   "cell_type": "code",
   "execution_count": 21,
   "id": "c7600ebb-ac5b-4775-8db8-0796de32884a",
   "metadata": {},
   "outputs": [
    {
     "data": {
      "text/plain": [
       "array([[ 5.94542827e-02],\n",
       "       [-9.83429426e-05],\n",
       "       [-2.45970613e+01],\n",
       "       [ 1.22109958e+03],\n",
       "       [-6.60223988e+01],\n",
       "       [ 3.38148077e+03],\n",
       "       [-1.42203850e+03],\n",
       "       [-1.61381897e+03],\n",
       "       [ 1.64553860e+03],\n",
       "       [ 2.68935050e+03],\n",
       "       [-3.31070617e+00],\n",
       "       [ 4.45876952e+03],\n",
       "       [ 4.75196347e+03],\n",
       "       [-3.44497605e+03],\n",
       "       [ 1.71427004e+02],\n",
       "       [ 4.29498182e+03],\n",
       "       [-1.20239877e+03],\n",
       "       [ 2.26170153e+03],\n",
       "       [-5.38549310e+02],\n",
       "       [ 1.99119322e+03],\n",
       "       [-3.74050669e+02],\n",
       "       [-1.64500387e+03],\n",
       "       [-4.90110001e+01],\n",
       "       [-3.35524758e+02],\n",
       "       [-1.63553713e+02],\n",
       "       [ 3.53432463e+02],\n",
       "       [-6.88427408e+02],\n",
       "       [ 8.62554447e+02],\n",
       "       [ 5.49824536e+01],\n",
       "       [ 2.18008906e+02],\n",
       "       [-1.83694519e+02],\n",
       "       [ 1.30286961e+03],\n",
       "       [-2.44944506e+06]])"
      ]
     },
     "execution_count": 21,
     "metadata": {},
     "output_type": "execute_result"
    }
   ],
   "source": [
    "xxt = np.dot(X.T, X)\n",
    "xxt_inv = np.linalg.inv(xxt)\n",
    "xxt_inv_xxt = np.dot(xxt_inv, X.T)\n",
    "final_betas = np.dot(xxt_inv_xxt, Y)\n",
    "\n",
    "final_betas"
   ]
  },
  {
   "cell_type": "markdown",
   "id": "2afa3edb-1739-4264-832e-00f838c36055",
   "metadata": {},
   "source": [
    "Получилось все то же самое. Однако такая формула не самая оптимальная, так как перемножение матриц тяжелая операция."
   ]
  },
  {
   "cell_type": "code",
   "execution_count": null,
   "id": "ff53572f-9822-46d0-9e0e-379b0989c587",
   "metadata": {},
   "outputs": [],
   "source": []
  }
 ],
 "metadata": {
  "kernelspec": {
   "display_name": "start_ml",
   "language": "python",
   "name": "myenv"
  },
  "language_info": {
   "codemirror_mode": {
    "name": "ipython",
    "version": 3
   },
   "file_extension": ".py",
   "mimetype": "text/x-python",
   "name": "python",
   "nbconvert_exporter": "python",
   "pygments_lexer": "ipython3",
   "version": "3.10.4"
  }
 },
 "nbformat": 4,
 "nbformat_minor": 5
}
