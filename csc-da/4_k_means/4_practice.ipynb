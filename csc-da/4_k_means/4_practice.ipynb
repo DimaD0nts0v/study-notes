{
  "nbformat": 4,
  "nbformat_minor": 0,
  "metadata": {
    "colab": {
      "provenance": []
    },
    "kernelspec": {
      "name": "python3",
      "display_name": "Python 3"
    },
    "language_info": {
      "name": "python"
    }
  },
  "cells": [
    {
      "cell_type": "code",
      "execution_count": 108,
      "metadata": {
        "id": "ARy_0zi2esbh"
      },
      "outputs": [],
      "source": [
        "import pandas as pd\n",
        "import numpy as np\n",
        "import matplotlib.pyplot as plt\n",
        "import warnings \n",
        "warnings.filterwarnings('ignore')\n",
        "\n",
        "# https://scikit-learn.org/stable/modules/generated/sklearn.cluster.KMeans.html\n",
        "from sklearn.cluster import KMeans\n",
        "from sklearn import preprocessing"
      ]
    },
    {
      "cell_type": "markdown",
      "source": [
        "Делать кластеризацию будем те же данные, что и в иерархическом кластерном анализе:\n",
        "- предпочтения в прохладительных напитках\n",
        "- анализ кандидатов\n",
        "- деление стран по тратам на разные виды еды"
      ],
      "metadata": {
        "id": "QOhrLsP4fL0a"
      }
    },
    {
      "cell_type": "code",
      "source": [
        "# https://drive.google.com/file/d/1YB63zg8vrhewHXuULbgFN3eCmpDPJg-O/view?usp=share_link\n",
        "! gdown 1YB63zg8vrhewHXuULbgFN3eCmpDPJg-O"
      ],
      "metadata": {
        "colab": {
          "base_uri": "https://localhost:8080/"
        },
        "id": "qkfbEo9rf3IB",
        "outputId": "171b4be0-5c9f-479f-9937-cc3d8998d921"
      },
      "execution_count": 9,
      "outputs": [
        {
          "output_type": "stream",
          "name": "stdout",
          "text": [
            "Downloading...\n",
            "From: https://drive.google.com/uc?id=1YB63zg8vrhewHXuULbgFN3eCmpDPJg-O\n",
            "To: /content/beverage_r.csv\n",
            "\r  0% 0.00/732 [00:00<?, ?B/s]\r100% 732/732 [00:00<00:00, 1.06MB/s]\n"
          ]
        }
      ]
    },
    {
      "cell_type": "markdown",
      "source": [
        "# Прохладительные напитки\n",
        "У людей спрашивали, какие напитки за последнее время они пили. 1 - пил, 0 - не пил. Нужно на основе данных кластеризовать опрашиваемых для дальнейших маркетинговых исследований."
      ],
      "metadata": {
        "id": "2Jjf3VVhhI2z"
      }
    },
    {
      "cell_type": "code",
      "source": [
        "df1 = pd.read_csv('/content/beverage_r.csv', sep=';', index_col='numb.obs')\n",
        "df1.head()"
      ],
      "metadata": {
        "colab": {
          "base_uri": "https://localhost:8080/",
          "height": 237
        },
        "id": "zfC8vSmTgNtQ",
        "outputId": "7ead1e17-5dcf-4630-c772-cf8c51151e10"
      },
      "execution_count": 49,
      "outputs": [
        {
          "output_type": "execute_result",
          "data": {
            "text/plain": [
              "          COKE  D_COKE  D_PEPSI  D_7UP  PEPSI  SPRITE  TAB  SEVENUP\n",
              "numb.obs                                                           \n",
              "1            1       0        0      0      1       1    0        1\n",
              "2            1       0        0      0      1       0    0        0\n",
              "3            1       0        0      0      1       0    0        0\n",
              "4            0       1        0      1      0       0    1        0\n",
              "5            1       0        0      0      1       0    0        0"
            ],
            "text/html": [
              "\n",
              "  <div id=\"df-6c07d896-3bf5-4e92-86d7-fe75ba015a59\">\n",
              "    <div class=\"colab-df-container\">\n",
              "      <div>\n",
              "<style scoped>\n",
              "    .dataframe tbody tr th:only-of-type {\n",
              "        vertical-align: middle;\n",
              "    }\n",
              "\n",
              "    .dataframe tbody tr th {\n",
              "        vertical-align: top;\n",
              "    }\n",
              "\n",
              "    .dataframe thead th {\n",
              "        text-align: right;\n",
              "    }\n",
              "</style>\n",
              "<table border=\"1\" class=\"dataframe\">\n",
              "  <thead>\n",
              "    <tr style=\"text-align: right;\">\n",
              "      <th></th>\n",
              "      <th>COKE</th>\n",
              "      <th>D_COKE</th>\n",
              "      <th>D_PEPSI</th>\n",
              "      <th>D_7UP</th>\n",
              "      <th>PEPSI</th>\n",
              "      <th>SPRITE</th>\n",
              "      <th>TAB</th>\n",
              "      <th>SEVENUP</th>\n",
              "    </tr>\n",
              "    <tr>\n",
              "      <th>numb.obs</th>\n",
              "      <th></th>\n",
              "      <th></th>\n",
              "      <th></th>\n",
              "      <th></th>\n",
              "      <th></th>\n",
              "      <th></th>\n",
              "      <th></th>\n",
              "      <th></th>\n",
              "    </tr>\n",
              "  </thead>\n",
              "  <tbody>\n",
              "    <tr>\n",
              "      <th>1</th>\n",
              "      <td>1</td>\n",
              "      <td>0</td>\n",
              "      <td>0</td>\n",
              "      <td>0</td>\n",
              "      <td>1</td>\n",
              "      <td>1</td>\n",
              "      <td>0</td>\n",
              "      <td>1</td>\n",
              "    </tr>\n",
              "    <tr>\n",
              "      <th>2</th>\n",
              "      <td>1</td>\n",
              "      <td>0</td>\n",
              "      <td>0</td>\n",
              "      <td>0</td>\n",
              "      <td>1</td>\n",
              "      <td>0</td>\n",
              "      <td>0</td>\n",
              "      <td>0</td>\n",
              "    </tr>\n",
              "    <tr>\n",
              "      <th>3</th>\n",
              "      <td>1</td>\n",
              "      <td>0</td>\n",
              "      <td>0</td>\n",
              "      <td>0</td>\n",
              "      <td>1</td>\n",
              "      <td>0</td>\n",
              "      <td>0</td>\n",
              "      <td>0</td>\n",
              "    </tr>\n",
              "    <tr>\n",
              "      <th>4</th>\n",
              "      <td>0</td>\n",
              "      <td>1</td>\n",
              "      <td>0</td>\n",
              "      <td>1</td>\n",
              "      <td>0</td>\n",
              "      <td>0</td>\n",
              "      <td>1</td>\n",
              "      <td>0</td>\n",
              "    </tr>\n",
              "    <tr>\n",
              "      <th>5</th>\n",
              "      <td>1</td>\n",
              "      <td>0</td>\n",
              "      <td>0</td>\n",
              "      <td>0</td>\n",
              "      <td>1</td>\n",
              "      <td>0</td>\n",
              "      <td>0</td>\n",
              "      <td>0</td>\n",
              "    </tr>\n",
              "  </tbody>\n",
              "</table>\n",
              "</div>\n",
              "      <button class=\"colab-df-convert\" onclick=\"convertToInteractive('df-6c07d896-3bf5-4e92-86d7-fe75ba015a59')\"\n",
              "              title=\"Convert this dataframe to an interactive table.\"\n",
              "              style=\"display:none;\">\n",
              "        \n",
              "  <svg xmlns=\"http://www.w3.org/2000/svg\" height=\"24px\"viewBox=\"0 0 24 24\"\n",
              "       width=\"24px\">\n",
              "    <path d=\"M0 0h24v24H0V0z\" fill=\"none\"/>\n",
              "    <path d=\"M18.56 5.44l.94 2.06.94-2.06 2.06-.94-2.06-.94-.94-2.06-.94 2.06-2.06.94zm-11 1L8.5 8.5l.94-2.06 2.06-.94-2.06-.94L8.5 2.5l-.94 2.06-2.06.94zm10 10l.94 2.06.94-2.06 2.06-.94-2.06-.94-.94-2.06-.94 2.06-2.06.94z\"/><path d=\"M17.41 7.96l-1.37-1.37c-.4-.4-.92-.59-1.43-.59-.52 0-1.04.2-1.43.59L10.3 9.45l-7.72 7.72c-.78.78-.78 2.05 0 2.83L4 21.41c.39.39.9.59 1.41.59.51 0 1.02-.2 1.41-.59l7.78-7.78 2.81-2.81c.8-.78.8-2.07 0-2.86zM5.41 20L4 18.59l7.72-7.72 1.47 1.35L5.41 20z\"/>\n",
              "  </svg>\n",
              "      </button>\n",
              "      \n",
              "  <style>\n",
              "    .colab-df-container {\n",
              "      display:flex;\n",
              "      flex-wrap:wrap;\n",
              "      gap: 12px;\n",
              "    }\n",
              "\n",
              "    .colab-df-convert {\n",
              "      background-color: #E8F0FE;\n",
              "      border: none;\n",
              "      border-radius: 50%;\n",
              "      cursor: pointer;\n",
              "      display: none;\n",
              "      fill: #1967D2;\n",
              "      height: 32px;\n",
              "      padding: 0 0 0 0;\n",
              "      width: 32px;\n",
              "    }\n",
              "\n",
              "    .colab-df-convert:hover {\n",
              "      background-color: #E2EBFA;\n",
              "      box-shadow: 0px 1px 2px rgba(60, 64, 67, 0.3), 0px 1px 3px 1px rgba(60, 64, 67, 0.15);\n",
              "      fill: #174EA6;\n",
              "    }\n",
              "\n",
              "    [theme=dark] .colab-df-convert {\n",
              "      background-color: #3B4455;\n",
              "      fill: #D2E3FC;\n",
              "    }\n",
              "\n",
              "    [theme=dark] .colab-df-convert:hover {\n",
              "      background-color: #434B5C;\n",
              "      box-shadow: 0px 1px 3px 1px rgba(0, 0, 0, 0.15);\n",
              "      filter: drop-shadow(0px 1px 2px rgba(0, 0, 0, 0.3));\n",
              "      fill: #FFFFFF;\n",
              "    }\n",
              "  </style>\n",
              "\n",
              "      <script>\n",
              "        const buttonEl =\n",
              "          document.querySelector('#df-6c07d896-3bf5-4e92-86d7-fe75ba015a59 button.colab-df-convert');\n",
              "        buttonEl.style.display =\n",
              "          google.colab.kernel.accessAllowed ? 'block' : 'none';\n",
              "\n",
              "        async function convertToInteractive(key) {\n",
              "          const element = document.querySelector('#df-6c07d896-3bf5-4e92-86d7-fe75ba015a59');\n",
              "          const dataTable =\n",
              "            await google.colab.kernel.invokeFunction('convertToInteractive',\n",
              "                                                     [key], {});\n",
              "          if (!dataTable) return;\n",
              "\n",
              "          const docLinkHtml = 'Like what you see? Visit the ' +\n",
              "            '<a target=\"_blank\" href=https://colab.research.google.com/notebooks/data_table.ipynb>data table notebook</a>'\n",
              "            + ' to learn more about interactive tables.';\n",
              "          element.innerHTML = '';\n",
              "          dataTable['output_type'] = 'display_data';\n",
              "          await google.colab.output.renderOutput(dataTable, element);\n",
              "          const docLink = document.createElement('div');\n",
              "          docLink.innerHTML = docLinkHtml;\n",
              "          element.appendChild(docLink);\n",
              "        }\n",
              "      </script>\n",
              "    </div>\n",
              "  </div>\n",
              "  "
            ]
          },
          "metadata": {},
          "execution_count": 49
        }
      ]
    },
    {
      "cell_type": "code",
      "source": [
        "df1.shape"
      ],
      "metadata": {
        "colab": {
          "base_uri": "https://localhost:8080/"
        },
        "id": "5jA79JDQgaw3",
        "outputId": "563257fc-87cb-416b-caa2-0f9b1d6fd46a"
      },
      "execution_count": 50,
      "outputs": [
        {
          "output_type": "execute_result",
          "data": {
            "text/plain": [
              "(34, 8)"
            ]
          },
          "metadata": {},
          "execution_count": 50
        }
      ]
    },
    {
      "cell_type": "markdown",
      "source": [
        "Алгоритм построение модели в sklearn:\n",
        "- инициализация модели, задание внешних параметров (гиперпараметров)\n",
        "- подгонка (обучение) модели через метод fit\n",
        "- предсказание для новых наблюдений через метод predict\n",
        "\n",
        "**Кластеризация**"
      ],
      "metadata": {
        "id": "1gXXgRd5grjH"
      }
    },
    {
      "cell_type": "code",
      "source": [
        "# максимальное число итераций\n",
        "max_iter_1 = 300"
      ],
      "metadata": {
        "id": "ZMvqKIjg8Vvp"
      },
      "execution_count": 51,
      "outputs": []
    },
    {
      "cell_type": "code",
      "source": [
        "from pandas.core.common import random_state\n",
        "# инициализация модели\n",
        "model = KMeans(n_clusters=3, # доустим 3 кластера\n",
        "               random_state=42, # зерно датчика случайных чисел - здесь начальный центр кластеров\n",
        "               max_iter=max_iter_1, # число итераций кластеризации\n",
        "               n_init=10, # число итераций с разным начальным расположением кластеров - защита от неудачного начального центра кластеров\n",
        "               verbose=0, # не выдавать промежуточные результаты\n",
        "               tol=0.0001) # порог, если перемещений между кластерами мало, Ws меняется на меньше чем задано)"
      ],
      "metadata": {
        "id": "na1BglHq8pbh"
      },
      "execution_count": 53,
      "outputs": []
    },
    {
      "cell_type": "code",
      "source": [
        "# кластеризация\n",
        "model.fit(df1)"
      ],
      "metadata": {
        "colab": {
          "base_uri": "https://localhost:8080/",
          "height": 74
        },
        "id": "Gf5vuyMk9VzC",
        "outputId": "0bd36e99-0bdf-47bc-bc3d-5d872a61f4e0"
      },
      "execution_count": 54,
      "outputs": [
        {
          "output_type": "execute_result",
          "data": {
            "text/plain": [
              "KMeans(n_clusters=3, n_init=10, random_state=42)"
            ],
            "text/html": [
              "<style>#sk-container-id-4 {color: black;background-color: white;}#sk-container-id-4 pre{padding: 0;}#sk-container-id-4 div.sk-toggleable {background-color: white;}#sk-container-id-4 label.sk-toggleable__label {cursor: pointer;display: block;width: 100%;margin-bottom: 0;padding: 0.3em;box-sizing: border-box;text-align: center;}#sk-container-id-4 label.sk-toggleable__label-arrow:before {content: \"▸\";float: left;margin-right: 0.25em;color: #696969;}#sk-container-id-4 label.sk-toggleable__label-arrow:hover:before {color: black;}#sk-container-id-4 div.sk-estimator:hover label.sk-toggleable__label-arrow:before {color: black;}#sk-container-id-4 div.sk-toggleable__content {max-height: 0;max-width: 0;overflow: hidden;text-align: left;background-color: #f0f8ff;}#sk-container-id-4 div.sk-toggleable__content pre {margin: 0.2em;color: black;border-radius: 0.25em;background-color: #f0f8ff;}#sk-container-id-4 input.sk-toggleable__control:checked~div.sk-toggleable__content {max-height: 200px;max-width: 100%;overflow: auto;}#sk-container-id-4 input.sk-toggleable__control:checked~label.sk-toggleable__label-arrow:before {content: \"▾\";}#sk-container-id-4 div.sk-estimator input.sk-toggleable__control:checked~label.sk-toggleable__label {background-color: #d4ebff;}#sk-container-id-4 div.sk-label input.sk-toggleable__control:checked~label.sk-toggleable__label {background-color: #d4ebff;}#sk-container-id-4 input.sk-hidden--visually {border: 0;clip: rect(1px 1px 1px 1px);clip: rect(1px, 1px, 1px, 1px);height: 1px;margin: -1px;overflow: hidden;padding: 0;position: absolute;width: 1px;}#sk-container-id-4 div.sk-estimator {font-family: monospace;background-color: #f0f8ff;border: 1px dotted black;border-radius: 0.25em;box-sizing: border-box;margin-bottom: 0.5em;}#sk-container-id-4 div.sk-estimator:hover {background-color: #d4ebff;}#sk-container-id-4 div.sk-parallel-item::after {content: \"\";width: 100%;border-bottom: 1px solid gray;flex-grow: 1;}#sk-container-id-4 div.sk-label:hover label.sk-toggleable__label {background-color: #d4ebff;}#sk-container-id-4 div.sk-serial::before {content: \"\";position: absolute;border-left: 1px solid gray;box-sizing: border-box;top: 0;bottom: 0;left: 50%;z-index: 0;}#sk-container-id-4 div.sk-serial {display: flex;flex-direction: column;align-items: center;background-color: white;padding-right: 0.2em;padding-left: 0.2em;position: relative;}#sk-container-id-4 div.sk-item {position: relative;z-index: 1;}#sk-container-id-4 div.sk-parallel {display: flex;align-items: stretch;justify-content: center;background-color: white;position: relative;}#sk-container-id-4 div.sk-item::before, #sk-container-id-4 div.sk-parallel-item::before {content: \"\";position: absolute;border-left: 1px solid gray;box-sizing: border-box;top: 0;bottom: 0;left: 50%;z-index: -1;}#sk-container-id-4 div.sk-parallel-item {display: flex;flex-direction: column;z-index: 1;position: relative;background-color: white;}#sk-container-id-4 div.sk-parallel-item:first-child::after {align-self: flex-end;width: 50%;}#sk-container-id-4 div.sk-parallel-item:last-child::after {align-self: flex-start;width: 50%;}#sk-container-id-4 div.sk-parallel-item:only-child::after {width: 0;}#sk-container-id-4 div.sk-dashed-wrapped {border: 1px dashed gray;margin: 0 0.4em 0.5em 0.4em;box-sizing: border-box;padding-bottom: 0.4em;background-color: white;}#sk-container-id-4 div.sk-label label {font-family: monospace;font-weight: bold;display: inline-block;line-height: 1.2em;}#sk-container-id-4 div.sk-label-container {text-align: center;}#sk-container-id-4 div.sk-container {/* jupyter's `normalize.less` sets `[hidden] { display: none; }` but bootstrap.min.css set `[hidden] { display: none !important; }` so we also need the `!important` here to be able to override the default hidden behavior on the sphinx rendered scikit-learn.org. See: https://github.com/scikit-learn/scikit-learn/issues/21755 */display: inline-block !important;position: relative;}#sk-container-id-4 div.sk-text-repr-fallback {display: none;}</style><div id=\"sk-container-id-4\" class=\"sk-top-container\"><div class=\"sk-text-repr-fallback\"><pre>KMeans(n_clusters=3, n_init=10, random_state=42)</pre><b>In a Jupyter environment, please rerun this cell to show the HTML representation or trust the notebook. <br />On GitHub, the HTML representation is unable to render, please try loading this page with nbviewer.org.</b></div><div class=\"sk-container\" hidden><div class=\"sk-item\"><div class=\"sk-estimator sk-toggleable\"><input class=\"sk-toggleable__control sk-hidden--visually\" id=\"sk-estimator-id-4\" type=\"checkbox\" checked><label for=\"sk-estimator-id-4\" class=\"sk-toggleable__label sk-toggleable__label-arrow\">KMeans</label><div class=\"sk-toggleable__content\"><pre>KMeans(n_clusters=3, n_init=10, random_state=42)</pre></div></div></div></div></div>"
            ]
          },
          "metadata": {},
          "execution_count": 54
        }
      ]
    },
    {
      "cell_type": "markdown",
      "source": [
        "# Проверяем, сколько потребовалось итераций\n",
        "Бывает, что алгоритм не успевает сойтись. В таком случае программа не выдаст об этом предупреждение, нужно проверять самому"
      ],
      "metadata": {
        "id": "ooTvOxUe_LVZ"
      }
    },
    {
      "cell_type": "code",
      "source": [
        "model.n_iter_"
      ],
      "metadata": {
        "colab": {
          "base_uri": "https://localhost:8080/"
        },
        "id": "Q3Y-ww4D_4Ch",
        "outputId": "039cafb6-1934-42d0-937b-b2058a909767"
      },
      "execution_count": 55,
      "outputs": [
        {
          "output_type": "execute_result",
          "data": {
            "text/plain": [
              "2"
            ]
          },
          "metadata": {},
          "execution_count": 55
        }
      ]
    },
    {
      "cell_type": "code",
      "source": [
        "max_iter_2 = 1\n",
        "# Проверим, будет ли предупреждение\n",
        "model_2 = KMeans(n_clusters=3,\n",
        "               random_state=42,\n",
        "               max_iter=max_iter_2,\n",
        "               n_init=10, \n",
        "               verbose=0, \n",
        "               tol=0.0001)"
      ],
      "metadata": {
        "id": "pWjZ2H6E_9Dh"
      },
      "execution_count": 56,
      "outputs": []
    },
    {
      "cell_type": "code",
      "source": [
        "# никаких предупреждений\n",
        "model_2.fit(df1)"
      ],
      "metadata": {
        "colab": {
          "base_uri": "https://localhost:8080/",
          "height": 74
        },
        "id": "_cx69bhsAh9q",
        "outputId": "ca00e818-1cd7-45db-b112-2557c86794be"
      },
      "execution_count": 57,
      "outputs": [
        {
          "output_type": "execute_result",
          "data": {
            "text/plain": [
              "KMeans(max_iter=1, n_clusters=3, n_init=10, random_state=42)"
            ],
            "text/html": [
              "<style>#sk-container-id-5 {color: black;background-color: white;}#sk-container-id-5 pre{padding: 0;}#sk-container-id-5 div.sk-toggleable {background-color: white;}#sk-container-id-5 label.sk-toggleable__label {cursor: pointer;display: block;width: 100%;margin-bottom: 0;padding: 0.3em;box-sizing: border-box;text-align: center;}#sk-container-id-5 label.sk-toggleable__label-arrow:before {content: \"▸\";float: left;margin-right: 0.25em;color: #696969;}#sk-container-id-5 label.sk-toggleable__label-arrow:hover:before {color: black;}#sk-container-id-5 div.sk-estimator:hover label.sk-toggleable__label-arrow:before {color: black;}#sk-container-id-5 div.sk-toggleable__content {max-height: 0;max-width: 0;overflow: hidden;text-align: left;background-color: #f0f8ff;}#sk-container-id-5 div.sk-toggleable__content pre {margin: 0.2em;color: black;border-radius: 0.25em;background-color: #f0f8ff;}#sk-container-id-5 input.sk-toggleable__control:checked~div.sk-toggleable__content {max-height: 200px;max-width: 100%;overflow: auto;}#sk-container-id-5 input.sk-toggleable__control:checked~label.sk-toggleable__label-arrow:before {content: \"▾\";}#sk-container-id-5 div.sk-estimator input.sk-toggleable__control:checked~label.sk-toggleable__label {background-color: #d4ebff;}#sk-container-id-5 div.sk-label input.sk-toggleable__control:checked~label.sk-toggleable__label {background-color: #d4ebff;}#sk-container-id-5 input.sk-hidden--visually {border: 0;clip: rect(1px 1px 1px 1px);clip: rect(1px, 1px, 1px, 1px);height: 1px;margin: -1px;overflow: hidden;padding: 0;position: absolute;width: 1px;}#sk-container-id-5 div.sk-estimator {font-family: monospace;background-color: #f0f8ff;border: 1px dotted black;border-radius: 0.25em;box-sizing: border-box;margin-bottom: 0.5em;}#sk-container-id-5 div.sk-estimator:hover {background-color: #d4ebff;}#sk-container-id-5 div.sk-parallel-item::after {content: \"\";width: 100%;border-bottom: 1px solid gray;flex-grow: 1;}#sk-container-id-5 div.sk-label:hover label.sk-toggleable__label {background-color: #d4ebff;}#sk-container-id-5 div.sk-serial::before {content: \"\";position: absolute;border-left: 1px solid gray;box-sizing: border-box;top: 0;bottom: 0;left: 50%;z-index: 0;}#sk-container-id-5 div.sk-serial {display: flex;flex-direction: column;align-items: center;background-color: white;padding-right: 0.2em;padding-left: 0.2em;position: relative;}#sk-container-id-5 div.sk-item {position: relative;z-index: 1;}#sk-container-id-5 div.sk-parallel {display: flex;align-items: stretch;justify-content: center;background-color: white;position: relative;}#sk-container-id-5 div.sk-item::before, #sk-container-id-5 div.sk-parallel-item::before {content: \"\";position: absolute;border-left: 1px solid gray;box-sizing: border-box;top: 0;bottom: 0;left: 50%;z-index: -1;}#sk-container-id-5 div.sk-parallel-item {display: flex;flex-direction: column;z-index: 1;position: relative;background-color: white;}#sk-container-id-5 div.sk-parallel-item:first-child::after {align-self: flex-end;width: 50%;}#sk-container-id-5 div.sk-parallel-item:last-child::after {align-self: flex-start;width: 50%;}#sk-container-id-5 div.sk-parallel-item:only-child::after {width: 0;}#sk-container-id-5 div.sk-dashed-wrapped {border: 1px dashed gray;margin: 0 0.4em 0.5em 0.4em;box-sizing: border-box;padding-bottom: 0.4em;background-color: white;}#sk-container-id-5 div.sk-label label {font-family: monospace;font-weight: bold;display: inline-block;line-height: 1.2em;}#sk-container-id-5 div.sk-label-container {text-align: center;}#sk-container-id-5 div.sk-container {/* jupyter's `normalize.less` sets `[hidden] { display: none; }` but bootstrap.min.css set `[hidden] { display: none !important; }` so we also need the `!important` here to be able to override the default hidden behavior on the sphinx rendered scikit-learn.org. See: https://github.com/scikit-learn/scikit-learn/issues/21755 */display: inline-block !important;position: relative;}#sk-container-id-5 div.sk-text-repr-fallback {display: none;}</style><div id=\"sk-container-id-5\" class=\"sk-top-container\"><div class=\"sk-text-repr-fallback\"><pre>KMeans(max_iter=1, n_clusters=3, n_init=10, random_state=42)</pre><b>In a Jupyter environment, please rerun this cell to show the HTML representation or trust the notebook. <br />On GitHub, the HTML representation is unable to render, please try loading this page with nbviewer.org.</b></div><div class=\"sk-container\" hidden><div class=\"sk-item\"><div class=\"sk-estimator sk-toggleable\"><input class=\"sk-toggleable__control sk-hidden--visually\" id=\"sk-estimator-id-5\" type=\"checkbox\" checked><label for=\"sk-estimator-id-5\" class=\"sk-toggleable__label sk-toggleable__label-arrow\">KMeans</label><div class=\"sk-toggleable__content\"><pre>KMeans(max_iter=1, n_clusters=3, n_init=10, random_state=42)</pre></div></div></div></div></div>"
            ]
          },
          "metadata": {},
          "execution_count": 57
        }
      ]
    },
    {
      "cell_type": "code",
      "source": [
        "model_2.n_iter_"
      ],
      "metadata": {
        "colab": {
          "base_uri": "https://localhost:8080/"
        },
        "id": "wCxv1lT6An24",
        "outputId": "c905af05-d297-40cf-a377-3a1e1c0b2f9f"
      },
      "execution_count": 58,
      "outputs": [
        {
          "output_type": "execute_result",
          "data": {
            "text/plain": [
              "1"
            ]
          },
          "metadata": {},
          "execution_count": 58
        }
      ]
    },
    {
      "cell_type": "code",
      "source": [
        "# добавляем проверку\n",
        "if model_2.n_iter_ == max_iter_2:\n",
        "    print(f'не сошлось за {model_2.n_iter_} итераций')\n",
        "else:\n",
        "    print(f'сошлось за {model_2.n_iter_} итераций')"
      ],
      "metadata": {
        "colab": {
          "base_uri": "https://localhost:8080/"
        },
        "id": "vBNNGaG4A5oY",
        "outputId": "ca923f04-5be4-4bed-a96f-af047b3c4daa"
      },
      "execution_count": 59,
      "outputs": [
        {
          "output_type": "stream",
          "name": "stdout",
          "text": [
            "не сошлось за 1 итераций\n"
          ]
        }
      ]
    },
    {
      "cell_type": "markdown",
      "source": [
        "По умолчанию в модели способ определения начальных центров кластеров *k-means++* (есть еще случайный выбор, который хуже).\n",
        "Также используется алгоритм Ллойда (параметр algorith='auto')"
      ],
      "metadata": {
        "id": "gsfqkRbrCKFw"
      }
    },
    {
      "cell_type": "code",
      "source": [
        "# смотрим результаты - номера кластеров объектов\n",
        "model.labels_"
      ],
      "metadata": {
        "colab": {
          "base_uri": "https://localhost:8080/"
        },
        "id": "AQAqqOCHFIhY",
        "outputId": "fed57fdd-22ed-4212-a652-eaa2591d959e"
      },
      "execution_count": 60,
      "outputs": [
        {
          "output_type": "execute_result",
          "data": {
            "text/plain": [
              "array([0, 2, 2, 1, 2, 0, 1, 0, 0, 2, 0, 1, 0, 0, 1, 0, 0, 2, 2, 2, 2, 2,\n",
              "       1, 2, 1, 1, 1, 0, 0, 1, 2, 1, 2, 1], dtype=int32)"
            ]
          },
          "metadata": {},
          "execution_count": 60
        }
      ]
    },
    {
      "cell_type": "code",
      "source": [
        "# расположение центров кластеров\n",
        "model.cluster_centers_"
      ],
      "metadata": {
        "colab": {
          "base_uri": "https://localhost:8080/"
        },
        "id": "aN597zJPFUMO",
        "outputId": "1a0094e9-c9b6-4566-9147-94cceea1b0cb"
      },
      "execution_count": 61,
      "outputs": [
        {
          "output_type": "execute_result",
          "data": {
            "text/plain": [
              "array([[ 7.27272727e-01,  2.72727273e-01,  9.09090909e-02,\n",
              "         9.09090909e-02,  4.54545455e-01,  1.00000000e+00,\n",
              "         9.09090909e-02,  4.54545455e-01],\n",
              "       [ 1.11022302e-16,  1.00000000e+00,  5.45454545e-01,\n",
              "         5.45454545e-01, -5.55111512e-17, -5.55111512e-17,\n",
              "         9.09090909e-01,  0.00000000e+00],\n",
              "       [ 1.00000000e+00,  2.50000000e-01,  8.33333333e-02,\n",
              "         0.00000000e+00,  9.16666667e-01, -5.55111512e-17,\n",
              "        -5.55111512e-17,  3.33333333e-01]])"
            ]
          },
          "metadata": {},
          "execution_count": 61
        }
      ]
    },
    {
      "cell_type": "markdown",
      "source": [
        "# С чего надо начинать\n",
        "**Определим число кластеров без угадываний.**\n",
        "\n",
        "Необходимо применить модель для разного числа кластеров для построения графика каменистой осыпи. Метод `inertia_` возвращает сумму квадратов расстояний от каждого объекта до его центра кластера (тот самый критерий качества Ws). Кластеризация будет качественной, если инерция перестает сильно уменьшаться при увеличении числа кластеров"
      ],
      "metadata": {
        "id": "3Muate1uFsVn"
      }
    },
    {
      "cell_type": "code",
      "source": [
        "K = range(1, 11)\n",
        "\n",
        "# вычисляем значения критерия качества для разного числа кластеров\n",
        "models = [KMeans(n_clusters=k, random_state=42).fit(df1) for k in K]\n",
        "dist = [model.inertia_ for model in models]\n",
        "\n",
        "plt.plot(K, dist, marker='o')\n",
        "plt.xlabel('Число кластеров')\n",
        "plt.ylabel('Сумма квадратов расстояний')\n",
        "plt.title('График каменистой осыпи')\n",
        "plt.show()"
      ],
      "metadata": {
        "colab": {
          "base_uri": "https://localhost:8080/",
          "height": 295
        },
        "id": "MLXwof95HuWg",
        "outputId": "bcaa34f1-3f14-44fb-a169-021b62c9b02d"
      },
      "execution_count": 62,
      "outputs": [
        {
          "output_type": "display_data",
          "data": {
            "text/plain": [
              "<Figure size 432x288 with 1 Axes>"
            ],
            "image/png": "[encoded data removed]"
          },
          "metadata": {
            "needs_background": "light"
          }
        }
      ]
    },
    {
      "cell_type": "markdown",
      "source": [
        "Сильный излом при 2 кластерах, однако с 2 до 3 тоже, а вот с 3 по 4 излома почти не видно. Делаем вывод, что кластеров 3"
      ],
      "metadata": {
        "id": "N5TOyakzIzGZ"
      }
    },
    {
      "cell_type": "code",
      "source": [
        "df1['cluster'] = model.labels_"
      ],
      "metadata": {
        "id": "ASDjk_yqNTHw"
      },
      "execution_count": 63,
      "outputs": []
    },
    {
      "cell_type": "code",
      "source": [
        "df1.groupby('cluster').mean()"
      ],
      "metadata": {
        "colab": {
          "base_uri": "https://localhost:8080/",
          "height": 175
        },
        "id": "ocOYvBg3NXx-",
        "outputId": "9906ea3e-12c4-4031-f5ff-696194cb6a7c"
      },
      "execution_count": 64,
      "outputs": [
        {
          "output_type": "execute_result",
          "data": {
            "text/plain": [
              "             COKE    D_COKE   D_PEPSI     D_7UP     PEPSI  SPRITE       TAB  \\\n",
              "cluster                                                                       \n",
              "0        0.727273  0.272727  0.090909  0.090909  0.454545     1.0  0.090909   \n",
              "1        0.000000  1.000000  0.545455  0.545455  0.000000     0.0  0.909091   \n",
              "2        1.000000  0.250000  0.083333  0.000000  0.916667     0.0  0.000000   \n",
              "\n",
              "          SEVENUP  \n",
              "cluster            \n",
              "0        0.454545  \n",
              "1        0.000000  \n",
              "2        0.333333  "
            ],
            "text/html": [
              "\n",
              "  <div id=\"df-4d6d8587-17d3-4616-a27c-31d8ae3e8c4d\">\n",
              "    <div class=\"colab-df-container\">\n",
              "      <div>\n",
              "<style scoped>\n",
              "    .dataframe tbody tr th:only-of-type {\n",
              "        vertical-align: middle;\n",
              "    }\n",
              "\n",
              "    .dataframe tbody tr th {\n",
              "        vertical-align: top;\n",
              "    }\n",
              "\n",
              "    .dataframe thead th {\n",
              "        text-align: right;\n",
              "    }\n",
              "</style>\n",
              "<table border=\"1\" class=\"dataframe\">\n",
              "  <thead>\n",
              "    <tr style=\"text-align: right;\">\n",
              "      <th></th>\n",
              "      <th>COKE</th>\n",
              "      <th>D_COKE</th>\n",
              "      <th>D_PEPSI</th>\n",
              "      <th>D_7UP</th>\n",
              "      <th>PEPSI</th>\n",
              "      <th>SPRITE</th>\n",
              "      <th>TAB</th>\n",
              "      <th>SEVENUP</th>\n",
              "    </tr>\n",
              "    <tr>\n",
              "      <th>cluster</th>\n",
              "      <th></th>\n",
              "      <th></th>\n",
              "      <th></th>\n",
              "      <th></th>\n",
              "      <th></th>\n",
              "      <th></th>\n",
              "      <th></th>\n",
              "      <th></th>\n",
              "    </tr>\n",
              "  </thead>\n",
              "  <tbody>\n",
              "    <tr>\n",
              "      <th>0</th>\n",
              "      <td>0.727273</td>\n",
              "      <td>0.272727</td>\n",
              "      <td>0.090909</td>\n",
              "      <td>0.090909</td>\n",
              "      <td>0.454545</td>\n",
              "      <td>1.0</td>\n",
              "      <td>0.090909</td>\n",
              "      <td>0.454545</td>\n",
              "    </tr>\n",
              "    <tr>\n",
              "      <th>1</th>\n",
              "      <td>0.000000</td>\n",
              "      <td>1.000000</td>\n",
              "      <td>0.545455</td>\n",
              "      <td>0.545455</td>\n",
              "      <td>0.000000</td>\n",
              "      <td>0.0</td>\n",
              "      <td>0.909091</td>\n",
              "      <td>0.000000</td>\n",
              "    </tr>\n",
              "    <tr>\n",
              "      <th>2</th>\n",
              "      <td>1.000000</td>\n",
              "      <td>0.250000</td>\n",
              "      <td>0.083333</td>\n",
              "      <td>0.000000</td>\n",
              "      <td>0.916667</td>\n",
              "      <td>0.0</td>\n",
              "      <td>0.000000</td>\n",
              "      <td>0.333333</td>\n",
              "    </tr>\n",
              "  </tbody>\n",
              "</table>\n",
              "</div>\n",
              "      <button class=\"colab-df-convert\" onclick=\"convertToInteractive('df-4d6d8587-17d3-4616-a27c-31d8ae3e8c4d')\"\n",
              "              title=\"Convert this dataframe to an interactive table.\"\n",
              "              style=\"display:none;\">\n",
              "        \n",
              "  <svg xmlns=\"http://www.w3.org/2000/svg\" height=\"24px\"viewBox=\"0 0 24 24\"\n",
              "       width=\"24px\">\n",
              "    <path d=\"M0 0h24v24H0V0z\" fill=\"none\"/>\n",
              "    <path d=\"M18.56 5.44l.94 2.06.94-2.06 2.06-.94-2.06-.94-.94-2.06-.94 2.06-2.06.94zm-11 1L8.5 8.5l.94-2.06 2.06-.94-2.06-.94L8.5 2.5l-.94 2.06-2.06.94zm10 10l.94 2.06.94-2.06 2.06-.94-2.06-.94-.94-2.06-.94 2.06-2.06.94z\"/><path d=\"M17.41 7.96l-1.37-1.37c-.4-.4-.92-.59-1.43-.59-.52 0-1.04.2-1.43.59L10.3 9.45l-7.72 7.72c-.78.78-.78 2.05 0 2.83L4 21.41c.39.39.9.59 1.41.59.51 0 1.02-.2 1.41-.59l7.78-7.78 2.81-2.81c.8-.78.8-2.07 0-2.86zM5.41 20L4 18.59l7.72-7.72 1.47 1.35L5.41 20z\"/>\n",
              "  </svg>\n",
              "      </button>\n",
              "      \n",
              "  <style>\n",
              "    .colab-df-container {\n",
              "      display:flex;\n",
              "      flex-wrap:wrap;\n",
              "      gap: 12px;\n",
              "    }\n",
              "\n",
              "    .colab-df-convert {\n",
              "      background-color: #E8F0FE;\n",
              "      border: none;\n",
              "      border-radius: 50%;\n",
              "      cursor: pointer;\n",
              "      display: none;\n",
              "      fill: #1967D2;\n",
              "      height: 32px;\n",
              "      padding: 0 0 0 0;\n",
              "      width: 32px;\n",
              "    }\n",
              "\n",
              "    .colab-df-convert:hover {\n",
              "      background-color: #E2EBFA;\n",
              "      box-shadow: 0px 1px 2px rgba(60, 64, 67, 0.3), 0px 1px 3px 1px rgba(60, 64, 67, 0.15);\n",
              "      fill: #174EA6;\n",
              "    }\n",
              "\n",
              "    [theme=dark] .colab-df-convert {\n",
              "      background-color: #3B4455;\n",
              "      fill: #D2E3FC;\n",
              "    }\n",
              "\n",
              "    [theme=dark] .colab-df-convert:hover {\n",
              "      background-color: #434B5C;\n",
              "      box-shadow: 0px 1px 3px 1px rgba(0, 0, 0, 0.15);\n",
              "      filter: drop-shadow(0px 1px 2px rgba(0, 0, 0, 0.3));\n",
              "      fill: #FFFFFF;\n",
              "    }\n",
              "  </style>\n",
              "\n",
              "      <script>\n",
              "        const buttonEl =\n",
              "          document.querySelector('#df-4d6d8587-17d3-4616-a27c-31d8ae3e8c4d button.colab-df-convert');\n",
              "        buttonEl.style.display =\n",
              "          google.colab.kernel.accessAllowed ? 'block' : 'none';\n",
              "\n",
              "        async function convertToInteractive(key) {\n",
              "          const element = document.querySelector('#df-4d6d8587-17d3-4616-a27c-31d8ae3e8c4d');\n",
              "          const dataTable =\n",
              "            await google.colab.kernel.invokeFunction('convertToInteractive',\n",
              "                                                     [key], {});\n",
              "          if (!dataTable) return;\n",
              "\n",
              "          const docLinkHtml = 'Like what you see? Visit the ' +\n",
              "            '<a target=\"_blank\" href=https://colab.research.google.com/notebooks/data_table.ipynb>data table notebook</a>'\n",
              "            + ' to learn more about interactive tables.';\n",
              "          element.innerHTML = '';\n",
              "          dataTable['output_type'] = 'display_data';\n",
              "          await google.colab.output.renderOutput(dataTable, element);\n",
              "          const docLink = document.createElement('div');\n",
              "          docLink.innerHTML = docLinkHtml;\n",
              "          element.appendChild(docLink);\n",
              "        }\n",
              "      </script>\n",
              "    </div>\n",
              "  </div>\n",
              "  "
            ]
          },
          "metadata": {},
          "execution_count": 64
        }
      ]
    },
    {
      "cell_type": "code",
      "source": [
        " df1['cluster'].value_counts()"
      ],
      "metadata": {
        "colab": {
          "base_uri": "https://localhost:8080/"
        },
        "id": "01WCAnA_Ndx9",
        "outputId": "5bee7101-3b59-45ad-fdbf-2ff70b2c8cc7"
      },
      "execution_count": 65,
      "outputs": [
        {
          "output_type": "execute_result",
          "data": {
            "text/plain": [
              "2    12\n",
              "0    11\n",
              "1    11\n",
              "Name: cluster, dtype: int64"
            ]
          },
          "metadata": {},
          "execution_count": 65
        }
      ]
    },
    {
      "cell_type": "markdown",
      "source": [
        "**Стоит заметить, что полученные средние в каждом поле это центр кластеров.**\n",
        "\n",
        "В данном случае среднее - процент тех, кто пил напиток в течение последних двух недель.\n",
        "\n",
        "Нулевой кластер - любители разнообразия. При этом он, скорее всего, содержит в себе 2 подкластера. Но группы очень малы.\n",
        "\n",
        "Первый кластер - все пили диетическую колу + как минимум половина пила все диетическое\n",
        "\n",
        "Второй кластер - все пили пепси и колу\n"
      ],
      "metadata": {
        "id": "jfj7-yEcOOoi"
      }
    },
    {
      "cell_type": "markdown",
      "source": [
        "Результаты от иерархического анализа отличаются:\n",
        "\n",
        "![image.png](data:image/png;base64,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)"
      ],
      "metadata": {
        "id": "tdz6IjOZOFuo"
      }
    },
    {
      "cell_type": "markdown",
      "source": [
        "# Новые наблюдения\n",
        "А что делать, если у нас появились новые объекты?\n",
        "Есть 2 варианта:\n",
        "- правильный, но долгий: добавляем объекты и проводим кластеризацию заново\n",
        "- быстрый: новые объекты распределяются по старым кластерам с помощью `predict`"
      ],
      "metadata": {
        "id": "t6CGNPQJQBgs"
      }
    },
    {
      "cell_type": "code",
      "source": [
        "# создадим 2 объекта: один пил все, другой ничего\n",
        "new_obj = [[1]*8, [0]*8]\n",
        "\n",
        "model.predict(new_obj)"
      ],
      "metadata": {
        "colab": {
          "base_uri": "https://localhost:8080/"
        },
        "id": "7GJu5EUuQ3S1",
        "outputId": "7bb0c10f-2779-4feb-c3cb-37e4feae538a"
      },
      "execution_count": 66,
      "outputs": [
        {
          "output_type": "execute_result",
          "data": {
            "text/plain": [
              "array([0, 2], dtype=int32)"
            ]
          },
          "metadata": {},
          "execution_count": 66
        }
      ]
    },
    {
      "cell_type": "markdown",
      "source": [
        "Кто пил все - 0 кластер: любитель всего. Второй объект - 2 кластер, т.е. кто пил классику: пепси и колу. Если первый вариант логичен, то второй не совсем. Однако расстояние от центра до объекта было наименьшим до 2 кластера (там кстати есть 0), поэтому сработал метод исключения. Хотя по факту человек не отнсоится ни к какой фокус группе и может считаться выбросом"
      ],
      "metadata": {
        "id": "tPofFdHzRUqc"
      }
    },
    {
      "cell_type": "code",
      "source": [
        "# Сделаем новый датафрейм с этими объектами и проведем снова кластерный анализ\n",
        "df1_new = pd.read_csv('/content/beverage_r.csv', sep=';', index_col='numb.obs')"
      ],
      "metadata": {
        "id": "NXxzRy8DVM1g"
      },
      "execution_count": 72,
      "outputs": []
    },
    {
      "cell_type": "code",
      "source": [
        "row1 = pd.Series([1]*8, index=df1_new.columns)\n",
        "df1_new = df1_new.append(row1,ignore_index=True) "
      ],
      "metadata": {
        "id": "dDAYe_inYPZz"
      },
      "execution_count": 73,
      "outputs": []
    },
    {
      "cell_type": "code",
      "source": [
        "row2 = pd.Series([0]*8, index=df1_new.columns)\n",
        "df1_new = df1_new.append(row2,ignore_index=True) "
      ],
      "metadata": {
        "id": "r3Z68VjBZXok"
      },
      "execution_count": 76,
      "outputs": []
    },
    {
      "cell_type": "code",
      "source": [
        "df1_new.shape"
      ],
      "metadata": {
        "colab": {
          "base_uri": "https://localhost:8080/"
        },
        "id": "8Q9H0TDHV2o1",
        "outputId": "e556ddab-d675-4238-9ea0-fe94903a27a2"
      },
      "execution_count": 79,
      "outputs": [
        {
          "output_type": "execute_result",
          "data": {
            "text/plain": [
              "(36, 8)"
            ]
          },
          "metadata": {},
          "execution_count": 79
        }
      ]
    },
    {
      "cell_type": "code",
      "source": [
        "K = range(1, 11)\n",
        "\n",
        "# вычисляем значения критерия качества для разного числа кластеров\n",
        "models = [KMeans(n_clusters=k, random_state=42).fit(df1_new) for k in K]\n",
        "dist = [model.inertia_ for model in models]\n",
        "\n",
        "plt.plot(K, dist, marker='o')\n",
        "plt.xlabel('Число кластеров')\n",
        "plt.ylabel('Сумма квадратов расстояний')\n",
        "plt.title('График каменистой осыпи')\n",
        "plt.show()"
      ],
      "metadata": {
        "colab": {
          "base_uri": "https://localhost:8080/",
          "height": 295
        },
        "id": "YmPNHZOnZaAC",
        "outputId": "e331d87c-4205-4fed-c43f-8e39e444ef02"
      },
      "execution_count": 80,
      "outputs": [
        {
          "output_type": "display_data",
          "data": {
            "text/plain": [
              "<Figure size 432x288 with 1 Axes>"
            ],
            "image/png": "[encoded data removed]"
          },
          "metadata": {
            "needs_background": "light"
          }
        }
      ]
    },
    {
      "cell_type": "markdown",
      "source": [
        "В целом получается снова 3 кластера"
      ],
      "metadata": {
        "id": "rdNN24mrZlKD"
      }
    },
    {
      "cell_type": "code",
      "source": [
        "model_1_2 = KMeans(n_clusters=3, \n",
        "               random_state=42, \n",
        "               max_iter=max_iter_1, \n",
        "               n_init=10, \n",
        "               verbose=0, \n",
        "               tol=0.0001) "
      ],
      "metadata": {
        "id": "fVftlL7vZ1Sb"
      },
      "execution_count": 81,
      "outputs": []
    },
    {
      "cell_type": "code",
      "source": [
        "model_1_2.fit(df1_new)"
      ],
      "metadata": {
        "colab": {
          "base_uri": "https://localhost:8080/",
          "height": 74
        },
        "id": "nZ9se2QhZ57D",
        "outputId": "8bfa5543-d7a0-40a8-b83e-1df6f202674e"
      },
      "execution_count": 82,
      "outputs": [
        {
          "output_type": "execute_result",
          "data": {
            "text/plain": [
              "KMeans(n_clusters=3, n_init=10, random_state=42)"
            ],
            "text/html": [
              "<style>#sk-container-id-6 {color: black;background-color: white;}#sk-container-id-6 pre{padding: 0;}#sk-container-id-6 div.sk-toggleable {background-color: white;}#sk-container-id-6 label.sk-toggleable__label {cursor: pointer;display: block;width: 100%;margin-bottom: 0;padding: 0.3em;box-sizing: border-box;text-align: center;}#sk-container-id-6 label.sk-toggleable__label-arrow:before {content: \"▸\";float: left;margin-right: 0.25em;color: #696969;}#sk-container-id-6 label.sk-toggleable__label-arrow:hover:before {color: black;}#sk-container-id-6 div.sk-estimator:hover label.sk-toggleable__label-arrow:before {color: black;}#sk-container-id-6 div.sk-toggleable__content {max-height: 0;max-width: 0;overflow: hidden;text-align: left;background-color: #f0f8ff;}#sk-container-id-6 div.sk-toggleable__content pre {margin: 0.2em;color: black;border-radius: 0.25em;background-color: #f0f8ff;}#sk-container-id-6 input.sk-toggleable__control:checked~div.sk-toggleable__content {max-height: 200px;max-width: 100%;overflow: auto;}#sk-container-id-6 input.sk-toggleable__control:checked~label.sk-toggleable__label-arrow:before {content: \"▾\";}#sk-container-id-6 div.sk-estimator input.sk-toggleable__control:checked~label.sk-toggleable__label {background-color: #d4ebff;}#sk-container-id-6 div.sk-label input.sk-toggleable__control:checked~label.sk-toggleable__label {background-color: #d4ebff;}#sk-container-id-6 input.sk-hidden--visually {border: 0;clip: rect(1px 1px 1px 1px);clip: rect(1px, 1px, 1px, 1px);height: 1px;margin: -1px;overflow: hidden;padding: 0;position: absolute;width: 1px;}#sk-container-id-6 div.sk-estimator {font-family: monospace;background-color: #f0f8ff;border: 1px dotted black;border-radius: 0.25em;box-sizing: border-box;margin-bottom: 0.5em;}#sk-container-id-6 div.sk-estimator:hover {background-color: #d4ebff;}#sk-container-id-6 div.sk-parallel-item::after {content: \"\";width: 100%;border-bottom: 1px solid gray;flex-grow: 1;}#sk-container-id-6 div.sk-label:hover label.sk-toggleable__label {background-color: #d4ebff;}#sk-container-id-6 div.sk-serial::before {content: \"\";position: absolute;border-left: 1px solid gray;box-sizing: border-box;top: 0;bottom: 0;left: 50%;z-index: 0;}#sk-container-id-6 div.sk-serial {display: flex;flex-direction: column;align-items: center;background-color: white;padding-right: 0.2em;padding-left: 0.2em;position: relative;}#sk-container-id-6 div.sk-item {position: relative;z-index: 1;}#sk-container-id-6 div.sk-parallel {display: flex;align-items: stretch;justify-content: center;background-color: white;position: relative;}#sk-container-id-6 div.sk-item::before, #sk-container-id-6 div.sk-parallel-item::before {content: \"\";position: absolute;border-left: 1px solid gray;box-sizing: border-box;top: 0;bottom: 0;left: 50%;z-index: -1;}#sk-container-id-6 div.sk-parallel-item {display: flex;flex-direction: column;z-index: 1;position: relative;background-color: white;}#sk-container-id-6 div.sk-parallel-item:first-child::after {align-self: flex-end;width: 50%;}#sk-container-id-6 div.sk-parallel-item:last-child::after {align-self: flex-start;width: 50%;}#sk-container-id-6 div.sk-parallel-item:only-child::after {width: 0;}#sk-container-id-6 div.sk-dashed-wrapped {border: 1px dashed gray;margin: 0 0.4em 0.5em 0.4em;box-sizing: border-box;padding-bottom: 0.4em;background-color: white;}#sk-container-id-6 div.sk-label label {font-family: monospace;font-weight: bold;display: inline-block;line-height: 1.2em;}#sk-container-id-6 div.sk-label-container {text-align: center;}#sk-container-id-6 div.sk-container {/* jupyter's `normalize.less` sets `[hidden] { display: none; }` but bootstrap.min.css set `[hidden] { display: none !important; }` so we also need the `!important` here to be able to override the default hidden behavior on the sphinx rendered scikit-learn.org. See: https://github.com/scikit-learn/scikit-learn/issues/21755 */display: inline-block !important;position: relative;}#sk-container-id-6 div.sk-text-repr-fallback {display: none;}</style><div id=\"sk-container-id-6\" class=\"sk-top-container\"><div class=\"sk-text-repr-fallback\"><pre>KMeans(n_clusters=3, n_init=10, random_state=42)</pre><b>In a Jupyter environment, please rerun this cell to show the HTML representation or trust the notebook. <br />On GitHub, the HTML representation is unable to render, please try loading this page with nbviewer.org.</b></div><div class=\"sk-container\" hidden><div class=\"sk-item\"><div class=\"sk-estimator sk-toggleable\"><input class=\"sk-toggleable__control sk-hidden--visually\" id=\"sk-estimator-id-6\" type=\"checkbox\" checked><label for=\"sk-estimator-id-6\" class=\"sk-toggleable__label sk-toggleable__label-arrow\">KMeans</label><div class=\"sk-toggleable__content\"><pre>KMeans(n_clusters=3, n_init=10, random_state=42)</pre></div></div></div></div></div>"
            ]
          },
          "metadata": {},
          "execution_count": 82
        }
      ]
    },
    {
      "cell_type": "code",
      "source": [
        "# хоть данных мало, проверим\n",
        "if model_1_2.n_iter_ == max_iter_1:\n",
        "    print(f'не сошлось за {model_1_2.n_iter_} итераций')\n",
        "else:\n",
        "    print(f'сошлось за {model_1_2.n_iter_} итераций')"
      ],
      "metadata": {
        "colab": {
          "base_uri": "https://localhost:8080/"
        },
        "id": "FkTC-JbqZ9DD",
        "outputId": "8ad4d179-2592-4e64-f0a4-559715270d69"
      },
      "execution_count": 84,
      "outputs": [
        {
          "output_type": "stream",
          "name": "stdout",
          "text": [
            "сошлось за 3 итераций\n"
          ]
        }
      ]
    },
    {
      "cell_type": "code",
      "source": [
        "df1_new['cluster'] = model_1_2.labels_"
      ],
      "metadata": {
        "id": "YAWRCOlOaEDj"
      },
      "execution_count": 85,
      "outputs": []
    },
    {
      "cell_type": "code",
      "source": [
        "df1_new.groupby('cluster').mean()"
      ],
      "metadata": {
        "colab": {
          "base_uri": "https://localhost:8080/",
          "height": 175
        },
        "id": "_HwD5KDJabZr",
        "outputId": "11f450bf-802a-4c0a-ddbb-8d1734f24b60"
      },
      "execution_count": 86,
      "outputs": [
        {
          "output_type": "execute_result",
          "data": {
            "text/plain": [
              "             COKE    D_COKE   D_PEPSI     D_7UP     PEPSI  SPRITE       TAB  \\\n",
              "cluster                                                                       \n",
              "0        0.923077  0.230769  0.076923  0.000000  0.846154     0.0  0.000000   \n",
              "1        0.000000  1.000000  0.545455  0.545455  0.000000     0.0  0.909091   \n",
              "2        0.750000  0.333333  0.166667  0.166667  0.500000     1.0  0.166667   \n",
              "\n",
              "          SEVENUP  \n",
              "cluster            \n",
              "0        0.307692  \n",
              "1        0.000000  \n",
              "2        0.500000  "
            ],
            "text/html": [
              "\n",
              "  <div id=\"df-dc038ba6-6b85-4784-a106-43f5f53f200a\">\n",
              "    <div class=\"colab-df-container\">\n",
              "      <div>\n",
              "<style scoped>\n",
              "    .dataframe tbody tr th:only-of-type {\n",
              "        vertical-align: middle;\n",
              "    }\n",
              "\n",
              "    .dataframe tbody tr th {\n",
              "        vertical-align: top;\n",
              "    }\n",
              "\n",
              "    .dataframe thead th {\n",
              "        text-align: right;\n",
              "    }\n",
              "</style>\n",
              "<table border=\"1\" class=\"dataframe\">\n",
              "  <thead>\n",
              "    <tr style=\"text-align: right;\">\n",
              "      <th></th>\n",
              "      <th>COKE</th>\n",
              "      <th>D_COKE</th>\n",
              "      <th>D_PEPSI</th>\n",
              "      <th>D_7UP</th>\n",
              "      <th>PEPSI</th>\n",
              "      <th>SPRITE</th>\n",
              "      <th>TAB</th>\n",
              "      <th>SEVENUP</th>\n",
              "    </tr>\n",
              "    <tr>\n",
              "      <th>cluster</th>\n",
              "      <th></th>\n",
              "      <th></th>\n",
              "      <th></th>\n",
              "      <th></th>\n",
              "      <th></th>\n",
              "      <th></th>\n",
              "      <th></th>\n",
              "      <th></th>\n",
              "    </tr>\n",
              "  </thead>\n",
              "  <tbody>\n",
              "    <tr>\n",
              "      <th>0</th>\n",
              "      <td>0.923077</td>\n",
              "      <td>0.230769</td>\n",
              "      <td>0.076923</td>\n",
              "      <td>0.000000</td>\n",
              "      <td>0.846154</td>\n",
              "      <td>0.0</td>\n",
              "      <td>0.000000</td>\n",
              "      <td>0.307692</td>\n",
              "    </tr>\n",
              "    <tr>\n",
              "      <th>1</th>\n",
              "      <td>0.000000</td>\n",
              "      <td>1.000000</td>\n",
              "      <td>0.545455</td>\n",
              "      <td>0.545455</td>\n",
              "      <td>0.000000</td>\n",
              "      <td>0.0</td>\n",
              "      <td>0.909091</td>\n",
              "      <td>0.000000</td>\n",
              "    </tr>\n",
              "    <tr>\n",
              "      <th>2</th>\n",
              "      <td>0.750000</td>\n",
              "      <td>0.333333</td>\n",
              "      <td>0.166667</td>\n",
              "      <td>0.166667</td>\n",
              "      <td>0.500000</td>\n",
              "      <td>1.0</td>\n",
              "      <td>0.166667</td>\n",
              "      <td>0.500000</td>\n",
              "    </tr>\n",
              "  </tbody>\n",
              "</table>\n",
              "</div>\n",
              "      <button class=\"colab-df-convert\" onclick=\"convertToInteractive('df-dc038ba6-6b85-4784-a106-43f5f53f200a')\"\n",
              "              title=\"Convert this dataframe to an interactive table.\"\n",
              "              style=\"display:none;\">\n",
              "        \n",
              "  <svg xmlns=\"http://www.w3.org/2000/svg\" height=\"24px\"viewBox=\"0 0 24 24\"\n",
              "       width=\"24px\">\n",
              "    <path d=\"M0 0h24v24H0V0z\" fill=\"none\"/>\n",
              "    <path d=\"M18.56 5.44l.94 2.06.94-2.06 2.06-.94-2.06-.94-.94-2.06-.94 2.06-2.06.94zm-11 1L8.5 8.5l.94-2.06 2.06-.94-2.06-.94L8.5 2.5l-.94 2.06-2.06.94zm10 10l.94 2.06.94-2.06 2.06-.94-2.06-.94-.94-2.06-.94 2.06-2.06.94z\"/><path d=\"M17.41 7.96l-1.37-1.37c-.4-.4-.92-.59-1.43-.59-.52 0-1.04.2-1.43.59L10.3 9.45l-7.72 7.72c-.78.78-.78 2.05 0 2.83L4 21.41c.39.39.9.59 1.41.59.51 0 1.02-.2 1.41-.59l7.78-7.78 2.81-2.81c.8-.78.8-2.07 0-2.86zM5.41 20L4 18.59l7.72-7.72 1.47 1.35L5.41 20z\"/>\n",
              "  </svg>\n",
              "      </button>\n",
              "      \n",
              "  <style>\n",
              "    .colab-df-container {\n",
              "      display:flex;\n",
              "      flex-wrap:wrap;\n",
              "      gap: 12px;\n",
              "    }\n",
              "\n",
              "    .colab-df-convert {\n",
              "      background-color: #E8F0FE;\n",
              "      border: none;\n",
              "      border-radius: 50%;\n",
              "      cursor: pointer;\n",
              "      display: none;\n",
              "      fill: #1967D2;\n",
              "      height: 32px;\n",
              "      padding: 0 0 0 0;\n",
              "      width: 32px;\n",
              "    }\n",
              "\n",
              "    .colab-df-convert:hover {\n",
              "      background-color: #E2EBFA;\n",
              "      box-shadow: 0px 1px 2px rgba(60, 64, 67, 0.3), 0px 1px 3px 1px rgba(60, 64, 67, 0.15);\n",
              "      fill: #174EA6;\n",
              "    }\n",
              "\n",
              "    [theme=dark] .colab-df-convert {\n",
              "      background-color: #3B4455;\n",
              "      fill: #D2E3FC;\n",
              "    }\n",
              "\n",
              "    [theme=dark] .colab-df-convert:hover {\n",
              "      background-color: #434B5C;\n",
              "      box-shadow: 0px 1px 3px 1px rgba(0, 0, 0, 0.15);\n",
              "      filter: drop-shadow(0px 1px 2px rgba(0, 0, 0, 0.3));\n",
              "      fill: #FFFFFF;\n",
              "    }\n",
              "  </style>\n",
              "\n",
              "      <script>\n",
              "        const buttonEl =\n",
              "          document.querySelector('#df-dc038ba6-6b85-4784-a106-43f5f53f200a button.colab-df-convert');\n",
              "        buttonEl.style.display =\n",
              "          google.colab.kernel.accessAllowed ? 'block' : 'none';\n",
              "\n",
              "        async function convertToInteractive(key) {\n",
              "          const element = document.querySelector('#df-dc038ba6-6b85-4784-a106-43f5f53f200a');\n",
              "          const dataTable =\n",
              "            await google.colab.kernel.invokeFunction('convertToInteractive',\n",
              "                                                     [key], {});\n",
              "          if (!dataTable) return;\n",
              "\n",
              "          const docLinkHtml = 'Like what you see? Visit the ' +\n",
              "            '<a target=\"_blank\" href=https://colab.research.google.com/notebooks/data_table.ipynb>data table notebook</a>'\n",
              "            + ' to learn more about interactive tables.';\n",
              "          element.innerHTML = '';\n",
              "          dataTable['output_type'] = 'display_data';\n",
              "          await google.colab.output.renderOutput(dataTable, element);\n",
              "          const docLink = document.createElement('div');\n",
              "          docLink.innerHTML = docLinkHtml;\n",
              "          element.appendChild(docLink);\n",
              "        }\n",
              "      </script>\n",
              "    </div>\n",
              "  </div>\n",
              "  "
            ]
          },
          "metadata": {},
          "execution_count": 86
        }
      ]
    },
    {
      "cell_type": "code",
      "source": [
        "# посмотрим, куда распределились последние объекты\n",
        "df1_new.tail(2)"
      ],
      "metadata": {
        "colab": {
          "base_uri": "https://localhost:8080/",
          "height": 112
        },
        "id": "yTxqB688ai8L",
        "outputId": "8ecc92f7-c3a9-402b-8ecb-d46c5ace4b40"
      },
      "execution_count": 87,
      "outputs": [
        {
          "output_type": "execute_result",
          "data": {
            "text/plain": [
              "    COKE  D_COKE  D_PEPSI  D_7UP  PEPSI  SPRITE  TAB  SEVENUP  cluster\n",
              "34     1       1        1      1      1       1    1        1        2\n",
              "35     0       0        0      0      0       0    0        0        0"
            ],
            "text/html": [
              "\n",
              "  <div id=\"df-11e987ae-9001-483d-870d-ac8c4fe429bb\">\n",
              "    <div class=\"colab-df-container\">\n",
              "      <div>\n",
              "<style scoped>\n",
              "    .dataframe tbody tr th:only-of-type {\n",
              "        vertical-align: middle;\n",
              "    }\n",
              "\n",
              "    .dataframe tbody tr th {\n",
              "        vertical-align: top;\n",
              "    }\n",
              "\n",
              "    .dataframe thead th {\n",
              "        text-align: right;\n",
              "    }\n",
              "</style>\n",
              "<table border=\"1\" class=\"dataframe\">\n",
              "  <thead>\n",
              "    <tr style=\"text-align: right;\">\n",
              "      <th></th>\n",
              "      <th>COKE</th>\n",
              "      <th>D_COKE</th>\n",
              "      <th>D_PEPSI</th>\n",
              "      <th>D_7UP</th>\n",
              "      <th>PEPSI</th>\n",
              "      <th>SPRITE</th>\n",
              "      <th>TAB</th>\n",
              "      <th>SEVENUP</th>\n",
              "      <th>cluster</th>\n",
              "    </tr>\n",
              "  </thead>\n",
              "  <tbody>\n",
              "    <tr>\n",
              "      <th>34</th>\n",
              "      <td>1</td>\n",
              "      <td>1</td>\n",
              "      <td>1</td>\n",
              "      <td>1</td>\n",
              "      <td>1</td>\n",
              "      <td>1</td>\n",
              "      <td>1</td>\n",
              "      <td>1</td>\n",
              "      <td>2</td>\n",
              "    </tr>\n",
              "    <tr>\n",
              "      <th>35</th>\n",
              "      <td>0</td>\n",
              "      <td>0</td>\n",
              "      <td>0</td>\n",
              "      <td>0</td>\n",
              "      <td>0</td>\n",
              "      <td>0</td>\n",
              "      <td>0</td>\n",
              "      <td>0</td>\n",
              "      <td>0</td>\n",
              "    </tr>\n",
              "  </tbody>\n",
              "</table>\n",
              "</div>\n",
              "      <button class=\"colab-df-convert\" onclick=\"convertToInteractive('df-11e987ae-9001-483d-870d-ac8c4fe429bb')\"\n",
              "              title=\"Convert this dataframe to an interactive table.\"\n",
              "              style=\"display:none;\">\n",
              "        \n",
              "  <svg xmlns=\"http://www.w3.org/2000/svg\" height=\"24px\"viewBox=\"0 0 24 24\"\n",
              "       width=\"24px\">\n",
              "    <path d=\"M0 0h24v24H0V0z\" fill=\"none\"/>\n",
              "    <path d=\"M18.56 5.44l.94 2.06.94-2.06 2.06-.94-2.06-.94-.94-2.06-.94 2.06-2.06.94zm-11 1L8.5 8.5l.94-2.06 2.06-.94-2.06-.94L8.5 2.5l-.94 2.06-2.06.94zm10 10l.94 2.06.94-2.06 2.06-.94-2.06-.94-.94-2.06-.94 2.06-2.06.94z\"/><path d=\"M17.41 7.96l-1.37-1.37c-.4-.4-.92-.59-1.43-.59-.52 0-1.04.2-1.43.59L10.3 9.45l-7.72 7.72c-.78.78-.78 2.05 0 2.83L4 21.41c.39.39.9.59 1.41.59.51 0 1.02-.2 1.41-.59l7.78-7.78 2.81-2.81c.8-.78.8-2.07 0-2.86zM5.41 20L4 18.59l7.72-7.72 1.47 1.35L5.41 20z\"/>\n",
              "  </svg>\n",
              "      </button>\n",
              "      \n",
              "  <style>\n",
              "    .colab-df-container {\n",
              "      display:flex;\n",
              "      flex-wrap:wrap;\n",
              "      gap: 12px;\n",
              "    }\n",
              "\n",
              "    .colab-df-convert {\n",
              "      background-color: #E8F0FE;\n",
              "      border: none;\n",
              "      border-radius: 50%;\n",
              "      cursor: pointer;\n",
              "      display: none;\n",
              "      fill: #1967D2;\n",
              "      height: 32px;\n",
              "      padding: 0 0 0 0;\n",
              "      width: 32px;\n",
              "    }\n",
              "\n",
              "    .colab-df-convert:hover {\n",
              "      background-color: #E2EBFA;\n",
              "      box-shadow: 0px 1px 2px rgba(60, 64, 67, 0.3), 0px 1px 3px 1px rgba(60, 64, 67, 0.15);\n",
              "      fill: #174EA6;\n",
              "    }\n",
              "\n",
              "    [theme=dark] .colab-df-convert {\n",
              "      background-color: #3B4455;\n",
              "      fill: #D2E3FC;\n",
              "    }\n",
              "\n",
              "    [theme=dark] .colab-df-convert:hover {\n",
              "      background-color: #434B5C;\n",
              "      box-shadow: 0px 1px 3px 1px rgba(0, 0, 0, 0.15);\n",
              "      filter: drop-shadow(0px 1px 2px rgba(0, 0, 0, 0.3));\n",
              "      fill: #FFFFFF;\n",
              "    }\n",
              "  </style>\n",
              "\n",
              "      <script>\n",
              "        const buttonEl =\n",
              "          document.querySelector('#df-11e987ae-9001-483d-870d-ac8c4fe429bb button.colab-df-convert');\n",
              "        buttonEl.style.display =\n",
              "          google.colab.kernel.accessAllowed ? 'block' : 'none';\n",
              "\n",
              "        async function convertToInteractive(key) {\n",
              "          const element = document.querySelector('#df-11e987ae-9001-483d-870d-ac8c4fe429bb');\n",
              "          const dataTable =\n",
              "            await google.colab.kernel.invokeFunction('convertToInteractive',\n",
              "                                                     [key], {});\n",
              "          if (!dataTable) return;\n",
              "\n",
              "          const docLinkHtml = 'Like what you see? Visit the ' +\n",
              "            '<a target=\"_blank\" href=https://colab.research.google.com/notebooks/data_table.ipynb>data table notebook</a>'\n",
              "            + ' to learn more about interactive tables.';\n",
              "          element.innerHTML = '';\n",
              "          dataTable['output_type'] = 'display_data';\n",
              "          await google.colab.output.renderOutput(dataTable, element);\n",
              "          const docLink = document.createElement('div');\n",
              "          docLink.innerHTML = docLinkHtml;\n",
              "          element.appendChild(docLink);\n",
              "        }\n",
              "      </script>\n",
              "    </div>\n",
              "  </div>\n",
              "  "
            ]
          },
          "metadata": {},
          "execution_count": 87
        }
      ]
    },
    {
      "cell_type": "markdown",
      "source": [
        "Объект, который пил все, попал во 2 группу - любителей всего\n",
        "\n",
        "Второй объект попал в 0 группу - фанатов пепси и колы"
      ],
      "metadata": {
        "id": "-_34MKaba6Bb"
      }
    },
    {
      "cell_type": "markdown",
      "source": [
        "# Кластеризация претендентов на работу\n",
        "Есть претенденты, навыки которых оценивали по 10-бальной шкале. Проверялись следующие качества:\n",
        "\n",
        "- Память на числа\n",
        "- Умение решать математические задачи\n",
        "- Находчивость при прямом диалоге\n",
        "- Умение составлять алгоритмы\n",
        "- Уверенность во время выступления\n",
        "- Командный дух\n",
        "- Находчивость\n",
        "- Сотрудничество\n",
        "- Признание в коллективе\n",
        "- Сила убеждения"
      ],
      "metadata": {
        "id": "Ws7QgQubdP4j"
      }
    },
    {
      "cell_type": "code",
      "source": [
        "# https://drive.google.com/file/d/156pIWPFH8JcqJoc9CI8OrHd0qqhluvQM/view?usp=share_link\n",
        "!gdown 156pIWPFH8JcqJoc9CI8OrHd0qqhluvQM"
      ],
      "metadata": {
        "colab": {
          "base_uri": "https://localhost:8080/"
        },
        "id": "h2nxs191eZ0s",
        "outputId": "d0f11eba-430b-430d-a1ce-0fbdb0a030d6"
      },
      "execution_count": 88,
      "outputs": [
        {
          "output_type": "stream",
          "name": "stdout",
          "text": [
            "Downloading...\n",
            "From: https://drive.google.com/uc?id=156pIWPFH8JcqJoc9CI8OrHd0qqhluvQM\n",
            "To: /content/assess.dat\n",
            "\r  0% 0.00/656 [00:00<?, ?B/s]\r100% 656/656 [00:00<00:00, 1.02MB/s]\n"
          ]
        }
      ]
    },
    {
      "cell_type": "code",
      "source": [
        "df2 = pd.read_csv('/content/assess.dat', sep='\\t', index_col=['NR' ,'NAME'])\n",
        "df2.head()"
      ],
      "metadata": {
        "colab": {
          "base_uri": "https://localhost:8080/",
          "height": 237
        },
        "id": "Uksnki-TdPBF",
        "outputId": "6832ef98-3ab0-4c2b-c722-610c8c43d318"
      },
      "execution_count": 92,
      "outputs": [
        {
          "output_type": "execute_result",
          "data": {
            "text/plain": [
              "           T1  T2  T3  T4  T5  T6  T7  T8  T9  T10\n",
              "NR NAME                                           \n",
              "1  Volker  10  10   9  10  10  10   9  10  10    9\n",
              "2  Sigrid  10  10   4  10   5   5   4   5   4    3\n",
              "3  Elmar    5   4  10   5  10   4  10   5   3   10\n",
              "4  Peter   10  10   9  10  10  10   9  10  10    9\n",
              "5  Otto     4   3   5   4   3  10   4  10  10    5"
            ],
            "text/html": [
              "\n",
              "  <div id=\"df-5d21e9f9-557c-4932-965e-b7e4532d92ec\">\n",
              "    <div class=\"colab-df-container\">\n",
              "      <div>\n",
              "<style scoped>\n",
              "    .dataframe tbody tr th:only-of-type {\n",
              "        vertical-align: middle;\n",
              "    }\n",
              "\n",
              "    .dataframe tbody tr th {\n",
              "        vertical-align: top;\n",
              "    }\n",
              "\n",
              "    .dataframe thead th {\n",
              "        text-align: right;\n",
              "    }\n",
              "</style>\n",
              "<table border=\"1\" class=\"dataframe\">\n",
              "  <thead>\n",
              "    <tr style=\"text-align: right;\">\n",
              "      <th></th>\n",
              "      <th></th>\n",
              "      <th>T1</th>\n",
              "      <th>T2</th>\n",
              "      <th>T3</th>\n",
              "      <th>T4</th>\n",
              "      <th>T5</th>\n",
              "      <th>T6</th>\n",
              "      <th>T7</th>\n",
              "      <th>T8</th>\n",
              "      <th>T9</th>\n",
              "      <th>T10</th>\n",
              "    </tr>\n",
              "    <tr>\n",
              "      <th>NR</th>\n",
              "      <th>NAME</th>\n",
              "      <th></th>\n",
              "      <th></th>\n",
              "      <th></th>\n",
              "      <th></th>\n",
              "      <th></th>\n",
              "      <th></th>\n",
              "      <th></th>\n",
              "      <th></th>\n",
              "      <th></th>\n",
              "      <th></th>\n",
              "    </tr>\n",
              "  </thead>\n",
              "  <tbody>\n",
              "    <tr>\n",
              "      <th>1</th>\n",
              "      <th>Volker</th>\n",
              "      <td>10</td>\n",
              "      <td>10</td>\n",
              "      <td>9</td>\n",
              "      <td>10</td>\n",
              "      <td>10</td>\n",
              "      <td>10</td>\n",
              "      <td>9</td>\n",
              "      <td>10</td>\n",
              "      <td>10</td>\n",
              "      <td>9</td>\n",
              "    </tr>\n",
              "    <tr>\n",
              "      <th>2</th>\n",
              "      <th>Sigrid</th>\n",
              "      <td>10</td>\n",
              "      <td>10</td>\n",
              "      <td>4</td>\n",
              "      <td>10</td>\n",
              "      <td>5</td>\n",
              "      <td>5</td>\n",
              "      <td>4</td>\n",
              "      <td>5</td>\n",
              "      <td>4</td>\n",
              "      <td>3</td>\n",
              "    </tr>\n",
              "    <tr>\n",
              "      <th>3</th>\n",
              "      <th>Elmar</th>\n",
              "      <td>5</td>\n",
              "      <td>4</td>\n",
              "      <td>10</td>\n",
              "      <td>5</td>\n",
              "      <td>10</td>\n",
              "      <td>4</td>\n",
              "      <td>10</td>\n",
              "      <td>5</td>\n",
              "      <td>3</td>\n",
              "      <td>10</td>\n",
              "    </tr>\n",
              "    <tr>\n",
              "      <th>4</th>\n",
              "      <th>Peter</th>\n",
              "      <td>10</td>\n",
              "      <td>10</td>\n",
              "      <td>9</td>\n",
              "      <td>10</td>\n",
              "      <td>10</td>\n",
              "      <td>10</td>\n",
              "      <td>9</td>\n",
              "      <td>10</td>\n",
              "      <td>10</td>\n",
              "      <td>9</td>\n",
              "    </tr>\n",
              "    <tr>\n",
              "      <th>5</th>\n",
              "      <th>Otto</th>\n",
              "      <td>4</td>\n",
              "      <td>3</td>\n",
              "      <td>5</td>\n",
              "      <td>4</td>\n",
              "      <td>3</td>\n",
              "      <td>10</td>\n",
              "      <td>4</td>\n",
              "      <td>10</td>\n",
              "      <td>10</td>\n",
              "      <td>5</td>\n",
              "    </tr>\n",
              "  </tbody>\n",
              "</table>\n",
              "</div>\n",
              "      <button class=\"colab-df-convert\" onclick=\"convertToInteractive('df-5d21e9f9-557c-4932-965e-b7e4532d92ec')\"\n",
              "              title=\"Convert this dataframe to an interactive table.\"\n",
              "              style=\"display:none;\">\n",
              "        \n",
              "  <svg xmlns=\"http://www.w3.org/2000/svg\" height=\"24px\"viewBox=\"0 0 24 24\"\n",
              "       width=\"24px\">\n",
              "    <path d=\"M0 0h24v24H0V0z\" fill=\"none\"/>\n",
              "    <path d=\"M18.56 5.44l.94 2.06.94-2.06 2.06-.94-2.06-.94-.94-2.06-.94 2.06-2.06.94zm-11 1L8.5 8.5l.94-2.06 2.06-.94-2.06-.94L8.5 2.5l-.94 2.06-2.06.94zm10 10l.94 2.06.94-2.06 2.06-.94-2.06-.94-.94-2.06-.94 2.06-2.06.94z\"/><path d=\"M17.41 7.96l-1.37-1.37c-.4-.4-.92-.59-1.43-.59-.52 0-1.04.2-1.43.59L10.3 9.45l-7.72 7.72c-.78.78-.78 2.05 0 2.83L4 21.41c.39.39.9.59 1.41.59.51 0 1.02-.2 1.41-.59l7.78-7.78 2.81-2.81c.8-.78.8-2.07 0-2.86zM5.41 20L4 18.59l7.72-7.72 1.47 1.35L5.41 20z\"/>\n",
              "  </svg>\n",
              "      </button>\n",
              "      \n",
              "  <style>\n",
              "    .colab-df-container {\n",
              "      display:flex;\n",
              "      flex-wrap:wrap;\n",
              "      gap: 12px;\n",
              "    }\n",
              "\n",
              "    .colab-df-convert {\n",
              "      background-color: #E8F0FE;\n",
              "      border: none;\n",
              "      border-radius: 50%;\n",
              "      cursor: pointer;\n",
              "      display: none;\n",
              "      fill: #1967D2;\n",
              "      height: 32px;\n",
              "      padding: 0 0 0 0;\n",
              "      width: 32px;\n",
              "    }\n",
              "\n",
              "    .colab-df-convert:hover {\n",
              "      background-color: #E2EBFA;\n",
              "      box-shadow: 0px 1px 2px rgba(60, 64, 67, 0.3), 0px 1px 3px 1px rgba(60, 64, 67, 0.15);\n",
              "      fill: #174EA6;\n",
              "    }\n",
              "\n",
              "    [theme=dark] .colab-df-convert {\n",
              "      background-color: #3B4455;\n",
              "      fill: #D2E3FC;\n",
              "    }\n",
              "\n",
              "    [theme=dark] .colab-df-convert:hover {\n",
              "      background-color: #434B5C;\n",
              "      box-shadow: 0px 1px 3px 1px rgba(0, 0, 0, 0.15);\n",
              "      filter: drop-shadow(0px 1px 2px rgba(0, 0, 0, 0.3));\n",
              "      fill: #FFFFFF;\n",
              "    }\n",
              "  </style>\n",
              "\n",
              "      <script>\n",
              "        const buttonEl =\n",
              "          document.querySelector('#df-5d21e9f9-557c-4932-965e-b7e4532d92ec button.colab-df-convert');\n",
              "        buttonEl.style.display =\n",
              "          google.colab.kernel.accessAllowed ? 'block' : 'none';\n",
              "\n",
              "        async function convertToInteractive(key) {\n",
              "          const element = document.querySelector('#df-5d21e9f9-557c-4932-965e-b7e4532d92ec');\n",
              "          const dataTable =\n",
              "            await google.colab.kernel.invokeFunction('convertToInteractive',\n",
              "                                                     [key], {});\n",
              "          if (!dataTable) return;\n",
              "\n",
              "          const docLinkHtml = 'Like what you see? Visit the ' +\n",
              "            '<a target=\"_blank\" href=https://colab.research.google.com/notebooks/data_table.ipynb>data table notebook</a>'\n",
              "            + ' to learn more about interactive tables.';\n",
              "          element.innerHTML = '';\n",
              "          dataTable['output_type'] = 'display_data';\n",
              "          await google.colab.output.renderOutput(dataTable, element);\n",
              "          const docLink = document.createElement('div');\n",
              "          docLink.innerHTML = docLinkHtml;\n",
              "          element.appendChild(docLink);\n",
              "        }\n",
              "      </script>\n",
              "    </div>\n",
              "  </div>\n",
              "  "
            ]
          },
          "metadata": {},
          "execution_count": 92
        }
      ]
    },
    {
      "cell_type": "markdown",
      "source": [
        "Все данные измерены в одной шкале, стандартизация не нужна. Начнем кластеризацию"
      ],
      "metadata": {
        "id": "8ptmJB70ejEJ"
      }
    },
    {
      "cell_type": "code",
      "source": [
        "K = range(1, 11)\n",
        "\n",
        "# вычисляем значения критерия качества для разного числа кластеров\n",
        "models = [KMeans(n_clusters=k, random_state=42).fit(df2) for k in K]\n",
        "dist = [model.inertia_ for model in models]\n",
        "\n",
        "plt.plot(K, dist, marker='o')\n",
        "plt.xlabel('Число кластеров')\n",
        "plt.ylabel('Сумма квадратов расстояний')\n",
        "plt.title('График каменистой осыпи')\n",
        "plt.show()"
      ],
      "metadata": {
        "colab": {
          "base_uri": "https://localhost:8080/",
          "height": 295
        },
        "id": "z1eC1MkIfE4L",
        "outputId": "2b48aa7a-cc5c-4c30-f509-5eb3891b7225"
      },
      "execution_count": 93,
      "outputs": [
        {
          "output_type": "display_data",
          "data": {
            "text/plain": [
              "<Figure size 432x288 with 1 Axes>"
            ],
            "image/png": "[encoded data removed]"
          },
          "metadata": {
            "needs_background": "light"
          }
        }
      ]
    },
    {
      "cell_type": "markdown",
      "source": [
        "Очевиден вариант с 4 кластерами"
      ],
      "metadata": {
        "id": "6v1eKQCRfNb6"
      }
    },
    {
      "cell_type": "code",
      "source": [
        "model = KMeans(n_clusters=4,\n",
        "               random_state=42,\n",
        "               max_iter=300,\n",
        "               n_init=10,\n",
        "               verbose=0)"
      ],
      "metadata": {
        "id": "_nZPGHxqfud0"
      },
      "execution_count": 95,
      "outputs": []
    },
    {
      "cell_type": "code",
      "source": [
        "model.fit(df2)"
      ],
      "metadata": {
        "colab": {
          "base_uri": "https://localhost:8080/",
          "height": 74
        },
        "id": "C_wNUbPJfukO",
        "outputId": "b666d996-c601-4d51-8374-d60cd6ac5750"
      },
      "execution_count": 97,
      "outputs": [
        {
          "output_type": "execute_result",
          "data": {
            "text/plain": [
              "KMeans(n_clusters=4, n_init=10, random_state=42)"
            ],
            "text/html": [
              "<style>#sk-container-id-7 {color: black;background-color: white;}#sk-container-id-7 pre{padding: 0;}#sk-container-id-7 div.sk-toggleable {background-color: white;}#sk-container-id-7 label.sk-toggleable__label {cursor: pointer;display: block;width: 100%;margin-bottom: 0;padding: 0.3em;box-sizing: border-box;text-align: center;}#sk-container-id-7 label.sk-toggleable__label-arrow:before {content: \"▸\";float: left;margin-right: 0.25em;color: #696969;}#sk-container-id-7 label.sk-toggleable__label-arrow:hover:before {color: black;}#sk-container-id-7 div.sk-estimator:hover label.sk-toggleable__label-arrow:before {color: black;}#sk-container-id-7 div.sk-toggleable__content {max-height: 0;max-width: 0;overflow: hidden;text-align: left;background-color: #f0f8ff;}#sk-container-id-7 div.sk-toggleable__content pre {margin: 0.2em;color: black;border-radius: 0.25em;background-color: #f0f8ff;}#sk-container-id-7 input.sk-toggleable__control:checked~div.sk-toggleable__content {max-height: 200px;max-width: 100%;overflow: auto;}#sk-container-id-7 input.sk-toggleable__control:checked~label.sk-toggleable__label-arrow:before {content: \"▾\";}#sk-container-id-7 div.sk-estimator input.sk-toggleable__control:checked~label.sk-toggleable__label {background-color: #d4ebff;}#sk-container-id-7 div.sk-label input.sk-toggleable__control:checked~label.sk-toggleable__label {background-color: #d4ebff;}#sk-container-id-7 input.sk-hidden--visually {border: 0;clip: rect(1px 1px 1px 1px);clip: rect(1px, 1px, 1px, 1px);height: 1px;margin: -1px;overflow: hidden;padding: 0;position: absolute;width: 1px;}#sk-container-id-7 div.sk-estimator {font-family: monospace;background-color: #f0f8ff;border: 1px dotted black;border-radius: 0.25em;box-sizing: border-box;margin-bottom: 0.5em;}#sk-container-id-7 div.sk-estimator:hover {background-color: #d4ebff;}#sk-container-id-7 div.sk-parallel-item::after {content: \"\";width: 100%;border-bottom: 1px solid gray;flex-grow: 1;}#sk-container-id-7 div.sk-label:hover label.sk-toggleable__label {background-color: #d4ebff;}#sk-container-id-7 div.sk-serial::before {content: \"\";position: absolute;border-left: 1px solid gray;box-sizing: border-box;top: 0;bottom: 0;left: 50%;z-index: 0;}#sk-container-id-7 div.sk-serial {display: flex;flex-direction: column;align-items: center;background-color: white;padding-right: 0.2em;padding-left: 0.2em;position: relative;}#sk-container-id-7 div.sk-item {position: relative;z-index: 1;}#sk-container-id-7 div.sk-parallel {display: flex;align-items: stretch;justify-content: center;background-color: white;position: relative;}#sk-container-id-7 div.sk-item::before, #sk-container-id-7 div.sk-parallel-item::before {content: \"\";position: absolute;border-left: 1px solid gray;box-sizing: border-box;top: 0;bottom: 0;left: 50%;z-index: -1;}#sk-container-id-7 div.sk-parallel-item {display: flex;flex-direction: column;z-index: 1;position: relative;background-color: white;}#sk-container-id-7 div.sk-parallel-item:first-child::after {align-self: flex-end;width: 50%;}#sk-container-id-7 div.sk-parallel-item:last-child::after {align-self: flex-start;width: 50%;}#sk-container-id-7 div.sk-parallel-item:only-child::after {width: 0;}#sk-container-id-7 div.sk-dashed-wrapped {border: 1px dashed gray;margin: 0 0.4em 0.5em 0.4em;box-sizing: border-box;padding-bottom: 0.4em;background-color: white;}#sk-container-id-7 div.sk-label label {font-family: monospace;font-weight: bold;display: inline-block;line-height: 1.2em;}#sk-container-id-7 div.sk-label-container {text-align: center;}#sk-container-id-7 div.sk-container {/* jupyter's `normalize.less` sets `[hidden] { display: none; }` but bootstrap.min.css set `[hidden] { display: none !important; }` so we also need the `!important` here to be able to override the default hidden behavior on the sphinx rendered scikit-learn.org. See: https://github.com/scikit-learn/scikit-learn/issues/21755 */display: inline-block !important;position: relative;}#sk-container-id-7 div.sk-text-repr-fallback {display: none;}</style><div id=\"sk-container-id-7\" class=\"sk-top-container\"><div class=\"sk-text-repr-fallback\"><pre>KMeans(n_clusters=4, n_init=10, random_state=42)</pre><b>In a Jupyter environment, please rerun this cell to show the HTML representation or trust the notebook. <br />On GitHub, the HTML representation is unable to render, please try loading this page with nbviewer.org.</b></div><div class=\"sk-container\" hidden><div class=\"sk-item\"><div class=\"sk-estimator sk-toggleable\"><input class=\"sk-toggleable__control sk-hidden--visually\" id=\"sk-estimator-id-7\" type=\"checkbox\" checked><label for=\"sk-estimator-id-7\" class=\"sk-toggleable__label sk-toggleable__label-arrow\">KMeans</label><div class=\"sk-toggleable__content\"><pre>KMeans(n_clusters=4, n_init=10, random_state=42)</pre></div></div></div></div></div>"
            ]
          },
          "metadata": {},
          "execution_count": 97
        }
      ]
    },
    {
      "cell_type": "code",
      "source": [
        "if model.n_iter_ == 300:\n",
        "    print(f'не сошлось за {model_1_2.n_iter_} итераций')\n",
        "else:\n",
        "    print(f'сошлось за {model_1_2.n_iter_} итераций')"
      ],
      "metadata": {
        "colab": {
          "base_uri": "https://localhost:8080/"
        },
        "id": "2sa9J9i1gKlZ",
        "outputId": "322d0361-1272-43fd-ab77-3ed17e7f69aa"
      },
      "execution_count": 98,
      "outputs": [
        {
          "output_type": "stream",
          "name": "stdout",
          "text": [
            "сошлось за 3 итераций\n"
          ]
        }
      ]
    },
    {
      "cell_type": "code",
      "source": [
        "df2['cluster'] = model.labels_"
      ],
      "metadata": {
        "id": "2mnY2OmdgXSh"
      },
      "execution_count": 99,
      "outputs": []
    },
    {
      "cell_type": "code",
      "source": [
        "df2.groupby('cluster').mean()"
      ],
      "metadata": {
        "colab": {
          "base_uri": "https://localhost:8080/",
          "height": 206
        },
        "id": "Ud2ZdEqCgeaB",
        "outputId": "0d196483-9e6c-4a21-b792-3e1474807bf4"
      },
      "execution_count": 100,
      "outputs": [
        {
          "output_type": "execute_result",
          "data": {
            "text/plain": [
              "           T1    T2     T3    T4     T5    T6     T7     T8     T9    T10\n",
              "cluster                                                                  \n",
              "0         4.8   4.4   4.00   4.0   4.20  10.0   4.40  10.00  10.00   5.00\n",
              "1         4.2   4.8  10.00   4.4  10.00   4.4  10.00   4.00   3.80  10.00\n",
              "2        10.0  10.0   4.25  10.0   4.75   4.5   3.75   4.25   4.25   4.25\n",
              "3        10.0  10.0   9.00  10.0  10.00   9.5   9.25   9.75  10.00   9.50"
            ],
            "text/html": [
              "\n",
              "  <div id=\"df-b3c4e028-71b8-4f85-88bc-27c44cd3b989\">\n",
              "    <div class=\"colab-df-container\">\n",
              "      <div>\n",
              "<style scoped>\n",
              "    .dataframe tbody tr th:only-of-type {\n",
              "        vertical-align: middle;\n",
              "    }\n",
              "\n",
              "    .dataframe tbody tr th {\n",
              "        vertical-align: top;\n",
              "    }\n",
              "\n",
              "    .dataframe thead th {\n",
              "        text-align: right;\n",
              "    }\n",
              "</style>\n",
              "<table border=\"1\" class=\"dataframe\">\n",
              "  <thead>\n",
              "    <tr style=\"text-align: right;\">\n",
              "      <th></th>\n",
              "      <th>T1</th>\n",
              "      <th>T2</th>\n",
              "      <th>T3</th>\n",
              "      <th>T4</th>\n",
              "      <th>T5</th>\n",
              "      <th>T6</th>\n",
              "      <th>T7</th>\n",
              "      <th>T8</th>\n",
              "      <th>T9</th>\n",
              "      <th>T10</th>\n",
              "    </tr>\n",
              "    <tr>\n",
              "      <th>cluster</th>\n",
              "      <th></th>\n",
              "      <th></th>\n",
              "      <th></th>\n",
              "      <th></th>\n",
              "      <th></th>\n",
              "      <th></th>\n",
              "      <th></th>\n",
              "      <th></th>\n",
              "      <th></th>\n",
              "      <th></th>\n",
              "    </tr>\n",
              "  </thead>\n",
              "  <tbody>\n",
              "    <tr>\n",
              "      <th>0</th>\n",
              "      <td>4.8</td>\n",
              "      <td>4.4</td>\n",
              "      <td>4.00</td>\n",
              "      <td>4.0</td>\n",
              "      <td>4.20</td>\n",
              "      <td>10.0</td>\n",
              "      <td>4.40</td>\n",
              "      <td>10.00</td>\n",
              "      <td>10.00</td>\n",
              "      <td>5.00</td>\n",
              "    </tr>\n",
              "    <tr>\n",
              "      <th>1</th>\n",
              "      <td>4.2</td>\n",
              "      <td>4.8</td>\n",
              "      <td>10.00</td>\n",
              "      <td>4.4</td>\n",
              "      <td>10.00</td>\n",
              "      <td>4.4</td>\n",
              "      <td>10.00</td>\n",
              "      <td>4.00</td>\n",
              "      <td>3.80</td>\n",
              "      <td>10.00</td>\n",
              "    </tr>\n",
              "    <tr>\n",
              "      <th>2</th>\n",
              "      <td>10.0</td>\n",
              "      <td>10.0</td>\n",
              "      <td>4.25</td>\n",
              "      <td>10.0</td>\n",
              "      <td>4.75</td>\n",
              "      <td>4.5</td>\n",
              "      <td>3.75</td>\n",
              "      <td>4.25</td>\n",
              "      <td>4.25</td>\n",
              "      <td>4.25</td>\n",
              "    </tr>\n",
              "    <tr>\n",
              "      <th>3</th>\n",
              "      <td>10.0</td>\n",
              "      <td>10.0</td>\n",
              "      <td>9.00</td>\n",
              "      <td>10.0</td>\n",
              "      <td>10.00</td>\n",
              "      <td>9.5</td>\n",
              "      <td>9.25</td>\n",
              "      <td>9.75</td>\n",
              "      <td>10.00</td>\n",
              "      <td>9.50</td>\n",
              "    </tr>\n",
              "  </tbody>\n",
              "</table>\n",
              "</div>\n",
              "      <button class=\"colab-df-convert\" onclick=\"convertToInteractive('df-b3c4e028-71b8-4f85-88bc-27c44cd3b989')\"\n",
              "              title=\"Convert this dataframe to an interactive table.\"\n",
              "              style=\"display:none;\">\n",
              "        \n",
              "  <svg xmlns=\"http://www.w3.org/2000/svg\" height=\"24px\"viewBox=\"0 0 24 24\"\n",
              "       width=\"24px\">\n",
              "    <path d=\"M0 0h24v24H0V0z\" fill=\"none\"/>\n",
              "    <path d=\"M18.56 5.44l.94 2.06.94-2.06 2.06-.94-2.06-.94-.94-2.06-.94 2.06-2.06.94zm-11 1L8.5 8.5l.94-2.06 2.06-.94-2.06-.94L8.5 2.5l-.94 2.06-2.06.94zm10 10l.94 2.06.94-2.06 2.06-.94-2.06-.94-.94-2.06-.94 2.06-2.06.94z\"/><path d=\"M17.41 7.96l-1.37-1.37c-.4-.4-.92-.59-1.43-.59-.52 0-1.04.2-1.43.59L10.3 9.45l-7.72 7.72c-.78.78-.78 2.05 0 2.83L4 21.41c.39.39.9.59 1.41.59.51 0 1.02-.2 1.41-.59l7.78-7.78 2.81-2.81c.8-.78.8-2.07 0-2.86zM5.41 20L4 18.59l7.72-7.72 1.47 1.35L5.41 20z\"/>\n",
              "  </svg>\n",
              "      </button>\n",
              "      \n",
              "  <style>\n",
              "    .colab-df-container {\n",
              "      display:flex;\n",
              "      flex-wrap:wrap;\n",
              "      gap: 12px;\n",
              "    }\n",
              "\n",
              "    .colab-df-convert {\n",
              "      background-color: #E8F0FE;\n",
              "      border: none;\n",
              "      border-radius: 50%;\n",
              "      cursor: pointer;\n",
              "      display: none;\n",
              "      fill: #1967D2;\n",
              "      height: 32px;\n",
              "      padding: 0 0 0 0;\n",
              "      width: 32px;\n",
              "    }\n",
              "\n",
              "    .colab-df-convert:hover {\n",
              "      background-color: #E2EBFA;\n",
              "      box-shadow: 0px 1px 2px rgba(60, 64, 67, 0.3), 0px 1px 3px 1px rgba(60, 64, 67, 0.15);\n",
              "      fill: #174EA6;\n",
              "    }\n",
              "\n",
              "    [theme=dark] .colab-df-convert {\n",
              "      background-color: #3B4455;\n",
              "      fill: #D2E3FC;\n",
              "    }\n",
              "\n",
              "    [theme=dark] .colab-df-convert:hover {\n",
              "      background-color: #434B5C;\n",
              "      box-shadow: 0px 1px 3px 1px rgba(0, 0, 0, 0.15);\n",
              "      filter: drop-shadow(0px 1px 2px rgba(0, 0, 0, 0.3));\n",
              "      fill: #FFFFFF;\n",
              "    }\n",
              "  </style>\n",
              "\n",
              "      <script>\n",
              "        const buttonEl =\n",
              "          document.querySelector('#df-b3c4e028-71b8-4f85-88bc-27c44cd3b989 button.colab-df-convert');\n",
              "        buttonEl.style.display =\n",
              "          google.colab.kernel.accessAllowed ? 'block' : 'none';\n",
              "\n",
              "        async function convertToInteractive(key) {\n",
              "          const element = document.querySelector('#df-b3c4e028-71b8-4f85-88bc-27c44cd3b989');\n",
              "          const dataTable =\n",
              "            await google.colab.kernel.invokeFunction('convertToInteractive',\n",
              "                                                     [key], {});\n",
              "          if (!dataTable) return;\n",
              "\n",
              "          const docLinkHtml = 'Like what you see? Visit the ' +\n",
              "            '<a target=\"_blank\" href=https://colab.research.google.com/notebooks/data_table.ipynb>data table notebook</a>'\n",
              "            + ' to learn more about interactive tables.';\n",
              "          element.innerHTML = '';\n",
              "          dataTable['output_type'] = 'display_data';\n",
              "          await google.colab.output.renderOutput(dataTable, element);\n",
              "          const docLink = document.createElement('div');\n",
              "          docLink.innerHTML = docLinkHtml;\n",
              "          element.appendChild(docLink);\n",
              "        }\n",
              "      </script>\n",
              "    </div>\n",
              "  </div>\n",
              "  "
            ]
          },
          "metadata": {},
          "execution_count": 100
        }
      ]
    },
    {
      "cell_type": "markdown",
      "source": [
        "Вариант при иерархическом анализе:\n",
        "\n",
        "![image.png](data:image/png;base64,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)"
      ],
      "metadata": {
        "id": "1Ni7Rn_XgtZG"
      }
    },
    {
      "cell_type": "markdown",
      "source": [
        "В данном случае все сошлось. Интерпретация:\n",
        "- 1 кластер: люди с сильными коммуникативными функциями, умеют вести переговоры\n",
        "- 2 кластер: командные игроки, лидеры\n",
        "- 3 кластер: математики без каких либо дополнительных талантов\n",
        "- 4 кластер: математики с с сильными навыками публичных выступлений, а также навыками общения и при этом лидеры. Идеальные кандидаты без слабых мест\n",
        "\n",
        "# Потребление еды в разных странах\n",
        "Объекты - страны Европы 20 века с расходами на разные виды питания\n"
      ],
      "metadata": {
        "id": "LOs_2L9Hgswt"
      }
    },
    {
      "cell_type": "code",
      "source": [
        "# https://drive.google.com/file/d/1xOWurEuwIuW7MIqIA-prc92loHexXY7I/view?usp=share_link\n",
        "! gdown 1xOWurEuwIuW7MIqIA-prc92loHexXY7I"
      ],
      "metadata": {
        "colab": {
          "base_uri": "https://localhost:8080/"
        },
        "id": "6tvwWEEegjb5",
        "outputId": "511afdc4-6aa0-4e0e-943b-969411ecdce7"
      },
      "execution_count": 101,
      "outputs": [
        {
          "output_type": "stream",
          "name": "stdout",
          "text": [
            "Downloading...\n",
            "From: https://drive.google.com/uc?id=1xOWurEuwIuW7MIqIA-prc92loHexXY7I\n",
            "To: /content/Protein Consumption in Europe.csv\n",
            "\r  0% 0.00/1.22k [00:00<?, ?B/s]\r100% 1.22k/1.22k [00:00<00:00, 1.65MB/s]\n"
          ]
        }
      ]
    },
    {
      "cell_type": "code",
      "source": [
        "df3 = pd.read_csv('/content/Protein Consumption in Europe.csv', sep=';', index_col='Country', decimal=',')\n",
        "df3.head()"
      ],
      "metadata": {
        "colab": {
          "base_uri": "https://localhost:8080/",
          "height": 237
        },
        "id": "DmcoJsiOivaQ",
        "outputId": "8bb652f8-8b2b-4428-dd41-f121452ea98d"
      },
      "execution_count": 107,
      "outputs": [
        {
          "output_type": "execute_result",
          "data": {
            "text/plain": [
              "                RedMeat  WhiteMeat  Eggs  Milk  Fish  Cereals  Starch  Nuts  \\\n",
              "Country                                                                       \n",
              "Albania            10.1        1.4   0.5   8.9   0.2     42.3     0.6   5.5   \n",
              "Austria             8.9       14.0   4.3  19.9   2.1     28.0     3.6   1.3   \n",
              "Belgium            13.5        9.3   4.1  17.5   4.5     26.6     5.7   2.1   \n",
              "Bulgaria            7.8        6.0   1.6   8.3   1.2     56.7     1.1   3.7   \n",
              "Czechoslovakia      9.7       11.4   2.8  12.5   2.0     34.3     5.0   1.1   \n",
              "\n",
              "                Fr&Veg  \n",
              "Country                 \n",
              "Albania            1.7  \n",
              "Austria            4.3  \n",
              "Belgium            4.0  \n",
              "Bulgaria           4.2  \n",
              "Czechoslovakia     4.0  "
            ],
            "text/html": [
              "\n",
              "  <div id=\"df-b9969713-6812-4df9-bdc4-46d69a03c952\">\n",
              "    <div class=\"colab-df-container\">\n",
              "      <div>\n",
              "<style scoped>\n",
              "    .dataframe tbody tr th:only-of-type {\n",
              "        vertical-align: middle;\n",
              "    }\n",
              "\n",
              "    .dataframe tbody tr th {\n",
              "        vertical-align: top;\n",
              "    }\n",
              "\n",
              "    .dataframe thead th {\n",
              "        text-align: right;\n",
              "    }\n",
              "</style>\n",
              "<table border=\"1\" class=\"dataframe\">\n",
              "  <thead>\n",
              "    <tr style=\"text-align: right;\">\n",
              "      <th></th>\n",
              "      <th>RedMeat</th>\n",
              "      <th>WhiteMeat</th>\n",
              "      <th>Eggs</th>\n",
              "      <th>Milk</th>\n",
              "      <th>Fish</th>\n",
              "      <th>Cereals</th>\n",
              "      <th>Starch</th>\n",
              "      <th>Nuts</th>\n",
              "      <th>Fr&amp;Veg</th>\n",
              "    </tr>\n",
              "    <tr>\n",
              "      <th>Country</th>\n",
              "      <th></th>\n",
              "      <th></th>\n",
              "      <th></th>\n",
              "      <th></th>\n",
              "      <th></th>\n",
              "      <th></th>\n",
              "      <th></th>\n",
              "      <th></th>\n",
              "      <th></th>\n",
              "    </tr>\n",
              "  </thead>\n",
              "  <tbody>\n",
              "    <tr>\n",
              "      <th>Albania</th>\n",
              "      <td>10.1</td>\n",
              "      <td>1.4</td>\n",
              "      <td>0.5</td>\n",
              "      <td>8.9</td>\n",
              "      <td>0.2</td>\n",
              "      <td>42.3</td>\n",
              "      <td>0.6</td>\n",
              "      <td>5.5</td>\n",
              "      <td>1.7</td>\n",
              "    </tr>\n",
              "    <tr>\n",
              "      <th>Austria</th>\n",
              "      <td>8.9</td>\n",
              "      <td>14.0</td>\n",
              "      <td>4.3</td>\n",
              "      <td>19.9</td>\n",
              "      <td>2.1</td>\n",
              "      <td>28.0</td>\n",
              "      <td>3.6</td>\n",
              "      <td>1.3</td>\n",
              "      <td>4.3</td>\n",
              "    </tr>\n",
              "    <tr>\n",
              "      <th>Belgium</th>\n",
              "      <td>13.5</td>\n",
              "      <td>9.3</td>\n",
              "      <td>4.1</td>\n",
              "      <td>17.5</td>\n",
              "      <td>4.5</td>\n",
              "      <td>26.6</td>\n",
              "      <td>5.7</td>\n",
              "      <td>2.1</td>\n",
              "      <td>4.0</td>\n",
              "    </tr>\n",
              "    <tr>\n",
              "      <th>Bulgaria</th>\n",
              "      <td>7.8</td>\n",
              "      <td>6.0</td>\n",
              "      <td>1.6</td>\n",
              "      <td>8.3</td>\n",
              "      <td>1.2</td>\n",
              "      <td>56.7</td>\n",
              "      <td>1.1</td>\n",
              "      <td>3.7</td>\n",
              "      <td>4.2</td>\n",
              "    </tr>\n",
              "    <tr>\n",
              "      <th>Czechoslovakia</th>\n",
              "      <td>9.7</td>\n",
              "      <td>11.4</td>\n",
              "      <td>2.8</td>\n",
              "      <td>12.5</td>\n",
              "      <td>2.0</td>\n",
              "      <td>34.3</td>\n",
              "      <td>5.0</td>\n",
              "      <td>1.1</td>\n",
              "      <td>4.0</td>\n",
              "    </tr>\n",
              "  </tbody>\n",
              "</table>\n",
              "</div>\n",
              "      <button class=\"colab-df-convert\" onclick=\"convertToInteractive('df-b9969713-6812-4df9-bdc4-46d69a03c952')\"\n",
              "              title=\"Convert this dataframe to an interactive table.\"\n",
              "              style=\"display:none;\">\n",
              "        \n",
              "  <svg xmlns=\"http://www.w3.org/2000/svg\" height=\"24px\"viewBox=\"0 0 24 24\"\n",
              "       width=\"24px\">\n",
              "    <path d=\"M0 0h24v24H0V0z\" fill=\"none\"/>\n",
              "    <path d=\"M18.56 5.44l.94 2.06.94-2.06 2.06-.94-2.06-.94-.94-2.06-.94 2.06-2.06.94zm-11 1L8.5 8.5l.94-2.06 2.06-.94-2.06-.94L8.5 2.5l-.94 2.06-2.06.94zm10 10l.94 2.06.94-2.06 2.06-.94-2.06-.94-.94-2.06-.94 2.06-2.06.94z\"/><path d=\"M17.41 7.96l-1.37-1.37c-.4-.4-.92-.59-1.43-.59-.52 0-1.04.2-1.43.59L10.3 9.45l-7.72 7.72c-.78.78-.78 2.05 0 2.83L4 21.41c.39.39.9.59 1.41.59.51 0 1.02-.2 1.41-.59l7.78-7.78 2.81-2.81c.8-.78.8-2.07 0-2.86zM5.41 20L4 18.59l7.72-7.72 1.47 1.35L5.41 20z\"/>\n",
              "  </svg>\n",
              "      </button>\n",
              "      \n",
              "  <style>\n",
              "    .colab-df-container {\n",
              "      display:flex;\n",
              "      flex-wrap:wrap;\n",
              "      gap: 12px;\n",
              "    }\n",
              "\n",
              "    .colab-df-convert {\n",
              "      background-color: #E8F0FE;\n",
              "      border: none;\n",
              "      border-radius: 50%;\n",
              "      cursor: pointer;\n",
              "      display: none;\n",
              "      fill: #1967D2;\n",
              "      height: 32px;\n",
              "      padding: 0 0 0 0;\n",
              "      width: 32px;\n",
              "    }\n",
              "\n",
              "    .colab-df-convert:hover {\n",
              "      background-color: #E2EBFA;\n",
              "      box-shadow: 0px 1px 2px rgba(60, 64, 67, 0.3), 0px 1px 3px 1px rgba(60, 64, 67, 0.15);\n",
              "      fill: #174EA6;\n",
              "    }\n",
              "\n",
              "    [theme=dark] .colab-df-convert {\n",
              "      background-color: #3B4455;\n",
              "      fill: #D2E3FC;\n",
              "    }\n",
              "\n",
              "    [theme=dark] .colab-df-convert:hover {\n",
              "      background-color: #434B5C;\n",
              "      box-shadow: 0px 1px 3px 1px rgba(0, 0, 0, 0.15);\n",
              "      filter: drop-shadow(0px 1px 2px rgba(0, 0, 0, 0.3));\n",
              "      fill: #FFFFFF;\n",
              "    }\n",
              "  </style>\n",
              "\n",
              "      <script>\n",
              "        const buttonEl =\n",
              "          document.querySelector('#df-b9969713-6812-4df9-bdc4-46d69a03c952 button.colab-df-convert');\n",
              "        buttonEl.style.display =\n",
              "          google.colab.kernel.accessAllowed ? 'block' : 'none';\n",
              "\n",
              "        async function convertToInteractive(key) {\n",
              "          const element = document.querySelector('#df-b9969713-6812-4df9-bdc4-46d69a03c952');\n",
              "          const dataTable =\n",
              "            await google.colab.kernel.invokeFunction('convertToInteractive',\n",
              "                                                     [key], {});\n",
              "          if (!dataTable) return;\n",
              "\n",
              "          const docLinkHtml = 'Like what you see? Visit the ' +\n",
              "            '<a target=\"_blank\" href=https://colab.research.google.com/notebooks/data_table.ipynb>data table notebook</a>'\n",
              "            + ' to learn more about interactive tables.';\n",
              "          element.innerHTML = '';\n",
              "          dataTable['output_type'] = 'display_data';\n",
              "          await google.colab.output.renderOutput(dataTable, element);\n",
              "          const docLink = document.createElement('div');\n",
              "          docLink.innerHTML = docLinkHtml;\n",
              "          element.appendChild(docLink);\n",
              "        }\n",
              "      </script>\n",
              "    </div>\n",
              "  </div>\n",
              "  "
            ]
          },
          "metadata": {},
          "execution_count": 107
        }
      ]
    },
    {
      "cell_type": "code",
      "source": [
        "df3.describe()"
      ],
      "metadata": {
        "colab": {
          "base_uri": "https://localhost:8080/",
          "height": 300
        },
        "id": "aWhW2foAjz38",
        "outputId": "f772edba-8713-4494-ecdc-5d920dfdd795"
      },
      "execution_count": 110,
      "outputs": [
        {
          "output_type": "execute_result",
          "data": {
            "text/plain": [
              "         RedMeat  WhiteMeat       Eggs       Milk       Fish    Cereals  \\\n",
              "count  25.000000  25.000000  25.000000  25.000000  25.000000  25.000000   \n",
              "mean    9.828000   7.896000   2.936000  17.112000   4.284000  32.248000   \n",
              "std     3.347078   3.694081   1.117617   7.105416   3.402533  10.974786   \n",
              "min     4.400000   1.400000   0.500000   4.900000   0.200000  18.600000   \n",
              "25%     7.800000   4.900000   2.700000  11.100000   2.100000  24.300000   \n",
              "50%     9.500000   7.800000   2.900000  17.600000   3.400000  28.000000   \n",
              "75%    10.600000  10.800000   3.700000  23.300000   5.800000  40.100000   \n",
              "max    18.000000  14.000000   4.700000  33.700000  14.200000  56.700000   \n",
              "\n",
              "          Starch       Nuts     Fr&Veg  \n",
              "count  25.000000  25.000000  25.000000  \n",
              "mean    4.276000   3.072000   4.136000  \n",
              "std     1.634085   1.985682   1.803903  \n",
              "min     0.600000   0.700000   1.400000  \n",
              "25%     3.100000   1.500000   2.900000  \n",
              "50%     4.700000   2.400000   3.800000  \n",
              "75%     5.700000   4.700000   4.900000  \n",
              "max     6.500000   7.800000   7.900000  "
            ],
            "text/html": [
              "\n",
              "  <div id=\"df-63137e0e-0440-40e4-9fe7-2614875e28fb\">\n",
              "    <div class=\"colab-df-container\">\n",
              "      <div>\n",
              "<style scoped>\n",
              "    .dataframe tbody tr th:only-of-type {\n",
              "        vertical-align: middle;\n",
              "    }\n",
              "\n",
              "    .dataframe tbody tr th {\n",
              "        vertical-align: top;\n",
              "    }\n",
              "\n",
              "    .dataframe thead th {\n",
              "        text-align: right;\n",
              "    }\n",
              "</style>\n",
              "<table border=\"1\" class=\"dataframe\">\n",
              "  <thead>\n",
              "    <tr style=\"text-align: right;\">\n",
              "      <th></th>\n",
              "      <th>RedMeat</th>\n",
              "      <th>WhiteMeat</th>\n",
              "      <th>Eggs</th>\n",
              "      <th>Milk</th>\n",
              "      <th>Fish</th>\n",
              "      <th>Cereals</th>\n",
              "      <th>Starch</th>\n",
              "      <th>Nuts</th>\n",
              "      <th>Fr&amp;Veg</th>\n",
              "    </tr>\n",
              "  </thead>\n",
              "  <tbody>\n",
              "    <tr>\n",
              "      <th>count</th>\n",
              "      <td>25.000000</td>\n",
              "      <td>25.000000</td>\n",
              "      <td>25.000000</td>\n",
              "      <td>25.000000</td>\n",
              "      <td>25.000000</td>\n",
              "      <td>25.000000</td>\n",
              "      <td>25.000000</td>\n",
              "      <td>25.000000</td>\n",
              "      <td>25.000000</td>\n",
              "    </tr>\n",
              "    <tr>\n",
              "      <th>mean</th>\n",
              "      <td>9.828000</td>\n",
              "      <td>7.896000</td>\n",
              "      <td>2.936000</td>\n",
              "      <td>17.112000</td>\n",
              "      <td>4.284000</td>\n",
              "      <td>32.248000</td>\n",
              "      <td>4.276000</td>\n",
              "      <td>3.072000</td>\n",
              "      <td>4.136000</td>\n",
              "    </tr>\n",
              "    <tr>\n",
              "      <th>std</th>\n",
              "      <td>3.347078</td>\n",
              "      <td>3.694081</td>\n",
              "      <td>1.117617</td>\n",
              "      <td>7.105416</td>\n",
              "      <td>3.402533</td>\n",
              "      <td>10.974786</td>\n",
              "      <td>1.634085</td>\n",
              "      <td>1.985682</td>\n",
              "      <td>1.803903</td>\n",
              "    </tr>\n",
              "    <tr>\n",
              "      <th>min</th>\n",
              "      <td>4.400000</td>\n",
              "      <td>1.400000</td>\n",
              "      <td>0.500000</td>\n",
              "      <td>4.900000</td>\n",
              "      <td>0.200000</td>\n",
              "      <td>18.600000</td>\n",
              "      <td>0.600000</td>\n",
              "      <td>0.700000</td>\n",
              "      <td>1.400000</td>\n",
              "    </tr>\n",
              "    <tr>\n",
              "      <th>25%</th>\n",
              "      <td>7.800000</td>\n",
              "      <td>4.900000</td>\n",
              "      <td>2.700000</td>\n",
              "      <td>11.100000</td>\n",
              "      <td>2.100000</td>\n",
              "      <td>24.300000</td>\n",
              "      <td>3.100000</td>\n",
              "      <td>1.500000</td>\n",
              "      <td>2.900000</td>\n",
              "    </tr>\n",
              "    <tr>\n",
              "      <th>50%</th>\n",
              "      <td>9.500000</td>\n",
              "      <td>7.800000</td>\n",
              "      <td>2.900000</td>\n",
              "      <td>17.600000</td>\n",
              "      <td>3.400000</td>\n",
              "      <td>28.000000</td>\n",
              "      <td>4.700000</td>\n",
              "      <td>2.400000</td>\n",
              "      <td>3.800000</td>\n",
              "    </tr>\n",
              "    <tr>\n",
              "      <th>75%</th>\n",
              "      <td>10.600000</td>\n",
              "      <td>10.800000</td>\n",
              "      <td>3.700000</td>\n",
              "      <td>23.300000</td>\n",
              "      <td>5.800000</td>\n",
              "      <td>40.100000</td>\n",
              "      <td>5.700000</td>\n",
              "      <td>4.700000</td>\n",
              "      <td>4.900000</td>\n",
              "    </tr>\n",
              "    <tr>\n",
              "      <th>max</th>\n",
              "      <td>18.000000</td>\n",
              "      <td>14.000000</td>\n",
              "      <td>4.700000</td>\n",
              "      <td>33.700000</td>\n",
              "      <td>14.200000</td>\n",
              "      <td>56.700000</td>\n",
              "      <td>6.500000</td>\n",
              "      <td>7.800000</td>\n",
              "      <td>7.900000</td>\n",
              "    </tr>\n",
              "  </tbody>\n",
              "</table>\n",
              "</div>\n",
              "      <button class=\"colab-df-convert\" onclick=\"convertToInteractive('df-63137e0e-0440-40e4-9fe7-2614875e28fb')\"\n",
              "              title=\"Convert this dataframe to an interactive table.\"\n",
              "              style=\"display:none;\">\n",
              "        \n",
              "  <svg xmlns=\"http://www.w3.org/2000/svg\" height=\"24px\"viewBox=\"0 0 24 24\"\n",
              "       width=\"24px\">\n",
              "    <path d=\"M0 0h24v24H0V0z\" fill=\"none\"/>\n",
              "    <path d=\"M18.56 5.44l.94 2.06.94-2.06 2.06-.94-2.06-.94-.94-2.06-.94 2.06-2.06.94zm-11 1L8.5 8.5l.94-2.06 2.06-.94-2.06-.94L8.5 2.5l-.94 2.06-2.06.94zm10 10l.94 2.06.94-2.06 2.06-.94-2.06-.94-.94-2.06-.94 2.06-2.06.94z\"/><path d=\"M17.41 7.96l-1.37-1.37c-.4-.4-.92-.59-1.43-.59-.52 0-1.04.2-1.43.59L10.3 9.45l-7.72 7.72c-.78.78-.78 2.05 0 2.83L4 21.41c.39.39.9.59 1.41.59.51 0 1.02-.2 1.41-.59l7.78-7.78 2.81-2.81c.8-.78.8-2.07 0-2.86zM5.41 20L4 18.59l7.72-7.72 1.47 1.35L5.41 20z\"/>\n",
              "  </svg>\n",
              "      </button>\n",
              "      \n",
              "  <style>\n",
              "    .colab-df-container {\n",
              "      display:flex;\n",
              "      flex-wrap:wrap;\n",
              "      gap: 12px;\n",
              "    }\n",
              "\n",
              "    .colab-df-convert {\n",
              "      background-color: #E8F0FE;\n",
              "      border: none;\n",
              "      border-radius: 50%;\n",
              "      cursor: pointer;\n",
              "      display: none;\n",
              "      fill: #1967D2;\n",
              "      height: 32px;\n",
              "      padding: 0 0 0 0;\n",
              "      width: 32px;\n",
              "    }\n",
              "\n",
              "    .colab-df-convert:hover {\n",
              "      background-color: #E2EBFA;\n",
              "      box-shadow: 0px 1px 2px rgba(60, 64, 67, 0.3), 0px 1px 3px 1px rgba(60, 64, 67, 0.15);\n",
              "      fill: #174EA6;\n",
              "    }\n",
              "\n",
              "    [theme=dark] .colab-df-convert {\n",
              "      background-color: #3B4455;\n",
              "      fill: #D2E3FC;\n",
              "    }\n",
              "\n",
              "    [theme=dark] .colab-df-convert:hover {\n",
              "      background-color: #434B5C;\n",
              "      box-shadow: 0px 1px 3px 1px rgba(0, 0, 0, 0.15);\n",
              "      filter: drop-shadow(0px 1px 2px rgba(0, 0, 0, 0.3));\n",
              "      fill: #FFFFFF;\n",
              "    }\n",
              "  </style>\n",
              "\n",
              "      <script>\n",
              "        const buttonEl =\n",
              "          document.querySelector('#df-63137e0e-0440-40e4-9fe7-2614875e28fb button.colab-df-convert');\n",
              "        buttonEl.style.display =\n",
              "          google.colab.kernel.accessAllowed ? 'block' : 'none';\n",
              "\n",
              "        async function convertToInteractive(key) {\n",
              "          const element = document.querySelector('#df-63137e0e-0440-40e4-9fe7-2614875e28fb');\n",
              "          const dataTable =\n",
              "            await google.colab.kernel.invokeFunction('convertToInteractive',\n",
              "                                                     [key], {});\n",
              "          if (!dataTable) return;\n",
              "\n",
              "          const docLinkHtml = 'Like what you see? Visit the ' +\n",
              "            '<a target=\"_blank\" href=https://colab.research.google.com/notebooks/data_table.ipynb>data table notebook</a>'\n",
              "            + ' to learn more about interactive tables.';\n",
              "          element.innerHTML = '';\n",
              "          dataTable['output_type'] = 'display_data';\n",
              "          await google.colab.output.renderOutput(dataTable, element);\n",
              "          const docLink = document.createElement('div');\n",
              "          docLink.innerHTML = docLinkHtml;\n",
              "          element.appendChild(docLink);\n",
              "        }\n",
              "      </script>\n",
              "    </div>\n",
              "  </div>\n",
              "  "
            ]
          },
          "metadata": {},
          "execution_count": 110
        }
      ]
    },
    {
      "cell_type": "markdown",
      "source": [
        "Проведем стандартизацию, так как данные не в одной шкале, вес будет смещен:\n",
        "- кластеризация будет больше по хлебобулочным изделиям, молоке и мясе\n",
        "- остальные особо не будут влиять на кластеризацию"
      ],
      "metadata": {
        "id": "s1mwOyY-i0OY"
      }
    },
    {
      "cell_type": "code",
      "source": [
        "# стандартизация\n",
        "norm = preprocessing.StandardScaler() # среднее 0, дисперсия 1\n",
        "norm.fit(df3)\n",
        "X = norm.transform(df3)"
      ],
      "metadata": {
        "id": "xWADOPQNjXDa"
      },
      "execution_count": 111,
      "outputs": []
    },
    {
      "cell_type": "code",
      "source": [
        "# стандартизированные поля\n",
        "pd.DataFrame(X).head()"
      ],
      "metadata": {
        "colab": {
          "base_uri": "https://localhost:8080/",
          "height": 206
        },
        "id": "l7RvY7HGjiDR",
        "outputId": "0dc81c08-1f5f-41a2-c252-fc8761797285"
      },
      "execution_count": 115,
      "outputs": [
        {
          "output_type": "execute_result",
          "data": {
            "text/plain": [
              "          0         1         2         3         4         5         6  \\\n",
              "0  0.082941 -1.794750 -2.224584 -1.179570 -1.225033  0.934804 -2.295965   \n",
              "1 -0.282974  1.686446  1.245621  0.400468 -0.655111 -0.395051 -0.422218   \n",
              "2  1.119699  0.387905  1.062979  0.055732  0.064791 -0.525246  0.889405   \n",
              "3 -0.618396 -0.523837 -1.220051 -1.265754 -0.925074  2.273959 -1.983674   \n",
              "4 -0.039031  0.968104 -0.124197 -0.662467 -0.685107  0.190830  0.452198   \n",
              "\n",
              "          7         8  \n",
              "0  1.247968 -1.378251  \n",
              "1 -0.910790  0.092789  \n",
              "2 -0.499598 -0.076947  \n",
              "3  0.322786  0.036210  \n",
              "4 -1.013588 -0.076947  "
            ],
            "text/html": [
              "\n",
              "  <div id=\"df-3071bd39-e248-4a3f-8433-0317b3874b75\">\n",
              "    <div class=\"colab-df-container\">\n",
              "      <div>\n",
              "<style scoped>\n",
              "    .dataframe tbody tr th:only-of-type {\n",
              "        vertical-align: middle;\n",
              "    }\n",
              "\n",
              "    .dataframe tbody tr th {\n",
              "        vertical-align: top;\n",
              "    }\n",
              "\n",
              "    .dataframe thead th {\n",
              "        text-align: right;\n",
              "    }\n",
              "</style>\n",
              "<table border=\"1\" class=\"dataframe\">\n",
              "  <thead>\n",
              "    <tr style=\"text-align: right;\">\n",
              "      <th></th>\n",
              "      <th>0</th>\n",
              "      <th>1</th>\n",
              "      <th>2</th>\n",
              "      <th>3</th>\n",
              "      <th>4</th>\n",
              "      <th>5</th>\n",
              "      <th>6</th>\n",
              "      <th>7</th>\n",
              "      <th>8</th>\n",
              "    </tr>\n",
              "  </thead>\n",
              "  <tbody>\n",
              "    <tr>\n",
              "      <th>0</th>\n",
              "      <td>0.082941</td>\n",
              "      <td>-1.794750</td>\n",
              "      <td>-2.224584</td>\n",
              "      <td>-1.179570</td>\n",
              "      <td>-1.225033</td>\n",
              "      <td>0.934804</td>\n",
              "      <td>-2.295965</td>\n",
              "      <td>1.247968</td>\n",
              "      <td>-1.378251</td>\n",
              "    </tr>\n",
              "    <tr>\n",
              "      <th>1</th>\n",
              "      <td>-0.282974</td>\n",
              "      <td>1.686446</td>\n",
              "      <td>1.245621</td>\n",
              "      <td>0.400468</td>\n",
              "      <td>-0.655111</td>\n",
              "      <td>-0.395051</td>\n",
              "      <td>-0.422218</td>\n",
              "      <td>-0.910790</td>\n",
              "      <td>0.092789</td>\n",
              "    </tr>\n",
              "    <tr>\n",
              "      <th>2</th>\n",
              "      <td>1.119699</td>\n",
              "      <td>0.387905</td>\n",
              "      <td>1.062979</td>\n",
              "      <td>0.055732</td>\n",
              "      <td>0.064791</td>\n",
              "      <td>-0.525246</td>\n",
              "      <td>0.889405</td>\n",
              "      <td>-0.499598</td>\n",
              "      <td>-0.076947</td>\n",
              "    </tr>\n",
              "    <tr>\n",
              "      <th>3</th>\n",
              "      <td>-0.618396</td>\n",
              "      <td>-0.523837</td>\n",
              "      <td>-1.220051</td>\n",
              "      <td>-1.265754</td>\n",
              "      <td>-0.925074</td>\n",
              "      <td>2.273959</td>\n",
              "      <td>-1.983674</td>\n",
              "      <td>0.322786</td>\n",
              "      <td>0.036210</td>\n",
              "    </tr>\n",
              "    <tr>\n",
              "      <th>4</th>\n",
              "      <td>-0.039031</td>\n",
              "      <td>0.968104</td>\n",
              "      <td>-0.124197</td>\n",
              "      <td>-0.662467</td>\n",
              "      <td>-0.685107</td>\n",
              "      <td>0.190830</td>\n",
              "      <td>0.452198</td>\n",
              "      <td>-1.013588</td>\n",
              "      <td>-0.076947</td>\n",
              "    </tr>\n",
              "  </tbody>\n",
              "</table>\n",
              "</div>\n",
              "      <button class=\"colab-df-convert\" onclick=\"convertToInteractive('df-3071bd39-e248-4a3f-8433-0317b3874b75')\"\n",
              "              title=\"Convert this dataframe to an interactive table.\"\n",
              "              style=\"display:none;\">\n",
              "        \n",
              "  <svg xmlns=\"http://www.w3.org/2000/svg\" height=\"24px\"viewBox=\"0 0 24 24\"\n",
              "       width=\"24px\">\n",
              "    <path d=\"M0 0h24v24H0V0z\" fill=\"none\"/>\n",
              "    <path d=\"M18.56 5.44l.94 2.06.94-2.06 2.06-.94-2.06-.94-.94-2.06-.94 2.06-2.06.94zm-11 1L8.5 8.5l.94-2.06 2.06-.94-2.06-.94L8.5 2.5l-.94 2.06-2.06.94zm10 10l.94 2.06.94-2.06 2.06-.94-2.06-.94-.94-2.06-.94 2.06-2.06.94z\"/><path d=\"M17.41 7.96l-1.37-1.37c-.4-.4-.92-.59-1.43-.59-.52 0-1.04.2-1.43.59L10.3 9.45l-7.72 7.72c-.78.78-.78 2.05 0 2.83L4 21.41c.39.39.9.59 1.41.59.51 0 1.02-.2 1.41-.59l7.78-7.78 2.81-2.81c.8-.78.8-2.07 0-2.86zM5.41 20L4 18.59l7.72-7.72 1.47 1.35L5.41 20z\"/>\n",
              "  </svg>\n",
              "      </button>\n",
              "      \n",
              "  <style>\n",
              "    .colab-df-container {\n",
              "      display:flex;\n",
              "      flex-wrap:wrap;\n",
              "      gap: 12px;\n",
              "    }\n",
              "\n",
              "    .colab-df-convert {\n",
              "      background-color: #E8F0FE;\n",
              "      border: none;\n",
              "      border-radius: 50%;\n",
              "      cursor: pointer;\n",
              "      display: none;\n",
              "      fill: #1967D2;\n",
              "      height: 32px;\n",
              "      padding: 0 0 0 0;\n",
              "      width: 32px;\n",
              "    }\n",
              "\n",
              "    .colab-df-convert:hover {\n",
              "      background-color: #E2EBFA;\n",
              "      box-shadow: 0px 1px 2px rgba(60, 64, 67, 0.3), 0px 1px 3px 1px rgba(60, 64, 67, 0.15);\n",
              "      fill: #174EA6;\n",
              "    }\n",
              "\n",
              "    [theme=dark] .colab-df-convert {\n",
              "      background-color: #3B4455;\n",
              "      fill: #D2E3FC;\n",
              "    }\n",
              "\n",
              "    [theme=dark] .colab-df-convert:hover {\n",
              "      background-color: #434B5C;\n",
              "      box-shadow: 0px 1px 3px 1px rgba(0, 0, 0, 0.15);\n",
              "      filter: drop-shadow(0px 1px 2px rgba(0, 0, 0, 0.3));\n",
              "      fill: #FFFFFF;\n",
              "    }\n",
              "  </style>\n",
              "\n",
              "      <script>\n",
              "        const buttonEl =\n",
              "          document.querySelector('#df-3071bd39-e248-4a3f-8433-0317b3874b75 button.colab-df-convert');\n",
              "        buttonEl.style.display =\n",
              "          google.colab.kernel.accessAllowed ? 'block' : 'none';\n",
              "\n",
              "        async function convertToInteractive(key) {\n",
              "          const element = document.querySelector('#df-3071bd39-e248-4a3f-8433-0317b3874b75');\n",
              "          const dataTable =\n",
              "            await google.colab.kernel.invokeFunction('convertToInteractive',\n",
              "                                                     [key], {});\n",
              "          if (!dataTable) return;\n",
              "\n",
              "          const docLinkHtml = 'Like what you see? Visit the ' +\n",
              "            '<a target=\"_blank\" href=https://colab.research.google.com/notebooks/data_table.ipynb>data table notebook</a>'\n",
              "            + ' to learn more about interactive tables.';\n",
              "          element.innerHTML = '';\n",
              "          dataTable['output_type'] = 'display_data';\n",
              "          await google.colab.output.renderOutput(dataTable, element);\n",
              "          const docLink = document.createElement('div');\n",
              "          docLink.innerHTML = docLinkHtml;\n",
              "          element.appendChild(docLink);\n",
              "        }\n",
              "      </script>\n",
              "    </div>\n",
              "  </div>\n",
              "  "
            ]
          },
          "metadata": {},
          "execution_count": 115
        }
      ]
    },
    {
      "cell_type": "code",
      "source": [
        "# определяем число кластеров\n",
        "models = [KMeans(n_clusters=k, random_state=42).fit(X) for k in K]\n",
        "dist = [model.inertia_ for model in models]\n",
        "\n",
        "plt.plot(K, dist, marker='o')\n",
        "plt.xlabel('Число кластеров')\n",
        "plt.ylabel('Сумма квадратов расстояний')\n",
        "plt.title('График каменистой осыпи')\n",
        "plt.show()"
      ],
      "metadata": {
        "colab": {
          "base_uri": "https://localhost:8080/",
          "height": 295
        },
        "id": "KrKmYSUpkoM4",
        "outputId": "bac28c38-40fb-4d90-948f-8dbec4fd9817"
      },
      "execution_count": 116,
      "outputs": [
        {
          "output_type": "display_data",
          "data": {
            "text/plain": [
              "<Figure size 432x288 with 1 Axes>"
            ],
            "image/png": "[encoded data removed]"
          },
          "metadata": {
            "needs_background": "light"
          }
        }
      ]
    },
    {
      "cell_type": "code",
      "source": [
        "# рассмотрим более подробно график, начиная с 3\n",
        "K = range(3, 15)\n",
        "\n",
        "models = [KMeans(n_clusters=k, random_state=42).fit(X) for k in K]\n",
        "dist = [model.inertia_ for model in models]\n",
        "\n",
        "plt.plot(K, dist, marker='o')\n",
        "plt.xlabel('Число кластеров')\n",
        "plt.ylabel('Сумма квадратов расстояний')\n",
        "plt.title('График каменистой осыпи')\n",
        "plt.show()"
      ],
      "metadata": {
        "colab": {
          "base_uri": "https://localhost:8080/",
          "height": 295
        },
        "id": "b03xbYVFlI1n",
        "outputId": "cfcc9782-ed5d-4d57-ad26-6182fef5c376"
      },
      "execution_count": 118,
      "outputs": [
        {
          "output_type": "display_data",
          "data": {
            "text/plain": [
              "<Figure size 432x288 with 1 Axes>"
            ],
            "image/png": "[encoded data removed]"
          },
          "metadata": {
            "needs_background": "light"
          }
        }
      ]
    },
    {
      "cell_type": "markdown",
      "source": [
        "Четче видно, что кластеров скорее 7. Дальше изменение Ws с увеличением кластеров изменяется меньше, чем до 7."
      ],
      "metadata": {
        "id": "2647E9LDmK04"
      }
    },
    {
      "cell_type": "code",
      "source": [
        "model = KMeans(n_clusters=7, random_state=42, max_iter=300, n_init=10)\n",
        "model.fit(X)\n",
        "\n",
        "df3['cluster'] = model.labels_"
      ],
      "metadata": {
        "id": "nMIU8QCLmmk4"
      },
      "execution_count": 122,
      "outputs": []
    },
    {
      "cell_type": "code",
      "source": [
        "# получились кластеры с 1 и 2 объектами\n",
        "df3.groupby('cluster').size()"
      ],
      "metadata": {
        "colab": {
          "base_uri": "https://localhost:8080/"
        },
        "id": "Jk3dwnJc2iet",
        "outputId": "8a578550-be06-42b9-ec82-3e46d9c8654d"
      },
      "execution_count": 126,
      "outputs": [
        {
          "output_type": "execute_result",
          "data": {
            "text/plain": [
              "cluster\n",
              "0    1\n",
              "1    4\n",
              "2    4\n",
              "3    2\n",
              "4    5\n",
              "5    3\n",
              "6    6\n",
              "dtype: int64"
            ]
          },
          "metadata": {},
          "execution_count": 126
        }
      ]
    },
    {
      "cell_type": "code",
      "source": [
        "df3.groupby('cluster').mean() # достаточно сложно сделать выводы, рассмотрим страны"
      ],
      "metadata": {
        "colab": {
          "base_uri": "https://localhost:8080/",
          "height": 300
        },
        "id": "R3GvI7HL2tck",
        "outputId": "3b8e9889-6f08-4f3e-bb5c-95b4fd02c8f2"
      },
      "execution_count": 127,
      "outputs": [
        {
          "output_type": "execute_result",
          "data": {
            "text/plain": [
              "           RedMeat  WhiteMeat      Eggs       Milk       Fish    Cereals  \\\n",
              "cluster                                                                    \n",
              "0         9.300000   4.600000  2.100000  16.600000   3.000000  43.600000   \n",
              "1         9.850000   7.050000  3.150000  26.675000   8.225000  22.675000   \n",
              "2         7.125000   4.675000  1.200000   9.450000   0.750000  51.125000   \n",
              "3         6.650000   3.550000  2.100000   6.750000  10.600000  28.100000   \n",
              "4         8.680000  12.160000  3.420000  17.240000   3.000000  29.080000   \n",
              "5         8.166667   6.833333  2.866667  13.666667   3.200000  39.533333   \n",
              "6        14.550000   9.583333  4.000000  21.000000   3.733333  24.533333   \n",
              "\n",
              "           Starch      Nuts    Fr&Veg  \n",
              "cluster                                \n",
              "0        6.400000  3.400000  2.900000  \n",
              "1        4.550000  1.175000  2.125000  \n",
              "2        1.950000  5.050000  2.975000  \n",
              "3        5.800000  5.300000  7.550000  \n",
              "4        5.040000  1.400000  4.440000  \n",
              "5        2.766667  5.833333  5.800000  \n",
              "6        4.900000  2.233333  4.233333  "
            ],
            "text/html": [
              "\n",
              "  <div id=\"df-aeaae99d-9882-4b67-9adb-832f03b6b90a\">\n",
              "    <div class=\"colab-df-container\">\n",
              "      <div>\n",
              "<style scoped>\n",
              "    .dataframe tbody tr th:only-of-type {\n",
              "        vertical-align: middle;\n",
              "    }\n",
              "\n",
              "    .dataframe tbody tr th {\n",
              "        vertical-align: top;\n",
              "    }\n",
              "\n",
              "    .dataframe thead th {\n",
              "        text-align: right;\n",
              "    }\n",
              "</style>\n",
              "<table border=\"1\" class=\"dataframe\">\n",
              "  <thead>\n",
              "    <tr style=\"text-align: right;\">\n",
              "      <th></th>\n",
              "      <th>RedMeat</th>\n",
              "      <th>WhiteMeat</th>\n",
              "      <th>Eggs</th>\n",
              "      <th>Milk</th>\n",
              "      <th>Fish</th>\n",
              "      <th>Cereals</th>\n",
              "      <th>Starch</th>\n",
              "      <th>Nuts</th>\n",
              "      <th>Fr&amp;Veg</th>\n",
              "    </tr>\n",
              "    <tr>\n",
              "      <th>cluster</th>\n",
              "      <th></th>\n",
              "      <th></th>\n",
              "      <th></th>\n",
              "      <th></th>\n",
              "      <th></th>\n",
              "      <th></th>\n",
              "      <th></th>\n",
              "      <th></th>\n",
              "      <th></th>\n",
              "    </tr>\n",
              "  </thead>\n",
              "  <tbody>\n",
              "    <tr>\n",
              "      <th>0</th>\n",
              "      <td>9.300000</td>\n",
              "      <td>4.600000</td>\n",
              "      <td>2.100000</td>\n",
              "      <td>16.600000</td>\n",
              "      <td>3.000000</td>\n",
              "      <td>43.600000</td>\n",
              "      <td>6.400000</td>\n",
              "      <td>3.400000</td>\n",
              "      <td>2.900000</td>\n",
              "    </tr>\n",
              "    <tr>\n",
              "      <th>1</th>\n",
              "      <td>9.850000</td>\n",
              "      <td>7.050000</td>\n",
              "      <td>3.150000</td>\n",
              "      <td>26.675000</td>\n",
              "      <td>8.225000</td>\n",
              "      <td>22.675000</td>\n",
              "      <td>4.550000</td>\n",
              "      <td>1.175000</td>\n",
              "      <td>2.125000</td>\n",
              "    </tr>\n",
              "    <tr>\n",
              "      <th>2</th>\n",
              "      <td>7.125000</td>\n",
              "      <td>4.675000</td>\n",
              "      <td>1.200000</td>\n",
              "      <td>9.450000</td>\n",
              "      <td>0.750000</td>\n",
              "      <td>51.125000</td>\n",
              "      <td>1.950000</td>\n",
              "      <td>5.050000</td>\n",
              "      <td>2.975000</td>\n",
              "    </tr>\n",
              "    <tr>\n",
              "      <th>3</th>\n",
              "      <td>6.650000</td>\n",
              "      <td>3.550000</td>\n",
              "      <td>2.100000</td>\n",
              "      <td>6.750000</td>\n",
              "      <td>10.600000</td>\n",
              "      <td>28.100000</td>\n",
              "      <td>5.800000</td>\n",
              "      <td>5.300000</td>\n",
              "      <td>7.550000</td>\n",
              "    </tr>\n",
              "    <tr>\n",
              "      <th>4</th>\n",
              "      <td>8.680000</td>\n",
              "      <td>12.160000</td>\n",
              "      <td>3.420000</td>\n",
              "      <td>17.240000</td>\n",
              "      <td>3.000000</td>\n",
              "      <td>29.080000</td>\n",
              "      <td>5.040000</td>\n",
              "      <td>1.400000</td>\n",
              "      <td>4.440000</td>\n",
              "    </tr>\n",
              "    <tr>\n",
              "      <th>5</th>\n",
              "      <td>8.166667</td>\n",
              "      <td>6.833333</td>\n",
              "      <td>2.866667</td>\n",
              "      <td>13.666667</td>\n",
              "      <td>3.200000</td>\n",
              "      <td>39.533333</td>\n",
              "      <td>2.766667</td>\n",
              "      <td>5.833333</td>\n",
              "      <td>5.800000</td>\n",
              "    </tr>\n",
              "    <tr>\n",
              "      <th>6</th>\n",
              "      <td>14.550000</td>\n",
              "      <td>9.583333</td>\n",
              "      <td>4.000000</td>\n",
              "      <td>21.000000</td>\n",
              "      <td>3.733333</td>\n",
              "      <td>24.533333</td>\n",
              "      <td>4.900000</td>\n",
              "      <td>2.233333</td>\n",
              "      <td>4.233333</td>\n",
              "    </tr>\n",
              "  </tbody>\n",
              "</table>\n",
              "</div>\n",
              "      <button class=\"colab-df-convert\" onclick=\"convertToInteractive('df-aeaae99d-9882-4b67-9adb-832f03b6b90a')\"\n",
              "              title=\"Convert this dataframe to an interactive table.\"\n",
              "              style=\"display:none;\">\n",
              "        \n",
              "  <svg xmlns=\"http://www.w3.org/2000/svg\" height=\"24px\"viewBox=\"0 0 24 24\"\n",
              "       width=\"24px\">\n",
              "    <path d=\"M0 0h24v24H0V0z\" fill=\"none\"/>\n",
              "    <path d=\"M18.56 5.44l.94 2.06.94-2.06 2.06-.94-2.06-.94-.94-2.06-.94 2.06-2.06.94zm-11 1L8.5 8.5l.94-2.06 2.06-.94-2.06-.94L8.5 2.5l-.94 2.06-2.06.94zm10 10l.94 2.06.94-2.06 2.06-.94-2.06-.94-.94-2.06-.94 2.06-2.06.94z\"/><path d=\"M17.41 7.96l-1.37-1.37c-.4-.4-.92-.59-1.43-.59-.52 0-1.04.2-1.43.59L10.3 9.45l-7.72 7.72c-.78.78-.78 2.05 0 2.83L4 21.41c.39.39.9.59 1.41.59.51 0 1.02-.2 1.41-.59l7.78-7.78 2.81-2.81c.8-.78.8-2.07 0-2.86zM5.41 20L4 18.59l7.72-7.72 1.47 1.35L5.41 20z\"/>\n",
              "  </svg>\n",
              "      </button>\n",
              "      \n",
              "  <style>\n",
              "    .colab-df-container {\n",
              "      display:flex;\n",
              "      flex-wrap:wrap;\n",
              "      gap: 12px;\n",
              "    }\n",
              "\n",
              "    .colab-df-convert {\n",
              "      background-color: #E8F0FE;\n",
              "      border: none;\n",
              "      border-radius: 50%;\n",
              "      cursor: pointer;\n",
              "      display: none;\n",
              "      fill: #1967D2;\n",
              "      height: 32px;\n",
              "      padding: 0 0 0 0;\n",
              "      width: 32px;\n",
              "    }\n",
              "\n",
              "    .colab-df-convert:hover {\n",
              "      background-color: #E2EBFA;\n",
              "      box-shadow: 0px 1px 2px rgba(60, 64, 67, 0.3), 0px 1px 3px 1px rgba(60, 64, 67, 0.15);\n",
              "      fill: #174EA6;\n",
              "    }\n",
              "\n",
              "    [theme=dark] .colab-df-convert {\n",
              "      background-color: #3B4455;\n",
              "      fill: #D2E3FC;\n",
              "    }\n",
              "\n",
              "    [theme=dark] .colab-df-convert:hover {\n",
              "      background-color: #434B5C;\n",
              "      box-shadow: 0px 1px 3px 1px rgba(0, 0, 0, 0.15);\n",
              "      filter: drop-shadow(0px 1px 2px rgba(0, 0, 0, 0.3));\n",
              "      fill: #FFFFFF;\n",
              "    }\n",
              "  </style>\n",
              "\n",
              "      <script>\n",
              "        const buttonEl =\n",
              "          document.querySelector('#df-aeaae99d-9882-4b67-9adb-832f03b6b90a button.colab-df-convert');\n",
              "        buttonEl.style.display =\n",
              "          google.colab.kernel.accessAllowed ? 'block' : 'none';\n",
              "\n",
              "        async function convertToInteractive(key) {\n",
              "          const element = document.querySelector('#df-aeaae99d-9882-4b67-9adb-832f03b6b90a');\n",
              "          const dataTable =\n",
              "            await google.colab.kernel.invokeFunction('convertToInteractive',\n",
              "                                                     [key], {});\n",
              "          if (!dataTable) return;\n",
              "\n",
              "          const docLinkHtml = 'Like what you see? Visit the ' +\n",
              "            '<a target=\"_blank\" href=https://colab.research.google.com/notebooks/data_table.ipynb>data table notebook</a>'\n",
              "            + ' to learn more about interactive tables.';\n",
              "          element.innerHTML = '';\n",
              "          dataTable['output_type'] = 'display_data';\n",
              "          await google.colab.output.renderOutput(dataTable, element);\n",
              "          const docLink = document.createElement('div');\n",
              "          docLink.innerHTML = docLinkHtml;\n",
              "          element.appendChild(docLink);\n",
              "        }\n",
              "      </script>\n",
              "    </div>\n",
              "  </div>\n",
              "  "
            ]
          },
          "metadata": {},
          "execution_count": 127
        }
      ]
    },
    {
      "cell_type": "code",
      "source": [
        "df3['cluster'].sort_values()"
      ],
      "metadata": {
        "colab": {
          "base_uri": "https://localhost:8080/"
        },
        "id": "r67AB7jl3B9V",
        "outputId": "a88045a0-89c9-4868-edf4-0321602352f8"
      },
      "execution_count": 129,
      "outputs": [
        {
          "output_type": "execute_result",
          "data": {
            "text/plain": [
              "Country\n",
              "USSR              0\n",
              "Sweden            1\n",
              "Norway            1\n",
              "Denmark           1\n",
              "Finland           1\n",
              "Albania           2\n",
              "Romania           2\n",
              "Yugoslavia        2\n",
              "Bulgaria          2\n",
              "Portugal          3\n",
              "Spain             3\n",
              "Austria           4\n",
              "E_Germany         4\n",
              "Netherlands       4\n",
              "Czechoslovakia    4\n",
              "Poland            4\n",
              "Italy             5\n",
              "Hungary           5\n",
              "Greece            5\n",
              "Ireland           6\n",
              "Belgium           6\n",
              "Switzerland       6\n",
              "UK                6\n",
              "W_Germany         6\n",
              "France            6\n",
              "Name: cluster, dtype: int32"
            ]
          },
          "metadata": {},
          "execution_count": 129
        }
      ]
    },
    {
      "cell_type": "markdown",
      "source": [
        "Выделяется 1 кластер - Скандинавия, 2 кластер - восточная Европа, 3 кластер - Пиренейский полуостров, 6 кластер - западная Европа. Остальные кластеры включают как средиземноморские страны, так и страны восточной Европы.\n",
        "\n",
        "Разделим объекты на 5 кластеров, как при иерархическом кластерном анализе:"
      ],
      "metadata": {
        "id": "dT8VbUfS3i8c"
      }
    },
    {
      "cell_type": "code",
      "source": [
        "model = KMeans(n_clusters=5, random_state=42, max_iter=300, n_init=10)\n",
        "model.fit(X)\n",
        "\n",
        "df3['cluster_5'] = model.labels_"
      ],
      "metadata": {
        "id": "UOE8EI8Q8rGi"
      },
      "execution_count": 130,
      "outputs": []
    },
    {
      "cell_type": "code",
      "source": [
        "df3['cluster_5'].sort_values()"
      ],
      "metadata": {
        "colab": {
          "base_uri": "https://localhost:8080/"
        },
        "id": "wtOoibD6-2wN",
        "outputId": "10a5bef2-13c1-4f1d-adc6-5327289a8cf0"
      },
      "execution_count": 132,
      "outputs": [
        {
          "output_type": "execute_result",
          "data": {
            "text/plain": [
              "Country\n",
              "Sweden            0\n",
              "Denmark           0\n",
              "Finland           0\n",
              "Norway            0\n",
              "USSR              1\n",
              "Czechoslovakia    1\n",
              "E_Germany         1\n",
              "Poland            1\n",
              "Hungary           1\n",
              "Albania           2\n",
              "Romania           2\n",
              "Italy             2\n",
              "Greece            2\n",
              "Bulgaria          2\n",
              "Yugoslavia        2\n",
              "W_Germany         3\n",
              "Netherlands       3\n",
              "France            3\n",
              "Belgium           3\n",
              "Switzerland       3\n",
              "UK                3\n",
              "Austria           3\n",
              "Ireland           3\n",
              "Portugal          4\n",
              "Spain             4\n",
              "Name: cluster_5, dtype: int32"
            ]
          },
          "metadata": {},
          "execution_count": 132
        }
      ]
    },
    {
      "cell_type": "markdown",
      "source": [
        "В данном случае деление более логично:\n",
        "0. Скандинавия\n",
        "1. Социалистические страны, восточная Европа\n",
        "2. Южная Европа, социалистические страны\n",
        "3. Западная Европа\n",
        "4. Пиренейский полуостров"
      ],
      "metadata": {
        "id": "oGEgEfbN-4Wz"
      }
    }
  ]
}