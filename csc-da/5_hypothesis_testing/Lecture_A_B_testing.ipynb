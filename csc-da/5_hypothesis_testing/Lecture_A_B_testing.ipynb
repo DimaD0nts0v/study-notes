{
  "cells": [
    {
      "cell_type": "code",
      "execution_count": 1,
      "metadata": {
        "id": "POXHVOtaoNbf"
      },
      "outputs": [],
      "source": [
        "from scipy.stats import norm, chi2_contingency\n",
        "import statsmodels.api as sm\n",
        "import numpy as np"
      ]
    },
    {
      "cell_type": "code",
      "execution_count": null,
      "metadata": {
        "collapsed": true,
        "id": "yUYH0ffPoNbj"
      },
      "outputs": [],
      "source": [
        "#  Данные о смертности после аварии \n",
        "#  среди тех, кто пристегнул ремень\n",
        "#  и среди тех, кто пристегнул ремень\n",
        "\n",
        "#               survived died\n",
        "# no seat belt     1781  135\n",
        "# seat belt        1443   47"
      ]
    },
    {
      "cell_type": "markdown",
      "source": [
        "Гипотеза H0: смертность не связана с группами, которые пристегивали и н епристегивали ремень\n",
        "\n",
        "Гипотеза H1: есть связь между группами\n",
        "\n",
        "Альфа = 0.05\n",
        "\n",
        "Гипотезу проверим 3 раза:\n",
        "1. Вручную\n",
        "2. Расчитаем ручные результаты в питоне\n",
        "3. Через хи-квадрат"
      ],
      "metadata": {
        "id": "IR8VTNQwq9oT"
      }
    },
    {
      "cell_type": "code",
      "execution_count": 2,
      "metadata": {
        "colab": {
          "base_uri": "https://localhost:8080/"
        },
        "id": "w2RrNos1oNbj",
        "outputId": "39a22845-12c4-4f0f-c598-774acb0a6016"
      },
      "outputs": [
        {
          "output_type": "stream",
          "name": "stdout",
          "text": [
            "['5.009616324309', '0.000000545387']\n"
          ]
        }
      ],
      "source": [
        "s1 = 135            #  число \"успехов\"   выборка А - не пристегнутые\n",
        "n1 = 1781 + s1      #  число испытаний   выборка А\n",
        "s2 = 47             #  число \"успехов\"   выборка Б\n",
        "n2 = 1443 + s2      #  число испытаний   выборка Б\n",
        "p1 = s1/n1               #  оценка вероятности \"успеха\" выборка А\n",
        "p2 = s2/n2               #  оценка вероятности \"успеха\" выборка Б\n",
        "p = (s1 + s2)/(n1+n2)    #  оценка вероятности \"успеха\" выборка А+Б\n",
        "z = (p2-p1)/ ((p*(1-p)*((1/n1)+(1/n2)))**0.5)  #  z-метка \n",
        "\n",
        "p_value = norm.cdf(z)\n",
        "\n",
        "#  z-метка и p-значение\n",
        "print(['{:.12f}'.format(a) for a in (abs(z), p_value * 2)])"
      ]
    },
    {
      "cell_type": "markdown",
      "source": [
        "По поводу z-метки:\n",
        "\n",
        "Находим, как вероятности отличаются между собой в двух группах и делим почти на дисперсию. При этом важно понимать, что при выборке, стремящейся к бесконечности, плотность распределения должна стремиться к нормальному распределнию."
      ],
      "metadata": {
        "id": "GKhw2s3isN49"
      }
    },
    {
      "cell_type": "code",
      "execution_count": 3,
      "metadata": {
        "colab": {
          "base_uri": "https://localhost:8080/"
        },
        "id": "CEV1TK1noNbk",
        "outputId": "c661b99c-cfb0-48d4-d772-4be386c426ce"
      },
      "outputs": [
        {
          "output_type": "stream",
          "name": "stdout",
          "text": [
            "['5.009616324309', '0.000000545387']\n"
          ]
        }
      ],
      "source": [
        "z1, p_value1 = sm.stats.proportions_ztest([s1, s2], [n1, n2])\n",
        "\n",
        "#  z-метка и p-значение\n",
        "print(['{:.12f}'.format(b) for b in (z1, p_value1)])"
      ]
    },
    {
      "cell_type": "markdown",
      "source": [
        "Получили те же значения."
      ],
      "metadata": {
        "id": "q8rZUEG9szh3"
      }
    },
    {
      "cell_type": "code",
      "execution_count": 5,
      "metadata": {
        "colab": {
          "base_uri": "https://localhost:8080/"
        },
        "id": "oSvIGuOvoNbl",
        "outputId": "d7309968-6066-4bba-99c9-c3d1bf9fed32"
      },
      "outputs": [
        {
          "output_type": "stream",
          "name": "stdout",
          "text": [
            "['5.009616324309', '0.000000545387']\n"
          ]
        }
      ],
      "source": [
        "arr = np.array([[s1, n1-s1], [s2, n2-s2]])\n",
        "chi2, p_value3, dof, exp = chi2_contingency(arr, correction=False)\n",
        "\n",
        "print(['{:.12f}'.format(d) for d in (chi2**0.5, p_value3)])"
      ]
    },
    {
      "cell_type": "markdown",
      "source": [
        "Все три теста показали тот же результат, что в z-метке."
      ],
      "metadata": {
        "id": "P7V9Gf6coNbl"
      }
    }
  ],
  "metadata": {
    "kernelspec": {
      "display_name": "Python 3",
      "language": "python",
      "name": "python3"
    },
    "language_info": {
      "codemirror_mode": {
        "name": "ipython",
        "version": 3
      },
      "file_extension": ".py",
      "mimetype": "text/x-python",
      "name": "python",
      "nbconvert_exporter": "python",
      "pygments_lexer": "ipython3",
      "version": "3.6.3"
    },
    "colab": {
      "provenance": []
    }
  },
  "nbformat": 4,
  "nbformat_minor": 0
}