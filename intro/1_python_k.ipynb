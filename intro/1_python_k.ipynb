{
  "cells": [
    {
      "cell_type": "markdown",
      "metadata": {
        "id": "-e0D0qVtR6eG"
      },
      "source": [
        "# Ссылочная модель данных. Модель памяти\n",
        "Функции могут вызывать внутри себя другие функции, сами себя (рекурсия). При этом внутри функции можно редактировать переменные. Рассмотрим такой пример.\n"
      ]
    },
    {
      "cell_type": "code",
      "execution_count": 1,
      "metadata": {
        "id": "P_jrR1pItmE2"
      },
      "outputs": [],
      "source": [
        "def count(amount, history, limit=100):\n",
        "    \"\"\"\n",
        "    Функция сравнивает траты за месяц вместе с текущей покупкой.\n",
        "    Если траты превышают лимит, то покупка не пройдет - возвращается False\n",
        "    \"\"\"\n",
        "    history.append(amount)\n",
        "    return sum(history) <= limit"
      ]
    },
    {
      "cell_type": "code",
      "execution_count": 2,
      "metadata": {
        "colab": {
          "base_uri": "https://localhost:8080/"
        },
        "id": "MW8Ztyj8vIkY",
        "outputId": "56d0a2d3-19b2-4dfe-b915-d035782a920d"
      },
      "outputs": [
        {
          "data": {
            "text/plain": [
              "True"
            ]
          },
          "execution_count": 2,
          "metadata": {},
          "output_type": "execute_result"
        }
      ],
      "source": [
        "purchace = 7\n",
        "hist = [50, 40]\n",
        "count(purchace, hist)"
      ]
    },
    {
      "cell_type": "code",
      "execution_count": 3,
      "metadata": {
        "colab": {
          "base_uri": "https://localhost:8080/"
        },
        "id": "-T2Dus3hvrfZ",
        "outputId": "4980df81-1475-438e-a785-9d0068e8eae0"
      },
      "outputs": [
        {
          "data": {
            "text/plain": [
              "[50, 40, 7]"
            ]
          },
          "execution_count": 3,
          "metadata": {},
          "output_type": "execute_result"
        }
      ],
      "source": [
        "hist"
      ]
    },
    {
      "cell_type": "markdown",
      "metadata": {
        "id": "6LmJ-fxJvvZP"
      },
      "source": [
        "Переменная `hist` была отредактирована внутри функции, хотя это только возможная покупка, а не уже совершенная. Поэтому в данном случае  в функции логическая ошибка.\n",
        "\n",
        "Так происходит из-за устройства памяти в питоне. Память самого компьютера линейна - данные в ней лежат сплошным списком  из 0 и 1. При записи списка выделяется память; при присвоении данных переменной в нее записываются не сами данные, а адрес ячейки памяти, где хранятся значения. Поэтому переменная является не списком, а ссылкой на список. **Это ссылочная модель памяти.**\n",
        "\n",
        "Поэтому правильнее использовавать в функции копию (это создание нового объекта в другом месте памяти) нашего списка. После завершения работы функции копия сотрется, все переменнеы уничтожаться. При этом в переменной `hist` у нас записан адрес на список, переменная используется вне функции, а значит стерта не будет"
      ]
    },
    {
      "cell_type": "code",
      "execution_count": 4,
      "metadata": {
        "id": "UNElvLDobyqA"
      },
      "outputs": [],
      "source": [
        "def count(amount, history, limit=100):\n",
        "    \"\"\"\n",
        "    Функция сравнивает траты за месяц вместе с текущей покупкой.\n",
        "    Если траты превышают лимит, то покупка не пройдет - возвращается False\n",
        "    \"\"\"\n",
        "    history2 = history.copy()\n",
        "    history2.append(amount)\n",
        "    return sum(history2) <= limit"
      ]
    },
    {
      "cell_type": "code",
      "execution_count": 5,
      "metadata": {
        "colab": {
          "base_uri": "https://localhost:8080/"
        },
        "id": "Xkyx6l-hdLFs",
        "outputId": "436815d0-8d52-44fe-9116-aa44dbd79052"
      },
      "outputs": [
        {
          "data": {
            "text/plain": [
              "True"
            ]
          },
          "execution_count": 5,
          "metadata": {},
          "output_type": "execute_result"
        }
      ],
      "source": [
        "purchace = 7\n",
        "hist = [50, 40]\n",
        "count(purchace, hist)"
      ]
    },
    {
      "cell_type": "code",
      "execution_count": 6,
      "metadata": {
        "colab": {
          "base_uri": "https://localhost:8080/"
        },
        "id": "MKkHI294dMkB",
        "outputId": "b6fb73f5-9adc-4211-f4b7-d2060259e45a"
      },
      "outputs": [
        {
          "data": {
            "text/plain": [
              "[50, 40]"
            ]
          },
          "execution_count": 6,
          "metadata": {},
          "output_type": "execute_result"
        }
      ],
      "source": [
        "hist"
      ]
    },
    {
      "cell_type": "markdown",
      "metadata": {
        "id": "OcSV1TZWdOFp"
      },
      "source": [
        "Также решением может быть парадигма **создать и сразу использовать**. В данном случае необходимо к аргументу history прибавить amount не через метод append, а через +. В таком случае список не изменится."
      ]
    },
    {
      "cell_type": "code",
      "execution_count": 7,
      "metadata": {
        "id": "Eal-ejMbfmZK"
      },
      "outputs": [],
      "source": [
        "def count(amount, history, limit=100):\n",
        "    \"\"\"\n",
        "    Функция сравнивает траты за месяц вместе с текущей покупкой.\n",
        "    Если траты превышают лимит, то покупка не пройдет - возвращается False\n",
        "    \"\"\"\n",
        "    return sum(history + [amount]) <= limit"
      ]
    },
    {
      "cell_type": "code",
      "execution_count": 8,
      "metadata": {
        "colab": {
          "base_uri": "https://localhost:8080/"
        },
        "id": "kRM5LL_gfsNh",
        "outputId": "eb975d39-fefb-4baa-d010-384cca5632fc"
      },
      "outputs": [
        {
          "data": {
            "text/plain": [
              "[50, 40]"
            ]
          },
          "execution_count": 8,
          "metadata": {},
          "output_type": "execute_result"
        }
      ],
      "source": [
        "purchace = 7\n",
        "hist = [50, 40]\n",
        "count(purchace, hist)\n",
        "hist"
      ]
    },
    {
      "cell_type": "markdown",
      "metadata": {
        "id": "4xMkRilcfw4R"
      },
      "source": [
        "# Хеш\n",
        "Это функция, которая берет на вход объект и считает одно число. Для разных объектов это число разное, для одних и тех же объектов оно одно. Свойства:\n",
        "- быстро считается\n",
        "- при малейшем изменении объекта хеш функция меняется лавинообразно (абсолютно разные значения хеша)\n",
        "\n",
        "В питоне для всех неизменяемых объектов можно посчитать его хеш (свойство hasable). К таким объектам относят *множества, строки, кортежи, числа* (их можно складывать, но под капотом складываются копии слагаемых кроме чисел). При добавлении/обращении, например, ключа в словрь, питон кладет туда хеш от объекта. Поэтому обращение по произвольному ключу в питоне быстрое. И именно из-за того, что хеш от одинаковых объектов вернет одинаковый хеш, в словаре в качестве ключа можно использовать только уникальные значения. Во множестве ситуация аналогична - включаются только неизменяемые уникальные объекты.\n",
        "\n",
        "Хеш функция позволяет организовать быстрый поиск объектов и быстрое обращение к ним. При этом для изменяемых объектов хеш не вычисляется, так как при изменении объекта хеш меняется, а значит за ним надо постоянно следить, что нагружает систему + непонятно, как часто говорить питону, чтобы тот опрашивал объект (между проверками может быть изменение)."
      ]
    },
    {
      "cell_type": "markdown",
      "metadata": {
        "id": "JlmLUr6x3-kv"
      },
      "source": [
        "# Магические команды для ячеек\n",
        "Дополнительная функциональность в юпитере, которая меняет поведение кода.\n"
      ]
    },
    {
      "cell_type": "markdown",
      "metadata": {
        "id": "UkAcmGuOa5Nu"
      },
      "source": [
        "## %time\n",
        "\n",
        "Вычисляется для выражения справа от него. Время выполнения кода. Линукс системы делят выполнение кода на системные (куда человек не попадет, там используются системные библитеки) и пользовательские.\n",
        "\n",
        "- CPU time: пользовательское время\n",
        "- sys: системные библиотеки на уровне ядра (самые глубокие, глубже питона)\n",
        "- Wall time: сумма с учетом накладных ресурсов"
      ]
    },
    {
      "cell_type": "code",
      "execution_count": 9,
      "metadata": {
        "colab": {
          "base_uri": "https://localhost:8080/"
        },
        "id": "Xietqpb-4JQG",
        "outputId": "7100f3d2-d16f-4f71-8dbb-cb4eef4b44a4"
      },
      "outputs": [
        {
          "name": "stdout",
          "output_type": "stream",
          "text": [
            "CPU times: total: 0 ns\n",
            "Wall time: 0 ns\n"
          ]
        },
        {
          "data": {
            "text/plain": [
              "2"
            ]
          },
          "execution_count": 9,
          "metadata": {},
          "output_type": "execute_result"
        }
      ],
      "source": [
        "%time 1 * 2"
      ]
    },
    {
      "cell_type": "code",
      "execution_count": 12,
      "metadata": {
        "colab": {
          "base_uri": "https://localhost:8080/"
        },
        "id": "peCmNKjO4JT7",
        "outputId": "7c41065c-ed8f-4b8b-b2c5-7be174e84ee0"
      },
      "outputs": [
        {
          "name": "stdout",
          "output_type": "stream",
          "text": [
            "CPU times: total: 0 ns\n",
            "Wall time: 0 ns\n"
          ]
        },
        {
          "data": {
            "text/plain": [
              "6"
            ]
          },
          "execution_count": 12,
          "metadata": {},
          "output_type": "execute_result"
        }
      ],
      "source": [
        "%%time\n",
        "# %%time - на всю ячейку, пишется в самом начале\n",
        "1 * 2\n",
        "2 * 3"
      ]
    },
    {
      "cell_type": "code",
      "execution_count": 13,
      "metadata": {
        "colab": {
          "base_uri": "https://localhost:8080/"
        },
        "id": "s0yzygdR7ZZ5",
        "outputId": "4cd4d637-33c1-474c-cd0f-73a9f8f8f772"
      },
      "outputs": [
        {
          "name": "stdout",
          "output_type": "stream",
          "text": [
            "8.85 ns ± 0.16 ns per loop (mean ± std. dev. of 7 runs, 100,000,000 loops each)\n"
          ]
        }
      ],
      "source": [
        "%timeit 2 * 2 # тут 7 запусков\n",
        "# %timeit - запускает код несколько раз и считает среднее время\n",
        "\n",
        "# при этом у функции есть доп параметры (см доки)"
      ]
    },
    {
      "cell_type": "code",
      "execution_count": 14,
      "metadata": {
        "colab": {
          "base_uri": "https://localhost:8080/",
          "height": 249
        },
        "id": "lsrN9Hy49ZVM",
        "outputId": "88e8de9b-2f55-4130-96f9-92374e729646"
      },
      "outputs": [
        {
          "data": {
            "application/json": {
              "cell": {
                "!": "OSMagics",
                "HTML": "Other",
                "SVG": "Other",
                "bash": "Other",
                "capture": "ExecutionMagics",
                "cmd": "Other",
                "debug": "ExecutionMagics",
                "file": "Other",
                "html": "DisplayMagics",
                "javascript": "DisplayMagics",
                "js": "DisplayMagics",
                "latex": "DisplayMagics",
                "markdown": "DisplayMagics",
                "perl": "Other",
                "prun": "ExecutionMagics",
                "pypy": "Other",
                "python": "Other",
                "python2": "Other",
                "python3": "Other",
                "ruby": "Other",
                "script": "ScriptMagics",
                "sh": "Other",
                "svg": "DisplayMagics",
                "sx": "OSMagics",
                "system": "OSMagics",
                "time": "ExecutionMagics",
                "timeit": "ExecutionMagics",
                "writefile": "OSMagics"
              },
              "line": {
                "alias": "OSMagics",
                "alias_magic": "BasicMagics",
                "autoawait": "AsyncMagics",
                "autocall": "AutoMagics",
                "automagic": "AutoMagics",
                "autosave": "KernelMagics",
                "bookmark": "OSMagics",
                "cd": "OSMagics",
                "clear": "KernelMagics",
                "cls": "KernelMagics",
                "colors": "BasicMagics",
                "conda": "PackagingMagics",
                "config": "ConfigMagics",
                "connect_info": "KernelMagics",
                "copy": "Other",
                "ddir": "Other",
                "debug": "ExecutionMagics",
                "dhist": "OSMagics",
                "dirs": "OSMagics",
                "doctest_mode": "BasicMagics",
                "echo": "Other",
                "ed": "Other",
                "edit": "KernelMagics",
                "env": "OSMagics",
                "gui": "BasicMagics",
                "hist": "Other",
                "history": "HistoryMagics",
                "killbgscripts": "ScriptMagics",
                "ldir": "Other",
                "less": "KernelMagics",
                "load": "CodeMagics",
                "load_ext": "ExtensionMagics",
                "loadpy": "CodeMagics",
                "logoff": "LoggingMagics",
                "logon": "LoggingMagics",
                "logstart": "LoggingMagics",
                "logstate": "LoggingMagics",
                "logstop": "LoggingMagics",
                "ls": "Other",
                "lsmagic": "BasicMagics",
                "macro": "ExecutionMagics",
                "magic": "BasicMagics",
                "matplotlib": "PylabMagics",
                "mkdir": "Other",
                "more": "KernelMagics",
                "notebook": "BasicMagics",
                "page": "BasicMagics",
                "pastebin": "CodeMagics",
                "pdb": "ExecutionMagics",
                "pdef": "NamespaceMagics",
                "pdoc": "NamespaceMagics",
                "pfile": "NamespaceMagics",
                "pinfo": "NamespaceMagics",
                "pinfo2": "NamespaceMagics",
                "pip": "PackagingMagics",
                "popd": "OSMagics",
                "pprint": "BasicMagics",
                "precision": "BasicMagics",
                "prun": "ExecutionMagics",
                "psearch": "NamespaceMagics",
                "psource": "NamespaceMagics",
                "pushd": "OSMagics",
                "pwd": "OSMagics",
                "pycat": "OSMagics",
                "pylab": "PylabMagics",
                "qtconsole": "KernelMagics",
                "quickref": "BasicMagics",
                "recall": "HistoryMagics",
                "rehashx": "OSMagics",
                "reload_ext": "ExtensionMagics",
                "ren": "Other",
                "rep": "Other",
                "rerun": "HistoryMagics",
                "reset": "NamespaceMagics",
                "reset_selective": "NamespaceMagics",
                "rmdir": "Other",
                "run": "ExecutionMagics",
                "save": "CodeMagics",
                "sc": "OSMagics",
                "set_env": "OSMagics",
                "store": "StoreMagics",
                "sx": "OSMagics",
                "system": "OSMagics",
                "tb": "ExecutionMagics",
                "time": "ExecutionMagics",
                "timeit": "ExecutionMagics",
                "unalias": "OSMagics",
                "unload_ext": "ExtensionMagics",
                "who": "NamespaceMagics",
                "who_ls": "NamespaceMagics",
                "whos": "NamespaceMagics",
                "xdel": "NamespaceMagics",
                "xmode": "BasicMagics"
              }
            },
            "text/plain": [
              "Available line magics:\n",
              "%alias  %alias_magic  %autoawait  %autocall  %automagic  %autosave  %bookmark  %cd  %clear  %cls  %colors  %conda  %config  %connect_info  %copy  %ddir  %debug  %dhist  %dirs  %doctest_mode  %echo  %ed  %edit  %env  %gui  %hist  %history  %killbgscripts  %ldir  %less  %load  %load_ext  %loadpy  %logoff  %logon  %logstart  %logstate  %logstop  %ls  %lsmagic  %macro  %magic  %matplotlib  %mkdir  %more  %notebook  %page  %pastebin  %pdb  %pdef  %pdoc  %pfile  %pinfo  %pinfo2  %pip  %popd  %pprint  %precision  %prun  %psearch  %psource  %pushd  %pwd  %pycat  %pylab  %qtconsole  %quickref  %recall  %rehashx  %reload_ext  %ren  %rep  %rerun  %reset  %reset_selective  %rmdir  %run  %save  %sc  %set_env  %store  %sx  %system  %tb  %time  %timeit  %unalias  %unload_ext  %who  %who_ls  %whos  %xdel  %xmode\n",
              "\n",
              "Available cell magics:\n",
              "%%!  %%HTML  %%SVG  %%bash  %%capture  %%cmd  %%debug  %%file  %%html  %%javascript  %%js  %%latex  %%markdown  %%perl  %%prun  %%pypy  %%python  %%python2  %%python3  %%ruby  %%script  %%sh  %%svg  %%sx  %%system  %%time  %%timeit  %%writefile\n",
              "\n",
              "Automagic is ON, % prefix IS NOT needed for line magics."
            ]
          },
          "execution_count": 14,
          "metadata": {},
          "output_type": "execute_result"
        }
      ],
      "source": [
        "# узнаем все магические команды\n",
        "%lsmagic"
      ]
    },
    {
      "cell_type": "code",
      "execution_count": 16,
      "metadata": {
        "colab": {
          "base_uri": "https://localhost:8080/"
        },
        "id": "CGgHgdvk96s3",
        "outputId": "dc132d7a-1e8a-4e93-984c-1452895fc9a2"
      },
      "outputs": [
        {
          "name": "stderr",
          "output_type": "stream",
          "text": [
            "UsageError: Missing module name.\n"
          ]
        }
      ],
      "source": [
        "%load_ext\n",
        "# есть еще магические команды, которые надо загрузить дополнительно через load_ext\n",
        "\n",
        "%autoreload 2 #"
      ]
    },
    {
      "cell_type": "markdown",
      "metadata": {
        "id": "zwLNVUnCEnIO"
      },
      "source": [
        "**`autoreload`** полезен при разработке: он делает так, чтобы все модули переимпортировались перед тем, как запускать код. По умолчанию питон этого не делает: если модуль импортирован, то он просто игнорирует его, то есть: если мы меняем исходный код модуля, то изменения не подтянутся. В случае с autoreload все изменится."
      ]
    },
    {
      "cell_type": "markdown",
      "metadata": {
        "id": "OQhc4FAn4JWS"
      },
      "source": [
        "## !терминальная команда\n",
        "юпитер поймет по '!', что это терминальная команда. Юпитер унаследует то виртуальное окружение и переменные, которые идут от юпитер ноутбука. Если виртуального окржуения нет, то все команды будут выполнятся в системном питоне."
      ]
    },
    {
      "cell_type": "markdown",
      "metadata": {
        "id": "cA1xQPBaWJlG"
      },
      "source": [
        "# Kernel\n",
        "В юпитере можно выполнять команды не только на питоне. За выполнение команд в юпитере отвечает __ядро__. Ядро можно поменять на другое (например где больше пакетов).\n",
        "\n",
        "Питон как раз проектировался так, что можно было работать с другими языками программирования (например R). Архитектура такова: команды из ячеек отправляются ядру для выполнения, затем ядро отдает результат юпитеру."
      ]
    },
    {
      "cell_type": "markdown",
      "metadata": {
        "id": "HTP98cMrzFE9"
      },
      "source": [
        "# Библиотеки\n",
        "Это набор готовых функций и переменных. Рассмотрим на примере `datetime` для работы с датами"
      ]
    },
    {
      "cell_type": "markdown",
      "metadata": {
        "id": "saWU7TVhNv5x"
      },
      "source": [
        "## datetime"
      ]
    },
    {
      "cell_type": "code",
      "execution_count": 17,
      "metadata": {
        "id": "q9_Np3fRkk8h"
      },
      "outputs": [],
      "source": [
        "import datetime"
      ]
    },
    {
      "cell_type": "code",
      "execution_count": 18,
      "metadata": {
        "colab": {
          "base_uri": "https://localhost:8080/"
        },
        "id": "K1LYmTM0kr0A",
        "outputId": "b737e17a-3b75-46f7-a1f1-aaf7a460736a"
      },
      "outputs": [
        {
          "name": "stdout",
          "output_type": "stream",
          "text": [
            "2024-01-07 <class 'datetime.date'>\n"
          ]
        }
      ],
      "source": [
        "christmas = datetime.date(year=2024, month=1, day=7) # если аргументов много, то лучше писать явно\n",
        "print(christmas, type(christmas))"
      ]
    },
    {
      "cell_type": "code",
      "execution_count": 19,
      "metadata": {
        "id": "3VewazPTlR5_"
      },
      "outputs": [],
      "source": [
        "# создадим пару дата-время\n",
        "random_time = datetime.datetime(year=2024, month=1, day=8,\n",
        "                                hour=18, minute=0, second=56)"
      ]
    },
    {
      "cell_type": "code",
      "execution_count": 20,
      "metadata": {
        "colab": {
          "base_uri": "https://localhost:8080/"
        },
        "id": "_uE6R-L9l5oQ",
        "outputId": "08eb8844-8821-44db-9514-efbe7375403e"
      },
      "outputs": [
        {
          "data": {
            "text/plain": [
              "datetime.datetime(2024, 1, 8, 18, 0, 56)"
            ]
          },
          "execution_count": 20,
          "metadata": {},
          "output_type": "execute_result"
        }
      ],
      "source": [
        "random_time"
      ]
    },
    {
      "cell_type": "code",
      "execution_count": 21,
      "metadata": {
        "colab": {
          "base_uri": "https://localhost:8080/"
        },
        "id": "181N-RIul7j3",
        "outputId": "96643d1f-d289-478b-c1bb-2eb844a0f781"
      },
      "outputs": [
        {
          "name": "stdout",
          "output_type": "stream",
          "text": [
            "День 8\n",
            "Секунда 56\n"
          ]
        }
      ],
      "source": [
        "print(f'День {random_time.day}')\n",
        "print(f'Секунда {random_time.second}')"
      ]
    },
    {
      "cell_type": "code",
      "execution_count": 22,
      "metadata": {
        "colab": {
          "base_uri": "https://localhost:8080/"
        },
        "id": "ch7rRQMjmCyX",
        "outputId": "0a4123b9-9e3b-4377-f519-02a3c2d4c57c"
      },
      "outputs": [
        {
          "name": "stdout",
          "output_type": "stream",
          "text": [
            "2024-01-07 18:00:46\n"
          ]
        }
      ],
      "source": [
        "# сложение и вычитание\n",
        "delta = datetime.timedelta(days=1, seconds=10)\n",
        "print(random_time - delta)"
      ]
    },
    {
      "cell_type": "markdown",
      "metadata": {
        "id": "68lHC7l9naY5"
      },
      "source": [
        "Более подробно тут https://pythonworld.ru/moduli/modul-datetime.html\n",
        "\n",
        "## Collections\n",
        "Рассмотрим библиотеку collections - содержит дополнительные структуры данных, которые упрощают жизнь. Импортнем Counter, defaultdict:\n",
        "- defaultdict - словарь, но при обращении к несуществующему ключу создает его, а не выбрасывает ошибку\n",
        "- Counter - счетчик, считает уникальные элементы и их повторение, а потом создает словарь"
      ]
    },
    {
      "cell_type": "code",
      "execution_count": 23,
      "metadata": {
        "id": "H5DLSOZ8pH_I"
      },
      "outputs": [],
      "source": [
        "from collections import Counter, defaultdict"
      ]
    },
    {
      "cell_type": "code",
      "execution_count": 24,
      "metadata": {
        "colab": {
          "base_uri": "https://localhost:8080/"
        },
        "id": "vMbncG9UpOFx",
        "outputId": "da065fc7-814b-4b26-c93b-031640e9bb8e"
      },
      "outputs": [
        {
          "data": {
            "text/plain": [
              "defaultdict(int, {})"
            ]
          },
          "execution_count": 24,
          "metadata": {},
          "output_type": "execute_result"
        }
      ],
      "source": [
        "# создадим словарь с 0 - надо явно передать тип, а не сам объект\n",
        "d = defaultdict(int)\n",
        "d"
      ]
    },
    {
      "cell_type": "code",
      "execution_count": 25,
      "metadata": {
        "colab": {
          "base_uri": "https://localhost:8080/"
        },
        "id": "oTo2WCJ8qAVa",
        "outputId": "b9ab2328-1620-4025-b8a7-8ab9ccf1585e"
      },
      "outputs": [
        {
          "data": {
            "text/plain": [
              "0"
            ]
          },
          "execution_count": 25,
          "metadata": {},
          "output_type": "execute_result"
        }
      ],
      "source": [
        "d[2] # выдаст 0 вместо ошибки, тк такого ключа нет"
      ]
    },
    {
      "cell_type": "code",
      "execution_count": 26,
      "metadata": {
        "colab": {
          "base_uri": "https://localhost:8080/"
        },
        "id": "JRgIUbevqf1p",
        "outputId": "409001ad-037b-462b-88fd-8c5a25927c39"
      },
      "outputs": [
        {
          "data": {
            "text/plain": [
              "defaultdict(int, {2: 0})"
            ]
          },
          "execution_count": 26,
          "metadata": {},
          "output_type": "execute_result"
        }
      ],
      "source": [
        "d # при этом идет запись значения"
      ]
    },
    {
      "cell_type": "markdown",
      "metadata": {
        "id": "yLQEShCtqopo"
      },
      "source": [
        "defaultdict полезен, когда надо, чтобы код был без ошибок, при этом если будет несуществующей ключ, то присваивать ему стандартное значение. Полезно в алгоритмах."
      ]
    },
    {
      "cell_type": "code",
      "execution_count": 27,
      "metadata": {
        "colab": {
          "base_uri": "https://localhost:8080/"
        },
        "id": "GTFVU8P8rFKS",
        "outputId": "73e029e1-5760-4de3-83ff-1d8cf616ec33"
      },
      "outputs": [
        {
          "data": {
            "text/plain": [
              "0"
            ]
          },
          "execution_count": 27,
          "metadata": {},
          "output_type": "execute_result"
        }
      ],
      "source": [
        "d[2]"
      ]
    },
    {
      "cell_type": "code",
      "execution_count": 28,
      "metadata": {
        "colab": {
          "base_uri": "https://localhost:8080/"
        },
        "id": "T7d_NEfFrGjg",
        "outputId": "e918565b-3d01-4a6e-acd8-89ffad5bec57"
      },
      "outputs": [
        {
          "data": {
            "text/plain": [
              "Counter({'a': 2, None: 2, 2: 1, 1: 1, 3: 1, 'b': 1})"
            ]
          },
          "execution_count": 28,
          "metadata": {},
          "output_type": "execute_result"
        }
      ],
      "source": [
        "# Counter на вход принимает список и считает кол-во элементов\n",
        "lst = [2, 1, 3, 'a', 'b', 'a', None, None]\n",
        "new_d = Counter(lst)\n",
        "new_d"
      ]
    },
    {
      "cell_type": "markdown",
      "metadata": {
        "id": "oJIPMUtsrgVx"
      },
      "source": [
        "### правильное использование try-except\n",
        "Однако Counter это словарь, а значит если в списке будет изменяемый объект, то он может поломаться. Заодном рассмотрим, как правильно использовать связку **`try-except`**: в except лучше писать конкретный тип ошибки"
      ]
    },
    {
      "cell_type": "code",
      "execution_count": 29,
      "metadata": {
        "colab": {
          "base_uri": "https://localhost:8080/"
        },
        "id": "R3rEyKaOsTvS",
        "outputId": "2e73b97f-42a5-48d4-e004-06c266f09642"
      },
      "outputs": [
        {
          "name": "stdout",
          "output_type": "stream",
          "text": [
            "В списке есть изменяемый (unhashable) объект\n"
          ]
        }
      ],
      "source": [
        "new_lst = [2, 1, 3, 'a', 'b', 'a', None, None, [1, 2]]\n",
        "try:\n",
        "    new_d_2 = Counter(new_lst)\n",
        "except TypeError:\n",
        "    print('В списке есть изменяемый (unhashable) объект')"
      ]
    },
    {
      "cell_type": "markdown",
      "metadata": {
        "id": "aMCwRvCDSfj5"
      },
      "source": [
        "Если предполагается несколько ошибок, то можно делать несколько except-ов. Использовать просто `except:` не рекомендуется"
      ]
    },
    {
      "cell_type": "markdown",
      "metadata": {
        "id": "RYjn-E8BN0sP"
      },
      "source": [
        "## pandas"
      ]
    },
    {
      "cell_type": "markdown",
      "metadata": {
        "id": "DrKeVJtfU166"
      },
      "source": [
        "### Фильтрация"
      ]
    },
    {
      "cell_type": "code",
      "execution_count": 30,
      "metadata": {
        "id": "wN1GatGKU6t-"
      },
      "outputs": [],
      "source": [
        "import pandas as pd\n",
        "import numpy as np\n",
        "\n",
        "df = pd.DataFrame({'user_id': [i for i in range(1, 101)],\n",
        "                   'city': np.random.choice(['moscow', 'london', 'LA', 'madrid'], 100)})"
      ]
    },
    {
      "cell_type": "code",
      "execution_count": 31,
      "metadata": {
        "colab": {
          "base_uri": "https://localhost:8080/",
          "height": 206
        },
        "id": "l73wJHDVWEI6",
        "outputId": "7d2f58cb-7d37-4240-95d1-44842cc2e650"
      },
      "outputs": [
        {
          "data": {
            "text/html": [
              "<div>\n",
              "<style scoped>\n",
              "    .dataframe tbody tr th:only-of-type {\n",
              "        vertical-align: middle;\n",
              "    }\n",
              "\n",
              "    .dataframe tbody tr th {\n",
              "        vertical-align: top;\n",
              "    }\n",
              "\n",
              "    .dataframe thead th {\n",
              "        text-align: right;\n",
              "    }\n",
              "</style>\n",
              "<table border=\"1\" class=\"dataframe\">\n",
              "  <thead>\n",
              "    <tr style=\"text-align: right;\">\n",
              "      <th></th>\n",
              "      <th>user_id</th>\n",
              "      <th>city</th>\n",
              "    </tr>\n",
              "  </thead>\n",
              "  <tbody>\n",
              "    <tr>\n",
              "      <th>0</th>\n",
              "      <td>1</td>\n",
              "      <td>LA</td>\n",
              "    </tr>\n",
              "    <tr>\n",
              "      <th>4</th>\n",
              "      <td>5</td>\n",
              "      <td>london</td>\n",
              "    </tr>\n",
              "    <tr>\n",
              "      <th>6</th>\n",
              "      <td>7</td>\n",
              "      <td>LA</td>\n",
              "    </tr>\n",
              "    <tr>\n",
              "      <th>9</th>\n",
              "      <td>10</td>\n",
              "      <td>LA</td>\n",
              "    </tr>\n",
              "    <tr>\n",
              "      <th>10</th>\n",
              "      <td>11</td>\n",
              "      <td>LA</td>\n",
              "    </tr>\n",
              "  </tbody>\n",
              "</table>\n",
              "</div>"
            ],
            "text/plain": [
              "    user_id    city\n",
              "0         1      LA\n",
              "4         5  london\n",
              "6         7      LA\n",
              "9        10      LA\n",
              "10       11      LA"
            ]
          },
          "execution_count": 31,
          "metadata": {},
          "output_type": "execute_result"
        }
      ],
      "source": [
        "df[df['city'].isin(['london', 'LA'])].head()"
      ]
    },
    {
      "cell_type": "markdown",
      "metadata": {
        "id": "QGFHCaRwayS9"
      },
      "source": [
        "### Логические операции\n",
        "В панадасе обозначение логчиеских операций отличается от чистого питона:\n",
        "- `and` заменяется на амперсанд __&__\n",
        "- `or` заменяется на __|__\n",
        "- `not` заменяется на __~__"
      ]
    },
    {
      "cell_type": "code",
      "execution_count": 32,
      "metadata": {
        "colab": {
          "base_uri": "https://localhost:8080/",
          "height": 175
        },
        "id": "G0bt9Jh0N24w",
        "outputId": "6266f149-8f11-4805-88d8-05deb22dfa55"
      },
      "outputs": [
        {
          "data": {
            "text/html": [
              "<div>\n",
              "<style scoped>\n",
              "    .dataframe tbody tr th:only-of-type {\n",
              "        vertical-align: middle;\n",
              "    }\n",
              "\n",
              "    .dataframe tbody tr th {\n",
              "        vertical-align: top;\n",
              "    }\n",
              "\n",
              "    .dataframe thead th {\n",
              "        text-align: right;\n",
              "    }\n",
              "</style>\n",
              "<table border=\"1\" class=\"dataframe\">\n",
              "  <thead>\n",
              "    <tr style=\"text-align: right;\">\n",
              "      <th></th>\n",
              "      <th>number</th>\n",
              "      <th>letter</th>\n",
              "    </tr>\n",
              "  </thead>\n",
              "  <tbody>\n",
              "    <tr>\n",
              "      <th>0</th>\n",
              "      <td>1</td>\n",
              "      <td>a</td>\n",
              "    </tr>\n",
              "    <tr>\n",
              "      <th>1</th>\n",
              "      <td>2</td>\n",
              "      <td>a</td>\n",
              "    </tr>\n",
              "    <tr>\n",
              "      <th>2</th>\n",
              "      <td>3</td>\n",
              "      <td>b</td>\n",
              "    </tr>\n",
              "    <tr>\n",
              "      <th>3</th>\n",
              "      <td>4</td>\n",
              "      <td>b</td>\n",
              "    </tr>\n",
              "  </tbody>\n",
              "</table>\n",
              "</div>"
            ],
            "text/plain": [
              "   number letter\n",
              "0       1      a\n",
              "1       2      a\n",
              "2       3      b\n",
              "3       4      b"
            ]
          },
          "execution_count": 32,
          "metadata": {},
          "output_type": "execute_result"
        }
      ],
      "source": [
        "import pandas as pd\n",
        "df = pd.DataFrame([(1, 'a'), (2, 'a'), (3, 'b'), (4, 'b')], columns=['number', 'letter'])\n",
        "df"
      ]
    },
    {
      "cell_type": "code",
      "execution_count": 33,
      "metadata": {
        "colab": {
          "base_uri": "https://localhost:8080/",
          "height": 81
        },
        "id": "90X4Uk3VPzfw",
        "outputId": "67aa3ac2-a7f6-44fd-b6f9-8f8d14115c94"
      },
      "outputs": [
        {
          "data": {
            "text/html": [
              "<div>\n",
              "<style scoped>\n",
              "    .dataframe tbody tr th:only-of-type {\n",
              "        vertical-align: middle;\n",
              "    }\n",
              "\n",
              "    .dataframe tbody tr th {\n",
              "        vertical-align: top;\n",
              "    }\n",
              "\n",
              "    .dataframe thead th {\n",
              "        text-align: right;\n",
              "    }\n",
              "</style>\n",
              "<table border=\"1\" class=\"dataframe\">\n",
              "  <thead>\n",
              "    <tr style=\"text-align: right;\">\n",
              "      <th></th>\n",
              "      <th>number</th>\n",
              "      <th>letter</th>\n",
              "    </tr>\n",
              "  </thead>\n",
              "  <tbody>\n",
              "    <tr>\n",
              "      <th>0</th>\n",
              "      <td>1</td>\n",
              "      <td>a</td>\n",
              "    </tr>\n",
              "  </tbody>\n",
              "</table>\n",
              "</div>"
            ],
            "text/plain": [
              "   number letter\n",
              "0       1      a"
            ]
          },
          "execution_count": 33,
          "metadata": {},
          "output_type": "execute_result"
        }
      ],
      "source": [
        "df[(df['number'] == 1) & (df['letter'] == 'a')]"
      ]
    },
    {
      "cell_type": "code",
      "execution_count": 34,
      "metadata": {
        "colab": {
          "base_uri": "https://localhost:8080/",
          "height": 112
        },
        "id": "nGTblhaWP_N0",
        "outputId": "74e80ab8-97bf-467a-fd7e-0eccd69a762f"
      },
      "outputs": [
        {
          "data": {
            "text/html": [
              "<div>\n",
              "<style scoped>\n",
              "    .dataframe tbody tr th:only-of-type {\n",
              "        vertical-align: middle;\n",
              "    }\n",
              "\n",
              "    .dataframe tbody tr th {\n",
              "        vertical-align: top;\n",
              "    }\n",
              "\n",
              "    .dataframe thead th {\n",
              "        text-align: right;\n",
              "    }\n",
              "</style>\n",
              "<table border=\"1\" class=\"dataframe\">\n",
              "  <thead>\n",
              "    <tr style=\"text-align: right;\">\n",
              "      <th></th>\n",
              "      <th>number</th>\n",
              "      <th>letter</th>\n",
              "    </tr>\n",
              "  </thead>\n",
              "  <tbody>\n",
              "    <tr>\n",
              "      <th>0</th>\n",
              "      <td>1</td>\n",
              "      <td>a</td>\n",
              "    </tr>\n",
              "    <tr>\n",
              "      <th>1</th>\n",
              "      <td>2</td>\n",
              "      <td>a</td>\n",
              "    </tr>\n",
              "  </tbody>\n",
              "</table>\n",
              "</div>"
            ],
            "text/plain": [
              "   number letter\n",
              "0       1      a\n",
              "1       2      a"
            ]
          },
          "execution_count": 34,
          "metadata": {},
          "output_type": "execute_result"
        }
      ],
      "source": [
        "df[(df['number'] == 1) | (df['letter'] == 'a')]"
      ]
    },
    {
      "cell_type": "code",
      "execution_count": 35,
      "metadata": {
        "colab": {
          "base_uri": "https://localhost:8080/",
          "height": 143
        },
        "id": "RS1OKJuEQj7a",
        "outputId": "b9b148f6-8ee3-48fc-8364-3768aa9084d3"
      },
      "outputs": [
        {
          "data": {
            "text/html": [
              "<div>\n",
              "<style scoped>\n",
              "    .dataframe tbody tr th:only-of-type {\n",
              "        vertical-align: middle;\n",
              "    }\n",
              "\n",
              "    .dataframe tbody tr th {\n",
              "        vertical-align: top;\n",
              "    }\n",
              "\n",
              "    .dataframe thead th {\n",
              "        text-align: right;\n",
              "    }\n",
              "</style>\n",
              "<table border=\"1\" class=\"dataframe\">\n",
              "  <thead>\n",
              "    <tr style=\"text-align: right;\">\n",
              "      <th></th>\n",
              "      <th>number</th>\n",
              "      <th>letter</th>\n",
              "    </tr>\n",
              "  </thead>\n",
              "  <tbody>\n",
              "    <tr>\n",
              "      <th>1</th>\n",
              "      <td>2</td>\n",
              "      <td>a</td>\n",
              "    </tr>\n",
              "    <tr>\n",
              "      <th>2</th>\n",
              "      <td>3</td>\n",
              "      <td>b</td>\n",
              "    </tr>\n",
              "    <tr>\n",
              "      <th>3</th>\n",
              "      <td>4</td>\n",
              "      <td>b</td>\n",
              "    </tr>\n",
              "  </tbody>\n",
              "</table>\n",
              "</div>"
            ],
            "text/plain": [
              "   number letter\n",
              "1       2      a\n",
              "2       3      b\n",
              "3       4      b"
            ]
          },
          "execution_count": 35,
          "metadata": {},
          "output_type": "execute_result"
        }
      ],
      "source": [
        "# в данном случае важно не забывать про скобки - сначала отбираем значения, потом происходит инверсия\n",
        "df[~(df['number'] == 1)]"
      ]
    },
    {
      "cell_type": "code",
      "execution_count": 36,
      "metadata": {
        "colab": {
          "base_uri": "https://localhost:8080/",
          "height": 81
        },
        "id": "iZh7rspjP_QW",
        "outputId": "61d96ad0-6047-417b-9df3-d5868467eb8e"
      },
      "outputs": [
        {
          "data": {
            "text/html": [
              "<div>\n",
              "<style scoped>\n",
              "    .dataframe tbody tr th:only-of-type {\n",
              "        vertical-align: middle;\n",
              "    }\n",
              "\n",
              "    .dataframe tbody tr th {\n",
              "        vertical-align: top;\n",
              "    }\n",
              "\n",
              "    .dataframe thead th {\n",
              "        text-align: right;\n",
              "    }\n",
              "</style>\n",
              "<table border=\"1\" class=\"dataframe\">\n",
              "  <thead>\n",
              "    <tr style=\"text-align: right;\">\n",
              "      <th></th>\n",
              "      <th>number</th>\n",
              "      <th>letter</th>\n",
              "    </tr>\n",
              "  </thead>\n",
              "  <tbody>\n",
              "    <tr>\n",
              "      <th>1</th>\n",
              "      <td>2</td>\n",
              "      <td>a</td>\n",
              "    </tr>\n",
              "  </tbody>\n",
              "</table>\n",
              "</div>"
            ],
            "text/plain": [
              "   number letter\n",
              "1       2      a"
            ]
          },
          "execution_count": 36,
          "metadata": {},
          "output_type": "execute_result"
        }
      ],
      "source": [
        "df[(~(df['number'] == 1)) & (df['letter'] == 'a')]"
      ]
    },
    {
      "cell_type": "markdown",
      "metadata": {
        "id": "BlXalJyU1-j2"
      },
      "source": [
        "### Индексы датафрейма\n",
        "Индексом в датафрейме может быть не только число, но и строка. Рассмотрим пару примерров работы с ними."
      ]
    },
    {
      "cell_type": "markdown",
      "metadata": {
        "id": "zEW_Nkho2Mz3"
      },
      "source": [
        "#### df.loc[]\n",
        "__df.loc[i]__ возвращает серию i-ой строки. Работает"
      ]
    },
    {
      "cell_type": "code",
      "execution_count": 37,
      "metadata": {
        "id": "TcsGuR042rGX"
      },
      "outputs": [],
      "source": [
        "df = pd.DataFrame({'name':['dima', 'vova', 'lena', 'vika'],\n",
        "                   'age': [30, 35, 23, 34],\n",
        "                   'salary': [200, 400, 100, 500]})"
      ]
    },
    {
      "cell_type": "code",
      "execution_count": 38,
      "metadata": {
        "colab": {
          "base_uri": "https://localhost:8080/",
          "height": 175
        },
        "id": "Bmzja7Ai2rI7",
        "outputId": "f960cd5a-f9e6-4d86-b7b3-909f5f1fa2db"
      },
      "outputs": [
        {
          "data": {
            "text/html": [
              "<div>\n",
              "<style scoped>\n",
              "    .dataframe tbody tr th:only-of-type {\n",
              "        vertical-align: middle;\n",
              "    }\n",
              "\n",
              "    .dataframe tbody tr th {\n",
              "        vertical-align: top;\n",
              "    }\n",
              "\n",
              "    .dataframe thead th {\n",
              "        text-align: right;\n",
              "    }\n",
              "</style>\n",
              "<table border=\"1\" class=\"dataframe\">\n",
              "  <thead>\n",
              "    <tr style=\"text-align: right;\">\n",
              "      <th></th>\n",
              "      <th>name</th>\n",
              "      <th>age</th>\n",
              "      <th>salary</th>\n",
              "    </tr>\n",
              "  </thead>\n",
              "  <tbody>\n",
              "    <tr>\n",
              "      <th>0</th>\n",
              "      <td>dima</td>\n",
              "      <td>30</td>\n",
              "      <td>200</td>\n",
              "    </tr>\n",
              "    <tr>\n",
              "      <th>1</th>\n",
              "      <td>vova</td>\n",
              "      <td>35</td>\n",
              "      <td>400</td>\n",
              "    </tr>\n",
              "    <tr>\n",
              "      <th>2</th>\n",
              "      <td>lena</td>\n",
              "      <td>23</td>\n",
              "      <td>100</td>\n",
              "    </tr>\n",
              "    <tr>\n",
              "      <th>3</th>\n",
              "      <td>vika</td>\n",
              "      <td>34</td>\n",
              "      <td>500</td>\n",
              "    </tr>\n",
              "  </tbody>\n",
              "</table>\n",
              "</div>"
            ],
            "text/plain": [
              "   name  age  salary\n",
              "0  dima   30     200\n",
              "1  vova   35     400\n",
              "2  lena   23     100\n",
              "3  vika   34     500"
            ]
          },
          "execution_count": 38,
          "metadata": {},
          "output_type": "execute_result"
        }
      ],
      "source": [
        "df"
      ]
    },
    {
      "cell_type": "code",
      "execution_count": 39,
      "metadata": {
        "colab": {
          "base_uri": "https://localhost:8080/"
        },
        "id": "3XoMkm1p2rLz",
        "outputId": "5597932a-46a6-4433-9aaf-40f041c3fd94"
      },
      "outputs": [
        {
          "data": {
            "text/plain": [
              "name      lena\n",
              "age         23\n",
              "salary     100\n",
              "Name: 2, dtype: object"
            ]
          },
          "execution_count": 39,
          "metadata": {},
          "output_type": "execute_result"
        }
      ],
      "source": [
        "df.loc[2] # возвращает серию: индекс - значение"
      ]
    },
    {
      "cell_type": "code",
      "execution_count": 40,
      "metadata": {
        "colab": {
          "base_uri": "https://localhost:8080/",
          "height": 35
        },
        "id": "FriKqCfH3ctt",
        "outputId": "98eee73e-5d75-43c3-e9b2-4ee2203092a7"
      },
      "outputs": [
        {
          "data": {
            "text/plain": [
              "'lena'"
            ]
          },
          "execution_count": 40,
          "metadata": {},
          "output_type": "execute_result"
        }
      ],
      "source": [
        "df.loc[2]['name']"
      ]
    },
    {
      "cell_type": "code",
      "execution_count": 41,
      "metadata": {
        "colab": {
          "base_uri": "https://localhost:8080/",
          "height": 35
        },
        "id": "ZFnuH0-17Jvh",
        "outputId": "164e5bf5-f6ed-4e18-863e-6abd7fc32691"
      },
      "outputs": [
        {
          "data": {
            "text/plain": [
              "'lena'"
            ]
          },
          "execution_count": 41,
          "metadata": {},
          "output_type": "execute_result"
        }
      ],
      "source": [
        "# можно и так\n",
        "df.loc[2, 'name']"
      ]
    },
    {
      "cell_type": "markdown",
      "metadata": {
        "id": "gS8B0wXY4HoI"
      },
      "source": [
        "#### loc и iloc\n",
        "loc[] и iloc[] работают одинаково, когда в качестве индекса стоит число. Если будет стоять строка, то в iloc[] надо передавать номер индекса по порядку (даже если там не число), тогда как loc[] работает со значениями индекса, как в датафрейме."
      ]
    },
    {
      "cell_type": "code",
      "execution_count": 42,
      "metadata": {
        "colab": {
          "base_uri": "https://localhost:8080/"
        },
        "id": "Q-QDrHyL3foa",
        "outputId": "8ad71b65-8067-4227-aeec-e4957d09a3d9"
      },
      "outputs": [
        {
          "data": {
            "text/plain": [
              "name      lena\n",
              "age         23\n",
              "salary     100\n",
              "Name: 2, dtype: object"
            ]
          },
          "execution_count": 42,
          "metadata": {},
          "output_type": "execute_result"
        }
      ],
      "source": [
        "df.iloc[2]"
      ]
    },
    {
      "cell_type": "code",
      "execution_count": 43,
      "metadata": {
        "id": "JODzb_3B3frB"
      },
      "outputs": [],
      "source": [
        "# будем работать с копией\n",
        "copy_df = df.copy().set_index('name')"
      ]
    },
    {
      "cell_type": "code",
      "execution_count": 44,
      "metadata": {
        "colab": {
          "base_uri": "https://localhost:8080/",
          "height": 206
        },
        "id": "tAVgXjNL3fto",
        "outputId": "1dee4f59-eeae-4e51-ac94-0f9a3250476f"
      },
      "outputs": [
        {
          "data": {
            "text/html": [
              "<div>\n",
              "<style scoped>\n",
              "    .dataframe tbody tr th:only-of-type {\n",
              "        vertical-align: middle;\n",
              "    }\n",
              "\n",
              "    .dataframe tbody tr th {\n",
              "        vertical-align: top;\n",
              "    }\n",
              "\n",
              "    .dataframe thead th {\n",
              "        text-align: right;\n",
              "    }\n",
              "</style>\n",
              "<table border=\"1\" class=\"dataframe\">\n",
              "  <thead>\n",
              "    <tr style=\"text-align: right;\">\n",
              "      <th></th>\n",
              "      <th>age</th>\n",
              "      <th>salary</th>\n",
              "    </tr>\n",
              "    <tr>\n",
              "      <th>name</th>\n",
              "      <th></th>\n",
              "      <th></th>\n",
              "    </tr>\n",
              "  </thead>\n",
              "  <tbody>\n",
              "    <tr>\n",
              "      <th>dima</th>\n",
              "      <td>30</td>\n",
              "      <td>200</td>\n",
              "    </tr>\n",
              "    <tr>\n",
              "      <th>vova</th>\n",
              "      <td>35</td>\n",
              "      <td>400</td>\n",
              "    </tr>\n",
              "    <tr>\n",
              "      <th>lena</th>\n",
              "      <td>23</td>\n",
              "      <td>100</td>\n",
              "    </tr>\n",
              "    <tr>\n",
              "      <th>vika</th>\n",
              "      <td>34</td>\n",
              "      <td>500</td>\n",
              "    </tr>\n",
              "  </tbody>\n",
              "</table>\n",
              "</div>"
            ],
            "text/plain": [
              "      age  salary\n",
              "name             \n",
              "dima   30     200\n",
              "vova   35     400\n",
              "lena   23     100\n",
              "vika   34     500"
            ]
          },
          "execution_count": 44,
          "metadata": {},
          "output_type": "execute_result"
        }
      ],
      "source": [
        "copy_df"
      ]
    },
    {
      "cell_type": "code",
      "execution_count": 45,
      "metadata": {
        "colab": {
          "base_uri": "https://localhost:8080/"
        },
        "id": "m_cjwauy5R6W",
        "outputId": "b9b20c85-852e-4b5a-af73-d7648f6ccd5e"
      },
      "outputs": [
        {
          "data": {
            "text/plain": [
              "age        35\n",
              "salary    400\n",
              "Name: vova, dtype: int64"
            ]
          },
          "execution_count": 45,
          "metadata": {},
          "output_type": "execute_result"
        }
      ],
      "source": [
        "copy_df.iloc[1]"
      ]
    },
    {
      "cell_type": "code",
      "execution_count": 46,
      "metadata": {
        "colab": {
          "base_uri": "https://localhost:8080/"
        },
        "id": "wRjsw7h55R85",
        "outputId": "d004303f-dc3f-40ac-b871-de52d8543a39"
      },
      "outputs": [
        {
          "data": {
            "text/plain": [
              "35"
            ]
          },
          "execution_count": 46,
          "metadata": {},
          "output_type": "execute_result"
        }
      ],
      "source": [
        "# с iloc нельзя указать все в одной скобке\n",
        "copy_df.loc['vova', 'age']"
      ]
    },
    {
      "cell_type": "markdown",
      "metadata": {
        "id": "5CHUE4gL2qRv"
      },
      "source": [
        "Так же методы поддерживают срезы"
      ]
    },
    {
      "cell_type": "code",
      "execution_count": 47,
      "metadata": {
        "colab": {
          "base_uri": "https://localhost:8080/",
          "height": 175
        },
        "id": "UgRzidVv7oJC",
        "outputId": "0cfbd2d9-4780-4193-9af0-57d0cacc6181"
      },
      "outputs": [
        {
          "data": {
            "text/html": [
              "<div>\n",
              "<style scoped>\n",
              "    .dataframe tbody tr th:only-of-type {\n",
              "        vertical-align: middle;\n",
              "    }\n",
              "\n",
              "    .dataframe tbody tr th {\n",
              "        vertical-align: top;\n",
              "    }\n",
              "\n",
              "    .dataframe thead th {\n",
              "        text-align: right;\n",
              "    }\n",
              "</style>\n",
              "<table border=\"1\" class=\"dataframe\">\n",
              "  <thead>\n",
              "    <tr style=\"text-align: right;\">\n",
              "      <th></th>\n",
              "      <th>age</th>\n",
              "      <th>salary</th>\n",
              "    </tr>\n",
              "    <tr>\n",
              "      <th>name</th>\n",
              "      <th></th>\n",
              "      <th></th>\n",
              "    </tr>\n",
              "  </thead>\n",
              "  <tbody>\n",
              "    <tr>\n",
              "      <th>dima</th>\n",
              "      <td>30</td>\n",
              "      <td>200</td>\n",
              "    </tr>\n",
              "    <tr>\n",
              "      <th>vova</th>\n",
              "      <td>35</td>\n",
              "      <td>400</td>\n",
              "    </tr>\n",
              "    <tr>\n",
              "      <th>lena</th>\n",
              "      <td>23</td>\n",
              "      <td>100</td>\n",
              "    </tr>\n",
              "  </tbody>\n",
              "</table>\n",
              "</div>"
            ],
            "text/plain": [
              "      age  salary\n",
              "name             \n",
              "dima   30     200\n",
              "vova   35     400\n",
              "lena   23     100"
            ]
          },
          "execution_count": 47,
          "metadata": {},
          "output_type": "execute_result"
        }
      ],
      "source": [
        "# войдет правая и левая граница\n",
        "copy_df['dima': 'lena']"
      ]
    },
    {
      "cell_type": "code",
      "execution_count": 48,
      "metadata": {
        "colab": {
          "base_uri": "https://localhost:8080/",
          "height": 175
        },
        "id": "EzevhFJJ7vsU",
        "outputId": "0fe546d5-0182-4f85-8910-baac9e93cca9"
      },
      "outputs": [
        {
          "data": {
            "text/html": [
              "<div>\n",
              "<style scoped>\n",
              "    .dataframe tbody tr th:only-of-type {\n",
              "        vertical-align: middle;\n",
              "    }\n",
              "\n",
              "    .dataframe tbody tr th {\n",
              "        vertical-align: top;\n",
              "    }\n",
              "\n",
              "    .dataframe thead th {\n",
              "        text-align: right;\n",
              "    }\n",
              "</style>\n",
              "<table border=\"1\" class=\"dataframe\">\n",
              "  <thead>\n",
              "    <tr style=\"text-align: right;\">\n",
              "      <th></th>\n",
              "      <th>age</th>\n",
              "      <th>salary</th>\n",
              "    </tr>\n",
              "    <tr>\n",
              "      <th>name</th>\n",
              "      <th></th>\n",
              "      <th></th>\n",
              "    </tr>\n",
              "  </thead>\n",
              "  <tbody>\n",
              "    <tr>\n",
              "      <th>dima</th>\n",
              "      <td>30</td>\n",
              "      <td>200</td>\n",
              "    </tr>\n",
              "    <tr>\n",
              "      <th>vova</th>\n",
              "      <td>35</td>\n",
              "      <td>400</td>\n",
              "    </tr>\n",
              "    <tr>\n",
              "      <th>lena</th>\n",
              "      <td>23</td>\n",
              "      <td>100</td>\n",
              "    </tr>\n",
              "  </tbody>\n",
              "</table>\n",
              "</div>"
            ],
            "text/plain": [
              "      age  salary\n",
              "name             \n",
              "dima   30     200\n",
              "vova   35     400\n",
              "lena   23     100"
            ]
          },
          "execution_count": 48,
          "metadata": {},
          "output_type": "execute_result"
        }
      ],
      "source": [
        "copy_df.loc['dima': 'lena']"
      ]
    },
    {
      "cell_type": "markdown",
      "metadata": {
        "id": "ON_UVcHu81LP"
      },
      "source": [
        "iloc[] работает точно так же, как и список, то есть в случае указания среза правая граница не войдет."
      ]
    },
    {
      "cell_type": "code",
      "execution_count": 49,
      "metadata": {
        "colab": {
          "base_uri": "https://localhost:8080/",
          "height": 175
        },
        "id": "Z0SSVQXK70tr",
        "outputId": "82b38cec-2647-4943-aaa1-48054a4ae7f9"
      },
      "outputs": [
        {
          "data": {
            "text/html": [
              "<div>\n",
              "<style scoped>\n",
              "    .dataframe tbody tr th:only-of-type {\n",
              "        vertical-align: middle;\n",
              "    }\n",
              "\n",
              "    .dataframe tbody tr th {\n",
              "        vertical-align: top;\n",
              "    }\n",
              "\n",
              "    .dataframe thead th {\n",
              "        text-align: right;\n",
              "    }\n",
              "</style>\n",
              "<table border=\"1\" class=\"dataframe\">\n",
              "  <thead>\n",
              "    <tr style=\"text-align: right;\">\n",
              "      <th></th>\n",
              "      <th>age</th>\n",
              "      <th>salary</th>\n",
              "    </tr>\n",
              "    <tr>\n",
              "      <th>name</th>\n",
              "      <th></th>\n",
              "      <th></th>\n",
              "    </tr>\n",
              "  </thead>\n",
              "  <tbody>\n",
              "    <tr>\n",
              "      <th>dima</th>\n",
              "      <td>30</td>\n",
              "      <td>200</td>\n",
              "    </tr>\n",
              "    <tr>\n",
              "      <th>vova</th>\n",
              "      <td>35</td>\n",
              "      <td>400</td>\n",
              "    </tr>\n",
              "    <tr>\n",
              "      <th>lena</th>\n",
              "      <td>23</td>\n",
              "      <td>100</td>\n",
              "    </tr>\n",
              "  </tbody>\n",
              "</table>\n",
              "</div>"
            ],
            "text/plain": [
              "      age  salary\n",
              "name             \n",
              "dima   30     200\n",
              "vova   35     400\n",
              "lena   23     100"
            ]
          },
          "execution_count": 49,
          "metadata": {},
          "output_type": "execute_result"
        }
      ],
      "source": [
        "copy_df.iloc[0:3] # правая граница не входит"
      ]
    },
    {
      "cell_type": "code",
      "execution_count": 50,
      "metadata": {
        "colab": {
          "base_uri": "https://localhost:8080/",
          "height": 143
        },
        "id": "ZZHpdqzb8GxI",
        "outputId": "7b2396ae-65e2-40ad-da30-98ee740deb56"
      },
      "outputs": [
        {
          "data": {
            "text/html": [
              "<div>\n",
              "<style scoped>\n",
              "    .dataframe tbody tr th:only-of-type {\n",
              "        vertical-align: middle;\n",
              "    }\n",
              "\n",
              "    .dataframe tbody tr th {\n",
              "        vertical-align: top;\n",
              "    }\n",
              "\n",
              "    .dataframe thead th {\n",
              "        text-align: right;\n",
              "    }\n",
              "</style>\n",
              "<table border=\"1\" class=\"dataframe\">\n",
              "  <thead>\n",
              "    <tr style=\"text-align: right;\">\n",
              "      <th></th>\n",
              "      <th>age</th>\n",
              "      <th>salary</th>\n",
              "    </tr>\n",
              "    <tr>\n",
              "      <th>name</th>\n",
              "      <th></th>\n",
              "      <th></th>\n",
              "    </tr>\n",
              "  </thead>\n",
              "  <tbody>\n",
              "    <tr>\n",
              "      <th>dima</th>\n",
              "      <td>30</td>\n",
              "      <td>200</td>\n",
              "    </tr>\n",
              "    <tr>\n",
              "      <th>lena</th>\n",
              "      <td>23</td>\n",
              "      <td>100</td>\n",
              "    </tr>\n",
              "  </tbody>\n",
              "</table>\n",
              "</div>"
            ],
            "text/plain": [
              "      age  salary\n",
              "name             \n",
              "dima   30     200\n",
              "lena   23     100"
            ]
          },
          "execution_count": 50,
          "metadata": {},
          "output_type": "execute_result"
        }
      ],
      "source": [
        "# укажем шаг - так же работает и loc\n",
        "copy_df.iloc[0:3:2]"
      ]
    },
    {
      "cell_type": "code",
      "execution_count": 51,
      "metadata": {
        "colab": {
          "base_uri": "https://localhost:8080/",
          "height": 143
        },
        "id": "VbE8UwXw8TWY",
        "outputId": "ad26903e-8b5d-4338-b057-5293203b3730"
      },
      "outputs": [
        {
          "data": {
            "text/html": [
              "<div>\n",
              "<style scoped>\n",
              "    .dataframe tbody tr th:only-of-type {\n",
              "        vertical-align: middle;\n",
              "    }\n",
              "\n",
              "    .dataframe tbody tr th {\n",
              "        vertical-align: top;\n",
              "    }\n",
              "\n",
              "    .dataframe thead th {\n",
              "        text-align: right;\n",
              "    }\n",
              "</style>\n",
              "<table border=\"1\" class=\"dataframe\">\n",
              "  <thead>\n",
              "    <tr style=\"text-align: right;\">\n",
              "      <th></th>\n",
              "      <th>age</th>\n",
              "      <th>salary</th>\n",
              "    </tr>\n",
              "    <tr>\n",
              "      <th>name</th>\n",
              "      <th></th>\n",
              "      <th></th>\n",
              "    </tr>\n",
              "  </thead>\n",
              "  <tbody>\n",
              "    <tr>\n",
              "      <th>dima</th>\n",
              "      <td>30</td>\n",
              "      <td>200</td>\n",
              "    </tr>\n",
              "    <tr>\n",
              "      <th>lena</th>\n",
              "      <td>23</td>\n",
              "      <td>100</td>\n",
              "    </tr>\n",
              "  </tbody>\n",
              "</table>\n",
              "</div>"
            ],
            "text/plain": [
              "      age  salary\n",
              "name             \n",
              "dima   30     200\n",
              "lena   23     100"
            ]
          },
          "execution_count": 51,
          "metadata": {},
          "output_type": "execute_result"
        }
      ],
      "source": [
        "copy_df.iloc[0:-1:2]"
      ]
    },
    {
      "cell_type": "markdown",
      "metadata": {
        "id": "M4X_UbPq9vd_"
      },
      "source": [
        "С помощью loc[] можно менять данные в таблице. iloc[] же сделает запись на копии датафрейма, само значение не перезапишется."
      ]
    },
    {
      "cell_type": "code",
      "execution_count": 52,
      "metadata": {
        "colab": {
          "base_uri": "https://localhost:8080/",
          "height": 206
        },
        "id": "bPmGlwcI-pP7",
        "outputId": "cbdee6ac-9cdf-4928-cf9d-ad5c6a6a9d20"
      },
      "outputs": [
        {
          "data": {
            "text/html": [
              "<div>\n",
              "<style scoped>\n",
              "    .dataframe tbody tr th:only-of-type {\n",
              "        vertical-align: middle;\n",
              "    }\n",
              "\n",
              "    .dataframe tbody tr th {\n",
              "        vertical-align: top;\n",
              "    }\n",
              "\n",
              "    .dataframe thead th {\n",
              "        text-align: right;\n",
              "    }\n",
              "</style>\n",
              "<table border=\"1\" class=\"dataframe\">\n",
              "  <thead>\n",
              "    <tr style=\"text-align: right;\">\n",
              "      <th></th>\n",
              "      <th>age</th>\n",
              "      <th>salary</th>\n",
              "    </tr>\n",
              "    <tr>\n",
              "      <th>name</th>\n",
              "      <th></th>\n",
              "      <th></th>\n",
              "    </tr>\n",
              "  </thead>\n",
              "  <tbody>\n",
              "    <tr>\n",
              "      <th>dima</th>\n",
              "      <td>30</td>\n",
              "      <td>200</td>\n",
              "    </tr>\n",
              "    <tr>\n",
              "      <th>vova</th>\n",
              "      <td>35</td>\n",
              "      <td>400</td>\n",
              "    </tr>\n",
              "    <tr>\n",
              "      <th>lena</th>\n",
              "      <td>23</td>\n",
              "      <td>100</td>\n",
              "    </tr>\n",
              "    <tr>\n",
              "      <th>vika</th>\n",
              "      <td>34</td>\n",
              "      <td>500</td>\n",
              "    </tr>\n",
              "  </tbody>\n",
              "</table>\n",
              "</div>"
            ],
            "text/plain": [
              "      age  salary\n",
              "name             \n",
              "dima   30     200\n",
              "vova   35     400\n",
              "lena   23     100\n",
              "vika   34     500"
            ]
          },
          "execution_count": 52,
          "metadata": {},
          "output_type": "execute_result"
        }
      ],
      "source": [
        "copy_df"
      ]
    },
    {
      "cell_type": "code",
      "execution_count": 53,
      "metadata": {
        "colab": {
          "base_uri": "https://localhost:8080/",
          "height": 206
        },
        "id": "pZ1eUj3k-rJh",
        "outputId": "55c61cea-d7c0-4fc6-c93d-12ef96443d94"
      },
      "outputs": [
        {
          "data": {
            "text/html": [
              "<div>\n",
              "<style scoped>\n",
              "    .dataframe tbody tr th:only-of-type {\n",
              "        vertical-align: middle;\n",
              "    }\n",
              "\n",
              "    .dataframe tbody tr th {\n",
              "        vertical-align: top;\n",
              "    }\n",
              "\n",
              "    .dataframe thead th {\n",
              "        text-align: right;\n",
              "    }\n",
              "</style>\n",
              "<table border=\"1\" class=\"dataframe\">\n",
              "  <thead>\n",
              "    <tr style=\"text-align: right;\">\n",
              "      <th></th>\n",
              "      <th>age</th>\n",
              "      <th>salary</th>\n",
              "    </tr>\n",
              "    <tr>\n",
              "      <th>name</th>\n",
              "      <th></th>\n",
              "      <th></th>\n",
              "    </tr>\n",
              "  </thead>\n",
              "  <tbody>\n",
              "    <tr>\n",
              "      <th>dima</th>\n",
              "      <td>30</td>\n",
              "      <td>200</td>\n",
              "    </tr>\n",
              "    <tr>\n",
              "      <th>vova</th>\n",
              "      <td>35</td>\n",
              "      <td>400</td>\n",
              "    </tr>\n",
              "    <tr>\n",
              "      <th>lena</th>\n",
              "      <td>23</td>\n",
              "      <td>100</td>\n",
              "    </tr>\n",
              "    <tr>\n",
              "      <th>vika</th>\n",
              "      <td>34</td>\n",
              "      <td>100</td>\n",
              "    </tr>\n",
              "  </tbody>\n",
              "</table>\n",
              "</div>"
            ],
            "text/plain": [
              "      age  salary\n",
              "name             \n",
              "dima   30     200\n",
              "vova   35     400\n",
              "lena   23     100\n",
              "vika   34     100"
            ]
          },
          "execution_count": 53,
          "metadata": {},
          "output_type": "execute_result"
        }
      ],
      "source": [
        "copy_df.loc['vika', 'salary'] = 100\n",
        "copy_df"
      ]
    },
    {
      "cell_type": "markdown",
      "metadata": {
        "id": "Fjeo8wiBW3Mn"
      },
      "source": [
        "#### Вставка по условию и создание новой колонки одновременно"
      ]
    },
    {
      "cell_type": "code",
      "execution_count": 54,
      "metadata": {
        "colab": {
          "base_uri": "https://localhost:8080/",
          "height": 175
        },
        "id": "U2H7TafBWsmg",
        "outputId": "46bead32-cbf6-4e9c-94a9-ead3ccc77efa"
      },
      "outputs": [
        {
          "data": {
            "text/html": [
              "<div>\n",
              "<style scoped>\n",
              "    .dataframe tbody tr th:only-of-type {\n",
              "        vertical-align: middle;\n",
              "    }\n",
              "\n",
              "    .dataframe tbody tr th {\n",
              "        vertical-align: top;\n",
              "    }\n",
              "\n",
              "    .dataframe thead th {\n",
              "        text-align: right;\n",
              "    }\n",
              "</style>\n",
              "<table border=\"1\" class=\"dataframe\">\n",
              "  <thead>\n",
              "    <tr style=\"text-align: right;\">\n",
              "      <th></th>\n",
              "      <th>name</th>\n",
              "      <th>age</th>\n",
              "      <th>salary</th>\n",
              "    </tr>\n",
              "  </thead>\n",
              "  <tbody>\n",
              "    <tr>\n",
              "      <th>0</th>\n",
              "      <td>dima</td>\n",
              "      <td>30</td>\n",
              "      <td>200</td>\n",
              "    </tr>\n",
              "    <tr>\n",
              "      <th>1</th>\n",
              "      <td>vova</td>\n",
              "      <td>35</td>\n",
              "      <td>400</td>\n",
              "    </tr>\n",
              "    <tr>\n",
              "      <th>2</th>\n",
              "      <td>lena</td>\n",
              "      <td>23</td>\n",
              "      <td>100</td>\n",
              "    </tr>\n",
              "    <tr>\n",
              "      <th>3</th>\n",
              "      <td>vika</td>\n",
              "      <td>34</td>\n",
              "      <td>500</td>\n",
              "    </tr>\n",
              "  </tbody>\n",
              "</table>\n",
              "</div>"
            ],
            "text/plain": [
              "   name  age  salary\n",
              "0  dima   30     200\n",
              "1  vova   35     400\n",
              "2  lena   23     100\n",
              "3  vika   34     500"
            ]
          },
          "execution_count": 54,
          "metadata": {},
          "output_type": "execute_result"
        }
      ],
      "source": [
        "df"
      ]
    },
    {
      "cell_type": "code",
      "execution_count": 55,
      "metadata": {
        "colab": {
          "base_uri": "https://localhost:8080/",
          "height": 175
        },
        "id": "264wj09DWvaX",
        "outputId": "961d4486-4c03-4b1d-f333-8420e681926a"
      },
      "outputs": [
        {
          "data": {
            "text/html": [
              "<div>\n",
              "<style scoped>\n",
              "    .dataframe tbody tr th:only-of-type {\n",
              "        vertical-align: middle;\n",
              "    }\n",
              "\n",
              "    .dataframe tbody tr th {\n",
              "        vertical-align: top;\n",
              "    }\n",
              "\n",
              "    .dataframe thead th {\n",
              "        text-align: right;\n",
              "    }\n",
              "</style>\n",
              "<table border=\"1\" class=\"dataframe\">\n",
              "  <thead>\n",
              "    <tr style=\"text-align: right;\">\n",
              "      <th></th>\n",
              "      <th>name</th>\n",
              "      <th>age</th>\n",
              "      <th>salary</th>\n",
              "      <th>is_high?</th>\n",
              "    </tr>\n",
              "  </thead>\n",
              "  <tbody>\n",
              "    <tr>\n",
              "      <th>0</th>\n",
              "      <td>dima</td>\n",
              "      <td>30</td>\n",
              "      <td>200</td>\n",
              "      <td>False</td>\n",
              "    </tr>\n",
              "    <tr>\n",
              "      <th>1</th>\n",
              "      <td>vova</td>\n",
              "      <td>35</td>\n",
              "      <td>400</td>\n",
              "      <td>True</td>\n",
              "    </tr>\n",
              "    <tr>\n",
              "      <th>2</th>\n",
              "      <td>lena</td>\n",
              "      <td>23</td>\n",
              "      <td>100</td>\n",
              "      <td>False</td>\n",
              "    </tr>\n",
              "    <tr>\n",
              "      <th>3</th>\n",
              "      <td>vika</td>\n",
              "      <td>34</td>\n",
              "      <td>500</td>\n",
              "      <td>True</td>\n",
              "    </tr>\n",
              "  </tbody>\n",
              "</table>\n",
              "</div>"
            ],
            "text/plain": [
              "   name  age  salary  is_high?\n",
              "0  dima   30     200     False\n",
              "1  vova   35     400      True\n",
              "2  lena   23     100     False\n",
              "3  vika   34     500      True"
            ]
          },
          "execution_count": 55,
          "metadata": {},
          "output_type": "execute_result"
        }
      ],
      "source": [
        "df.loc[(df['salary'] > 200), 'is_high?'] = True\n",
        "df['is_high?'] = df['is_high?'].fillna(False)\n",
        "df"
      ]
    },
    {
      "cell_type": "markdown",
      "metadata": {
        "id": "XlJPc0wb_q-e"
      },
      "source": [
        "#### reset_index()\n",
        "Сбрасывает индекс. При обычном применении будет сбрасывать индекс у копии (либо нужно указывать аргумент inplace=True)"
      ]
    },
    {
      "cell_type": "code",
      "execution_count": 56,
      "metadata": {
        "colab": {
          "base_uri": "https://localhost:8080/",
          "height": 175
        },
        "id": "RWXHaAv6_7oF",
        "outputId": "a6150e55-d953-44b4-ca50-5aca6ed88026"
      },
      "outputs": [
        {
          "data": {
            "text/html": [
              "<div>\n",
              "<style scoped>\n",
              "    .dataframe tbody tr th:only-of-type {\n",
              "        vertical-align: middle;\n",
              "    }\n",
              "\n",
              "    .dataframe tbody tr th {\n",
              "        vertical-align: top;\n",
              "    }\n",
              "\n",
              "    .dataframe thead th {\n",
              "        text-align: right;\n",
              "    }\n",
              "</style>\n",
              "<table border=\"1\" class=\"dataframe\">\n",
              "  <thead>\n",
              "    <tr style=\"text-align: right;\">\n",
              "      <th></th>\n",
              "      <th>name</th>\n",
              "      <th>age</th>\n",
              "      <th>salary</th>\n",
              "    </tr>\n",
              "  </thead>\n",
              "  <tbody>\n",
              "    <tr>\n",
              "      <th>0</th>\n",
              "      <td>dima</td>\n",
              "      <td>30</td>\n",
              "      <td>200</td>\n",
              "    </tr>\n",
              "    <tr>\n",
              "      <th>1</th>\n",
              "      <td>vova</td>\n",
              "      <td>35</td>\n",
              "      <td>400</td>\n",
              "    </tr>\n",
              "    <tr>\n",
              "      <th>2</th>\n",
              "      <td>lena</td>\n",
              "      <td>23</td>\n",
              "      <td>100</td>\n",
              "    </tr>\n",
              "    <tr>\n",
              "      <th>3</th>\n",
              "      <td>vika</td>\n",
              "      <td>34</td>\n",
              "      <td>100</td>\n",
              "    </tr>\n",
              "  </tbody>\n",
              "</table>\n",
              "</div>"
            ],
            "text/plain": [
              "   name  age  salary\n",
              "0  dima   30     200\n",
              "1  vova   35     400\n",
              "2  lena   23     100\n",
              "3  vika   34     100"
            ]
          },
          "execution_count": 56,
          "metadata": {},
          "output_type": "execute_result"
        }
      ],
      "source": [
        "copy_df.reset_index() # вернется копия"
      ]
    },
    {
      "cell_type": "code",
      "execution_count": 57,
      "metadata": {
        "colab": {
          "base_uri": "https://localhost:8080/",
          "height": 206
        },
        "id": "41y2PrqB__6E",
        "outputId": "dc4690ea-17b2-4417-a57f-effc73409f10"
      },
      "outputs": [
        {
          "data": {
            "text/html": [
              "<div>\n",
              "<style scoped>\n",
              "    .dataframe tbody tr th:only-of-type {\n",
              "        vertical-align: middle;\n",
              "    }\n",
              "\n",
              "    .dataframe tbody tr th {\n",
              "        vertical-align: top;\n",
              "    }\n",
              "\n",
              "    .dataframe thead th {\n",
              "        text-align: right;\n",
              "    }\n",
              "</style>\n",
              "<table border=\"1\" class=\"dataframe\">\n",
              "  <thead>\n",
              "    <tr style=\"text-align: right;\">\n",
              "      <th></th>\n",
              "      <th>age</th>\n",
              "      <th>salary</th>\n",
              "    </tr>\n",
              "    <tr>\n",
              "      <th>name</th>\n",
              "      <th></th>\n",
              "      <th></th>\n",
              "    </tr>\n",
              "  </thead>\n",
              "  <tbody>\n",
              "    <tr>\n",
              "      <th>dima</th>\n",
              "      <td>30</td>\n",
              "      <td>200</td>\n",
              "    </tr>\n",
              "    <tr>\n",
              "      <th>vova</th>\n",
              "      <td>35</td>\n",
              "      <td>400</td>\n",
              "    </tr>\n",
              "    <tr>\n",
              "      <th>lena</th>\n",
              "      <td>23</td>\n",
              "      <td>100</td>\n",
              "    </tr>\n",
              "    <tr>\n",
              "      <th>vika</th>\n",
              "      <td>34</td>\n",
              "      <td>100</td>\n",
              "    </tr>\n",
              "  </tbody>\n",
              "</table>\n",
              "</div>"
            ],
            "text/plain": [
              "      age  salary\n",
              "name             \n",
              "dima   30     200\n",
              "vova   35     400\n",
              "lena   23     100\n",
              "vika   34     100"
            ]
          },
          "execution_count": 57,
          "metadata": {},
          "output_type": "execute_result"
        }
      ],
      "source": [
        "copy_df"
      ]
    },
    {
      "cell_type": "code",
      "execution_count": 58,
      "metadata": {
        "colab": {
          "base_uri": "https://localhost:8080/",
          "height": 175
        },
        "id": "vfqq29-UAFPx",
        "outputId": "2704c193-6065-4eaf-e21f-4b2423707843"
      },
      "outputs": [
        {
          "data": {
            "text/html": [
              "<div>\n",
              "<style scoped>\n",
              "    .dataframe tbody tr th:only-of-type {\n",
              "        vertical-align: middle;\n",
              "    }\n",
              "\n",
              "    .dataframe tbody tr th {\n",
              "        vertical-align: top;\n",
              "    }\n",
              "\n",
              "    .dataframe thead th {\n",
              "        text-align: right;\n",
              "    }\n",
              "</style>\n",
              "<table border=\"1\" class=\"dataframe\">\n",
              "  <thead>\n",
              "    <tr style=\"text-align: right;\">\n",
              "      <th></th>\n",
              "      <th>name</th>\n",
              "      <th>age</th>\n",
              "      <th>salary</th>\n",
              "    </tr>\n",
              "  </thead>\n",
              "  <tbody>\n",
              "    <tr>\n",
              "      <th>0</th>\n",
              "      <td>dima</td>\n",
              "      <td>30</td>\n",
              "      <td>200</td>\n",
              "    </tr>\n",
              "    <tr>\n",
              "      <th>1</th>\n",
              "      <td>vova</td>\n",
              "      <td>35</td>\n",
              "      <td>400</td>\n",
              "    </tr>\n",
              "    <tr>\n",
              "      <th>2</th>\n",
              "      <td>lena</td>\n",
              "      <td>23</td>\n",
              "      <td>100</td>\n",
              "    </tr>\n",
              "    <tr>\n",
              "      <th>3</th>\n",
              "      <td>vika</td>\n",
              "      <td>34</td>\n",
              "      <td>100</td>\n",
              "    </tr>\n",
              "  </tbody>\n",
              "</table>\n",
              "</div>"
            ],
            "text/plain": [
              "   name  age  salary\n",
              "0  dima   30     200\n",
              "1  vova   35     400\n",
              "2  lena   23     100\n",
              "3  vika   34     100"
            ]
          },
          "execution_count": 58,
          "metadata": {},
          "output_type": "execute_result"
        }
      ],
      "source": [
        "copy_df.reset_index(inplace=True)\n",
        "copy_df"
      ]
    },
    {
      "cell_type": "markdown",
      "metadata": {
        "id": "7xlhW8nhKh2m"
      },
      "source": [
        "### pd.datetime\n",
        "Пандасовский datetime, который поддерживает множество функций библиотеки datetime, более гибче. Имеет свой тип данных pd.datetime."
      ]
    },
    {
      "cell_type": "code",
      "execution_count": 59,
      "metadata": {
        "colab": {
          "base_uri": "https://localhost:8080/"
        },
        "id": "csm5jG1sKuQ3",
        "outputId": "469cd48e-44fc-43e4-88e1-cd46e9de02f0"
      },
      "outputs": [
        {
          "name": "stdout",
          "output_type": "stream",
          "text": [
            "Тип колонки object\n"
          ]
        },
        {
          "data": {
            "text/plain": [
              "0   2023-12-16\n",
              "1   2024-02-29\n",
              "2   2022-03-16\n",
              "3   2023-05-31\n",
              "Name: time, dtype: datetime64[ns]"
            ]
          },
          "execution_count": 59,
          "metadata": {},
          "output_type": "execute_result"
        }
      ],
      "source": [
        "copy_2 = df.copy()\n",
        "copy_2['time'] = ['2023-12-16', '2024-02-29', '2022-03-16', '2023-05-31']\n",
        "print(f'''Тип колонки {copy_2['time'].dtypes}''')\n",
        "# преобразуем строки во время\n",
        "pd.to_datetime(copy_2['time']) # копия"
      ]
    },
    {
      "cell_type": "markdown",
      "metadata": {
        "id": "UiIZGgTGHyzF"
      },
      "source": [
        " __.dt__ содержит в себе представления колонки (DatetimeProperties), из которой можно вытаскивать даты."
      ]
    },
    {
      "cell_type": "code",
      "execution_count": 60,
      "metadata": {
        "colab": {
          "base_uri": "https://localhost:8080/"
        },
        "id": "dub-Sd9MFfBe",
        "outputId": "5ae4ea16-84e7-4de6-9f38-b9532849a1c7"
      },
      "outputs": [
        {
          "data": {
            "text/plain": [
              "<pandas.core.indexes.accessors.DatetimeProperties object at 0x000001A3A1328580>"
            ]
          },
          "execution_count": 60,
          "metadata": {},
          "output_type": "execute_result"
        }
      ],
      "source": [
        "# можно фильтровать даты по числу/месяцу\n",
        "copy_2['time'] = pd.to_datetime(copy_2['time'])\n",
        "copy_2['time'].dt # DatetimeProperties"
      ]
    },
    {
      "cell_type": "code",
      "execution_count": 61,
      "metadata": {
        "colab": {
          "base_uri": "https://localhost:8080/",
          "height": 81
        },
        "id": "MAOUTK9III68",
        "outputId": "228e708f-faea-495e-d9a0-f9691c3fc60c"
      },
      "outputs": [
        {
          "data": {
            "text/html": [
              "<div>\n",
              "<style scoped>\n",
              "    .dataframe tbody tr th:only-of-type {\n",
              "        vertical-align: middle;\n",
              "    }\n",
              "\n",
              "    .dataframe tbody tr th {\n",
              "        vertical-align: top;\n",
              "    }\n",
              "\n",
              "    .dataframe thead th {\n",
              "        text-align: right;\n",
              "    }\n",
              "</style>\n",
              "<table border=\"1\" class=\"dataframe\">\n",
              "  <thead>\n",
              "    <tr style=\"text-align: right;\">\n",
              "      <th></th>\n",
              "      <th>name</th>\n",
              "      <th>age</th>\n",
              "      <th>salary</th>\n",
              "      <th>is_high?</th>\n",
              "      <th>time</th>\n",
              "    </tr>\n",
              "  </thead>\n",
              "  <tbody>\n",
              "    <tr>\n",
              "      <th>0</th>\n",
              "      <td>dima</td>\n",
              "      <td>30</td>\n",
              "      <td>200</td>\n",
              "      <td>False</td>\n",
              "      <td>2023-12-16</td>\n",
              "    </tr>\n",
              "  </tbody>\n",
              "</table>\n",
              "</div>"
            ],
            "text/plain": [
              "   name  age  salary  is_high?       time\n",
              "0  dima   30     200     False 2023-12-16"
            ]
          },
          "execution_count": 61,
          "metadata": {},
          "output_type": "execute_result"
        }
      ],
      "source": [
        "copy_2[copy_2['time'].dt.month == 12]"
      ]
    },
    {
      "cell_type": "code",
      "execution_count": 62,
      "metadata": {
        "colab": {
          "base_uri": "https://localhost:8080/",
          "height": 175
        },
        "id": "ANqPt-PRNoLB",
        "outputId": "3b1ee733-0a63-4118-8dbe-94e8ce496632"
      },
      "outputs": [
        {
          "data": {
            "text/html": [
              "<div>\n",
              "<style scoped>\n",
              "    .dataframe tbody tr th:only-of-type {\n",
              "        vertical-align: middle;\n",
              "    }\n",
              "\n",
              "    .dataframe tbody tr th {\n",
              "        vertical-align: top;\n",
              "    }\n",
              "\n",
              "    .dataframe thead th {\n",
              "        text-align: right;\n",
              "    }\n",
              "</style>\n",
              "<table border=\"1\" class=\"dataframe\">\n",
              "  <thead>\n",
              "    <tr style=\"text-align: right;\">\n",
              "      <th></th>\n",
              "      <th>name</th>\n",
              "    </tr>\n",
              "    <tr>\n",
              "      <th>time</th>\n",
              "      <th></th>\n",
              "    </tr>\n",
              "  </thead>\n",
              "  <tbody>\n",
              "    <tr>\n",
              "      <th>16</th>\n",
              "      <td>2</td>\n",
              "    </tr>\n",
              "    <tr>\n",
              "      <th>29</th>\n",
              "      <td>1</td>\n",
              "    </tr>\n",
              "    <tr>\n",
              "      <th>31</th>\n",
              "      <td>1</td>\n",
              "    </tr>\n",
              "  </tbody>\n",
              "</table>\n",
              "</div>"
            ],
            "text/plain": [
              "      name\n",
              "time      \n",
              "16       2\n",
              "29       1\n",
              "31       1"
            ]
          },
          "execution_count": 62,
          "metadata": {},
          "output_type": "execute_result"
        }
      ],
      "source": [
        "# можно группировать\n",
        "copy_2.groupby(copy_2['time'].dt.day)[['name']].count()"
      ]
    },
    {
      "cell_type": "markdown",
      "metadata": {
        "id": "zIpO-WshObpD"
      },
      "source": [
        "Можно брать всякие представления: год, месяц, день недели и тд"
      ]
    },
    {
      "cell_type": "markdown",
      "metadata": {
        "id": "9OjEccjqO1-M"
      },
      "source": [
        "### sample()\n",
        "Позволяет отбирать определенное число наблюдений из датафрейма. Можно выбирать все время случайными, а можно через фиксацию random seed (зерна генератора случайных величин) для вопроизводимости результата."
      ]
    },
    {
      "cell_type": "code",
      "execution_count": 63,
      "metadata": {
        "colab": {
          "base_uri": "https://localhost:8080/",
          "height": 112
        },
        "id": "1Qk7OBqgPHfj",
        "outputId": "65b3023e-b173-4072-d92e-1f2944ed4216"
      },
      "outputs": [
        {
          "data": {
            "text/html": [
              "<div>\n",
              "<style scoped>\n",
              "    .dataframe tbody tr th:only-of-type {\n",
              "        vertical-align: middle;\n",
              "    }\n",
              "\n",
              "    .dataframe tbody tr th {\n",
              "        vertical-align: top;\n",
              "    }\n",
              "\n",
              "    .dataframe thead th {\n",
              "        text-align: right;\n",
              "    }\n",
              "</style>\n",
              "<table border=\"1\" class=\"dataframe\">\n",
              "  <thead>\n",
              "    <tr style=\"text-align: right;\">\n",
              "      <th></th>\n",
              "      <th>name</th>\n",
              "      <th>age</th>\n",
              "      <th>salary</th>\n",
              "      <th>is_high?</th>\n",
              "      <th>time</th>\n",
              "    </tr>\n",
              "  </thead>\n",
              "  <tbody>\n",
              "    <tr>\n",
              "      <th>1</th>\n",
              "      <td>vova</td>\n",
              "      <td>35</td>\n",
              "      <td>400</td>\n",
              "      <td>True</td>\n",
              "      <td>2024-02-29</td>\n",
              "    </tr>\n",
              "    <tr>\n",
              "      <th>3</th>\n",
              "      <td>vika</td>\n",
              "      <td>34</td>\n",
              "      <td>500</td>\n",
              "      <td>True</td>\n",
              "      <td>2023-05-31</td>\n",
              "    </tr>\n",
              "  </tbody>\n",
              "</table>\n",
              "</div>"
            ],
            "text/plain": [
              "   name  age  salary  is_high?       time\n",
              "1  vova   35     400      True 2024-02-29\n",
              "3  vika   34     500      True 2023-05-31"
            ]
          },
          "execution_count": 63,
          "metadata": {},
          "output_type": "execute_result"
        }
      ],
      "source": [
        "copy_2.sample(2, random_state=42)"
      ]
    },
    {
      "cell_type": "code",
      "execution_count": 64,
      "metadata": {
        "colab": {
          "base_uri": "https://localhost:8080/",
          "height": 175
        },
        "id": "gC_HdabnfC6E",
        "outputId": "9a04a06a-aebe-4f02-eebb-981140c21178"
      },
      "outputs": [
        {
          "data": {
            "text/html": [
              "<div>\n",
              "<style scoped>\n",
              "    .dataframe tbody tr th:only-of-type {\n",
              "        vertical-align: middle;\n",
              "    }\n",
              "\n",
              "    .dataframe tbody tr th {\n",
              "        vertical-align: top;\n",
              "    }\n",
              "\n",
              "    .dataframe thead th {\n",
              "        text-align: right;\n",
              "    }\n",
              "</style>\n",
              "<table border=\"1\" class=\"dataframe\">\n",
              "  <thead>\n",
              "    <tr style=\"text-align: right;\">\n",
              "      <th></th>\n",
              "      <th>name</th>\n",
              "      <th>age</th>\n",
              "      <th>salary</th>\n",
              "      <th>is_high?</th>\n",
              "      <th>time</th>\n",
              "    </tr>\n",
              "  </thead>\n",
              "  <tbody>\n",
              "    <tr>\n",
              "      <th>0</th>\n",
              "      <td>dima</td>\n",
              "      <td>30</td>\n",
              "      <td>200</td>\n",
              "      <td>False</td>\n",
              "      <td>2023-12-16</td>\n",
              "    </tr>\n",
              "    <tr>\n",
              "      <th>1</th>\n",
              "      <td>vova</td>\n",
              "      <td>35</td>\n",
              "      <td>400</td>\n",
              "      <td>True</td>\n",
              "      <td>2024-02-29</td>\n",
              "    </tr>\n",
              "    <tr>\n",
              "      <th>2</th>\n",
              "      <td>lena</td>\n",
              "      <td>23</td>\n",
              "      <td>100</td>\n",
              "      <td>False</td>\n",
              "      <td>2022-03-16</td>\n",
              "    </tr>\n",
              "    <tr>\n",
              "      <th>3</th>\n",
              "      <td>vika</td>\n",
              "      <td>34</td>\n",
              "      <td>500</td>\n",
              "      <td>True</td>\n",
              "      <td>2023-05-31</td>\n",
              "    </tr>\n",
              "  </tbody>\n",
              "</table>\n",
              "</div>"
            ],
            "text/plain": [
              "   name  age  salary  is_high?       time\n",
              "0  dima   30     200     False 2023-12-16\n",
              "1  vova   35     400      True 2024-02-29\n",
              "2  lena   23     100     False 2022-03-16\n",
              "3  vika   34     500      True 2023-05-31"
            ]
          },
          "execution_count": 64,
          "metadata": {},
          "output_type": "execute_result"
        }
      ],
      "source": [
        "copy_2"
      ]
    },
    {
      "cell_type": "markdown",
      "metadata": {
        "id": "xQZQUwFWd-Hb"
      },
      "source": [
        "### Графики\n",
        "График такого вида, как снизу, подходит лучше всего, когда по оси Х будет время"
      ]
    },
    {
      "cell_type": "code",
      "execution_count": 65,
      "metadata": {
        "colab": {
          "base_uri": "https://localhost:8080/",
          "height": 427
        },
        "id": "PsL1uiT0eEMM",
        "outputId": "bd0b1de1-1890-4ecb-c996-f5917cb8f04d"
      },
      "outputs": [
        {
          "data": {
            "text/plain": [
              "<Axes: title={'center': 'Зависимость зарплаты от возраста'}, xlabel='age', ylabel='salary'>"
            ]
          },
          "execution_count": 65,
          "metadata": {},
          "output_type": "execute_result"
        },
        {
          "data": {
            "image/png": "[encoded data removed]",
            "text/plain": [
              "<Figure size 800x400 with 1 Axes>"
            ]
          },
          "metadata": {},
          "output_type": "display_data"
        }
      ],
      "source": [
        "# сначала надо, чтобы в индексе была колонка, которая будет по оси Х\n",
        "# либо же нужна сортировка значений\n",
        "for_graph = copy_2[['age', 'salary']].sort_values('age').set_index('age')\n",
        "for_graph.plot(\n",
        "              xlabel='age',\n",
        "              ylabel='salary',\n",
        "              title='Зависимость зарплаты от возраста',\n",
        "              grid=True,\n",
        "              figsize=(8, 4)\n",
        "          )"
      ]
    },
    {
      "cell_type": "code",
      "execution_count": 66,
      "metadata": {
        "id": "at13GHpjnqmL"
      },
      "outputs": [],
      "source": [
        "df_sample = np.random.normal(1200, 300, 100)\n",
        "\n",
        "df_s = pd.DataFrame({'user_id': [i for i in range(1, 101)],\n",
        "                    'gmv': df_sample})"
      ]
    },
    {
      "cell_type": "code",
      "execution_count": 67,
      "metadata": {
        "colab": {
          "base_uri": "https://localhost:8080/",
          "height": 462
        },
        "id": "t9qyUj1eoWrh",
        "outputId": "bd0606c4-a23c-4d58-bf56-be1faf536df2"
      },
      "outputs": [
        {
          "data": {
            "text/plain": [
              "<Axes: >"
            ]
          },
          "execution_count": 67,
          "metadata": {},
          "output_type": "execute_result"
        },
        {
          "data": {
            "image/png": "[encoded data removed]",
            "text/plain": [
              "<Figure size 800x500 with 1 Axes>"
            ]
          },
          "metadata": {},
          "output_type": "display_data"
        }
      ],
      "source": [
        "df_s['gmv'].hist(figsize=(8, 5))"
      ]
    },
    {
      "cell_type": "markdown",
      "metadata": {
        "id": "p6leMcgHeEPT"
      },
      "source": [
        "сверху можно увидеть объект типа `Axes`. Через него можно добавлять оси, новые графики и тд"
      ]
    },
    {
      "cell_type": "code",
      "execution_count": 68,
      "metadata": {
        "colab": {
          "base_uri": "https://localhost:8080/",
          "height": 485
        },
        "id": "VN6_tCbpeERo",
        "outputId": "6ce7659c-b2cc-4760-c16d-145ba3ca67a0"
      },
      "outputs": [
        {
          "data": {
            "text/plain": [
              "Text(0.5, 1.0, 'распределение gmv')"
            ]
          },
          "execution_count": 68,
          "metadata": {},
          "output_type": "execute_result"
        },
        {
          "data": {
            "image/png": "[encoded data removed]",
            "text/plain": [
              "<Figure size 800x500 with 1 Axes>"
            ]
          },
          "metadata": {},
          "output_type": "display_data"
        }
      ],
      "source": [
        "ax = df_s['gmv'].hist(figsize=(8, 5))\n",
        "\n",
        "# обращаемся к нему через индексы\n",
        "ax.set_title('распределение gmv')"
      ]
    },
    {
      "cell_type": "markdown",
      "metadata": {
        "id": "fzVxPyjgwsKm"
      },
      "source": [
        "### Сохранение файлов\n",
        "Чтобы сохранять фалы в эксель, для этого лучше установить бибилитеку __openpyxl__. При сохранении пандас может использовать 2 библиотеки - __openpyxl__ и __xlsxwriter__. Лучше использовать первую либу при сохранении и открытии файла. Для этого лучше явно указать, какую библитеку для этого использовать - за это отвечает параметр __engine__"
      ]
    },
    {
      "cell_type": "code",
      "execution_count": 69,
      "metadata": {
        "id": "p_SCTP1EwsWy"
      },
      "outputs": [],
      "source": [
        "# df.to_excel('df.xlsx', engine='openpyxl')\n",
        "# pd.read_excel('df.xlsx', engine='openpyxl')"
      ]
    },
    {
      "cell_type": "markdown",
      "metadata": {
        "id": "fv7O8wnnP_ff"
      },
      "source": [
        "## matplotlib\n",
        "Тесно интегрируется с pandas и numpy. Обычно импортируют не саму бибилитеку, а ее модуль plt"
      ]
    },
    {
      "cell_type": "code",
      "execution_count": 70,
      "metadata": {
        "colab": {
          "base_uri": "https://localhost:8080/",
          "height": 753
        },
        "id": "hF-z532LWetq",
        "outputId": "ff32c3d2-6a95-4829-dd5e-14b37287e7e4"
      },
      "outputs": [
        {
          "data": {
            "image/png": "[encoded data removed]",
            "text/plain": [
              "<Figure size 1600x900 with 1 Axes>"
            ]
          },
          "metadata": {},
          "output_type": "display_data"
        }
      ],
      "source": [
        "import matplotlib.pyplot as plt\n",
        "import numpy as np\n",
        "\n",
        "plt.figure(figsize=(16, 9))\n",
        "x = np.arange(-10, 11)\n",
        "y = x ** 2 # np.array поддерживает арифметические операции\n",
        "plt.plot(x, y); # plot - линия"
      ]
    },
    {
      "cell_type": "code",
      "execution_count": 71,
      "metadata": {
        "colab": {
          "base_uri": "https://localhost:8080/",
          "height": 430
        },
        "id": "tAcsSZJhW8JW",
        "outputId": "8f42922d-879d-4258-bdde-cb9c1a7618e7"
      },
      "outputs": [
        {
          "data": {
            "image/png": "[encoded data removed]",
            "text/plain": [
              "<Figure size 640x480 with 1 Axes>"
            ]
          },
          "metadata": {},
          "output_type": "display_data"
        }
      ],
      "source": [
        "# размер по умолчанию, так как объект графика переопределяется\n",
        "plt.grid()\n",
        "x = np.arange(-10, 11)\n",
        "y = x ** 2\n",
        "plt.plot(x, y);"
      ]
    },
    {
      "cell_type": "code",
      "execution_count": 72,
      "metadata": {
        "colab": {
          "base_uri": "https://localhost:8080/",
          "height": 799
        },
        "id": "Hf3PjRAuXIhN",
        "outputId": "573b5574-38a7-4801-fe4d-d9f07ebb7b47"
      },
      "outputs": [
        {
          "data": {
            "image/png": "[encoded data removed]",
            "text/plain": [
              "<Figure size 1600x900 with 1 Axes>"
            ]
          },
          "metadata": {},
          "output_type": "display_data"
        }
      ],
      "source": [
        "plt.figure(figsize=(16, 9))   # размер, удобнее использовать 16:9\n",
        "plt.grid()                    # сетка\n",
        "\n",
        "# подписи поддерживают Latex\n",
        "plt.title('График $y=x^2$')   # название\n",
        "plt.xlabel('x')               # подпись оис X\n",
        "plt.ylabel('y')               # подпись по Y\n",
        "x = np.arange(-10, 11)\n",
        "y = x ** 2\n",
        "plt.plot(x, y);\n",
        "# plt.savefig('graph.pdf')"
      ]
    },
    {
      "cell_type": "code",
      "execution_count": 73,
      "metadata": {
        "colab": {
          "base_uri": "https://localhost:8080/",
          "height": 430
        },
        "id": "SvgODei-XIwW",
        "outputId": "02341943-cf2a-4bc3-dda9-19de43ccaaa0"
      },
      "outputs": [
        {
          "data": {
            "image/png": "[encoded data removed]",
            "text/plain": [
              "<Figure size 640x480 with 1 Axes>"
            ]
          },
          "metadata": {},
          "output_type": "display_data"
        }
      ],
      "source": [
        "# рисуем точки\n",
        "plt.scatter(x, y);"
      ]
    },
    {
      "cell_type": "code",
      "execution_count": 74,
      "metadata": {
        "colab": {
          "base_uri": "https://localhost:8080/",
          "height": 799
        },
        "id": "pmuv6mWnZIsk",
        "outputId": "ea9ef3ef-5349-4ac9-f828-7f840c37208f"
      },
      "outputs": [
        {
          "data": {
            "image/png": "[encoded data removed]",
            "text/plain": [
              "<Figure size 1600x900 with 1 Axes>"
            ]
          },
          "metadata": {},
          "output_type": "display_data"
        }
      ],
      "source": [
        "# можно комбинировать\n",
        "plt.figure(figsize=(16, 9))   # размер, удобнее использовать 16:9\n",
        "plt.grid()                    # сетка\n",
        "\n",
        "# подписи поддерживают Latex\n",
        "plt.title('График $y=x^2$')   # название\n",
        "plt.xlabel('x')               # подпись оис X\n",
        "plt.ylabel('y')               # подпись по Y\n",
        "x = np.arange(-10, 11)\n",
        "y = x ** 2\n",
        "plt.plot(x, y)\n",
        "plt.scatter(x, y);"
      ]
    },
    {
      "cell_type": "markdown",
      "metadata": {
        "id": "cJLTJzF9sgER"
      },
      "source": [
        "# ООП\n",
        "Нужно для описания каких-то объектов по определенному шаблону. Можно хранить описание объекта в виде кортежа и тд, однако не всегда будет очевидно, что именно описывает элемент в кортеже + легко допустить ошибку. При этом код так же должен быть расширяемым, чтобы можно было дописать новые характеристики объекта или изменить старые.\n",
        "## Класс и объект\n",
        "Допустим, надо описать характеристики автомобиля: цвет, марку, модель, тип топлива. Хранить это все в виде кортежа будет неудобно по причинам выше, поэтому на помощь приходит ООП, а именно классы.\n",
        "\n",
        "В класс мы вносим описание машины как сущности, а уже конкретные машины будем описывать по этой сущности.\n",
        "\n",
        "**Класс** - некоторое объединение свойств объекта (атрибуты) и действий (методов), которые этот объект может совершать. Это некоторый шаблон, по которому создаются объекты - экземпляры.\n",
        "\n",
        "![Снимок экрана 2024-01-09 в 23.20.11.png](data:image/png;base64,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)"
      ]
    },
    {
      "cell_type": "markdown",
      "metadata": {
        "id": "nuoxrpmN8Wde"
      },
      "source": [
        "## Свойства объекта: атрибуты"
      ]
    },
    {
      "cell_type": "code",
      "execution_count": 75,
      "metadata": {
        "id": "OfTWwKA34ynF"
      },
      "outputs": [],
      "source": [
        "from dataclasses import dataclass\n",
        "\n",
        "@dataclass\n",
        "class Auto:\n",
        "  color: str\n",
        "  manufacture: str\n",
        "  model: str\n",
        "  fuel_type: str"
      ]
    },
    {
      "cell_type": "code",
      "execution_count": 76,
      "metadata": {
        "id": "V1_UTuto5OMo"
      },
      "outputs": [],
      "source": [
        "car1 = Auto('black', 'ford', 'focus', 'oil')"
      ]
    },
    {
      "cell_type": "code",
      "execution_count": 77,
      "metadata": {
        "colab": {
          "base_uri": "https://localhost:8080/",
          "height": 35
        },
        "id": "APZWu6sz5mgu",
        "outputId": "ea9246b4-277b-4226-93b7-2e4cc2964d7d"
      },
      "outputs": [
        {
          "data": {
            "text/plain": [
              "'black'"
            ]
          },
          "execution_count": 77,
          "metadata": {},
          "output_type": "execute_result"
        }
      ],
      "source": [
        "car1.color"
      ]
    },
    {
      "cell_type": "code",
      "execution_count": 78,
      "metadata": {
        "id": "aI1qO3kM5nw_"
      },
      "outputs": [],
      "source": [
        "# можно создать класс и без dataclass\n",
        "\n",
        "class AutoShort:\n",
        "\n",
        "  # __init__() - конструктор класса - объявляет питону, что нужно принять на вход\n",
        "  # для создания объекта\n",
        "  def __init__(self, color): # self - сам объект, который будет создан\n",
        "    print('__init__ was called')\n",
        "    self.color = color # чтобы цвет был равен цвету на входе"
      ]
    },
    {
      "cell_type": "code",
      "execution_count": 79,
      "metadata": {
        "colab": {
          "base_uri": "https://localhost:8080/",
          "height": 53
        },
        "id": "TjYlz6xG60rw",
        "outputId": "2d70fdab-654a-48a4-969d-01876413f1c4"
      },
      "outputs": [
        {
          "name": "stdout",
          "output_type": "stream",
          "text": [
            "__init__ was called\n"
          ]
        },
        {
          "data": {
            "text/plain": [
              "'red'"
            ]
          },
          "execution_count": 79,
          "metadata": {},
          "output_type": "execute_result"
        }
      ],
      "source": [
        "car_2 = AutoShort('red')\n",
        "car_2.color"
      ]
    },
    {
      "cell_type": "code",
      "execution_count": 80,
      "metadata": {
        "id": "-tpYpcEa7BS8"
      },
      "outputs": [],
      "source": [
        "# меняем свойства (атрибут) экзмепляра\n",
        "car_2.color = 'blue'"
      ]
    },
    {
      "cell_type": "markdown",
      "metadata": {
        "id": "_NJNGMP17k2u"
      },
      "source": [
        "## Функции объекта: методы"
      ]
    },
    {
      "cell_type": "code",
      "execution_count": 81,
      "metadata": {
        "id": "ZgosmT6N8mUQ"
      },
      "outputs": [],
      "source": [
        "class AutoAlarm:\n",
        "  def __init__(self, color, alarm: str): # можно указать тип аргумента, который ожидается\n",
        "    self.color = color # чтобы цвет был равен цвету на входе\n",
        "    self.alarm = alarm\n",
        "\n",
        "  def alarm_sound(self):\n",
        "    # внутри функции можем обращаться к свойствам объекта\n",
        "    print(self.alarm)"
      ]
    },
    {
      "cell_type": "code",
      "execution_count": 82,
      "metadata": {
        "id": "aP3uF8nR9geX"
      },
      "outputs": [],
      "source": [
        "car_3 = AutoAlarm('red', 'beeep-beeeep')"
      ]
    },
    {
      "cell_type": "code",
      "execution_count": 83,
      "metadata": {
        "colab": {
          "base_uri": "https://localhost:8080/"
        },
        "id": "uAIh9Eoc9pCb",
        "outputId": "9fa01c10-7423-47a9-cd13-0e762f760415"
      },
      "outputs": [
        {
          "data": {
            "text/plain": [
              "<__main__.AutoAlarm at 0x1a3a6302f20>"
            ]
          },
          "execution_count": 83,
          "metadata": {},
          "output_type": "execute_result"
        }
      ],
      "source": [
        "car_3"
      ]
    },
    {
      "cell_type": "code",
      "execution_count": 84,
      "metadata": {
        "colab": {
          "base_uri": "https://localhost:8080/",
          "height": 35
        },
        "id": "MSTbdlOF9qQb",
        "outputId": "bac05fe5-7d41-4d9d-fabc-45ba7240f6e1"
      },
      "outputs": [
        {
          "data": {
            "text/plain": [
              "'red'"
            ]
          },
          "execution_count": 84,
          "metadata": {},
          "output_type": "execute_result"
        }
      ],
      "source": [
        "car_3.color"
      ]
    },
    {
      "cell_type": "code",
      "execution_count": 85,
      "metadata": {
        "colab": {
          "base_uri": "https://localhost:8080/"
        },
        "id": "opKKiSgf9s9K",
        "outputId": "9550da92-0fe2-4f1d-f7af-fe7b05633c0b"
      },
      "outputs": [
        {
          "name": "stdout",
          "output_type": "stream",
          "text": [
            "beeep-beeeep\n"
          ]
        }
      ],
      "source": [
        "car_3.alarm_sound()"
      ]
    },
    {
      "cell_type": "markdown",
      "metadata": {
        "id": "PiSP51GW-6lZ"
      },
      "source": [
        "Почему у нас в методе класса указан аргумент self, тогда как при вызове метода через экзмепляр класса его нет?\n",
        "\n",
        "Убедимся, что в качестве self автоматом вызовется наш экземпляр:"
      ]
    },
    {
      "cell_type": "code",
      "execution_count": 86,
      "metadata": {
        "id": "fjt64vp2Aehm"
      },
      "outputs": [],
      "source": [
        "class AutoAlarm:\n",
        "  def __init__(self, color, alarm: str): # можно указать тип аргумента, который ожидается\n",
        "    self.color = color # чтобы цвет был равен цвету на входе\n",
        "    self.alarm = alarm\n",
        "\n",
        "  def alarm_sound(self):\n",
        "    # внутри функции можем обращаться к свойствам объекта\n",
        "    print(self)\n",
        "    print(self.alarm)"
      ]
    },
    {
      "cell_type": "code",
      "execution_count": 87,
      "metadata": {
        "id": "REQK9KMqAh-p"
      },
      "outputs": [],
      "source": [
        "car_4 = AutoAlarm('green', 'bip')"
      ]
    },
    {
      "cell_type": "code",
      "execution_count": 88,
      "metadata": {
        "colab": {
          "base_uri": "https://localhost:8080/"
        },
        "id": "YCabk24VAoqg",
        "outputId": "405f603e-b551-46f8-b4a8-edfce731c3e3"
      },
      "outputs": [
        {
          "name": "stdout",
          "output_type": "stream",
          "text": [
            "<__main__.AutoAlarm object at 0x000001A3A627FF40>\n",
            "<__main__.AutoAlarm object at 0x000001A3A627FF40>\n",
            "bip\n"
          ]
        }
      ],
      "source": [
        "print(car_4)\n",
        "car_4.alarm_sound()"
      ]
    },
    {
      "cell_type": "markdown",
      "metadata": {
        "id": "Nwn2_qxUAsRx"
      },
      "source": [
        "Адреса ячеек памяти совпадают, а значит вызывается объект, то есть экзмепляр класса.\n",
        "\n",
        "Мы создали класс как шаблон для создания объектов - экземпляров класса. Такой подход и называется ООП. Объектом может быть что угодно.\n",
        "\n",
        "Каждая перемнная в классе называется полем или свойством, каждая функция - методом.\n",
        "\n",
        "Все в питоне является объектом каких-то классов, у которых есть атрибуты и методы."
      ]
    },
    {
      "cell_type": "markdown",
      "metadata": {
        "id": "fgas78l2Ycfq"
      },
      "source": [
        "## Наследование\n",
        "Классы можно создавать не с 0, а взять определенные свойства и методы из другого класса. Это и будет наследование. Сделать это просто - нужно добавить класс как аргумент в другой класс - тогда новый класс унаследует всем свойствам старого."
      ]
    },
    {
      "cell_type": "code",
      "execution_count": 89,
      "metadata": {
        "id": "JhMXjlElZisJ"
      },
      "outputs": [],
      "source": [
        "class Auto:\n",
        "    def __init__(self, color: str):\n",
        "        self.color = color\n",
        "# создаем дочерний класс\n",
        "class AutoWithAlarm(Auto):\n",
        "\n",
        "    # конструктор унаследуется от родительского\n",
        "    def alarm(self):\n",
        "        print('bip-bip')"
      ]
    },
    {
      "cell_type": "code",
      "execution_count": 90,
      "metadata": {
        "colab": {
          "base_uri": "https://localhost:8080/"
        },
        "id": "WB_AcoTaA398",
        "outputId": "89f801d6-9d3e-443d-ec96-6a0c5389774e"
      },
      "outputs": [
        {
          "name": "stdout",
          "output_type": "stream",
          "text": [
            "bip-bip\n"
          ]
        }
      ],
      "source": [
        "car_5 = AutoWithAlarm('red')\n",
        "car_5.alarm()"
      ]
    },
    {
      "cell_type": "markdown",
      "metadata": {
        "id": "eOqF128Rax5r"
      },
      "source": [
        "При наследовании надо соблюдать несколько правил:\n",
        "- при наследовании по логике нужно, чтобы дочерний класс расширял родительский класс, а не изменял или перечеркивал его поведение\n",
        "- код должен продолжать работать, если заменить в нем базовый класс на какой-то из его дочерних (принцип Барбары Лисков)"
      ]
    },
    {
      "cell_type": "markdown",
      "metadata": {
        "id": "pm-ppRAke10g"
      },
      "source": [
        "## Инверсия зависимостей. Абстрактный класс\n",
        "Если есть много слабо связанных сущностей, то стоит их общие черты выделить в некий абстрактный класс, а затем каждую сущность сделать наследником. Приведем на примере автоматической коробки передач (когда переключаем педаль в одно положение и едем) и механической (когда все время их нужно переключать) у машины."
      ]
    },
    {
      "cell_type": "code",
      "execution_count": 91,
      "metadata": {
        "id": "du_G3PU6fiBc"
      },
      "outputs": [],
      "source": [
        "# абстрактный класс - хранит общие свойста между классами\n",
        "# обычно в нем только атрибуты\n",
        "class GeneralAuto:\n",
        "    color = '' # можно объявить и так\n",
        "    name = ''\n",
        "\n",
        "# далее 2 класса, которые имеют много общего у машины (цвет машины, модель),\n",
        "# но функции совсем разные - друг друга они не дополняют\n",
        "class AutoTransmission(GeneralAuto):\n",
        "    def set_position(self, posotion):\n",
        "        if posotion == 'D':\n",
        "            print('going forward')\n",
        "\n",
        "class ManualTransmision(GeneralAuto):\n",
        "    def set_transmission(self, step):\n",
        "        if step == 'R':\n",
        "            print('going backwards')"
      ]
    },
    {
      "cell_type": "markdown",
      "metadata": {
        "id": "iGhNPn1mhlZs"
      },
      "source": [
        "В данном случае оба класса трансмиссий получат свойства машины от абстрактного класса. То есть 2 класса зависят от одного. Однако и абстрактный класс будет зависеть от них - если между классами будет общее свойсто, то его лучше добавить именно в абстрактный класс."
      ]
    },
    {
      "cell_type": "markdown",
      "metadata": {
        "id": "7gKZDUYZinRi"
      },
      "source": [
        "## Перегрузка (override)\n",
        "Дочерный класс может переопределить поведение родительской функции. Такое может произойти, если непример не нравится один из методов родительского класса или метод надо расширить."
      ]
    },
    {
      "cell_type": "code",
      "execution_count": 92,
      "metadata": {
        "id": "fu4CtSZujLlQ"
      },
      "outputs": [],
      "source": [
        "class Auto:\n",
        "    color = ''\n",
        "    name = ''\n",
        "    alarm_sound = ''\n",
        "\n",
        "    def __init__(self, color: str, name: str, alarm_sound: str):\n",
        "        self.color = color\n",
        "        self.name = name\n",
        "        self.alarm_sound = alarm_sound\n",
        "\n",
        "    def beep(self):\n",
        "        print(self.alarm_sound)\n",
        "\n",
        "class AutoWithCustomerBeep(Auto):\n",
        "    def beep(self):\n",
        "        print('beep is broken')"
      ]
    },
    {
      "cell_type": "code",
      "execution_count": 93,
      "metadata": {
        "colab": {
          "base_uri": "https://localhost:8080/"
        },
        "id": "F31R5bNuj9LR",
        "outputId": "20d4ba81-fb2f-4271-f778-1261c10d7a24"
      },
      "outputs": [
        {
          "name": "stdout",
          "output_type": "stream",
          "text": [
            "beep is broken\n"
          ]
        }
      ],
      "source": [
        "car_6 = AutoWithCustomerBeep('red', 'mazda', 'beeeeeeeeeeep')\n",
        "car_6.beep()"
      ]
    },
    {
      "cell_type": "code",
      "execution_count": 94,
      "metadata": {
        "id": "_bueFfRLkIpF"
      },
      "outputs": [],
      "source": [
        "# так же можно повторить работу родительской функции через super()\n",
        "class Auto:\n",
        "    color = ''\n",
        "    name = ''\n",
        "    alarm_sound = ''\n",
        "\n",
        "    def __init__(self, color: str, name: str, alarm_sound: str):\n",
        "        self.color = color\n",
        "        self.name = name\n",
        "        self.alarm_sound = alarm_sound\n",
        "\n",
        "    def beep(self):\n",
        "        print(self.alarm_sound)\n",
        "\n",
        "class AutoWithCustomerBeep(Auto):\n",
        "    def beep(self):\n",
        "        super().beep() # вызов из родительской функции, в нее передан объект дочернего класса\n",
        "        print('beep is broken')"
      ]
    },
    {
      "cell_type": "code",
      "execution_count": 95,
      "metadata": {
        "colab": {
          "base_uri": "https://localhost:8080/"
        },
        "id": "DV90lvqdk0Si",
        "outputId": "3e897812-896a-4f1c-8211-b7c764fe0b05"
      },
      "outputs": [
        {
          "name": "stdout",
          "output_type": "stream",
          "text": [
            "beeeeeeeeeeep\n",
            "beep is broken\n"
          ]
        }
      ],
      "source": [
        "car_6 = AutoWithCustomerBeep('red', 'mazda', 'beeeeeeeeeeep')\n",
        "car_6.beep()"
      ]
    },
    {
      "cell_type": "markdown",
      "metadata": {
        "id": "IM9V9aNZk1lp"
      },
      "source": [
        "## Полиморфизм\n",
        "Для питона не особо актуален, поскольку используется динамическая типизация (переменная связывается с типом в момент присваивания значения, а не в момент объявления переменной, из-за чего на разных участках кода переменная может иметь разный тип).\n",
        "\n",
        "Полиморфимз позволяет создавать один и тот же метод в классе, который будет работать с данными разного типа."
      ]
    },
    {
      "cell_type": "code",
      "execution_count": 96,
      "metadata": {
        "id": "PT1cbiQ1me3H"
      },
      "outputs": [],
      "source": [
        "class Numbers:\n",
        "    def print_number(self, num: int):\n",
        "        print(f'integer, {num}')\n",
        "    def print_number(self, num: float):\n",
        "        print(f'float, {num}')"
      ]
    },
    {
      "cell_type": "markdown",
      "metadata": {
        "id": "vBhhOOuwnHGm"
      },
      "source": [
        "В питоне код выше не будет работать из-за динамической типизации. Он лишь возьмет последнюю реализацию метода."
      ]
    },
    {
      "cell_type": "code",
      "execution_count": 97,
      "metadata": {
        "colab": {
          "base_uri": "https://localhost:8080/"
        },
        "id": "ywgiohwGngJS",
        "outputId": "3f37e8ef-24c0-4948-acdd-d43c0fe43423"
      },
      "outputs": [
        {
          "name": "stdout",
          "output_type": "stream",
          "text": [
            "float, 5.5\n",
            "float, 5\n"
          ]
        }
      ],
      "source": [
        "Numbers().print_number(5.5)\n",
        "Numbers().print_number(5)"
      ]
    },
    {
      "cell_type": "markdown",
      "metadata": {
        "id": "19JcEfk2nlLz"
      },
      "source": [
        "## Магические методы класса\n",
        "В классе можно объявить методы со специальными названиями, которые дадут методу особую функциональность. Например можно сложить экземпляры классов:"
      ]
    },
    {
      "cell_type": "code",
      "execution_count": 98,
      "metadata": {
        "id": "JujwMRYJ0fQZ"
      },
      "outputs": [],
      "source": [
        "class Vector3D:\n",
        "    def __init__(self, x: int, y: int, z: int):\n",
        "        self.x = x\n",
        "        self.y = y\n",
        "        self.z = z\n",
        "    # предполагаем, что other будет иметь тип Vector3D\n",
        "    def __add__(self, other):\n",
        "        return Vector3D(self.x + other.x, self.y + other.y, self.z + other.z)"
      ]
    },
    {
      "cell_type": "code",
      "execution_count": 99,
      "metadata": {
        "colab": {
          "base_uri": "https://localhost:8080/"
        },
        "id": "qAWVp4N70zVU",
        "outputId": "60f52c48-65b5-4f1f-ffb5-5c09c703f8fd"
      },
      "outputs": [
        {
          "data": {
            "text/plain": [
              "<__main__.Vector3D at 0x1a3a629e320>"
            ]
          },
          "execution_count": 99,
          "metadata": {},
          "output_type": "execute_result"
        }
      ],
      "source": [
        "vec_1 = Vector3D(1, 2, 3)\n",
        "vec_2 = Vector3D(4, 5, 6)\n",
        "sum_vec = vec_1 + vec_2\n",
        "sum_vec # распечаталось не очень"
      ]
    },
    {
      "cell_type": "code",
      "execution_count": 100,
      "metadata": {
        "colab": {
          "base_uri": "https://localhost:8080/"
        },
        "id": "d8KJHiz70-UM",
        "outputId": "37a0683a-3038-40fd-d856-f513e3fd78c9"
      },
      "outputs": [
        {
          "data": {
            "text/plain": [
              "5"
            ]
          },
          "execution_count": 100,
          "metadata": {},
          "output_type": "execute_result"
        }
      ],
      "source": [
        "# обратимся к сумме по координате х\n",
        "sum_vec.x"
      ]
    },
    {
      "cell_type": "markdown",
      "metadata": {
        "id": "PbgohEUe2bCT"
      },
      "source": [
        "Все работает, как и ожидали, однако непонятно как вывести наше значение вектора полностью. Для этого существует еще один магический метод `__str__`:"
      ]
    },
    {
      "cell_type": "code",
      "execution_count": 101,
      "metadata": {
        "id": "h_ZyMh9F2zTS"
      },
      "outputs": [],
      "source": [
        "class Vector3D:\n",
        "    def __init__(self, x, y, z):\n",
        "        self.x, self.y, self.z = x, y, z\n",
        "    def __add__(self, other):\n",
        "        return Vector3D(self.x + other.x, self.y + other.y, self.z + other.z)\n",
        "    # превращает вектор в строку\n",
        "    def __str__(self):\n",
        "        return f'({self.x}, {self.y}, {self.z})'"
      ]
    },
    {
      "cell_type": "code",
      "execution_count": 102,
      "metadata": {
        "colab": {
          "base_uri": "https://localhost:8080/"
        },
        "id": "_rxJE8v_3dm0",
        "outputId": "41f5aba5-cf8c-4ffc-843d-80cca2e2e747"
      },
      "outputs": [
        {
          "name": "stdout",
          "output_type": "stream",
          "text": [
            "(5, 7, 9)\n"
          ]
        }
      ],
      "source": [
        "vec_1 = Vector3D(1, 2, 3)\n",
        "vec_2 = Vector3D(4, 5, 6)\n",
        "sum_vec = vec_1 + vec_2\n",
        "print(sum_vec)"
      ]
    },
    {
      "cell_type": "markdown",
      "metadata": {
        "id": "QDYxrbVq3f_C"
      },
      "source": [
        "Еще можно вызывать экземпляр класса как функцию. Сделать это можно через метод `__call__`:"
      ]
    },
    {
      "cell_type": "code",
      "execution_count": 103,
      "metadata": {
        "id": "lfQefT7Z4FWQ"
      },
      "outputs": [],
      "source": [
        "class TriangleCalculator:\n",
        "    def __init__(self, a):\n",
        "        self.a = a\n",
        "\n",
        "    def __call__(self, b):\n",
        "        return (self.a ** 2 + b ** 2) ** 0.5"
      ]
    },
    {
      "cell_type": "code",
      "execution_count": 104,
      "metadata": {
        "colab": {
          "base_uri": "https://localhost:8080/"
        },
        "id": "QEXGXM1g4cTO",
        "outputId": "b9349977-6e6b-4c3b-b0bf-9e83230133e8"
      },
      "outputs": [
        {
          "data": {
            "text/plain": [
              "3"
            ]
          },
          "execution_count": 104,
          "metadata": {},
          "output_type": "execute_result"
        }
      ],
      "source": [
        "calc = TriangleCalculator(3)\n",
        "calc.a"
      ]
    },
    {
      "cell_type": "code",
      "execution_count": 105,
      "metadata": {
        "colab": {
          "base_uri": "https://localhost:8080/"
        },
        "id": "Oz7Vbt7Q4vAX",
        "outputId": "5258a765-a772-4082-d82b-604ed01d44e7"
      },
      "outputs": [
        {
          "data": {
            "text/plain": [
              "5.0"
            ]
          },
          "execution_count": 105,
          "metadata": {},
          "output_type": "execute_result"
        }
      ],
      "source": [
        "# запускаем код как функцию\n",
        "calc(4)"
      ]
    },
    {
      "cell_type": "markdown",
      "metadata": {
        "id": "YUiIDQzL4_WT"
      },
      "source": [
        "Таких магических методов очень много, более подробно они описаны [тут](https://www.tutorialsteacher.com/python/magic-methods-in-python)"
      ]
    },
    {
      "cell_type": "markdown",
      "metadata": {
        "id": "i4ArpqmG6bSr"
      },
      "source": [
        "## Множественное наследование\n",
        "В питоне можно наследовать от нескольких классов - для этого перечисляют родительские классы через запятую"
      ]
    },
    {
      "cell_type": "code",
      "execution_count": 106,
      "metadata": {
        "id": "kYnMPsSy6oWo"
      },
      "outputs": [],
      "source": [
        "class Printable:\n",
        "    # обращаемся к а, хотя ее нет\n",
        "    def __str__(self):\n",
        "        print('__str__ was called')\n",
        "        return f'{self.a}'\n",
        "\n",
        "class Divisable:\n",
        "    def __truediv__(self, b: int):\n",
        "        print('__truediv__ was called')\n",
        "        return self.a / b\n",
        "\n",
        "class NumberKeeper(Printable, Divisable):\n",
        "    def __init__(self, a):\n",
        "        # а появится тут - он унаследует методы от родителей\n",
        "        self.a = a"
      ]
    },
    {
      "cell_type": "code",
      "execution_count": 107,
      "metadata": {
        "colab": {
          "base_uri": "https://localhost:8080/"
        },
        "id": "0ukOjs2h9dQz",
        "outputId": "6e1eeaaf-7c31-4675-e075-cc5cc2932f94"
      },
      "outputs": [
        {
          "name": "stdout",
          "output_type": "stream",
          "text": [
            "__truediv__ was called\n"
          ]
        },
        {
          "data": {
            "text/plain": [
              "2.5"
            ]
          },
          "execution_count": 107,
          "metadata": {},
          "output_type": "execute_result"
        }
      ],
      "source": [
        "keeper = NumberKeeper(5)\n",
        "keeper / 2"
      ]
    },
    {
      "cell_type": "code",
      "execution_count": 108,
      "metadata": {
        "colab": {
          "base_uri": "https://localhost:8080/"
        },
        "id": "9FvzJprM-nPD",
        "outputId": "8c9209a3-2cee-42e3-f54c-2e540e043ad9"
      },
      "outputs": [
        {
          "name": "stdout",
          "output_type": "stream",
          "text": [
            "__str__ was called\n",
            "5\n"
          ]
        }
      ],
      "source": [
        "print(keeper)"
      ]
    },
    {
      "cell_type": "markdown",
      "metadata": {
        "id": "aKW3LUms9iqN"
      },
      "source": [
        "Что произошло? Разберемся сначала с множественным наследованием:\n",
        "- у классов `Printable` и `Divisable` не было атрибута **а**\n",
        "- атрибут **a** появился только у ребенка, при этом ему достались от родителей 2 \"сломанных\" метода, которые обращаются к несуществующему атрибуту\n",
        "- методы будут работать (как и показано), так как при наследовании в родительские методы придет объект ребенка: self `Printable` self `Divisable` будут равны экземпляру класса `NumberKeeper(5)`\n",
        "\n",
        "По поводу `__truediv__`:\n",
        "- `NumberKeeper` имеет атрибут **а**, который равен 5. Тогда при вызове метода в self родителю передастся этот атрибут\n",
        "- сам магический методы вызывается неявно таким способ: экземпляр делим на 2 - ее примет **b**"
      ]
    },
    {
      "cell_type": "markdown",
      "metadata": {
        "id": "0EJWRBwqAVDr"
      },
      "source": [
        "## Интерфейс\n",
        "Классы позволяют накладывать определенные ограничения по время разработки: допустим, мы разработчик, которому надо написать библитеку для подключения к СУБД. Одна из функций должна быть `.connect()`. Конечно, можно на словах сказать, чтобы была такая функция, но можно явно об этом указать, наложив обязательство:"
      ]
    },
    {
      "cell_type": "code",
      "execution_count": 109,
      "metadata": {
        "id": "Bap6z4eUCegn"
      },
      "outputs": [],
      "source": [
        "class Connectable:\n",
        "    def connect(self, conn_uri: str):\n",
        "        raise NotImplemented('нужно переопределить этот метод')"
      ]
    },
    {
      "cell_type": "code",
      "execution_count": 110,
      "metadata": {
        "colab": {
          "base_uri": "https://localhost:8080/",
          "height": 286
        },
        "id": "DL9Hz7e7C2ND",
        "outputId": "42532c2e-9ac8-4b66-f4bb-f6077bba42b1"
      },
      "outputs": [
        {
          "ename": "TypeError",
          "evalue": "'NotImplementedType' object is not callable",
          "output_type": "error",
          "traceback": [
            "\u001b[1;31m---------------------------------------------------------------------------\u001b[0m",
            "\u001b[1;31mTypeError\u001b[0m                                 Traceback (most recent call last)",
            "Cell \u001b[1;32mIn[110], line 2\u001b[0m\n\u001b[0;32m      1\u001b[0m a \u001b[38;5;241m=\u001b[39m Connectable()\n\u001b[1;32m----> 2\u001b[0m \u001b[43ma\u001b[49m\u001b[38;5;241;43m.\u001b[39;49m\u001b[43mconnect\u001b[49m\u001b[43m(\u001b[49m\u001b[38;5;124;43m'\u001b[39;49m\u001b[38;5;124;43mo3.ru\u001b[39;49m\u001b[38;5;124;43m'\u001b[39;49m\u001b[43m)\u001b[49m\n",
            "Cell \u001b[1;32mIn[109], line 3\u001b[0m, in \u001b[0;36mConnectable.connect\u001b[1;34m(self, conn_uri)\u001b[0m\n\u001b[0;32m      2\u001b[0m \u001b[38;5;28;01mdef\u001b[39;00m \u001b[38;5;21mconnect\u001b[39m(\u001b[38;5;28mself\u001b[39m, conn_uri: \u001b[38;5;28mstr\u001b[39m):\n\u001b[1;32m----> 3\u001b[0m     \u001b[38;5;28;01mraise\u001b[39;00m \u001b[38;5;28;43mNotImplemented\u001b[39;49m\u001b[43m(\u001b[49m\u001b[38;5;124;43m'\u001b[39;49m\u001b[38;5;124;43mнужно переопределить этот метод\u001b[39;49m\u001b[38;5;124;43m'\u001b[39;49m\u001b[43m)\u001b[49m\n",
            "\u001b[1;31mTypeError\u001b[0m: 'NotImplementedType' object is not callable"
          ]
        }
      ],
      "source": [
        "a = Connectable()\n",
        "a.connect('o3.ru')"
      ]
    },
    {
      "cell_type": "code",
      "execution_count": 111,
      "metadata": {
        "id": "KfCnpfMqC-qN"
      },
      "outputs": [],
      "source": [
        "import time\n",
        "# наследуемся от класса Connectable\n",
        "class PostrgesqlConnection(Connectable):\n",
        "    # получили неисправную функцию при наследовании\n",
        "    # переопределим ее\n",
        "    def connect(self, conn_uri: str):\n",
        "        print('connecton to postgresql')\n",
        "        time.sleep(3) # ждем 3 секунды, иммитируя подключение\n",
        "        #  (через 3 секунды выведется второй print, интерпритатор уснет на это время)\n",
        "        print('connection complete')"
      ]
    },
    {
      "cell_type": "code",
      "execution_count": 112,
      "metadata": {
        "colab": {
          "base_uri": "https://localhost:8080/"
        },
        "id": "PiSeP1Y1D13b",
        "outputId": "b41e92cb-4f40-4887-d6bd-8348750de096"
      },
      "outputs": [
        {
          "name": "stdout",
          "output_type": "stream",
          "text": [
            "connecton to postgresql\n",
            "connection complete\n"
          ]
        }
      ],
      "source": [
        "a = PostrgesqlConnection()\n",
        "a.connect('o3.ru')"
      ]
    },
    {
      "cell_type": "markdown",
      "metadata": {
        "id": "-TJsyG6ND8w0"
      },
      "source": [
        "`Connectable` выступает здесь как тест - проверка того, переопределен ли метод, как был оговорено, или нет. Это называется **интрефейсом**. Используется при разработке"
      ]
    },
    {
      "cell_type": "markdown",
      "metadata": {
        "id": "LA9WlKPWFOmY"
      },
      "source": [
        "## SOLID принципы\n",
        "Принципы, по которым стоит строить классы\n",
        "1. Единая ответственность - класс отвечает за 1 зону отвественности. Не нужно писать классы, которые подключаются к бд, что-то выгружают, анализируют и тд\n",
        "2. Классы должны быть открыты для расширения, но не редактировать его поведение\n",
        "3. Принцип Барбары Лисков - объекты родительских классов можно ыбло поменять на объекты дочерних без поломок\n",
        "4. Лучше создать много мелких интерфейсов, чем один большой (один интерфейс обяжет создать метод подключения к БД, второй метод выгрузки и тд)\n",
        "5. Зависимость в абстракциях (инверсия зависимости) - если в дочернем классе есть функционал, который полезен для родителя, то можно его перенести"
      ]
    },
    {
      "cell_type": "code",
      "execution_count": null,
      "metadata": {
        "id": "zbxAdljejRCR"
      },
      "outputs": [],
      "source": []
    }
  ],
  "metadata": {
    "colab": {
      "provenance": []
    },
    "kernelspec": {
      "display_name": "Python 3",
      "name": "python3"
    },
    "language_info": {
      "codemirror_mode": {
        "name": "ipython",
        "version": 3
      },
      "file_extension": ".py",
      "mimetype": "text/x-python",
      "name": "python",
      "nbconvert_exporter": "python",
      "pygments_lexer": "ipython3",
      "version": "3.10.4"
    }
  },
  "nbformat": 4,
  "nbformat_minor": 0
}
