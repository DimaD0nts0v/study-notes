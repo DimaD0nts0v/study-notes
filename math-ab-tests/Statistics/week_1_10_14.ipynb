{
 "cells": [
  {
   "cell_type": "markdown",
   "metadata": {},
   "source": [
    "https://github.com/FUlyankin/matstat-AB/blob/main/week01_intro/data/youtube_data.csv - данные\n",
    "## Описательные статистики и pandas"
   ]
  },
  {
   "cell_type": "code",
   "execution_count": 69,
   "metadata": {},
   "outputs": [],
   "source": [
    "import numpy as np\n",
    "import pandas as pd\n",
    "from scipy import stats\n",
    "\n",
    "import matplotlib.pyplot as plt\n",
    "import seaborn as sns\n",
    "\n",
    "plt.style.use('ggplot')\n",
    "\n",
    "# для отображения всех стобцов\n",
    "pd.options.display.max_columns = None"
   ]
  },
  {
   "cell_type": "code",
   "execution_count": 83,
   "metadata": {},
   "outputs": [],
   "source": [
    "df = pd.read_csv(r'F:\\Загрузки\\youtube_data.csv', sep='\\t')"
   ]
  },
  {
   "cell_type": "code",
   "execution_count": 6,
   "metadata": {},
   "outputs": [
    {
     "data": {
      "text/plain": [
       "(19124, 30)"
      ]
     },
     "execution_count": 6,
     "metadata": {},
     "output_type": "execute_result"
    }
   ],
   "source": [
    "df.shape"
   ]
  },
  {
   "cell_type": "code",
   "execution_count": 7,
   "metadata": {},
   "outputs": [
    {
     "data": {
      "text/html": [
       "<div>\n",
       "<style scoped>\n",
       "    .dataframe tbody tr th:only-of-type {\n",
       "        vertical-align: middle;\n",
       "    }\n",
       "\n",
       "    .dataframe tbody tr th {\n",
       "        vertical-align: top;\n",
       "    }\n",
       "\n",
       "    .dataframe thead th {\n",
       "        text-align: right;\n",
       "    }\n",
       "</style>\n",
       "<table border=\"1\" class=\"dataframe\">\n",
       "  <thead>\n",
       "    <tr style=\"text-align: right;\">\n",
       "      <th></th>\n",
       "      <th>title</th>\n",
       "      <th>caption</th>\n",
       "      <th>categoryId</th>\n",
       "      <th>commentCount</th>\n",
       "      <th>definition</th>\n",
       "      <th>description</th>\n",
       "      <th>dislikeCount</th>\n",
       "      <th>duration</th>\n",
       "      <th>license</th>\n",
       "      <th>licensedContent</th>\n",
       "      <th>...</th>\n",
       "      <th>comment_mean_len_symbol</th>\n",
       "      <th>comment_mean_len_word</th>\n",
       "      <th>comment_negative_mean_prob</th>\n",
       "      <th>comment_negative_share</th>\n",
       "      <th>commentators_uniq</th>\n",
       "      <th>comments_emoji_max</th>\n",
       "      <th>comments_emoji_mean</th>\n",
       "      <th>comments_emoji_share</th>\n",
       "      <th>comments_obscene_cnt</th>\n",
       "      <th>words_obscene_cnt</th>\n",
       "    </tr>\n",
       "  </thead>\n",
       "  <tbody>\n",
       "    <tr>\n",
       "      <th>0</th>\n",
       "      <td>\"#2Маши \"Свободные линии\"</td>\n",
       "      <td>False</td>\n",
       "      <td>10</td>\n",
       "      <td>34.0</td>\n",
       "      <td>hd</td>\n",
       "      <td>ITUNES - https://itun.es/ru/0YzI_</td>\n",
       "      <td>43.0</td>\n",
       "      <td>PT3M30S</td>\n",
       "      <td>youtube</td>\n",
       "      <td>True</td>\n",
       "      <td>...</td>\n",
       "      <td>59.44</td>\n",
       "      <td>8.84</td>\n",
       "      <td>0.63541</td>\n",
       "      <td>0.48</td>\n",
       "      <td>24.0</td>\n",
       "      <td>9.0</td>\n",
       "      <td>1.0</td>\n",
       "      <td>0.32</td>\n",
       "      <td>0.0</td>\n",
       "      <td>0.0</td>\n",
       "    </tr>\n",
       "    <tr>\n",
       "      <th>1</th>\n",
       "      <td>\"ALARM\" СЕРГЕЙ ЛАЗАРЕВ ( SERGEY LAZAREV )</td>\n",
       "      <td>False</td>\n",
       "      <td>10</td>\n",
       "      <td>NaN</td>\n",
       "      <td>sd</td>\n",
       "      <td>NEW OFFICIAL VIDEO\\r\\n2010</td>\n",
       "      <td>690.0</td>\n",
       "      <td>PT3M42S</td>\n",
       "      <td>youtube</td>\n",
       "      <td>False</td>\n",
       "      <td>...</td>\n",
       "      <td>NaN</td>\n",
       "      <td>NaN</td>\n",
       "      <td>NaN</td>\n",
       "      <td>NaN</td>\n",
       "      <td>NaN</td>\n",
       "      <td>NaN</td>\n",
       "      <td>NaN</td>\n",
       "      <td>NaN</td>\n",
       "      <td>NaN</td>\n",
       "      <td>NaN</td>\n",
       "    </tr>\n",
       "  </tbody>\n",
       "</table>\n",
       "<p>2 rows × 30 columns</p>\n",
       "</div>"
      ],
      "text/plain": [
       "                                       title  caption  categoryId  \\\n",
       "0                  \"#2Маши \"Свободные линии\"    False          10   \n",
       "1  \"ALARM\" СЕРГЕЙ ЛАЗАРЕВ ( SERGEY LAZAREV )    False          10   \n",
       "\n",
       "   commentCount definition                        description  dislikeCount  \\\n",
       "0          34.0         hd  ITUNES - https://itun.es/ru/0YzI_          43.0   \n",
       "1           NaN         sd         NEW OFFICIAL VIDEO\\r\\n2010         690.0   \n",
       "\n",
       "  duration  license  licensedContent  ...  comment_mean_len_symbol  \\\n",
       "0  PT3M30S  youtube             True  ...                    59.44   \n",
       "1  PT3M42S  youtube            False  ...                      NaN   \n",
       "\n",
       "  comment_mean_len_word comment_negative_mean_prob  comment_negative_share  \\\n",
       "0                  8.84                    0.63541                    0.48   \n",
       "1                   NaN                        NaN                     NaN   \n",
       "\n",
       "  commentators_uniq comments_emoji_max comments_emoji_mean  \\\n",
       "0              24.0                9.0                 1.0   \n",
       "1               NaN                NaN                 NaN   \n",
       "\n",
       "   comments_emoji_share  comments_obscene_cnt  words_obscene_cnt  \n",
       "0                  0.32                   0.0                0.0  \n",
       "1                   NaN                   NaN                NaN  \n",
       "\n",
       "[2 rows x 30 columns]"
      ]
     },
     "execution_count": 7,
     "metadata": {},
     "output_type": "execute_result"
    }
   ],
   "source": [
    "df.head(2)"
   ]
  },
  {
   "cell_type": "code",
   "execution_count": 8,
   "metadata": {},
   "outputs": [
    {
     "data": {
      "text/plain": [
       "0           43.0\n",
       "1          690.0\n",
       "2           10.0\n",
       "3            7.0\n",
       "4           19.0\n",
       "          ...   \n",
       "19119        0.0\n",
       "19120      431.0\n",
       "19121    15494.0\n",
       "19122       10.0\n",
       "19123        0.0\n",
       "Name: dislikeCount, Length: 19124, dtype: float64"
      ]
     },
     "execution_count": 8,
     "metadata": {},
     "output_type": "execute_result"
    }
   ],
   "source": [
    "# pd.Series состоит из двух сущностей: индекс + значение колонки\n",
    "df.dislikeCount"
   ]
  },
  {
   "cell_type": "code",
   "execution_count": 9,
   "metadata": {},
   "outputs": [
    {
     "data": {
      "text/plain": [
       "array([4.3000e+01, 6.9000e+02, 1.0000e+01, ..., 1.5494e+04, 1.0000e+01,\n",
       "       0.0000e+00])"
      ]
     },
     "execution_count": 9,
     "metadata": {},
     "output_type": "execute_result"
    }
   ],
   "source": [
    "df.dislikeCount.values"
   ]
  },
  {
   "cell_type": "code",
   "execution_count": 10,
   "metadata": {},
   "outputs": [
    {
     "data": {
      "text/plain": [
       "RangeIndex(start=0, stop=19124, step=1)"
      ]
     },
     "execution_count": 10,
     "metadata": {},
     "output_type": "execute_result"
    }
   ],
   "source": [
    "df.dislikeCount.index"
   ]
  },
  {
   "cell_type": "code",
   "execution_count": 11,
   "metadata": {},
   "outputs": [
    {
     "data": {
      "text/plain": [
       "640698.0"
      ]
     },
     "execution_count": 11,
     "metadata": {},
     "output_type": "execute_result"
    }
   ],
   "source": [
    "# максимальное значение дизлайков\n",
    "df['dislikeCount'].max()"
   ]
  },
  {
   "cell_type": "code",
   "execution_count": 12,
   "metadata": {},
   "outputs": [
    {
     "data": {
      "text/plain": [
       "745.3442970822281"
      ]
     },
     "execution_count": 12,
     "metadata": {},
     "output_type": "execute_result"
    }
   ],
   "source": [
    "# пропуски игнорирует\n",
    "df['dislikeCount'].mean()"
   ]
  },
  {
   "cell_type": "code",
   "execution_count": 13,
   "metadata": {},
   "outputs": [
    {
     "data": {
      "text/plain": [
       "nan"
      ]
     },
     "execution_count": 13,
     "metadata": {},
     "output_type": "execute_result"
    }
   ],
   "source": [
    "# пропуски не игнорирует\n",
    "np.mean(df.dislikeCount.values, )"
   ]
  },
  {
   "cell_type": "code",
   "execution_count": 14,
   "metadata": {},
   "outputs": [
    {
     "data": {
      "text/plain": [
       "0        False\n",
       "1        False\n",
       "2        False\n",
       "3        False\n",
       "4        False\n",
       "         ...  \n",
       "19119    False\n",
       "19120    False\n",
       "19121    False\n",
       "19122    False\n",
       "19123    False\n",
       "Name: dislikeCount, Length: 19124, dtype: bool"
      ]
     },
     "execution_count": 14,
     "metadata": {},
     "output_type": "execute_result"
    }
   ],
   "source": [
    "# фильтрация\n",
    "mx = df['dislikeCount'].max()\n",
    "df['dislikeCount'] == mx"
   ]
  },
  {
   "cell_type": "code",
   "execution_count": 15,
   "metadata": {},
   "outputs": [
    {
     "data": {
      "text/html": [
       "<div>\n",
       "<style scoped>\n",
       "    .dataframe tbody tr th:only-of-type {\n",
       "        vertical-align: middle;\n",
       "    }\n",
       "\n",
       "    .dataframe tbody tr th {\n",
       "        vertical-align: top;\n",
       "    }\n",
       "\n",
       "    .dataframe thead th {\n",
       "        text-align: right;\n",
       "    }\n",
       "</style>\n",
       "<table border=\"1\" class=\"dataframe\">\n",
       "  <thead>\n",
       "    <tr style=\"text-align: right;\">\n",
       "      <th></th>\n",
       "      <th>title</th>\n",
       "      <th>caption</th>\n",
       "      <th>categoryId</th>\n",
       "      <th>commentCount</th>\n",
       "      <th>definition</th>\n",
       "      <th>description</th>\n",
       "      <th>dislikeCount</th>\n",
       "      <th>duration</th>\n",
       "      <th>license</th>\n",
       "      <th>licensedContent</th>\n",
       "      <th>...</th>\n",
       "      <th>comment_mean_len_symbol</th>\n",
       "      <th>comment_mean_len_word</th>\n",
       "      <th>comment_negative_mean_prob</th>\n",
       "      <th>comment_negative_share</th>\n",
       "      <th>commentators_uniq</th>\n",
       "      <th>comments_emoji_max</th>\n",
       "      <th>comments_emoji_mean</th>\n",
       "      <th>comments_emoji_share</th>\n",
       "      <th>comments_obscene_cnt</th>\n",
       "      <th>words_obscene_cnt</th>\n",
       "    </tr>\n",
       "  </thead>\n",
       "  <tbody>\n",
       "    <tr>\n",
       "      <th>1299</th>\n",
       "      <td>FACE - Я РОНЯЮ ЗАПАД (prod. by JuloOntheTrack)</td>\n",
       "      <td>False</td>\n",
       "      <td>10</td>\n",
       "      <td>303077.0</td>\n",
       "      <td>hd</td>\n",
       "      <td>STREAM:\\nhttps://lnk.to/faceislove\\n\\nFOLLOW:\\...</td>\n",
       "      <td>640698.0</td>\n",
       "      <td>PT2M24S</td>\n",
       "      <td>youtube</td>\n",
       "      <td>True</td>\n",
       "      <td>...</td>\n",
       "      <td>49.057</td>\n",
       "      <td>8.227</td>\n",
       "      <td>0.480086</td>\n",
       "      <td>0.21</td>\n",
       "      <td>1541.0</td>\n",
       "      <td>565.0</td>\n",
       "      <td>1.008</td>\n",
       "      <td>0.0875</td>\n",
       "      <td>587.0</td>\n",
       "      <td>856.0</td>\n",
       "    </tr>\n",
       "  </tbody>\n",
       "</table>\n",
       "<p>1 rows × 30 columns</p>\n",
       "</div>"
      ],
      "text/plain": [
       "                                               title  caption  categoryId  \\\n",
       "1299  FACE - Я РОНЯЮ ЗАПАД (prod. by JuloOntheTrack)    False          10   \n",
       "\n",
       "      commentCount definition  \\\n",
       "1299      303077.0         hd   \n",
       "\n",
       "                                            description  dislikeCount  \\\n",
       "1299  STREAM:\\nhttps://lnk.to/faceislove\\n\\nFOLLOW:\\...      640698.0   \n",
       "\n",
       "     duration  license  licensedContent  ...  comment_mean_len_symbol  \\\n",
       "1299  PT2M24S  youtube             True  ...                   49.057   \n",
       "\n",
       "     comment_mean_len_word comment_negative_mean_prob  comment_negative_share  \\\n",
       "1299                 8.227                   0.480086                    0.21   \n",
       "\n",
       "     commentators_uniq comments_emoji_max comments_emoji_mean  \\\n",
       "1299            1541.0              565.0               1.008   \n",
       "\n",
       "      comments_emoji_share  comments_obscene_cnt  words_obscene_cnt  \n",
       "1299                0.0875                 587.0              856.0  \n",
       "\n",
       "[1 rows x 30 columns]"
      ]
     },
     "execution_count": 15,
     "metadata": {},
     "output_type": "execute_result"
    }
   ],
   "source": [
    "# фильтруем значения True\n",
    "df[df['dislikeCount'] == mx]"
   ]
  },
  {
   "cell_type": "markdown",
   "metadata": {},
   "source": [
    "### Меры центральной тенденции"
   ]
  },
  {
   "cell_type": "code",
   "execution_count": 16,
   "metadata": {},
   "outputs": [
    {
     "data": {
      "text/plain": [
       "745.3442970822281"
      ]
     },
     "execution_count": 16,
     "metadata": {},
     "output_type": "execute_result"
    }
   ],
   "source": [
    "df['dislikeCount'].mean()"
   ]
  },
  {
   "cell_type": "code",
   "execution_count": 17,
   "metadata": {},
   "outputs": [
    {
     "data": {
      "text/plain": [
       "5.0"
      ]
     },
     "execution_count": 17,
     "metadata": {},
     "output_type": "execute_result"
    }
   ],
   "source": [
    "df['dislikeCount'].median()"
   ]
  },
  {
   "cell_type": "code",
   "execution_count": 18,
   "metadata": {},
   "outputs": [
    {
     "data": {
      "text/plain": [
       "0    0.0\n",
       "Name: dislikeCount, dtype: float64"
      ]
     },
     "execution_count": 18,
     "metadata": {},
     "output_type": "execute_result"
    }
   ],
   "source": [
    "df['dislikeCount'].mode()"
   ]
  },
  {
   "cell_type": "code",
   "execution_count": 51,
   "metadata": {},
   "outputs": [
    {
     "data": {
      "text/plain": [
       "<Axes: >"
      ]
     },
     "execution_count": 51,
     "metadata": {},
     "output_type": "execute_result"
    },
    {
     "data": {
      "image/png": "[encoded data removed]",
      "text/plain": [
       "<Figure size 640x480 with 1 Axes>"
      ]
     },
     "metadata": {},
     "output_type": "display_data"
    }
   ],
   "source": [
    "df['dislikeCount'].hist(bins=50)"
   ]
  },
  {
   "cell_type": "code",
   "execution_count": 19,
   "metadata": {},
   "outputs": [
    {
     "data": {
      "image/png": "[encoded data removed]",
      "text/plain": [
       "<Figure size 640x480 with 1 Axes>"
      ]
     },
     "metadata": {},
     "output_type": "display_data"
    }
   ],
   "source": [
    "# длинный хвост - много выбросов\n",
    "df['dislikeCount'].hist(bins=50, density=True);"
   ]
  },
  {
   "cell_type": "code",
   "execution_count": 20,
   "metadata": {},
   "outputs": [
    {
     "data": {
      "image/png": "[encoded data removed]",
      "text/plain": [
       "<Figure size 640x480 with 1 Axes>"
      ]
     },
     "metadata": {},
     "output_type": "display_data"
    }
   ],
   "source": [
    "# лог шкала по оси Y для детального просмотра хвоста\n",
    "df['dislikeCount'].hist(bins=50, log=True);"
   ]
  },
  {
   "cell_type": "markdown",
   "metadata": {},
   "source": [
    "### Меры разброса\n",
    "Дисперсия и стандартное отклонение"
   ]
  },
  {
   "cell_type": "code",
   "execution_count": 21,
   "metadata": {},
   "outputs": [
    {
     "data": {
      "text/plain": [
       "87226821.69238792"
      ]
     },
     "execution_count": 21,
     "metadata": {},
     "output_type": "execute_result"
    }
   ],
   "source": [
    "# сигма**2\n",
    "df['dislikeCount'].var(ddof=0)"
   ]
  },
  {
   "cell_type": "code",
   "execution_count": 22,
   "metadata": {},
   "outputs": [
    {
     "data": {
      "text/plain": [
       "87231449.35548371"
      ]
     },
     "execution_count": 22,
     "metadata": {},
     "output_type": "execute_result"
    }
   ],
   "source": [
    "# s**2 - несмещенная дисперсия, деление на n-1\n",
    "df['dislikeCount'].var(ddof=1)"
   ]
  },
  {
   "cell_type": "code",
   "execution_count": 23,
   "metadata": {},
   "outputs": [
    {
     "data": {
      "text/plain": [
       "9339.530057363054"
      ]
     },
     "execution_count": 23,
     "metadata": {},
     "output_type": "execute_result"
    }
   ],
   "source": [
    "df['dislikeCount'].std(ddof=0)"
   ]
  },
  {
   "cell_type": "code",
   "execution_count": 24,
   "metadata": {},
   "outputs": [
    {
     "data": {
      "text/plain": [
       "9339.777800113005"
      ]
     },
     "execution_count": 24,
     "metadata": {},
     "output_type": "execute_result"
    }
   ],
   "source": [
    "df['dislikeCount'].std(ddof=1)"
   ]
  },
  {
   "cell_type": "code",
   "execution_count": 25,
   "metadata": {},
   "outputs": [
    {
     "data": {
      "text/plain": [
       "12780.139999999978"
      ]
     },
     "execution_count": 25,
     "metadata": {},
     "output_type": "execute_result"
    }
   ],
   "source": [
    "# у 99% видео дизлайков меньше 12780\n",
    "df['dislikeCount'].quantile(0.99)"
   ]
  },
  {
   "cell_type": "code",
   "execution_count": 26,
   "metadata": {},
   "outputs": [
    {
     "data": {
      "text/html": [
       "<div>\n",
       "<style scoped>\n",
       "    .dataframe tbody tr th:only-of-type {\n",
       "        vertical-align: middle;\n",
       "    }\n",
       "\n",
       "    .dataframe tbody tr th {\n",
       "        vertical-align: top;\n",
       "    }\n",
       "\n",
       "    .dataframe thead th {\n",
       "        text-align: right;\n",
       "    }\n",
       "</style>\n",
       "<table border=\"1\" class=\"dataframe\">\n",
       "  <thead>\n",
       "    <tr style=\"text-align: right;\">\n",
       "      <th></th>\n",
       "      <th>title</th>\n",
       "      <th>caption</th>\n",
       "      <th>categoryId</th>\n",
       "      <th>commentCount</th>\n",
       "      <th>definition</th>\n",
       "      <th>description</th>\n",
       "      <th>dislikeCount</th>\n",
       "      <th>duration</th>\n",
       "      <th>license</th>\n",
       "      <th>licensedContent</th>\n",
       "      <th>...</th>\n",
       "      <th>comment_mean_len_symbol</th>\n",
       "      <th>comment_mean_len_word</th>\n",
       "      <th>comment_negative_mean_prob</th>\n",
       "      <th>comment_negative_share</th>\n",
       "      <th>commentators_uniq</th>\n",
       "      <th>comments_emoji_max</th>\n",
       "      <th>comments_emoji_mean</th>\n",
       "      <th>comments_emoji_share</th>\n",
       "      <th>comments_obscene_cnt</th>\n",
       "      <th>words_obscene_cnt</th>\n",
       "    </tr>\n",
       "  </thead>\n",
       "  <tbody>\n",
       "    <tr>\n",
       "      <th>count</th>\n",
       "      <td>19124</td>\n",
       "      <td>19124</td>\n",
       "      <td>19124.000000</td>\n",
       "      <td>18914.000000</td>\n",
       "      <td>19124</td>\n",
       "      <td>18339</td>\n",
       "      <td>18850.000000</td>\n",
       "      <td>19124</td>\n",
       "      <td>19124</td>\n",
       "      <td>19124</td>\n",
       "      <td>...</td>\n",
       "      <td>12314.000000</td>\n",
       "      <td>12314.000000</td>\n",
       "      <td>12314.000000</td>\n",
       "      <td>12314.000000</td>\n",
       "      <td>12314.000000</td>\n",
       "      <td>12314.000000</td>\n",
       "      <td>12314.000000</td>\n",
       "      <td>12314.000000</td>\n",
       "      <td>12314.000000</td>\n",
       "      <td>12314.000000</td>\n",
       "    </tr>\n",
       "    <tr>\n",
       "      <th>unique</th>\n",
       "      <td>18029</td>\n",
       "      <td>2</td>\n",
       "      <td>NaN</td>\n",
       "      <td>NaN</td>\n",
       "      <td>2</td>\n",
       "      <td>14972</td>\n",
       "      <td>NaN</td>\n",
       "      <td>1594</td>\n",
       "      <td>2</td>\n",
       "      <td>2</td>\n",
       "      <td>...</td>\n",
       "      <td>NaN</td>\n",
       "      <td>NaN</td>\n",
       "      <td>NaN</td>\n",
       "      <td>NaN</td>\n",
       "      <td>NaN</td>\n",
       "      <td>NaN</td>\n",
       "      <td>NaN</td>\n",
       "      <td>NaN</td>\n",
       "      <td>NaN</td>\n",
       "      <td>NaN</td>\n",
       "    </tr>\n",
       "    <tr>\n",
       "      <th>top</th>\n",
       "      <td>Алексей Кортнев и Валдис Пельш в проекте «Две ...</td>\n",
       "      <td>False</td>\n",
       "      <td>NaN</td>\n",
       "      <td>NaN</td>\n",
       "      <td>hd</td>\n",
       "      <td></td>\n",
       "      <td>NaN</td>\n",
       "      <td>PT3M37S</td>\n",
       "      <td>youtube</td>\n",
       "      <td>True</td>\n",
       "      <td>...</td>\n",
       "      <td>NaN</td>\n",
       "      <td>NaN</td>\n",
       "      <td>NaN</td>\n",
       "      <td>NaN</td>\n",
       "      <td>NaN</td>\n",
       "      <td>NaN</td>\n",
       "      <td>NaN</td>\n",
       "      <td>NaN</td>\n",
       "      <td>NaN</td>\n",
       "      <td>NaN</td>\n",
       "    </tr>\n",
       "    <tr>\n",
       "      <th>freq</th>\n",
       "      <td>11</td>\n",
       "      <td>18877</td>\n",
       "      <td>NaN</td>\n",
       "      <td>NaN</td>\n",
       "      <td>14176</td>\n",
       "      <td>447</td>\n",
       "      <td>NaN</td>\n",
       "      <td>153</td>\n",
       "      <td>19075</td>\n",
       "      <td>15509</td>\n",
       "      <td>...</td>\n",
       "      <td>NaN</td>\n",
       "      <td>NaN</td>\n",
       "      <td>NaN</td>\n",
       "      <td>NaN</td>\n",
       "      <td>NaN</td>\n",
       "      <td>NaN</td>\n",
       "      <td>NaN</td>\n",
       "      <td>NaN</td>\n",
       "      <td>NaN</td>\n",
       "      <td>NaN</td>\n",
       "    </tr>\n",
       "    <tr>\n",
       "      <th>mean</th>\n",
       "      <td>NaN</td>\n",
       "      <td>NaN</td>\n",
       "      <td>10.984679</td>\n",
       "      <td>394.026065</td>\n",
       "      <td>NaN</td>\n",
       "      <td>NaN</td>\n",
       "      <td>745.344297</td>\n",
       "      <td>NaN</td>\n",
       "      <td>NaN</td>\n",
       "      <td>NaN</td>\n",
       "      <td>...</td>\n",
       "      <td>59.881883</td>\n",
       "      <td>9.412884</td>\n",
       "      <td>0.619141</td>\n",
       "      <td>0.462442</td>\n",
       "      <td>131.594608</td>\n",
       "      <td>27.230794</td>\n",
       "      <td>0.794017</td>\n",
       "      <td>0.101482</td>\n",
       "      <td>8.952899</td>\n",
       "      <td>11.293325</td>\n",
       "    </tr>\n",
       "    <tr>\n",
       "      <th>std</th>\n",
       "      <td>NaN</td>\n",
       "      <td>NaN</td>\n",
       "      <td>3.575677</td>\n",
       "      <td>4200.463284</td>\n",
       "      <td>NaN</td>\n",
       "      <td>NaN</td>\n",
       "      <td>9339.777800</td>\n",
       "      <td>NaN</td>\n",
       "      <td>NaN</td>\n",
       "      <td>NaN</td>\n",
       "      <td>...</td>\n",
       "      <td>69.148601</td>\n",
       "      <td>11.325384</td>\n",
       "      <td>0.098641</td>\n",
       "      <td>0.253029</td>\n",
       "      <td>333.584804</td>\n",
       "      <td>112.080512</td>\n",
       "      <td>6.829329</td>\n",
       "      <td>0.156571</td>\n",
       "      <td>37.887947</td>\n",
       "      <td>51.409051</td>\n",
       "    </tr>\n",
       "    <tr>\n",
       "      <th>min</th>\n",
       "      <td>NaN</td>\n",
       "      <td>NaN</td>\n",
       "      <td>1.000000</td>\n",
       "      <td>0.000000</td>\n",
       "      <td>NaN</td>\n",
       "      <td>NaN</td>\n",
       "      <td>0.000000</td>\n",
       "      <td>NaN</td>\n",
       "      <td>NaN</td>\n",
       "      <td>NaN</td>\n",
       "      <td>...</td>\n",
       "      <td>0.000000</td>\n",
       "      <td>0.000000</td>\n",
       "      <td>0.059484</td>\n",
       "      <td>0.000000</td>\n",
       "      <td>1.000000</td>\n",
       "      <td>0.000000</td>\n",
       "      <td>0.000000</td>\n",
       "      <td>0.000000</td>\n",
       "      <td>0.000000</td>\n",
       "      <td>0.000000</td>\n",
       "    </tr>\n",
       "    <tr>\n",
       "      <th>25%</th>\n",
       "      <td>NaN</td>\n",
       "      <td>NaN</td>\n",
       "      <td>10.000000</td>\n",
       "      <td>0.000000</td>\n",
       "      <td>NaN</td>\n",
       "      <td>NaN</td>\n",
       "      <td>1.000000</td>\n",
       "      <td>NaN</td>\n",
       "      <td>NaN</td>\n",
       "      <td>NaN</td>\n",
       "      <td>...</td>\n",
       "      <td>35.500000</td>\n",
       "      <td>5.574215</td>\n",
       "      <td>0.567248</td>\n",
       "      <td>0.333333</td>\n",
       "      <td>4.000000</td>\n",
       "      <td>0.000000</td>\n",
       "      <td>0.000000</td>\n",
       "      <td>0.000000</td>\n",
       "      <td>0.000000</td>\n",
       "      <td>0.000000</td>\n",
       "    </tr>\n",
       "    <tr>\n",
       "      <th>50%</th>\n",
       "      <td>NaN</td>\n",
       "      <td>NaN</td>\n",
       "      <td>10.000000</td>\n",
       "      <td>5.000000</td>\n",
       "      <td>NaN</td>\n",
       "      <td>NaN</td>\n",
       "      <td>5.000000</td>\n",
       "      <td>NaN</td>\n",
       "      <td>NaN</td>\n",
       "      <td>NaN</td>\n",
       "      <td>...</td>\n",
       "      <td>50.000000</td>\n",
       "      <td>7.933333</td>\n",
       "      <td>0.615365</td>\n",
       "      <td>0.454545</td>\n",
       "      <td>13.000000</td>\n",
       "      <td>2.000000</td>\n",
       "      <td>0.090909</td>\n",
       "      <td>0.040276</td>\n",
       "      <td>0.000000</td>\n",
       "      <td>0.000000</td>\n",
       "    </tr>\n",
       "    <tr>\n",
       "      <th>75%</th>\n",
       "      <td>NaN</td>\n",
       "      <td>NaN</td>\n",
       "      <td>10.000000</td>\n",
       "      <td>35.000000</td>\n",
       "      <td>NaN</td>\n",
       "      <td>NaN</td>\n",
       "      <td>38.000000</td>\n",
       "      <td>NaN</td>\n",
       "      <td>NaN</td>\n",
       "      <td>NaN</td>\n",
       "      <td>...</td>\n",
       "      <td>67.234163</td>\n",
       "      <td>10.537179</td>\n",
       "      <td>0.669459</td>\n",
       "      <td>0.586207</td>\n",
       "      <td>61.000000</td>\n",
       "      <td>12.000000</td>\n",
       "      <td>0.628910</td>\n",
       "      <td>0.147194</td>\n",
       "      <td>2.000000</td>\n",
       "      <td>2.000000</td>\n",
       "    </tr>\n",
       "    <tr>\n",
       "      <th>max</th>\n",
       "      <td>NaN</td>\n",
       "      <td>NaN</td>\n",
       "      <td>29.000000</td>\n",
       "      <td>303077.000000</td>\n",
       "      <td>NaN</td>\n",
       "      <td>NaN</td>\n",
       "      <td>640698.000000</td>\n",
       "      <td>NaN</td>\n",
       "      <td>NaN</td>\n",
       "      <td>NaN</td>\n",
       "      <td>...</td>\n",
       "      <td>2472.000000</td>\n",
       "      <td>437.000000</td>\n",
       "      <td>0.968425</td>\n",
       "      <td>1.000000</td>\n",
       "      <td>3702.000000</td>\n",
       "      <td>3157.000000</td>\n",
       "      <td>546.000000</td>\n",
       "      <td>1.000000</td>\n",
       "      <td>693.000000</td>\n",
       "      <td>981.000000</td>\n",
       "    </tr>\n",
       "  </tbody>\n",
       "</table>\n",
       "<p>11 rows × 30 columns</p>\n",
       "</div>"
      ],
      "text/plain": [
       "                                                    title caption  \\\n",
       "count                                               19124   19124   \n",
       "unique                                              18029       2   \n",
       "top     Алексей Кортнев и Валдис Пельш в проекте «Две ...   False   \n",
       "freq                                                   11   18877   \n",
       "mean                                                  NaN     NaN   \n",
       "std                                                   NaN     NaN   \n",
       "min                                                   NaN     NaN   \n",
       "25%                                                   NaN     NaN   \n",
       "50%                                                   NaN     NaN   \n",
       "75%                                                   NaN     NaN   \n",
       "max                                                   NaN     NaN   \n",
       "\n",
       "          categoryId   commentCount definition description   dislikeCount  \\\n",
       "count   19124.000000   18914.000000      19124       18339   18850.000000   \n",
       "unique           NaN            NaN          2       14972            NaN   \n",
       "top              NaN            NaN         hd                        NaN   \n",
       "freq             NaN            NaN      14176         447            NaN   \n",
       "mean       10.984679     394.026065        NaN         NaN     745.344297   \n",
       "std         3.575677    4200.463284        NaN         NaN    9339.777800   \n",
       "min         1.000000       0.000000        NaN         NaN       0.000000   \n",
       "25%        10.000000       0.000000        NaN         NaN       1.000000   \n",
       "50%        10.000000       5.000000        NaN         NaN       5.000000   \n",
       "75%        10.000000      35.000000        NaN         NaN      38.000000   \n",
       "max        29.000000  303077.000000        NaN         NaN  640698.000000   \n",
       "\n",
       "       duration  license licensedContent  ...  comment_mean_len_symbol  \\\n",
       "count     19124    19124           19124  ...             12314.000000   \n",
       "unique     1594        2               2  ...                      NaN   \n",
       "top     PT3M37S  youtube            True  ...                      NaN   \n",
       "freq        153    19075           15509  ...                      NaN   \n",
       "mean        NaN      NaN             NaN  ...                59.881883   \n",
       "std         NaN      NaN             NaN  ...                69.148601   \n",
       "min         NaN      NaN             NaN  ...                 0.000000   \n",
       "25%         NaN      NaN             NaN  ...                35.500000   \n",
       "50%         NaN      NaN             NaN  ...                50.000000   \n",
       "75%         NaN      NaN             NaN  ...                67.234163   \n",
       "max         NaN      NaN             NaN  ...              2472.000000   \n",
       "\n",
       "       comment_mean_len_word comment_negative_mean_prob  \\\n",
       "count           12314.000000               12314.000000   \n",
       "unique                   NaN                        NaN   \n",
       "top                      NaN                        NaN   \n",
       "freq                     NaN                        NaN   \n",
       "mean                9.412884                   0.619141   \n",
       "std                11.325384                   0.098641   \n",
       "min                 0.000000                   0.059484   \n",
       "25%                 5.574215                   0.567248   \n",
       "50%                 7.933333                   0.615365   \n",
       "75%                10.537179                   0.669459   \n",
       "max               437.000000                   0.968425   \n",
       "\n",
       "       comment_negative_share commentators_uniq comments_emoji_max  \\\n",
       "count            12314.000000      12314.000000       12314.000000   \n",
       "unique                    NaN               NaN                NaN   \n",
       "top                       NaN               NaN                NaN   \n",
       "freq                      NaN               NaN                NaN   \n",
       "mean                 0.462442        131.594608          27.230794   \n",
       "std                  0.253029        333.584804         112.080512   \n",
       "min                  0.000000          1.000000           0.000000   \n",
       "25%                  0.333333          4.000000           0.000000   \n",
       "50%                  0.454545         13.000000           2.000000   \n",
       "75%                  0.586207         61.000000          12.000000   \n",
       "max                  1.000000       3702.000000        3157.000000   \n",
       "\n",
       "       comments_emoji_mean  comments_emoji_share  comments_obscene_cnt  \\\n",
       "count         12314.000000          12314.000000          12314.000000   \n",
       "unique                 NaN                   NaN                   NaN   \n",
       "top                    NaN                   NaN                   NaN   \n",
       "freq                   NaN                   NaN                   NaN   \n",
       "mean              0.794017              0.101482              8.952899   \n",
       "std               6.829329              0.156571             37.887947   \n",
       "min               0.000000              0.000000              0.000000   \n",
       "25%               0.000000              0.000000              0.000000   \n",
       "50%               0.090909              0.040276              0.000000   \n",
       "75%               0.628910              0.147194              2.000000   \n",
       "max             546.000000              1.000000            693.000000   \n",
       "\n",
       "        words_obscene_cnt  \n",
       "count        12314.000000  \n",
       "unique                NaN  \n",
       "top                   NaN  \n",
       "freq                  NaN  \n",
       "mean            11.293325  \n",
       "std             51.409051  \n",
       "min              0.000000  \n",
       "25%              0.000000  \n",
       "50%              0.000000  \n",
       "75%              2.000000  \n",
       "max            981.000000  \n",
       "\n",
       "[11 rows x 30 columns]"
      ]
     },
     "execution_count": 26,
     "metadata": {},
     "output_type": "execute_result"
    }
   ],
   "source": [
    "# посчитаем для всех колонок\n",
    "df.describe(include='all')"
   ]
  },
  {
   "cell_type": "code",
   "execution_count": 27,
   "metadata": {},
   "outputs": [
    {
     "data": {
      "text/html": [
       "<div>\n",
       "<style scoped>\n",
       "    .dataframe tbody tr th:only-of-type {\n",
       "        vertical-align: middle;\n",
       "    }\n",
       "\n",
       "    .dataframe tbody tr th {\n",
       "        vertical-align: top;\n",
       "    }\n",
       "\n",
       "    .dataframe thead th {\n",
       "        text-align: right;\n",
       "    }\n",
       "</style>\n",
       "<table border=\"1\" class=\"dataframe\">\n",
       "  <thead>\n",
       "    <tr style=\"text-align: right;\">\n",
       "      <th></th>\n",
       "      <th>categoryId</th>\n",
       "      <th>commentCount</th>\n",
       "      <th>dislikeCount</th>\n",
       "      <th>likeCount</th>\n",
       "      <th>viewCount</th>\n",
       "      <th>comment_max_len_symbol</th>\n",
       "      <th>comment_max_len_word</th>\n",
       "      <th>comment_mean_len_symbol</th>\n",
       "      <th>comment_mean_len_word</th>\n",
       "      <th>comment_negative_mean_prob</th>\n",
       "      <th>comment_negative_share</th>\n",
       "      <th>commentators_uniq</th>\n",
       "      <th>comments_emoji_max</th>\n",
       "      <th>comments_emoji_mean</th>\n",
       "      <th>comments_emoji_share</th>\n",
       "      <th>comments_obscene_cnt</th>\n",
       "      <th>words_obscene_cnt</th>\n",
       "    </tr>\n",
       "  </thead>\n",
       "  <tbody>\n",
       "    <tr>\n",
       "      <th>count</th>\n",
       "      <td>19124.000000</td>\n",
       "      <td>18914.000000</td>\n",
       "      <td>18850.000000</td>\n",
       "      <td>1.885000e+04</td>\n",
       "      <td>1.912300e+04</td>\n",
       "      <td>12314.000000</td>\n",
       "      <td>12314.000000</td>\n",
       "      <td>12314.000000</td>\n",
       "      <td>12314.000000</td>\n",
       "      <td>12314.000000</td>\n",
       "      <td>12314.000000</td>\n",
       "      <td>12314.000000</td>\n",
       "      <td>12314.000000</td>\n",
       "      <td>12314.000000</td>\n",
       "      <td>12314.000000</td>\n",
       "      <td>12314.000000</td>\n",
       "      <td>12314.000000</td>\n",
       "    </tr>\n",
       "    <tr>\n",
       "      <th>mean</th>\n",
       "      <td>10.984679</td>\n",
       "      <td>394.026065</td>\n",
       "      <td>745.344297</td>\n",
       "      <td>5.735014e+03</td>\n",
       "      <td>8.436486e+05</td>\n",
       "      <td>487.842375</td>\n",
       "      <td>78.225028</td>\n",
       "      <td>59.881883</td>\n",
       "      <td>9.412884</td>\n",
       "      <td>0.619141</td>\n",
       "      <td>0.462442</td>\n",
       "      <td>131.594608</td>\n",
       "      <td>27.230794</td>\n",
       "      <td>0.794017</td>\n",
       "      <td>0.101482</td>\n",
       "      <td>8.952899</td>\n",
       "      <td>11.293325</td>\n",
       "    </tr>\n",
       "    <tr>\n",
       "      <th>std</th>\n",
       "      <td>3.575677</td>\n",
       "      <td>4200.463284</td>\n",
       "      <td>9339.777800</td>\n",
       "      <td>3.890303e+04</td>\n",
       "      <td>6.382348e+06</td>\n",
       "      <td>1258.715099</td>\n",
       "      <td>207.250529</td>\n",
       "      <td>69.148601</td>\n",
       "      <td>11.325384</td>\n",
       "      <td>0.098641</td>\n",
       "      <td>0.253029</td>\n",
       "      <td>333.584804</td>\n",
       "      <td>112.080512</td>\n",
       "      <td>6.829329</td>\n",
       "      <td>0.156571</td>\n",
       "      <td>37.887947</td>\n",
       "      <td>51.409051</td>\n",
       "    </tr>\n",
       "    <tr>\n",
       "      <th>min</th>\n",
       "      <td>1.000000</td>\n",
       "      <td>0.000000</td>\n",
       "      <td>0.000000</td>\n",
       "      <td>0.000000e+00</td>\n",
       "      <td>0.000000e+00</td>\n",
       "      <td>0.000000</td>\n",
       "      <td>0.000000</td>\n",
       "      <td>0.000000</td>\n",
       "      <td>0.000000</td>\n",
       "      <td>0.059484</td>\n",
       "      <td>0.000000</td>\n",
       "      <td>1.000000</td>\n",
       "      <td>0.000000</td>\n",
       "      <td>0.000000</td>\n",
       "      <td>0.000000</td>\n",
       "      <td>0.000000</td>\n",
       "      <td>0.000000</td>\n",
       "    </tr>\n",
       "    <tr>\n",
       "      <th>25%</th>\n",
       "      <td>10.000000</td>\n",
       "      <td>0.000000</td>\n",
       "      <td>1.000000</td>\n",
       "      <td>1.800000e+01</td>\n",
       "      <td>1.915000e+03</td>\n",
       "      <td>75.000000</td>\n",
       "      <td>12.000000</td>\n",
       "      <td>35.500000</td>\n",
       "      <td>5.574215</td>\n",
       "      <td>0.567248</td>\n",
       "      <td>0.333333</td>\n",
       "      <td>4.000000</td>\n",
       "      <td>0.000000</td>\n",
       "      <td>0.000000</td>\n",
       "      <td>0.000000</td>\n",
       "      <td>0.000000</td>\n",
       "      <td>0.000000</td>\n",
       "    </tr>\n",
       "    <tr>\n",
       "      <th>50%</th>\n",
       "      <td>10.000000</td>\n",
       "      <td>5.000000</td>\n",
       "      <td>5.000000</td>\n",
       "      <td>1.000000e+02</td>\n",
       "      <td>1.135300e+04</td>\n",
       "      <td>183.000000</td>\n",
       "      <td>29.000000</td>\n",
       "      <td>50.000000</td>\n",
       "      <td>7.933333</td>\n",
       "      <td>0.615365</td>\n",
       "      <td>0.454545</td>\n",
       "      <td>13.000000</td>\n",
       "      <td>2.000000</td>\n",
       "      <td>0.090909</td>\n",
       "      <td>0.040276</td>\n",
       "      <td>0.000000</td>\n",
       "      <td>0.000000</td>\n",
       "    </tr>\n",
       "    <tr>\n",
       "      <th>75%</th>\n",
       "      <td>10.000000</td>\n",
       "      <td>35.000000</td>\n",
       "      <td>38.000000</td>\n",
       "      <td>6.367500e+02</td>\n",
       "      <td>8.180900e+04</td>\n",
       "      <td>491.000000</td>\n",
       "      <td>77.000000</td>\n",
       "      <td>67.234163</td>\n",
       "      <td>10.537179</td>\n",
       "      <td>0.669459</td>\n",
       "      <td>0.586207</td>\n",
       "      <td>61.000000</td>\n",
       "      <td>12.000000</td>\n",
       "      <td>0.628910</td>\n",
       "      <td>0.147194</td>\n",
       "      <td>2.000000</td>\n",
       "      <td>2.000000</td>\n",
       "    </tr>\n",
       "    <tr>\n",
       "      <th>max</th>\n",
       "      <td>29.000000</td>\n",
       "      <td>303077.000000</td>\n",
       "      <td>640698.000000</td>\n",
       "      <td>1.686810e+06</td>\n",
       "      <td>2.720477e+08</td>\n",
       "      <td>95844.000000</td>\n",
       "      <td>15974.000000</td>\n",
       "      <td>2472.000000</td>\n",
       "      <td>437.000000</td>\n",
       "      <td>0.968425</td>\n",
       "      <td>1.000000</td>\n",
       "      <td>3702.000000</td>\n",
       "      <td>3157.000000</td>\n",
       "      <td>546.000000</td>\n",
       "      <td>1.000000</td>\n",
       "      <td>693.000000</td>\n",
       "      <td>981.000000</td>\n",
       "    </tr>\n",
       "  </tbody>\n",
       "</table>\n",
       "</div>"
      ],
      "text/plain": [
       "         categoryId   commentCount   dislikeCount     likeCount     viewCount  \\\n",
       "count  19124.000000   18914.000000   18850.000000  1.885000e+04  1.912300e+04   \n",
       "mean      10.984679     394.026065     745.344297  5.735014e+03  8.436486e+05   \n",
       "std        3.575677    4200.463284    9339.777800  3.890303e+04  6.382348e+06   \n",
       "min        1.000000       0.000000       0.000000  0.000000e+00  0.000000e+00   \n",
       "25%       10.000000       0.000000       1.000000  1.800000e+01  1.915000e+03   \n",
       "50%       10.000000       5.000000       5.000000  1.000000e+02  1.135300e+04   \n",
       "75%       10.000000      35.000000      38.000000  6.367500e+02  8.180900e+04   \n",
       "max       29.000000  303077.000000  640698.000000  1.686810e+06  2.720477e+08   \n",
       "\n",
       "       comment_max_len_symbol  comment_max_len_word  comment_mean_len_symbol  \\\n",
       "count            12314.000000          12314.000000             12314.000000   \n",
       "mean               487.842375             78.225028                59.881883   \n",
       "std               1258.715099            207.250529                69.148601   \n",
       "min                  0.000000              0.000000                 0.000000   \n",
       "25%                 75.000000             12.000000                35.500000   \n",
       "50%                183.000000             29.000000                50.000000   \n",
       "75%                491.000000             77.000000                67.234163   \n",
       "max              95844.000000          15974.000000              2472.000000   \n",
       "\n",
       "       comment_mean_len_word  comment_negative_mean_prob  \\\n",
       "count           12314.000000                12314.000000   \n",
       "mean                9.412884                    0.619141   \n",
       "std                11.325384                    0.098641   \n",
       "min                 0.000000                    0.059484   \n",
       "25%                 5.574215                    0.567248   \n",
       "50%                 7.933333                    0.615365   \n",
       "75%                10.537179                    0.669459   \n",
       "max               437.000000                    0.968425   \n",
       "\n",
       "       comment_negative_share  commentators_uniq  comments_emoji_max  \\\n",
       "count            12314.000000       12314.000000        12314.000000   \n",
       "mean                 0.462442         131.594608           27.230794   \n",
       "std                  0.253029         333.584804          112.080512   \n",
       "min                  0.000000           1.000000            0.000000   \n",
       "25%                  0.333333           4.000000            0.000000   \n",
       "50%                  0.454545          13.000000            2.000000   \n",
       "75%                  0.586207          61.000000           12.000000   \n",
       "max                  1.000000        3702.000000         3157.000000   \n",
       "\n",
       "       comments_emoji_mean  comments_emoji_share  comments_obscene_cnt  \\\n",
       "count         12314.000000          12314.000000          12314.000000   \n",
       "mean              0.794017              0.101482              8.952899   \n",
       "std               6.829329              0.156571             37.887947   \n",
       "min               0.000000              0.000000              0.000000   \n",
       "25%               0.000000              0.000000              0.000000   \n",
       "50%               0.090909              0.040276              0.000000   \n",
       "75%               0.628910              0.147194              2.000000   \n",
       "max             546.000000              1.000000            693.000000   \n",
       "\n",
       "       words_obscene_cnt  \n",
       "count       12314.000000  \n",
       "mean           11.293325  \n",
       "std            51.409051  \n",
       "min             0.000000  \n",
       "25%             0.000000  \n",
       "50%             0.000000  \n",
       "75%             2.000000  \n",
       "max           981.000000  "
      ]
     },
     "execution_count": 27,
     "metadata": {},
     "output_type": "execute_result"
    }
   ],
   "source": [
    "# для числовых\n",
    "df.describe()"
   ]
  },
  {
   "cell_type": "code",
   "execution_count": 28,
   "metadata": {},
   "outputs": [
    {
     "data": {
      "text/html": [
       "<div>\n",
       "<style scoped>\n",
       "    .dataframe tbody tr th:only-of-type {\n",
       "        vertical-align: middle;\n",
       "    }\n",
       "\n",
       "    .dataframe tbody tr th {\n",
       "        vertical-align: top;\n",
       "    }\n",
       "\n",
       "    .dataframe thead th {\n",
       "        text-align: right;\n",
       "    }\n",
       "</style>\n",
       "<table border=\"1\" class=\"dataframe\">\n",
       "  <thead>\n",
       "    <tr style=\"text-align: right;\">\n",
       "      <th></th>\n",
       "      <th>title</th>\n",
       "      <th>definition</th>\n",
       "      <th>description</th>\n",
       "      <th>duration</th>\n",
       "      <th>license</th>\n",
       "      <th>music_style</th>\n",
       "      <th>performer</th>\n",
       "      <th>publishedAt</th>\n",
       "      <th>tags</th>\n",
       "      <th>video_id</th>\n",
       "    </tr>\n",
       "  </thead>\n",
       "  <tbody>\n",
       "    <tr>\n",
       "      <th>count</th>\n",
       "      <td>19124</td>\n",
       "      <td>19124</td>\n",
       "      <td>18339</td>\n",
       "      <td>19124</td>\n",
       "      <td>19124</td>\n",
       "      <td>19124</td>\n",
       "      <td>19124</td>\n",
       "      <td>19124</td>\n",
       "      <td>17806</td>\n",
       "      <td>19124</td>\n",
       "    </tr>\n",
       "    <tr>\n",
       "      <th>unique</th>\n",
       "      <td>18029</td>\n",
       "      <td>2</td>\n",
       "      <td>14972</td>\n",
       "      <td>1594</td>\n",
       "      <td>2</td>\n",
       "      <td>7</td>\n",
       "      <td>111</td>\n",
       "      <td>17158</td>\n",
       "      <td>14661</td>\n",
       "      <td>19124</td>\n",
       "    </tr>\n",
       "    <tr>\n",
       "      <th>top</th>\n",
       "      <td>Алексей Кортнев и Валдис Пельш в проекте «Две ...</td>\n",
       "      <td>hd</td>\n",
       "      <td></td>\n",
       "      <td>PT3M37S</td>\n",
       "      <td>youtube</td>\n",
       "      <td>rock</td>\n",
       "      <td>николаев</td>\n",
       "      <td>2018-03-26T12:48:20.000Z</td>\n",
       "      <td>['Григорий', 'Натали', 'Водопад', 'Рюмка', 'во...</td>\n",
       "      <td>5gSMah-7zzQ</td>\n",
       "    </tr>\n",
       "    <tr>\n",
       "      <th>freq</th>\n",
       "      <td>11</td>\n",
       "      <td>14176</td>\n",
       "      <td>447</td>\n",
       "      <td>153</td>\n",
       "      <td>19075</td>\n",
       "      <td>5888</td>\n",
       "      <td>566</td>\n",
       "      <td>24</td>\n",
       "      <td>290</td>\n",
       "      <td>1</td>\n",
       "    </tr>\n",
       "  </tbody>\n",
       "</table>\n",
       "</div>"
      ],
      "text/plain": [
       "                                                    title definition  \\\n",
       "count                                               19124      19124   \n",
       "unique                                              18029          2   \n",
       "top     Алексей Кортнев и Валдис Пельш в проекте «Две ...         hd   \n",
       "freq                                                   11      14176   \n",
       "\n",
       "       description duration  license music_style performer  \\\n",
       "count        18339    19124    19124       19124     19124   \n",
       "unique       14972     1594        2           7       111   \n",
       "top                 PT3M37S  youtube        rock  николаев   \n",
       "freq           447      153    19075        5888       566   \n",
       "\n",
       "                     publishedAt  \\\n",
       "count                      19124   \n",
       "unique                     17158   \n",
       "top     2018-03-26T12:48:20.000Z   \n",
       "freq                          24   \n",
       "\n",
       "                                                     tags     video_id  \n",
       "count                                               17806        19124  \n",
       "unique                                              14661        19124  \n",
       "top     ['Григорий', 'Натали', 'Водопад', 'Рюмка', 'во...  5gSMah-7zzQ  \n",
       "freq                                                  290            1  "
      ]
     },
     "execution_count": 28,
     "metadata": {},
     "output_type": "execute_result"
    }
   ],
   "source": [
    "# для категориальных\n",
    "df.describe(include='object')"
   ]
  },
  {
   "cell_type": "markdown",
   "metadata": {},
   "source": [
    "- `count` - число наблюдений\n",
    "- `unique` - число уникальных значений\n",
    "- `top` - мода\n",
    "- `freq` - частота, с которой встречается мода"
   ]
  },
  {
   "cell_type": "markdown",
   "metadata": {},
   "source": [
    "**Группировка**"
   ]
  },
  {
   "cell_type": "code",
   "execution_count": 29,
   "metadata": {},
   "outputs": [
    {
     "data": {
      "text/plain": [
       "array(['popsa', 'rock', 'classic', 'indi', 'estrada', 'shanson', 'rap'],\n",
       "      dtype=object)"
      ]
     },
     "execution_count": 29,
     "metadata": {},
     "output_type": "execute_result"
    }
   ],
   "source": [
    "df['music_style'].unique()"
   ]
  },
  {
   "cell_type": "code",
   "execution_count": 30,
   "metadata": {},
   "outputs": [
    {
     "data": {
      "text/html": [
       "<div>\n",
       "<style scoped>\n",
       "    .dataframe tbody tr th:only-of-type {\n",
       "        vertical-align: middle;\n",
       "    }\n",
       "\n",
       "    .dataframe tbody tr th {\n",
       "        vertical-align: top;\n",
       "    }\n",
       "\n",
       "    .dataframe thead tr th {\n",
       "        text-align: left;\n",
       "    }\n",
       "\n",
       "    .dataframe thead tr:last-of-type th {\n",
       "        text-align: right;\n",
       "    }\n",
       "</style>\n",
       "<table border=\"1\" class=\"dataframe\">\n",
       "  <thead>\n",
       "    <tr>\n",
       "      <th></th>\n",
       "      <th colspan=\"2\" halign=\"left\">dislikeCount</th>\n",
       "      <th colspan=\"2\" halign=\"left\">likeCount</th>\n",
       "    </tr>\n",
       "    <tr>\n",
       "      <th></th>\n",
       "      <th>mean</th>\n",
       "      <th>median</th>\n",
       "      <th>mean</th>\n",
       "      <th>median</th>\n",
       "    </tr>\n",
       "    <tr>\n",
       "      <th>music_style</th>\n",
       "      <th></th>\n",
       "      <th></th>\n",
       "      <th></th>\n",
       "      <th></th>\n",
       "    </tr>\n",
       "  </thead>\n",
       "  <tbody>\n",
       "    <tr>\n",
       "      <th>classic</th>\n",
       "      <td>1236.228956</td>\n",
       "      <td>18.0</td>\n",
       "      <td>28663.333333</td>\n",
       "      <td>536.0</td>\n",
       "    </tr>\n",
       "    <tr>\n",
       "      <th>estrada</th>\n",
       "      <td>173.565933</td>\n",
       "      <td>3.0</td>\n",
       "      <td>938.686662</td>\n",
       "      <td>47.0</td>\n",
       "    </tr>\n",
       "    <tr>\n",
       "      <th>indi</th>\n",
       "      <td>220.419307</td>\n",
       "      <td>2.0</td>\n",
       "      <td>2471.842299</td>\n",
       "      <td>37.0</td>\n",
       "    </tr>\n",
       "    <tr>\n",
       "      <th>popsa</th>\n",
       "      <td>790.161513</td>\n",
       "      <td>15.0</td>\n",
       "      <td>7492.273792</td>\n",
       "      <td>323.0</td>\n",
       "    </tr>\n",
       "    <tr>\n",
       "      <th>rap</th>\n",
       "      <td>4099.575383</td>\n",
       "      <td>154.0</td>\n",
       "      <td>26802.456253</td>\n",
       "      <td>2656.0</td>\n",
       "    </tr>\n",
       "    <tr>\n",
       "      <th>rock</th>\n",
       "      <td>287.698201</td>\n",
       "      <td>3.0</td>\n",
       "      <td>2132.887061</td>\n",
       "      <td>80.0</td>\n",
       "    </tr>\n",
       "    <tr>\n",
       "      <th>shanson</th>\n",
       "      <td>45.488327</td>\n",
       "      <td>1.0</td>\n",
       "      <td>440.390564</td>\n",
       "      <td>17.0</td>\n",
       "    </tr>\n",
       "  </tbody>\n",
       "</table>\n",
       "</div>"
      ],
      "text/plain": [
       "            dislikeCount            likeCount        \n",
       "                    mean median          mean  median\n",
       "music_style                                          \n",
       "classic      1236.228956   18.0  28663.333333   536.0\n",
       "estrada       173.565933    3.0    938.686662    47.0\n",
       "indi          220.419307    2.0   2471.842299    37.0\n",
       "popsa         790.161513   15.0   7492.273792   323.0\n",
       "rap          4099.575383  154.0  26802.456253  2656.0\n",
       "rock          287.698201    3.0   2132.887061    80.0\n",
       "shanson        45.488327    1.0    440.390564    17.0"
      ]
     },
     "execution_count": 30,
     "metadata": {},
     "output_type": "execute_result"
    }
   ],
   "source": [
    "df.groupby('music_style')[['dislikeCount', 'likeCount']].agg(['mean', 'median'])"
   ]
  },
  {
   "cell_type": "code",
   "execution_count": 31,
   "metadata": {},
   "outputs": [
    {
     "data": {
      "text/html": [
       "<div>\n",
       "<style scoped>\n",
       "    .dataframe tbody tr th:only-of-type {\n",
       "        vertical-align: middle;\n",
       "    }\n",
       "\n",
       "    .dataframe tbody tr th {\n",
       "        vertical-align: top;\n",
       "    }\n",
       "\n",
       "    .dataframe thead th {\n",
       "        text-align: right;\n",
       "    }\n",
       "</style>\n",
       "<table border=\"1\" class=\"dataframe\">\n",
       "  <thead>\n",
       "    <tr style=\"text-align: right;\">\n",
       "      <th></th>\n",
       "      <th>music_style</th>\n",
       "      <th>dislikeCount_mean</th>\n",
       "      <th>likeCount_mean</th>\n",
       "    </tr>\n",
       "  </thead>\n",
       "  <tbody>\n",
       "    <tr>\n",
       "      <th>0</th>\n",
       "      <td>classic</td>\n",
       "      <td>1236.228956</td>\n",
       "      <td>28663.333333</td>\n",
       "    </tr>\n",
       "    <tr>\n",
       "      <th>1</th>\n",
       "      <td>estrada</td>\n",
       "      <td>173.565933</td>\n",
       "      <td>938.686662</td>\n",
       "    </tr>\n",
       "    <tr>\n",
       "      <th>2</th>\n",
       "      <td>indi</td>\n",
       "      <td>220.419307</td>\n",
       "      <td>2471.842299</td>\n",
       "    </tr>\n",
       "    <tr>\n",
       "      <th>3</th>\n",
       "      <td>popsa</td>\n",
       "      <td>790.161513</td>\n",
       "      <td>7492.273792</td>\n",
       "    </tr>\n",
       "    <tr>\n",
       "      <th>4</th>\n",
       "      <td>rap</td>\n",
       "      <td>4099.575383</td>\n",
       "      <td>26802.456253</td>\n",
       "    </tr>\n",
       "    <tr>\n",
       "      <th>5</th>\n",
       "      <td>rock</td>\n",
       "      <td>287.698201</td>\n",
       "      <td>2132.887061</td>\n",
       "    </tr>\n",
       "    <tr>\n",
       "      <th>6</th>\n",
       "      <td>shanson</td>\n",
       "      <td>45.488327</td>\n",
       "      <td>440.390564</td>\n",
       "    </tr>\n",
       "  </tbody>\n",
       "</table>\n",
       "</div>"
      ],
      "text/plain": [
       "  music_style  dislikeCount_mean  likeCount_mean\n",
       "0     classic        1236.228956    28663.333333\n",
       "1     estrada         173.565933      938.686662\n",
       "2        indi         220.419307     2471.842299\n",
       "3       popsa         790.161513     7492.273792\n",
       "4         rap        4099.575383    26802.456253\n",
       "5        rock         287.698201     2132.887061\n",
       "6     shanson          45.488327      440.390564"
      ]
     },
     "execution_count": 31,
     "metadata": {},
     "output_type": "execute_result"
    }
   ],
   "source": [
    "df.groupby('music_style', as_index=False).agg(dislikeCount_mean=('dislikeCount', 'mean'),\n",
    "                                                likeCount_mean=('likeCount', 'mean'))"
   ]
  },
  {
   "cell_type": "markdown",
   "metadata": {},
   "source": [
    "#### Apply\n",
    "Хотим узнать длину названий видео - это можно сделать через apply, которая применяется к каждой ячейке колонки"
   ]
  },
  {
   "cell_type": "code",
   "execution_count": 32,
   "metadata": {},
   "outputs": [
    {
     "data": {
      "text/plain": [
       "0        25\n",
       "1        41\n",
       "2        75\n",
       "3        38\n",
       "4        30\n",
       "         ..\n",
       "19119    35\n",
       "19120    88\n",
       "19121    15\n",
       "19122    65\n",
       "19123    63\n",
       "Name: title, Length: 19124, dtype: int64"
      ]
     },
     "execution_count": 32,
     "metadata": {},
     "output_type": "execute_result"
    }
   ],
   "source": [
    "df['title'].apply(len)"
   ]
  },
  {
   "cell_type": "code",
   "execution_count": 33,
   "metadata": {},
   "outputs": [
    {
     "data": {
      "text/plain": [
       "35.293871574984315"
      ]
     },
     "execution_count": 33,
     "metadata": {},
     "output_type": "execute_result"
    }
   ],
   "source": [
    "# средняя длина названия видео\n",
    "df['title'].apply(len).mean()"
   ]
  },
  {
   "cell_type": "code",
   "execution_count": 34,
   "metadata": {},
   "outputs": [],
   "source": [
    "# создадим функцию, которая считает длину\n",
    "def count_len(x):\n",
    "    return len(x)"
   ]
  },
  {
   "cell_type": "code",
   "execution_count": 35,
   "metadata": {},
   "outputs": [
    {
     "data": {
      "text/plain": [
       "0    25\n",
       "1    41\n",
       "2    75\n",
       "Name: len_title, dtype: int64"
      ]
     },
     "execution_count": 35,
     "metadata": {},
     "output_type": "execute_result"
    }
   ],
   "source": [
    "df['len_title'] = df['title'].apply(count_len)\n",
    "df['len_title'].head(3)"
   ]
  },
  {
   "cell_type": "code",
   "execution_count": 36,
   "metadata": {},
   "outputs": [
    {
     "data": {
      "text/plain": [
       "0    25\n",
       "1    41\n",
       "2    75\n",
       "Name: len_title_2, dtype: int64"
      ]
     },
     "execution_count": 36,
     "metadata": {},
     "output_type": "execute_result"
    }
   ],
   "source": [
    "# второй способ черех lambda\n",
    "df['len_title_2'] = df['title'].apply(lambda x: count_len(x))\n",
    "df['len_title_2'].head(3)"
   ]
  },
  {
   "cell_type": "markdown",
   "metadata": {},
   "source": [
    "## Гистограммы"
   ]
  },
  {
   "cell_type": "code",
   "execution_count": 42,
   "metadata": {},
   "outputs": [
    {
     "data": {
      "image/png": "[encoded data removed]",
      "text/plain": [
       "<Figure size 1200x700 with 1 Axes>"
      ]
     },
     "metadata": {},
     "output_type": "display_data"
    }
   ],
   "source": [
    "plt.figure(figsize=(12, 7))\n",
    "plt.hist(df['comment_mean_len_symbol'], bins=100);"
   ]
  },
  {
   "cell_type": "code",
   "execution_count": 48,
   "metadata": {},
   "outputs": [
    {
     "data": {
      "text/plain": [
       "Text(0.5, 1.0, 'Распределение средней длины комментариев')"
      ]
     },
     "execution_count": 48,
     "metadata": {},
     "output_type": "execute_result"
    },
    {
     "data": {
      "image/png": "[encoded data removed]",
      "text/plain": [
       "<Figure size 1200x700 with 1 Axes>"
      ]
     },
     "metadata": {},
     "output_type": "display_data"
    }
   ],
   "source": [
    "# сгладим через ядерную оценку плотности kde\n",
    "plt.figure(figsize=(12, 7))\n",
    "\n",
    "plt.hist(df['comment_mean_len_symbol'], bins=100, density=True)\n",
    "df['comment_mean_len_symbol'].plot(kind='kde', lw=2)\n",
    "\n",
    "plt.xlim(0) # зададим лимит оси X\n",
    "plt.title('Распределение средней длины комментариев')"
   ]
  },
  {
   "cell_type": "code",
   "execution_count": 50,
   "metadata": {},
   "outputs": [
    {
     "data": {
      "image/png": "[encoded data removed]",
      "text/plain": [
       "<Figure size 1600x900 with 4 Axes>"
      ]
     },
     "metadata": {},
     "output_type": "display_data"
    }
   ],
   "source": [
    "# построим несколько гистограмм\n",
    "columns=['comment_mean_len_symbol', 'dislikeCount', 'likeCount']\n",
    "df[columns].hist(bins=50, figsize=(16, 9));"
   ]
  },
  {
   "cell_type": "markdown",
   "metadata": {},
   "source": [
    "Рассмотрим логарифмированные значения сначала по Y для детального рассмотрения хвоста, а затем логарифм по X для сглаживания хвостов. Чтобы не возникало ошибок, когда логарифмируем 0, надо к каждому значению прибавить константу.\n",
    "\n",
    "Логарифмирование применяют часто в ML, чтобы алгоритм не переобучался на выбросах. Так же часто при поиске зависимостей, предсказаний данных реальная зависимость часто имеет вид не суммы факторов, а произведения или где-то степенной зависимости, что подразумевает логарфмирование."
   ]
  },
  {
   "cell_type": "code",
   "execution_count": 52,
   "metadata": {},
   "outputs": [
    {
     "data": {
      "image/png": "[encoded data removed]",
      "text/plain": [
       "<Figure size 1600x900 with 4 Axes>"
      ]
     },
     "metadata": {},
     "output_type": "display_data"
    }
   ],
   "source": [
    "# по Y\n",
    "columns=['comment_mean_len_symbol', 'dislikeCount', 'likeCount']\n",
    "df[columns].hist(bins=50, figsize=(16, 9), log=True);"
   ]
  },
  {
   "cell_type": "code",
   "execution_count": 55,
   "metadata": {},
   "outputs": [
    {
     "data": {
      "image/png": "[encoded data removed]",
      "text/plain": [
       "<Figure size 1600x900 with 4 Axes>"
      ]
     },
     "metadata": {},
     "output_type": "display_data"
    }
   ],
   "source": [
    "# по X\n",
    "columns=['comment_mean_len_symbol', 'dislikeCount', 'likeCount']\n",
    "df[columns].apply(lambda x: np.log(1 + x)).hist(bins=50, figsize=(16, 9));"
   ]
  },
  {
   "cell_type": "markdown",
   "metadata": {},
   "source": [
    "### Ящик с усами и скрипичный график\n",
    "Скрипичный график – это сочетание диаграммы размаха и графика плотности, развернутых и расположенных по обе стороны для отображения формы распределения данных.\n",
    "\n",
    "Черный ящик внутри скрипки - межквартильный размах"
   ]
  },
  {
   "cell_type": "code",
   "execution_count": 60,
   "metadata": {},
   "outputs": [],
   "source": [
    "# для наглядности прологарифмируем\n",
    "df_log = df[columns].apply(lambda x: (np.log(x+1)))\n",
    "df_log['music_style'] = df['music_style']"
   ]
  },
  {
   "cell_type": "code",
   "execution_count": 63,
   "metadata": {},
   "outputs": [
    {
     "data": {
      "image/png": "[encoded data removed]",
      "text/plain": [
       "<Figure size 1400x700 with 1 Axes>"
      ]
     },
     "metadata": {},
     "output_type": "display_data"
    }
   ],
   "source": [
    "plt.figure(figsize=(14, 7))\n",
    "sns.boxplot(x='music_style', y='likeCount', data=df_log)\n",
    "\n",
    "plt.xlabel('Музыкальный стиль')\n",
    "plt.xlabel('Логарифм числа лайков');"
   ]
  },
  {
   "cell_type": "code",
   "execution_count": 66,
   "metadata": {},
   "outputs": [
    {
     "data": {
      "image/png": "[encoded data removed]",
      "text/plain": [
       "<Figure size 1400x700 with 1 Axes>"
      ]
     },
     "metadata": {},
     "output_type": "display_data"
    }
   ],
   "source": [
    "plt.figure(figsize=(14, 7))\n",
    "sns.violinplot(x='music_style', y='likeCount', data=df_log)\n",
    "\n",
    "plt.xlabel('Музыкальный стиль')\n",
    "plt.xlabel('Логарифм числа лайков');"
   ]
  },
  {
   "cell_type": "code",
   "execution_count": 72,
   "metadata": {},
   "outputs": [
    {
     "data": {
      "text/plain": [
       "array(['2маши', 'лазарев', 'мумий_тролль', 'нюша', 'classical_channel',\n",
       "       'антоха_мс', 'николаев', 'виа_гра', 'король_и_шут', 'валерия',\n",
       "       'кукрыниксы', 'михаил_круг', 'ария', 'ирина_круг', 'барских',\n",
       "       'арбенина', 'воровайки', 'газманов',\n",
       "       'краснознаменная_дивизия_имени_моей_бабушки', 'чичерина', 'ваенга',\n",
       "       'би_2', 'звери', 'ногу_свело', 'киркоров', 'louna',\n",
       "       'несчастный_случай', 'тараканы', 'тимати', 'gazgolder', 'noizemc',\n",
       "       'темникова', 'крид', 'караулова', 'земфира', 'михайлов', 'кока',\n",
       "       'руки_вверх', 'miyagi&эндшпиль', 'план ломоносова', 'шуфутинский',\n",
       "       'ленинград', 'rsac', 'astudio', 'pharaon', 'наив', 'serebro',\n",
       "       'элджей', 'смысловые_галлюцинации', 'cбпч', 'ддт', 'электрофорез',\n",
       "       'женя_любич', 'пасош', 'пугачёва', 'гребенщиков', 'loboda',\n",
       "       'feduk', 'lone', 'oxxxymiron', 'сектор_газа', 'бузова',\n",
       "       'казускома', 'мальбэк', 'буерак', 'pompeya', 'басков', 'леонтьев',\n",
       "       'буйнов', 'retuses', 'летов', 'гражданская_оборона', 'макsим',\n",
       "       'билан', 'лолита', 'агата_кристи', 'sonic_death', 'ёлка',\n",
       "       'градусы', 'лепс', 'гагарина', 'агутин', 'бутырка', 'ротару',\n",
       "       'ic3peak', 'face', 'motorama', 'гш', 'трофимов', 'жека', 'iowa',\n",
       "       'грибы', 'johnyboy', 'кипелов', 'сплин', 'лсп', 'интурист', 'кино',\n",
       "       'алоэ_вера', 'хадн_дадн', 'дюмин', 'наадя', 'рыцарные_рыцари',\n",
       "       'монеточка', 'меладзе', 'порнофильмы', 'гречка', 'мот',\n",
       "       'деревянные киты', 'пошлая_молли', 'хаски'], dtype=object)"
      ]
     },
     "execution_count": 72,
     "metadata": {},
     "output_type": "execute_result"
    }
   ],
   "source": [
    "# найдем всех уникальных исполнителей\n",
    "df['performer'].unique()"
   ]
  },
  {
   "cell_type": "code",
   "execution_count": 73,
   "metadata": {},
   "outputs": [
    {
     "data": {
      "text/plain": [
       "111"
      ]
     },
     "execution_count": 73,
     "metadata": {},
     "output_type": "execute_result"
    }
   ],
   "source": [
    "df['performer'].nunique()"
   ]
  },
  {
   "cell_type": "code",
   "execution_count": 75,
   "metadata": {},
   "outputs": [
    {
     "data": {
      "text/plain": [
       "(111,)"
      ]
     },
     "execution_count": 75,
     "metadata": {},
     "output_type": "execute_result"
    }
   ],
   "source": [
    "df['performer'].unique().shape # или .size"
   ]
  },
  {
   "cell_type": "code",
   "execution_count": 77,
   "metadata": {},
   "outputs": [
    {
     "data": {
      "text/plain": [
       "performer\n",
       "николаев    566\n",
       "валерия     525\n",
       "михайлов    516\n",
       "Name: count, dtype: int64"
      ]
     },
     "execution_count": 77,
     "metadata": {},
     "output_type": "execute_result"
    }
   ],
   "source": [
    "# выведем топ 3 исполнителя по числу клипов\n",
    "df['performer'].value_counts().head(3)"
   ]
  },
  {
   "cell_type": "code",
   "execution_count": 78,
   "metadata": {},
   "outputs": [
    {
     "data": {
      "text/plain": [
       "performer\n",
       "николаев    566\n",
       "валерия     525\n",
       "михайлов    516\n",
       "Name: count, dtype: int64"
      ]
     },
     "execution_count": 78,
     "metadata": {},
     "output_type": "execute_result"
    }
   ],
   "source": [
    "df['performer'].value_counts()[:3]"
   ]
  },
  {
   "cell_type": "code",
   "execution_count": 79,
   "metadata": {},
   "outputs": [
    {
     "data": {
      "text/plain": [
       "array([566, 525, 516], dtype=int64)"
      ]
     },
     "execution_count": 79,
     "metadata": {},
     "output_type": "execute_result"
    }
   ],
   "source": [
    "df['performer'].value_counts()[:3].values"
   ]
  },
  {
   "cell_type": "code",
   "execution_count": 80,
   "metadata": {},
   "outputs": [
    {
     "data": {
      "text/plain": [
       "Index(['николаев', 'валерия', 'михайлов'], dtype='object', name='performer')"
      ]
     },
     "execution_count": 80,
     "metadata": {},
     "output_type": "execute_result"
    }
   ],
   "source": [
    "# в дальнейшем можно обернуть в list\n",
    "df['performer'].value_counts()[:3].index"
   ]
  },
  {
   "cell_type": "code",
   "execution_count": 86,
   "metadata": {},
   "outputs": [
    {
     "data": {
      "text/plain": [
       "0.10604476051035348"
      ]
     },
     "execution_count": 86,
     "metadata": {},
     "output_type": "execute_result"
    }
   ],
   "source": [
    "# найти долю клипов с рэпом\n",
    "(df['music_style'] == 'rap').mean()"
   ]
  },
  {
   "cell_type": "code",
   "execution_count": 88,
   "metadata": {},
   "outputs": [
    {
     "data": {
      "text/plain": [
       "music_style\n",
       "rock       0.307885\n",
       "estrada    0.217057\n",
       "popsa      0.174597\n",
       "shanson    0.107770\n",
       "rap        0.106045\n",
       "indi       0.071063\n",
       "classic    0.015583\n",
       "Name: count, dtype: float64"
      ]
     },
     "execution_count": 88,
     "metadata": {},
     "output_type": "execute_result"
    }
   ],
   "source": [
    "# доля на разные жанры\n",
    "df['music_style'].value_counts() / len(df)"
   ]
  },
  {
   "cell_type": "code",
   "execution_count": 89,
   "metadata": {},
   "outputs": [
    {
     "data": {
      "text/plain": [
       "music_style\n",
       "rock       0.307885\n",
       "estrada    0.217057\n",
       "popsa      0.174597\n",
       "shanson    0.107770\n",
       "rap        0.106045\n",
       "indi       0.071063\n",
       "classic    0.015583\n",
       "Name: proportion, dtype: float64"
      ]
     },
     "execution_count": 89,
     "metadata": {},
     "output_type": "execute_result"
    }
   ],
   "source": [
    "df['music_style'].value_counts(normalize=True)"
   ]
  },
  {
   "cell_type": "code",
   "execution_count": 102,
   "metadata": {},
   "outputs": [
    {
     "data": {
      "text/plain": [
       "0"
      ]
     },
     "execution_count": 102,
     "metadata": {},
     "output_type": "execute_result"
    }
   ],
   "source": [
    "# сколько исполнителей пишут музыку в разных жанрах?\n",
    "df.groupby('performer', as_index=False)['music_style'] \\\n",
    "    .agg(['nunique'])\\\n",
    "    .query('nunique > 1')['nunique'].sum()"
   ]
  },
  {
   "cell_type": "code",
   "execution_count": 106,
   "metadata": {},
   "outputs": [
    {
     "data": {
      "text/plain": [
       "0        False\n",
       "1        False\n",
       "2        False\n",
       "3        False\n",
       "4        False\n",
       "         ...  \n",
       "19119    False\n",
       "19120    False\n",
       "19121    False\n",
       "19122    False\n",
       "19123    False\n",
       "Length: 19124, dtype: bool"
      ]
     },
     "execution_count": 106,
     "metadata": {},
     "output_type": "execute_result"
    }
   ],
   "source": [
    "# сколько в среднем просмтров у видео с числом лайков > 100 000 и уникальных комментаторов > 50?\n",
    "(df['likeCount'] > 100000)&(df['commentators_uniq'] > 50)\n",
    "# в результате объединения множеств получаем True или False"
   ]
  },
  {
   "cell_type": "code",
   "execution_count": 108,
   "metadata": {},
   "outputs": [
    {
     "data": {
      "text/plain": [
       "39326558.901869155"
      ]
     },
     "execution_count": 108,
     "metadata": {},
     "output_type": "execute_result"
    }
   ],
   "source": [
    "# найдем среднее число просмотров\n",
    "df[(df['likeCount'] > 100000)&(df['commentators_uniq'] > 50)]['viewCount'].mean()"
   ]
  },
  {
   "cell_type": "code",
   "execution_count": 115,
   "metadata": {},
   "outputs": [],
   "source": [
    "# на1дем 5% самых поппулярных исполнителей. Самые попоулярные:\n",
    "# - число лайков более 100 000 (суммарно)\n",
    "# - наибольшая разница между медианным числом лайков и дизлайков\n",
    "df_ = df.groupby('performer', as_index=False)['likeCount'].agg('sum')"
   ]
  },
  {
   "cell_type": "code",
   "execution_count": 118,
   "metadata": {},
   "outputs": [],
   "source": [
    "top_perfs = df_[df_['likeCount'] > 100000]['performer'].to_list()"
   ]
  },
  {
   "cell_type": "code",
   "execution_count": 122,
   "metadata": {},
   "outputs": [
    {
     "data": {
      "text/html": [
       "<div>\n",
       "<style scoped>\n",
       "    .dataframe tbody tr th:only-of-type {\n",
       "        vertical-align: middle;\n",
       "    }\n",
       "\n",
       "    .dataframe tbody tr th {\n",
       "        vertical-align: top;\n",
       "    }\n",
       "\n",
       "    .dataframe thead th {\n",
       "        text-align: right;\n",
       "    }\n",
       "</style>\n",
       "<table border=\"1\" class=\"dataframe\">\n",
       "  <thead>\n",
       "    <tr style=\"text-align: right;\">\n",
       "      <th></th>\n",
       "      <th>performer</th>\n",
       "      <th>likeCount</th>\n",
       "      <th>dislikeCount</th>\n",
       "    </tr>\n",
       "  </thead>\n",
       "  <tbody>\n",
       "    <tr>\n",
       "      <th>0</th>\n",
       "      <td>2маши</td>\n",
       "      <td>243.0</td>\n",
       "      <td>9.0</td>\n",
       "    </tr>\n",
       "    <tr>\n",
       "      <th>1</th>\n",
       "      <td>astudio</td>\n",
       "      <td>68.0</td>\n",
       "      <td>3.0</td>\n",
       "    </tr>\n",
       "    <tr>\n",
       "      <th>2</th>\n",
       "      <td>classical_channel</td>\n",
       "      <td>536.0</td>\n",
       "      <td>18.0</td>\n",
       "    </tr>\n",
       "    <tr>\n",
       "      <th>3</th>\n",
       "      <td>face</td>\n",
       "      <td>9844.0</td>\n",
       "      <td>953.0</td>\n",
       "    </tr>\n",
       "    <tr>\n",
       "      <th>4</th>\n",
       "      <td>feduk</td>\n",
       "      <td>1272.0</td>\n",
       "      <td>46.0</td>\n",
       "    </tr>\n",
       "  </tbody>\n",
       "</table>\n",
       "</div>"
      ],
      "text/plain": [
       "           performer  likeCount  dislikeCount\n",
       "0              2маши      243.0           9.0\n",
       "1            astudio       68.0           3.0\n",
       "2  classical_channel      536.0          18.0\n",
       "3               face     9844.0         953.0\n",
       "4              feduk     1272.0          46.0"
      ]
     },
     "execution_count": 122,
     "metadata": {},
     "output_type": "execute_result"
    }
   ],
   "source": [
    "df_top = df.query('performer in @top_perfs')\\\n",
    "    .groupby('performer', as_index=False)\\\n",
    "    .agg({'likeCount': 'median',\n",
    "        'dislikeCount': 'median'})\n",
    "df_top.head()"
   ]
  },
  {
   "cell_type": "code",
   "execution_count": 124,
   "metadata": {},
   "outputs": [
    {
     "data": {
      "text/html": [
       "<div>\n",
       "<style scoped>\n",
       "    .dataframe tbody tr th:only-of-type {\n",
       "        vertical-align: middle;\n",
       "    }\n",
       "\n",
       "    .dataframe tbody tr th {\n",
       "        vertical-align: top;\n",
       "    }\n",
       "\n",
       "    .dataframe thead th {\n",
       "        text-align: right;\n",
       "    }\n",
       "</style>\n",
       "<table border=\"1\" class=\"dataframe\">\n",
       "  <thead>\n",
       "    <tr style=\"text-align: right;\">\n",
       "      <th></th>\n",
       "      <th>performer</th>\n",
       "      <th>likeCount</th>\n",
       "      <th>dislikeCount</th>\n",
       "      <th>diff</th>\n",
       "    </tr>\n",
       "  </thead>\n",
       "  <tbody>\n",
       "    <tr>\n",
       "      <th>14</th>\n",
       "      <td>oxxxymiron</td>\n",
       "      <td>15489.0</td>\n",
       "      <td>612.5</td>\n",
       "      <td>14876.5</td>\n",
       "    </tr>\n",
       "    <tr>\n",
       "      <th>40</th>\n",
       "      <td>кока</td>\n",
       "      <td>16532.0</td>\n",
       "      <td>289.0</td>\n",
       "      <td>16243.0</td>\n",
       "    </tr>\n",
       "    <tr>\n",
       "      <th>59</th>\n",
       "      <td>пошлая_молли</td>\n",
       "      <td>21104.0</td>\n",
       "      <td>1274.0</td>\n",
       "      <td>19830.0</td>\n",
       "    </tr>\n",
       "    <tr>\n",
       "      <th>65</th>\n",
       "      <td>хаски</td>\n",
       "      <td>67933.0</td>\n",
       "      <td>3822.0</td>\n",
       "      <td>64111.0</td>\n",
       "    </tr>\n",
       "  </tbody>\n",
       "</table>\n",
       "</div>"
      ],
      "text/plain": [
       "       performer  likeCount  dislikeCount     diff\n",
       "14    oxxxymiron    15489.0         612.5  14876.5\n",
       "40          кока    16532.0         289.0  16243.0\n",
       "59  пошлая_молли    21104.0        1274.0  19830.0\n",
       "65         хаски    67933.0        3822.0  64111.0"
      ]
     },
     "execution_count": 124,
     "metadata": {},
     "output_type": "execute_result"
    }
   ],
   "source": [
    "df_top['diff'] = df_top['likeCount'] - df_top['dislikeCount']\n",
    "q = df_top['diff'].quantile(0.95)\n",
    "df_top[df_top['diff'] > q].sort_values('diff')"
   ]
  },
  {
   "cell_type": "markdown",
   "metadata": {},
   "source": [
    "Важно не только смотреть на статистики, но и строить графики по данным. Разные данные могут иметь одинаковые или близкие статистики, но чтобы лучше понять природу данных и сделать соотвествующие выводы, важно их виализировать."
   ]
  },
  {
   "cell_type": "markdown",
   "metadata": {},
   "source": []
  }
 ],
 "metadata": {
  "kernelspec": {
   "display_name": "Python 3",
   "language": "python",
   "name": "python3"
  },
  "language_info": {
   "codemirror_mode": {
    "name": "ipython",
    "version": 3
   },
   "file_extension": ".py",
   "mimetype": "text/x-python",
   "name": "python",
   "nbconvert_exporter": "python",
   "pygments_lexer": "ipython3",
   "version": "3.10.4"
  },
  "orig_nbformat": 4
 },
 "nbformat": 4,
 "nbformat_minor": 2
}
