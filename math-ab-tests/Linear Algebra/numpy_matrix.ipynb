{
 "cells": [
  {
   "cell_type": "code",
   "execution_count": 1,
   "id": "691171dd",
   "metadata": {},
   "outputs": [],
   "source": [
    "import numpy as np"
   ]
  },
  {
   "cell_type": "markdown",
   "id": "7ada323b",
   "metadata": {},
   "source": [
    "**Транспонирование**"
   ]
  },
  {
   "cell_type": "code",
   "execution_count": 2,
   "id": "a6926af6",
   "metadata": {},
   "outputs": [
    {
     "data": {
      "text/plain": [
       "array([[1, 4],\n",
       "       [2, 5],\n",
       "       [3, 6]])"
      ]
     },
     "execution_count": 2,
     "metadata": {},
     "output_type": "execute_result"
    }
   ],
   "source": [
    "a = np.array([[1, 2, 3],\n",
    "              [4, 5, 6]])\n",
    "a.T"
   ]
  },
  {
   "cell_type": "markdown",
   "id": "22efc027",
   "metadata": {},
   "source": [
    "**Произведение матриц**"
   ]
  },
  {
   "cell_type": "code",
   "execution_count": 3,
   "id": "1fa68502",
   "metadata": {},
   "outputs": [
    {
     "data": {
      "text/plain": [
       "array([[4, 1],\n",
       "       [2, 2]])"
      ]
     },
     "execution_count": 3,
     "metadata": {},
     "output_type": "execute_result"
    }
   ],
   "source": [
    "a = np.array([[1, 0],\n",
    "              [0, 1]])\n",
    "b = np.array([[4, 1],\n",
    "              [2, 2]])\n",
    "np.matmul(a, b)"
   ]
  },
  {
   "cell_type": "code",
   "execution_count": 4,
   "id": "dbfed7e4",
   "metadata": {},
   "outputs": [
    {
     "data": {
      "text/plain": [
       "array([[4, 1],\n",
       "       [2, 2]])"
      ]
     },
     "execution_count": 4,
     "metadata": {},
     "output_type": "execute_result"
    }
   ],
   "source": [
    "np.dot(a, b)"
   ]
  },
  {
   "cell_type": "markdown",
   "id": "1b537972",
   "metadata": {},
   "source": [
    "**Произведение Адамара**"
   ]
  },
  {
   "cell_type": "code",
   "execution_count": 5,
   "id": "e9a37277",
   "metadata": {},
   "outputs": [
    {
     "data": {
      "text/plain": [
       "array([[4, 0],\n",
       "       [0, 2]])"
      ]
     },
     "execution_count": 5,
     "metadata": {},
     "output_type": "execute_result"
    }
   ],
   "source": [
    "a = np.array([[1, 0],\n",
    "              [0, 1]])\n",
    "b = np.array([[4, 1],\n",
    "              [2, 2]])\n",
    "a * b"
   ]
  },
  {
   "cell_type": "markdown",
   "id": "3b1aa501",
   "metadata": {},
   "source": [
    "**Определитель матрицы**"
   ]
  },
  {
   "cell_type": "code",
   "execution_count": 6,
   "id": "e5825f33",
   "metadata": {},
   "outputs": [
    {
     "data": {
      "text/plain": [
       "-1.0"
      ]
     },
     "execution_count": 6,
     "metadata": {},
     "output_type": "execute_result"
    }
   ],
   "source": [
    "a = np.array([[-1, 1, 1, 0, 1] \n",
    "             ,[0, 1, -2, 1, 2]\n",
    "             ,[0, 0, -1, 3, 3]\n",
    "             ,[0, 0, 0, 1, 0]\n",
    "             ,[0, 0, 0, 3, -1]])\n",
    "np.linalg.det(a)"
   ]
  },
  {
   "cell_type": "markdown",
   "id": "699e6298",
   "metadata": {},
   "source": [
    "**Обратная матрица и возведение в степень**"
   ]
  },
  {
   "cell_type": "code",
   "execution_count": 7,
   "id": "cf06752f",
   "metadata": {},
   "outputs": [
    {
     "data": {
      "text/plain": [
       "array([[-0.16666667,  0.5       ,  0.16666667],\n",
       "       [ 0.25      , -0.25      ,  0.25      ],\n",
       "       [ 0.58333333, -0.25      , -0.08333333]])"
      ]
     },
     "execution_count": 7,
     "metadata": {},
     "output_type": "execute_result"
    }
   ],
   "source": [
    "a = np.array([[1, 0, 2] \n",
    "            ,[2, -1, 1] \n",
    "             ,[1, 3, -1]])\n",
    "np.linalg.matrix_power(a, -1)"
   ]
  },
  {
   "cell_type": "markdown",
   "id": "cdde6dbd",
   "metadata": {},
   "source": [
    "**Уравнения**\n",
    "\n",
    "$left$ * $X$ = $right$"
   ]
  },
  {
   "cell_type": "code",
   "execution_count": 8,
   "id": "b3cf9991",
   "metadata": {},
   "outputs": [
    {
     "data": {
      "text/plain": [
       "array([[-4.,  1.],\n",
       "       [-3.,  2.]])"
      ]
     },
     "execution_count": 8,
     "metadata": {},
     "output_type": "execute_result"
    }
   ],
   "source": [
    "# левая часть системы\n",
    "left = np.array([[-1, 2],\n",
    "             [2, -3]])\n",
    "# правая часть\n",
    "right = np.array([[-2, 3],\n",
    "             [1, -4]])\n",
    "np.linalg.solve(left, right)"
   ]
  },
  {
   "cell_type": "code",
   "execution_count": null,
   "id": "e28773a0",
   "metadata": {},
   "outputs": [],
   "source": []
  }
 ],
 "metadata": {
  "kernelspec": {
   "display_name": "common_venv",
   "language": "python",
   "name": "python3"
  },
  "language_info": {
   "codemirror_mode": {
    "name": "ipython",
    "version": 3
   },
   "file_extension": ".py",
   "mimetype": "text/x-python",
   "name": "python",
   "nbconvert_exporter": "python",
   "pygments_lexer": "ipython3",
   "version": "3.10.4"
  }
 },
 "nbformat": 4,
 "nbformat_minor": 5
}
